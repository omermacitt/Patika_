{
 "cells": [
  {
   "cell_type": "code",
   "execution_count": 1,
   "metadata": {},
   "outputs": [],
   "source": [
    "import pandas as pd\n",
    "import numpy as np\n",
    "import seaborn as sbn\n",
    "import matplotlib.pyplot as plt\n",
    "import os\n",
    "from warnings import filterwarnings\n",
    "filterwarnings('ignore')\n",
    "os.chdir(\"C:/Users/omerm/OneDrive/Masaüstü/Data\")"
   ]
  },
  {
   "cell_type": "code",
   "execution_count": 2,
   "metadata": {},
   "outputs": [
    {
     "data": {
      "text/html": [
       "<div>\n",
       "<style scoped>\n",
       "    .dataframe tbody tr th:only-of-type {\n",
       "        vertical-align: middle;\n",
       "    }\n",
       "\n",
       "    .dataframe tbody tr th {\n",
       "        vertical-align: top;\n",
       "    }\n",
       "\n",
       "    .dataframe thead th {\n",
       "        text-align: right;\n",
       "    }\n",
       "</style>\n",
       "<table border=\"1\" class=\"dataframe\">\n",
       "  <thead>\n",
       "    <tr style=\"text-align: right;\">\n",
       "      <th></th>\n",
       "      <th>number</th>\n",
       "      <th>days</th>\n",
       "      <th>gender</th>\n",
       "      <th>age</th>\n",
       "      <th>afftype</th>\n",
       "      <th>melanch</th>\n",
       "      <th>inpatient</th>\n",
       "      <th>edu</th>\n",
       "      <th>marriage</th>\n",
       "      <th>work</th>\n",
       "      <th>madrs1</th>\n",
       "      <th>madrs2</th>\n",
       "    </tr>\n",
       "  </thead>\n",
       "  <tbody>\n",
       "    <tr>\n",
       "      <th>0</th>\n",
       "      <td>condition_1</td>\n",
       "      <td>11</td>\n",
       "      <td>2</td>\n",
       "      <td>35-39</td>\n",
       "      <td>2.0</td>\n",
       "      <td>2.0</td>\n",
       "      <td>2.0</td>\n",
       "      <td>6-10</td>\n",
       "      <td>1.0</td>\n",
       "      <td>2.0</td>\n",
       "      <td>19.0</td>\n",
       "      <td>19.0</td>\n",
       "    </tr>\n",
       "    <tr>\n",
       "      <th>1</th>\n",
       "      <td>condition_2</td>\n",
       "      <td>18</td>\n",
       "      <td>2</td>\n",
       "      <td>40-44</td>\n",
       "      <td>1.0</td>\n",
       "      <td>2.0</td>\n",
       "      <td>2.0</td>\n",
       "      <td>6-10</td>\n",
       "      <td>2.0</td>\n",
       "      <td>2.0</td>\n",
       "      <td>24.0</td>\n",
       "      <td>11.0</td>\n",
       "    </tr>\n",
       "    <tr>\n",
       "      <th>2</th>\n",
       "      <td>condition_3</td>\n",
       "      <td>13</td>\n",
       "      <td>1</td>\n",
       "      <td>45-49</td>\n",
       "      <td>2.0</td>\n",
       "      <td>2.0</td>\n",
       "      <td>2.0</td>\n",
       "      <td>6-10</td>\n",
       "      <td>2.0</td>\n",
       "      <td>2.0</td>\n",
       "      <td>24.0</td>\n",
       "      <td>25.0</td>\n",
       "    </tr>\n",
       "    <tr>\n",
       "      <th>3</th>\n",
       "      <td>condition_4</td>\n",
       "      <td>13</td>\n",
       "      <td>2</td>\n",
       "      <td>25-29</td>\n",
       "      <td>2.0</td>\n",
       "      <td>2.0</td>\n",
       "      <td>2.0</td>\n",
       "      <td>11-15</td>\n",
       "      <td>1.0</td>\n",
       "      <td>1.0</td>\n",
       "      <td>20.0</td>\n",
       "      <td>16.0</td>\n",
       "    </tr>\n",
       "    <tr>\n",
       "      <th>4</th>\n",
       "      <td>condition_5</td>\n",
       "      <td>13</td>\n",
       "      <td>2</td>\n",
       "      <td>50-54</td>\n",
       "      <td>2.0</td>\n",
       "      <td>2.0</td>\n",
       "      <td>2.0</td>\n",
       "      <td>11-15</td>\n",
       "      <td>2.0</td>\n",
       "      <td>2.0</td>\n",
       "      <td>26.0</td>\n",
       "      <td>26.0</td>\n",
       "    </tr>\n",
       "  </tbody>\n",
       "</table>\n",
       "</div>"
      ],
      "text/plain": [
       "        number  days  gender    age  afftype  melanch  inpatient    edu  \\\n",
       "0  condition_1    11       2  35-39      2.0      2.0        2.0   6-10   \n",
       "1  condition_2    18       2  40-44      1.0      2.0        2.0   6-10   \n",
       "2  condition_3    13       1  45-49      2.0      2.0        2.0   6-10   \n",
       "3  condition_4    13       2  25-29      2.0      2.0        2.0  11-15   \n",
       "4  condition_5    13       2  50-54      2.0      2.0        2.0  11-15   \n",
       "\n",
       "   marriage  work  madrs1  madrs2  \n",
       "0       1.0   2.0    19.0    19.0  \n",
       "1       2.0   2.0    24.0    11.0  \n",
       "2       2.0   2.0    24.0    25.0  \n",
       "3       1.0   1.0    20.0    16.0  \n",
       "4       2.0   2.0    26.0    26.0  "
      ]
     },
     "execution_count": 2,
     "metadata": {},
     "output_type": "execute_result"
    }
   ],
   "source": [
    "data=pd.read_csv(\"scores.csv\")\n",
    "data.head()"
   ]
  },
  {
   "cell_type": "code",
   "execution_count": 3,
   "metadata": {},
   "outputs": [
    {
     "name": "stdout",
     "output_type": "stream",
     "text": [
      "<class 'pandas.core.frame.DataFrame'>\n",
      "RangeIndex: 55 entries, 0 to 54\n",
      "Data columns (total 12 columns):\n",
      " #   Column     Non-Null Count  Dtype  \n",
      "---  ------     --------------  -----  \n",
      " 0   number     55 non-null     object \n",
      " 1   days       55 non-null     int64  \n",
      " 2   gender     55 non-null     int64  \n",
      " 3   age        55 non-null     object \n",
      " 4   afftype    23 non-null     float64\n",
      " 5   melanch    20 non-null     float64\n",
      " 6   inpatient  23 non-null     float64\n",
      " 7   edu        53 non-null     object \n",
      " 8   marriage   23 non-null     float64\n",
      " 9   work       23 non-null     float64\n",
      " 10  madrs1     23 non-null     float64\n",
      " 11  madrs2     23 non-null     float64\n",
      "dtypes: float64(7), int64(2), object(3)\n",
      "memory usage: 5.3+ KB\n"
     ]
    }
   ],
   "source": [
    "data.info()"
   ]
  },
  {
   "cell_type": "code",
   "execution_count": 4,
   "metadata": {},
   "outputs": [
    {
     "data": {
      "text/html": [
       "<div>\n",
       "<style scoped>\n",
       "    .dataframe tbody tr th:only-of-type {\n",
       "        vertical-align: middle;\n",
       "    }\n",
       "\n",
       "    .dataframe tbody tr th {\n",
       "        vertical-align: top;\n",
       "    }\n",
       "\n",
       "    .dataframe thead th {\n",
       "        text-align: right;\n",
       "    }\n",
       "</style>\n",
       "<table border=\"1\" class=\"dataframe\">\n",
       "  <thead>\n",
       "    <tr style=\"text-align: right;\">\n",
       "      <th></th>\n",
       "      <th>count</th>\n",
       "      <th>mean</th>\n",
       "      <th>std</th>\n",
       "      <th>min</th>\n",
       "      <th>25%</th>\n",
       "      <th>50%</th>\n",
       "      <th>75%</th>\n",
       "      <th>max</th>\n",
       "    </tr>\n",
       "  </thead>\n",
       "  <tbody>\n",
       "    <tr>\n",
       "      <th>days</th>\n",
       "      <td>55.0</td>\n",
       "      <td>12.600000</td>\n",
       "      <td>2.491467</td>\n",
       "      <td>5.0</td>\n",
       "      <td>13.0</td>\n",
       "      <td>13.0</td>\n",
       "      <td>13.0</td>\n",
       "      <td>20.0</td>\n",
       "    </tr>\n",
       "    <tr>\n",
       "      <th>gender</th>\n",
       "      <td>55.0</td>\n",
       "      <td>1.454545</td>\n",
       "      <td>0.502519</td>\n",
       "      <td>1.0</td>\n",
       "      <td>1.0</td>\n",
       "      <td>1.0</td>\n",
       "      <td>2.0</td>\n",
       "      <td>2.0</td>\n",
       "    </tr>\n",
       "    <tr>\n",
       "      <th>afftype</th>\n",
       "      <td>23.0</td>\n",
       "      <td>1.739130</td>\n",
       "      <td>0.540824</td>\n",
       "      <td>1.0</td>\n",
       "      <td>1.0</td>\n",
       "      <td>2.0</td>\n",
       "      <td>2.0</td>\n",
       "      <td>3.0</td>\n",
       "    </tr>\n",
       "    <tr>\n",
       "      <th>melanch</th>\n",
       "      <td>20.0</td>\n",
       "      <td>1.950000</td>\n",
       "      <td>0.223607</td>\n",
       "      <td>1.0</td>\n",
       "      <td>2.0</td>\n",
       "      <td>2.0</td>\n",
       "      <td>2.0</td>\n",
       "      <td>2.0</td>\n",
       "    </tr>\n",
       "    <tr>\n",
       "      <th>inpatient</th>\n",
       "      <td>23.0</td>\n",
       "      <td>1.782609</td>\n",
       "      <td>0.421741</td>\n",
       "      <td>1.0</td>\n",
       "      <td>2.0</td>\n",
       "      <td>2.0</td>\n",
       "      <td>2.0</td>\n",
       "      <td>2.0</td>\n",
       "    </tr>\n",
       "    <tr>\n",
       "      <th>marriage</th>\n",
       "      <td>23.0</td>\n",
       "      <td>1.521739</td>\n",
       "      <td>0.510754</td>\n",
       "      <td>1.0</td>\n",
       "      <td>1.0</td>\n",
       "      <td>2.0</td>\n",
       "      <td>2.0</td>\n",
       "      <td>2.0</td>\n",
       "    </tr>\n",
       "    <tr>\n",
       "      <th>work</th>\n",
       "      <td>23.0</td>\n",
       "      <td>1.869565</td>\n",
       "      <td>0.344350</td>\n",
       "      <td>1.0</td>\n",
       "      <td>2.0</td>\n",
       "      <td>2.0</td>\n",
       "      <td>2.0</td>\n",
       "      <td>2.0</td>\n",
       "    </tr>\n",
       "    <tr>\n",
       "      <th>madrs1</th>\n",
       "      <td>23.0</td>\n",
       "      <td>22.739130</td>\n",
       "      <td>4.797892</td>\n",
       "      <td>13.0</td>\n",
       "      <td>18.5</td>\n",
       "      <td>24.0</td>\n",
       "      <td>26.0</td>\n",
       "      <td>29.0</td>\n",
       "    </tr>\n",
       "    <tr>\n",
       "      <th>madrs2</th>\n",
       "      <td>23.0</td>\n",
       "      <td>20.000000</td>\n",
       "      <td>4.729021</td>\n",
       "      <td>11.0</td>\n",
       "      <td>16.0</td>\n",
       "      <td>21.0</td>\n",
       "      <td>24.5</td>\n",
       "      <td>28.0</td>\n",
       "    </tr>\n",
       "  </tbody>\n",
       "</table>\n",
       "</div>"
      ],
      "text/plain": [
       "           count       mean       std   min   25%   50%   75%   max\n",
       "days        55.0  12.600000  2.491467   5.0  13.0  13.0  13.0  20.0\n",
       "gender      55.0   1.454545  0.502519   1.0   1.0   1.0   2.0   2.0\n",
       "afftype     23.0   1.739130  0.540824   1.0   1.0   2.0   2.0   3.0\n",
       "melanch     20.0   1.950000  0.223607   1.0   2.0   2.0   2.0   2.0\n",
       "inpatient   23.0   1.782609  0.421741   1.0   2.0   2.0   2.0   2.0\n",
       "marriage    23.0   1.521739  0.510754   1.0   1.0   2.0   2.0   2.0\n",
       "work        23.0   1.869565  0.344350   1.0   2.0   2.0   2.0   2.0\n",
       "madrs1      23.0  22.739130  4.797892  13.0  18.5  24.0  26.0  29.0\n",
       "madrs2      23.0  20.000000  4.729021  11.0  16.0  21.0  24.5  28.0"
      ]
     },
     "execution_count": 4,
     "metadata": {},
     "output_type": "execute_result"
    }
   ],
   "source": [
    "data.describe().T"
   ]
  },
  {
   "cell_type": "code",
   "execution_count": 5,
   "metadata": {},
   "outputs": [
    {
     "data": {
      "image/png": "[encoded data removed]",
      "text/plain": [
       "<Figure size 432x288 with 1 Axes>"
      ]
     },
     "metadata": {
      "needs_background": "light"
     },
     "output_type": "display_data"
    }
   ],
   "source": [
    "data.isnull().sum().sort_values().plot.barh();"
   ]
  },
  {
   "cell_type": "code",
   "execution_count": 6,
   "metadata": {},
   "outputs": [
    {
     "data": {
      "text/plain": [
       "Index(['number', 'days', 'gender', 'age', 'afftype', 'melanch', 'inpatient',\n",
       "       'edu', 'marriage', 'work', 'madrs1', 'madrs2'],\n",
       "      dtype='object')"
      ]
     },
     "execution_count": 6,
     "metadata": {},
     "output_type": "execute_result"
    }
   ],
   "source": [
    "data.columns"
   ]
  },
  {
   "cell_type": "code",
   "execution_count": 7,
   "metadata": {},
   "outputs": [
    {
     "data": {
      "text/plain": [
       "Text(0, 0.5, 'cinsiyetler (1 k, 2 e)')"
      ]
     },
     "execution_count": 7,
     "metadata": {},
     "output_type": "execute_result"
    },
    {
     "data": {
      "image/png": "[encoded data removed]",
      "text/plain": [
       "<Figure size 432x288 with 1 Axes>"
      ]
     },
     "metadata": {
      "needs_background": "light"
     },
     "output_type": "display_data"
    }
   ],
   "source": [
    "data[\"gender\"].value_counts().plot.barh();\n",
    "plt.title(\"Cinsiyet karşılaştırma\")\n",
    "plt.xlabel(\"Veri sayısı\")\n",
    "plt.ylabel(\"cinsiyetler (1 k, 2 e)\")"
   ]
  },
  {
   "cell_type": "code",
   "execution_count": 8,
   "metadata": {},
   "outputs": [
    {
     "data": {
      "image/png": "[encoded data removed]",
      "text/plain": [
       "<Figure size 432x288 with 1 Axes>"
      ]
     },
     "metadata": {},
     "output_type": "display_data"
    }
   ],
   "source": [
    "data[\"gender\"].value_counts().plot.pie();"
   ]
  },
  {
   "cell_type": "markdown",
   "metadata": {},
   "source": [
    "##  Condition sınıfının cinsiyet karşılaştırılması"
   ]
  },
  {
   "cell_type": "code",
   "execution_count": 9,
   "metadata": {},
   "outputs": [
    {
     "data": {
      "text/plain": [
       "Text(0, 0.5, 'cinsiyetler (1 k, 2 e)')"
      ]
     },
     "execution_count": 9,
     "metadata": {},
     "output_type": "execute_result"
    },
    {
     "data": {
      "image/png": "[encoded data removed]",
      "text/plain": [
       "<Figure size 432x288 with 1 Axes>"
      ]
     },
     "metadata": {
      "needs_background": "light"
     },
     "output_type": "display_data"
    }
   ],
   "source": [
    "data.iloc[:23][\"gender\"].value_counts().plot.barh();\n",
    "plt.title(\"Cinsiyet karşılaştırma\")\n",
    "plt.xlabel(\"Veri sayısı\")\n",
    "plt.ylabel(\"cinsiyetler (1 k, 2 e)\")"
   ]
  },
  {
   "cell_type": "code",
   "execution_count": 10,
   "metadata": {},
   "outputs": [
    {
     "data": {
      "image/png": "[encoded data removed]",
      "text/plain": [
       "<Figure size 432x288 with 1 Axes>"
      ]
     },
     "metadata": {},
     "output_type": "display_data"
    }
   ],
   "source": [
    "data.iloc[:23][\"gender\"].value_counts().plot.pie();"
   ]
  },
  {
   "cell_type": "markdown",
   "metadata": {},
   "source": [
    "## Control grubunun cinsiyet karşılaştırılması"
   ]
  },
  {
   "cell_type": "code",
   "execution_count": 11,
   "metadata": {},
   "outputs": [
    {
     "data": {
      "text/plain": [
       "Text(0, 0.5, 'cinsiyetler (1 k, 2 e)')"
      ]
     },
     "execution_count": 11,
     "metadata": {},
     "output_type": "execute_result"
    },
    {
     "data": {
      "image/png": "[encoded data removed]",
      "text/plain": [
       "<Figure size 432x288 with 1 Axes>"
      ]
     },
     "metadata": {
      "needs_background": "light"
     },
     "output_type": "display_data"
    }
   ],
   "source": [
    "data.iloc[23:][\"gender\"].value_counts().plot.barh();\n",
    "plt.title(\"Cinsiyet karşılaştırma\")\n",
    "plt.xlabel(\"Veri sayısı\")\n",
    "plt.ylabel(\"cinsiyetler (1 k, 2 e)\")"
   ]
  },
  {
   "cell_type": "code",
   "execution_count": 12,
   "metadata": {},
   "outputs": [
    {
     "data": {
      "image/png": "[encoded data removed]",
      "text/plain": [
       "<Figure size 432x288 with 1 Axes>"
      ]
     },
     "metadata": {},
     "output_type": "display_data"
    }
   ],
   "source": [
    "data.iloc[23:][\"gender\"].value_counts().plot.pie();"
   ]
  },
  {
   "cell_type": "markdown",
   "metadata": {},
   "source": [
    "## tedavi sonuçlarını birbirinden çıkarıp etkilerine bakalım"
   ]
  },
  {
   "cell_type": "code",
   "execution_count": 13,
   "metadata": {},
   "outputs": [],
   "source": [
    "data[\"madrs3\"]=data[\"madrs1\"]-data[\"madrs2\"]"
   ]
  },
  {
   "cell_type": "markdown",
   "metadata": {},
   "source": [
    "## Çıkan sonuçlara acaba gün sayısı etki ediyor mu ?"
   ]
  },
  {
   "cell_type": "code",
   "execution_count": 14,
   "metadata": {},
   "outputs": [
    {
     "data": {
      "text/plain": [
       "<matplotlib.axes._subplots.AxesSubplot at 0x1fd96d5adc0>"
      ]
     },
     "execution_count": 14,
     "metadata": {},
     "output_type": "execute_result"
    },
    {
     "data": {
      "image/png": "[encoded data removed]",
      "text/plain": [
       "<Figure size 432x288 with 1 Axes>"
      ]
     },
     "metadata": {
      "needs_background": "light"
     },
     "output_type": "display_data"
    }
   ],
   "source": [
    "sbn.scatterplot(x=\"madrs3\",y=\"days\",data=data)"
   ]
  },
  {
   "cell_type": "markdown",
   "metadata": {},
   "source": [
    "#### Gün arttıkça tedavinin olumlu yanıtlar verdiği söylenebilir"
   ]
  },
  {
   "cell_type": "markdown",
   "metadata": {},
   "source": [
    "## acaba cinsiyetler tedavi sürecinde etkili mi ?"
   ]
  },
  {
   "cell_type": "code",
   "execution_count": 15,
   "metadata": {},
   "outputs": [
    {
     "data": {
      "text/plain": [
       "<matplotlib.axes._subplots.AxesSubplot at 0x1fd96dca2e0>"
      ]
     },
     "execution_count": 15,
     "metadata": {},
     "output_type": "execute_result"
    },
    {
     "data": {
      "image/png": "[encoded data removed]",
      "text/plain": [
       "<Figure size 432x288 with 1 Axes>"
      ]
     },
     "metadata": {
      "needs_background": "light"
     },
     "output_type": "display_data"
    }
   ],
   "source": [
    "sex=[\"man\" if i==2 else \"woman\" for i in data.gender]\n",
    "data[\"sex\"]=sex\n",
    "sbn.scatterplot(x=\"madrs3\",y=\"days\",hue=\"sex\",data=data)"
   ]
  },
  {
   "cell_type": "code",
   "execution_count": 16,
   "metadata": {},
   "outputs": [
    {
     "data": {
      "text/plain": [
       "<matplotlib.legend.Legend at 0x1fd96e4e2b0>"
      ]
     },
     "execution_count": 16,
     "metadata": {},
     "output_type": "execute_result"
    },
    {
     "data": {
      "image/png": "[encoded data removed]",
      "text/plain": [
       "<Figure size 432x288 with 1 Axes>"
      ]
     },
     "metadata": {
      "needs_background": "light"
     },
     "output_type": "display_data"
    }
   ],
   "source": [
    "sbn.barplot(x=\"days\",y=\"madrs3\",hue=\"sex\",data=data);\n",
    "plt.legend(loc=2)"
   ]
  },
  {
   "cell_type": "markdown",
   "metadata": {},
   "source": [
    "## Yaş aralığına göre hastalık görülme durumu"
   ]
  },
  {
   "cell_type": "code",
   "execution_count": 17,
   "metadata": {},
   "outputs": [
    {
     "data": {
      "text/plain": [
       "Text(0, 0.5, 'hastalık görülme sayısı')"
      ]
     },
     "execution_count": 17,
     "metadata": {},
     "output_type": "execute_result"
    },
    {
     "data": {
      "image/png": "[encoded data removed]",
      "text/plain": [
       "<Figure size 432x288 with 1 Axes>"
      ]
     },
     "metadata": {
      "needs_background": "light"
     },
     "output_type": "display_data"
    }
   ],
   "source": [
    "plt.plot(data[\"age\"].unique(),data.groupby(\"age\")[\"gender\"].count(),\"b-*\")\n",
    "plt.title(\"Bütün veri seti sonucu oluşan grafik\")\n",
    "plt.xlabel(\"yaş aralıkları\")\n",
    "plt.ylabel(\"hastalık görülme sayısı\")"
   ]
  },
  {
   "cell_type": "markdown",
   "metadata": {},
   "source": [
    "##### conditional ve control grubunun ayrı ayrı analiz edilmesi"
   ]
  },
  {
   "cell_type": "code",
   "execution_count": 18,
   "metadata": {},
   "outputs": [
    {
     "data": {
      "text/plain": [
       "Text(0, 0.5, 'hastalık görülme sayısı')"
      ]
     },
     "execution_count": 18,
     "metadata": {},
     "output_type": "execute_result"
    },
    {
     "data": {
      "image/png": "[encoded data removed]",
      "text/plain": [
       "<Figure size 432x288 with 1 Axes>"
      ]
     },
     "metadata": {
      "needs_background": "light"
     },
     "output_type": "display_data"
    }
   ],
   "source": [
    "plt.plot(data.iloc[:23][\"age\"].unique(),data.iloc[:23].groupby(\"age\")[\"gender\"].count(),\"g-*\")\n",
    "plt.title(\"Condition grubu\")\n",
    "plt.xlabel(\"yaş aralıkları\")\n",
    "plt.ylabel(\"hastalık görülme sayısı\")"
   ]
  },
  {
   "cell_type": "code",
   "execution_count": 19,
   "metadata": {},
   "outputs": [
    {
     "data": {
      "text/plain": [
       "Text(0, 0.5, 'hastalık görülme sayısı')"
      ]
     },
     "execution_count": 19,
     "metadata": {},
     "output_type": "execute_result"
    },
    {
     "data": {
      "image/png": "[encoded data removed]",
      "text/plain": [
       "<Figure size 432x288 with 1 Axes>"
      ]
     },
     "metadata": {
      "needs_background": "light"
     },
     "output_type": "display_data"
    }
   ],
   "source": [
    "plt.plot(data.iloc[23:][\"age\"].unique(),data.iloc[23:].groupby(\"age\")[\"gender\"].count(),\"r-*\")\n",
    "plt.title(\"Control grubu\")\n",
    "plt.xlabel(\"yaş aralıkları\")\n",
    "plt.ylabel(\"hastalık görülme sayısı\")"
   ]
  },
  {
   "cell_type": "markdown",
   "metadata": {},
   "source": [
    "## Yaş aralıklarının cinsiyetlere göre dağılımı"
   ]
  },
  {
   "cell_type": "code",
   "execution_count": 20,
   "metadata": {},
   "outputs": [
    {
     "data": {
      "text/plain": [
       "Text(0.5, 1.0, 'Yaş aralıklarının cinsiyetlere göre dağılımı')"
      ]
     },
     "execution_count": 20,
     "metadata": {},
     "output_type": "execute_result"
    },
    {
     "data": {
      "image/png": "[encoded data removed]",
      "text/plain": [
       "<Figure size 432x288 with 1 Axes>"
      ]
     },
     "metadata": {
      "needs_background": "light"
     },
     "output_type": "display_data"
    }
   ],
   "source": [
    "sbn.barplot(x=\"age\",y=data.age.index,hue=\"sex\",data=data);\n",
    "plt.xlabel(\"yaş aralığı\")\n",
    "plt.title(\"Yaş aralıklarının cinsiyetlere göre dağılımı\")"
   ]
  },
  {
   "cell_type": "markdown",
   "metadata": {},
   "source": [
    "## madrs3 değişkeninin verilerle olan korelasyonu (sayısal ve grafiksel gösterimi)"
   ]
  },
  {
   "cell_type": "code",
   "execution_count": 21,
   "metadata": {},
   "outputs": [
    {
     "data": {
      "text/plain": [
       "days         0.115285\n",
       "gender       0.234829\n",
       "afftype     -0.266129\n",
       "melanch      0.057176\n",
       "inpatient   -0.144067\n",
       "marriage     0.361753\n",
       "work         0.306609\n",
       "madrs1       0.430772\n",
       "madrs2      -0.402082\n",
       "madrs3       1.000000\n",
       "Name: madrs3, dtype: float64"
      ]
     },
     "execution_count": 21,
     "metadata": {},
     "output_type": "execute_result"
    }
   ],
   "source": [
    "data.corr()[\"madrs3\"]"
   ]
  },
  {
   "cell_type": "code",
   "execution_count": 22,
   "metadata": {},
   "outputs": [
    {
     "data": {
      "image/png": "[encoded data removed]",
      "text/plain": [
       "<Figure size 432x288 with 1 Axes>"
      ]
     },
     "metadata": {
      "needs_background": "light"
     },
     "output_type": "display_data"
    }
   ],
   "source": [
    "data.corr()[\"madrs3\"].sort_values().plot.barh();"
   ]
  },
  {
   "cell_type": "code",
   "execution_count": 23,
   "metadata": {},
   "outputs": [],
   "source": [
    "## okul "
   ]
  },
  {
   "cell_type": "markdown",
   "metadata": {},
   "source": [
    "## conditional grubu hastaların eğitim durumu dağılımı"
   ]
  },
  {
   "cell_type": "code",
   "execution_count": 24,
   "metadata": {},
   "outputs": [
    {
     "data": {
      "text/plain": [
       "6-10     12\n",
       "11-15     8\n",
       "16-20     2\n",
       "          1\n",
       "Name: edu, dtype: int64"
      ]
     },
     "execution_count": 24,
     "metadata": {},
     "output_type": "execute_result"
    }
   ],
   "source": [
    "data.iloc[:23][\"edu\"].value_counts()"
   ]
  },
  {
   "cell_type": "markdown",
   "metadata": {},
   "source": [
    "## eğitim durumu ile hastalık orantılı mı ?"
   ]
  },
  {
   "cell_type": "code",
   "execution_count": 25,
   "metadata": {},
   "outputs": [
    {
     "data": {
      "image/png": "[encoded data removed]",
      "text/plain": [
       "<Figure size 360x360 with 1 Axes>"
      ]
     },
     "metadata": {
      "needs_background": "light"
     },
     "output_type": "display_data"
    }
   ],
   "source": [
    "sbn.catplot(x=\"edu\",y=\"madrs3\",data=data);"
   ]
  },
  {
   "cell_type": "markdown",
   "metadata": {},
   "source": [
    "#### cinsiyeti 3. boyut olarak eklersek acaba eğitim durumuyla cinsiyet arasında ilişki var mı ?"
   ]
  },
  {
   "cell_type": "code",
   "execution_count": 26,
   "metadata": {},
   "outputs": [
    {
     "data": {
      "image/png": "[encoded data removed]",
      "text/plain": [
       "<Figure size 432.25x360 with 1 Axes>"
      ]
     },
     "metadata": {
      "needs_background": "light"
     },
     "output_type": "display_data"
    }
   ],
   "source": [
    "sbn.catplot(x=\"edu\",y=\"madrs3\",hue=\"sex\",data=data);"
   ]
  },
  {
   "cell_type": "code",
   "execution_count": 29,
   "metadata": {
    "collapsed": true,
    "jupyter": {
     "outputs_hidden": true
    }
   },
   "outputs": [
    {
     "data": {
      "text/plain": [
       "<seaborn.axisgrid.PairGrid at 0x1fd97121850>"
      ]
     },
     "execution_count": 29,
     "metadata": {},
     "output_type": "execute_result"
    },
    {
     "data": {
      "image/png": "[encoded data removed]",
      "text/plain": [
       "<Figure size 1800x1800 with 110 Axes>"
      ]
     },
     "metadata": {
      "needs_background": "light"
     },
     "output_type": "display_data"
    }
   ],
   "source": [
    "## "
   ]
  },
  {
   "cell_type": "code",
   "execution_count": 78,
   "metadata": {},
   "outputs": [
    {
     "data": {
      "text/html": [
       "<div>\n",
       "<style scoped>\n",
       "    .dataframe tbody tr th:only-of-type {\n",
       "        vertical-align: middle;\n",
       "    }\n",
       "\n",
       "    .dataframe tbody tr th {\n",
       "        vertical-align: top;\n",
       "    }\n",
       "\n",
       "    .dataframe thead th {\n",
       "        text-align: right;\n",
       "    }\n",
       "</style>\n",
       "<table border=\"1\" class=\"dataframe\">\n",
       "  <thead>\n",
       "    <tr style=\"text-align: right;\">\n",
       "      <th></th>\n",
       "      <th>number</th>\n",
       "      <th>days</th>\n",
       "      <th>gender</th>\n",
       "      <th>age</th>\n",
       "      <th>afftype</th>\n",
       "      <th>melanch</th>\n",
       "      <th>inpatient</th>\n",
       "      <th>edu</th>\n",
       "      <th>marriage</th>\n",
       "      <th>work</th>\n",
       "      <th>madrs1</th>\n",
       "      <th>madrs2</th>\n",
       "      <th>madrs3</th>\n",
       "      <th>sex</th>\n",
       "    </tr>\n",
       "  </thead>\n",
       "  <tbody>\n",
       "    <tr>\n",
       "      <th>0</th>\n",
       "      <td>condition_1</td>\n",
       "      <td>11</td>\n",
       "      <td>2</td>\n",
       "      <td>35-39</td>\n",
       "      <td>2.0</td>\n",
       "      <td>2.0</td>\n",
       "      <td>2.0</td>\n",
       "      <td>6-10</td>\n",
       "      <td>1.0</td>\n",
       "      <td>2.0</td>\n",
       "      <td>19.0</td>\n",
       "      <td>19.0</td>\n",
       "      <td>0.0</td>\n",
       "      <td>man</td>\n",
       "    </tr>\n",
       "    <tr>\n",
       "      <th>1</th>\n",
       "      <td>condition_2</td>\n",
       "      <td>18</td>\n",
       "      <td>2</td>\n",
       "      <td>40-44</td>\n",
       "      <td>1.0</td>\n",
       "      <td>2.0</td>\n",
       "      <td>2.0</td>\n",
       "      <td>6-10</td>\n",
       "      <td>2.0</td>\n",
       "      <td>2.0</td>\n",
       "      <td>24.0</td>\n",
       "      <td>11.0</td>\n",
       "      <td>13.0</td>\n",
       "      <td>man</td>\n",
       "    </tr>\n",
       "    <tr>\n",
       "      <th>2</th>\n",
       "      <td>condition_3</td>\n",
       "      <td>13</td>\n",
       "      <td>1</td>\n",
       "      <td>45-49</td>\n",
       "      <td>2.0</td>\n",
       "      <td>2.0</td>\n",
       "      <td>2.0</td>\n",
       "      <td>6-10</td>\n",
       "      <td>2.0</td>\n",
       "      <td>2.0</td>\n",
       "      <td>24.0</td>\n",
       "      <td>25.0</td>\n",
       "      <td>-1.0</td>\n",
       "      <td>woman</td>\n",
       "    </tr>\n",
       "    <tr>\n",
       "      <th>3</th>\n",
       "      <td>condition_4</td>\n",
       "      <td>13</td>\n",
       "      <td>2</td>\n",
       "      <td>25-29</td>\n",
       "      <td>2.0</td>\n",
       "      <td>2.0</td>\n",
       "      <td>2.0</td>\n",
       "      <td>11-15</td>\n",
       "      <td>1.0</td>\n",
       "      <td>1.0</td>\n",
       "      <td>20.0</td>\n",
       "      <td>16.0</td>\n",
       "      <td>4.0</td>\n",
       "      <td>man</td>\n",
       "    </tr>\n",
       "    <tr>\n",
       "      <th>4</th>\n",
       "      <td>condition_5</td>\n",
       "      <td>13</td>\n",
       "      <td>2</td>\n",
       "      <td>50-54</td>\n",
       "      <td>2.0</td>\n",
       "      <td>2.0</td>\n",
       "      <td>2.0</td>\n",
       "      <td>11-15</td>\n",
       "      <td>2.0</td>\n",
       "      <td>2.0</td>\n",
       "      <td>26.0</td>\n",
       "      <td>26.0</td>\n",
       "      <td>0.0</td>\n",
       "      <td>man</td>\n",
       "    </tr>\n",
       "  </tbody>\n",
       "</table>\n",
       "</div>"
      ],
      "text/plain": [
       "        number  days  gender    age  afftype  melanch  inpatient    edu  \\\n",
       "0  condition_1    11       2  35-39      2.0      2.0        2.0   6-10   \n",
       "1  condition_2    18       2  40-44      1.0      2.0        2.0   6-10   \n",
       "2  condition_3    13       1  45-49      2.0      2.0        2.0   6-10   \n",
       "3  condition_4    13       2  25-29      2.0      2.0        2.0  11-15   \n",
       "4  condition_5    13       2  50-54      2.0      2.0        2.0  11-15   \n",
       "\n",
       "   marriage  work  madrs1  madrs2  madrs3    sex  \n",
       "0       1.0   2.0    19.0    19.0     0.0    man  \n",
       "1       2.0   2.0    24.0    11.0    13.0    man  \n",
       "2       2.0   2.0    24.0    25.0    -1.0  woman  \n",
       "3       1.0   1.0    20.0    16.0     4.0    man  \n",
       "4       2.0   2.0    26.0    26.0     0.0    man  "
      ]
     },
     "execution_count": 78,
     "metadata": {},
     "output_type": "execute_result"
    }
   ],
   "source": [
    "data.head()"
   ]
  },
  {
   "cell_type": "code",
   "execution_count": 79,
   "metadata": {},
   "outputs": [],
   "source": [
    "data[\"cat_afftype\"]=data[\"afftype\"]"
   ]
  },
  {
   "cell_type": "code",
   "execution_count": 80,
   "metadata": {},
   "outputs": [],
   "source": [
    "counter=0\n",
    "for i in data[[\"afftype\"]].values:\n",
    "    if(i==1):\n",
    "        data[\"cat_afftype\"].iloc[counter]=\"bipolarr\"\n",
    "    elif(i==2):\n",
    "        data[\"cat_afftype\"].iloc[counter]=\"unipolar_depresif\"\n",
    "    elif(i==3):\n",
    "        data[\"cat_afftype\"].iloc[counter]=\"bipolar\"\n",
    "    counter+=1"
   ]
  },
  {
   "cell_type": "code",
   "execution_count": 81,
   "metadata": {},
   "outputs": [
    {
     "data": {
      "text/html": [
       "<div>\n",
       "<style scoped>\n",
       "    .dataframe tbody tr th:only-of-type {\n",
       "        vertical-align: middle;\n",
       "    }\n",
       "\n",
       "    .dataframe tbody tr th {\n",
       "        vertical-align: top;\n",
       "    }\n",
       "\n",
       "    .dataframe thead th {\n",
       "        text-align: right;\n",
       "    }\n",
       "</style>\n",
       "<table border=\"1\" class=\"dataframe\">\n",
       "  <thead>\n",
       "    <tr style=\"text-align: right;\">\n",
       "      <th></th>\n",
       "      <th>number</th>\n",
       "      <th>days</th>\n",
       "      <th>gender</th>\n",
       "      <th>age</th>\n",
       "      <th>afftype</th>\n",
       "      <th>melanch</th>\n",
       "      <th>inpatient</th>\n",
       "      <th>edu</th>\n",
       "      <th>marriage</th>\n",
       "      <th>work</th>\n",
       "      <th>madrs1</th>\n",
       "      <th>madrs2</th>\n",
       "      <th>madrs3</th>\n",
       "      <th>sex</th>\n",
       "      <th>cat_afftype</th>\n",
       "    </tr>\n",
       "  </thead>\n",
       "  <tbody>\n",
       "    <tr>\n",
       "      <th>0</th>\n",
       "      <td>condition_1</td>\n",
       "      <td>11</td>\n",
       "      <td>2</td>\n",
       "      <td>35-39</td>\n",
       "      <td>2.0</td>\n",
       "      <td>2.0</td>\n",
       "      <td>2.0</td>\n",
       "      <td>6-10</td>\n",
       "      <td>1.0</td>\n",
       "      <td>2.0</td>\n",
       "      <td>19.0</td>\n",
       "      <td>19.0</td>\n",
       "      <td>0.0</td>\n",
       "      <td>man</td>\n",
       "      <td>unipolar_depresif</td>\n",
       "    </tr>\n",
       "    <tr>\n",
       "      <th>1</th>\n",
       "      <td>condition_2</td>\n",
       "      <td>18</td>\n",
       "      <td>2</td>\n",
       "      <td>40-44</td>\n",
       "      <td>1.0</td>\n",
       "      <td>2.0</td>\n",
       "      <td>2.0</td>\n",
       "      <td>6-10</td>\n",
       "      <td>2.0</td>\n",
       "      <td>2.0</td>\n",
       "      <td>24.0</td>\n",
       "      <td>11.0</td>\n",
       "      <td>13.0</td>\n",
       "      <td>man</td>\n",
       "      <td>bipolarr</td>\n",
       "    </tr>\n",
       "    <tr>\n",
       "      <th>2</th>\n",
       "      <td>condition_3</td>\n",
       "      <td>13</td>\n",
       "      <td>1</td>\n",
       "      <td>45-49</td>\n",
       "      <td>2.0</td>\n",
       "      <td>2.0</td>\n",
       "      <td>2.0</td>\n",
       "      <td>6-10</td>\n",
       "      <td>2.0</td>\n",
       "      <td>2.0</td>\n",
       "      <td>24.0</td>\n",
       "      <td>25.0</td>\n",
       "      <td>-1.0</td>\n",
       "      <td>woman</td>\n",
       "      <td>unipolar_depresif</td>\n",
       "    </tr>\n",
       "    <tr>\n",
       "      <th>3</th>\n",
       "      <td>condition_4</td>\n",
       "      <td>13</td>\n",
       "      <td>2</td>\n",
       "      <td>25-29</td>\n",
       "      <td>2.0</td>\n",
       "      <td>2.0</td>\n",
       "      <td>2.0</td>\n",
       "      <td>11-15</td>\n",
       "      <td>1.0</td>\n",
       "      <td>1.0</td>\n",
       "      <td>20.0</td>\n",
       "      <td>16.0</td>\n",
       "      <td>4.0</td>\n",
       "      <td>man</td>\n",
       "      <td>unipolar_depresif</td>\n",
       "    </tr>\n",
       "    <tr>\n",
       "      <th>4</th>\n",
       "      <td>condition_5</td>\n",
       "      <td>13</td>\n",
       "      <td>2</td>\n",
       "      <td>50-54</td>\n",
       "      <td>2.0</td>\n",
       "      <td>2.0</td>\n",
       "      <td>2.0</td>\n",
       "      <td>11-15</td>\n",
       "      <td>2.0</td>\n",
       "      <td>2.0</td>\n",
       "      <td>26.0</td>\n",
       "      <td>26.0</td>\n",
       "      <td>0.0</td>\n",
       "      <td>man</td>\n",
       "      <td>unipolar_depresif</td>\n",
       "    </tr>\n",
       "  </tbody>\n",
       "</table>\n",
       "</div>"
      ],
      "text/plain": [
       "        number  days  gender    age  afftype  melanch  inpatient    edu  \\\n",
       "0  condition_1    11       2  35-39      2.0      2.0        2.0   6-10   \n",
       "1  condition_2    18       2  40-44      1.0      2.0        2.0   6-10   \n",
       "2  condition_3    13       1  45-49      2.0      2.0        2.0   6-10   \n",
       "3  condition_4    13       2  25-29      2.0      2.0        2.0  11-15   \n",
       "4  condition_5    13       2  50-54      2.0      2.0        2.0  11-15   \n",
       "\n",
       "   marriage  work  madrs1  madrs2  madrs3    sex        cat_afftype  \n",
       "0       1.0   2.0    19.0    19.0     0.0    man  unipolar_depresif  \n",
       "1       2.0   2.0    24.0    11.0    13.0    man           bipolarr  \n",
       "2       2.0   2.0    24.0    25.0    -1.0  woman  unipolar_depresif  \n",
       "3       1.0   1.0    20.0    16.0     4.0    man  unipolar_depresif  \n",
       "4       2.0   2.0    26.0    26.0     0.0    man  unipolar_depresif  "
      ]
     },
     "execution_count": 81,
     "metadata": {},
     "output_type": "execute_result"
    }
   ],
   "source": [
    "data.head()"
   ]
  },
  {
   "cell_type": "code",
   "execution_count": 82,
   "metadata": {},
   "outputs": [],
   "source": [
    "data.cat_afftype=data.cat_afftype.astype(pd.CategoricalDtype())"
   ]
  },
  {
   "cell_type": "code",
   "execution_count": 83,
   "metadata": {},
   "outputs": [
    {
     "name": "stdout",
     "output_type": "stream",
     "text": [
      "<class 'pandas.core.frame.DataFrame'>\n",
      "RangeIndex: 55 entries, 0 to 54\n",
      "Data columns (total 15 columns):\n",
      " #   Column       Non-Null Count  Dtype   \n",
      "---  ------       --------------  -----   \n",
      " 0   number       55 non-null     object  \n",
      " 1   days         55 non-null     int64   \n",
      " 2   gender       55 non-null     int64   \n",
      " 3   age          55 non-null     object  \n",
      " 4   afftype      23 non-null     float64 \n",
      " 5   melanch      20 non-null     float64 \n",
      " 6   inpatient    23 non-null     float64 \n",
      " 7   edu          53 non-null     object  \n",
      " 8   marriage     23 non-null     float64 \n",
      " 9   work         23 non-null     float64 \n",
      " 10  madrs1       23 non-null     float64 \n",
      " 11  madrs2       23 non-null     float64 \n",
      " 12  madrs3       23 non-null     float64 \n",
      " 13  sex          55 non-null     object  \n",
      " 14  cat_afftype  23 non-null     category\n",
      "dtypes: category(1), float64(8), int64(2), object(4)\n",
      "memory usage: 6.3+ KB\n"
     ]
    }
   ],
   "source": [
    "data.info()"
   ]
  },
  {
   "cell_type": "code",
   "execution_count": 84,
   "metadata": {},
   "outputs": [
    {
     "data": {
      "text/plain": [
       "unipolar_depresif    15\n",
       "bipolarr              7\n",
       "bipolar               1\n",
       "Name: cat_afftype, dtype: int64"
      ]
     },
     "execution_count": 84,
     "metadata": {},
     "output_type": "execute_result"
    }
   ],
   "source": [
    "data.cat_afftype.value_counts()"
   ]
  },
  {
   "cell_type": "code",
   "execution_count": 85,
   "metadata": {},
   "outputs": [
    {
     "data": {
      "text/plain": [
       "2.0    15\n",
       "1.0     7\n",
       "3.0     1\n",
       "Name: afftype, dtype: int64"
      ]
     },
     "execution_count": 85,
     "metadata": {},
     "output_type": "execute_result"
    }
   ],
   "source": [
    "data[\"afftype\"].value_counts()"
   ]
  },
  {
   "cell_type": "code",
   "execution_count": 92,
   "metadata": {},
   "outputs": [
    {
     "data": {
      "image/png": "[encoded data removed]",
      "text/plain": [
       "<Figure size 432.25x360 with 1 Axes>"
      ]
     },
     "metadata": {
      "needs_background": "light"
     },
     "output_type": "display_data"
    }
   ],
   "source": [
    "sbn.catplot(x=\"cat_afftype\",y=\"madrs3\",data=data,hue=\"sex\");"
   ]
  },
  {
   "cell_type": "code",
   "execution_count": 96,
   "metadata": {},
   "outputs": [
    {
     "data": {
      "text/plain": [
       "<matplotlib.axes._subplots.AxesSubplot at 0x1fd9e0b06a0>"
      ]
     },
     "execution_count": 96,
     "metadata": {},
     "output_type": "execute_result"
    },
    {
     "data": {
      "image/png": "[encoded data removed]",
      "text/plain": [
       "<Figure size 432x288 with 1 Axes>"
      ]
     },
     "metadata": {
      "needs_background": "light"
     },
     "output_type": "display_data"
    }
   ],
   "source": [
    "sbn.violinplot(x=\"sex\",y=\"madrs3\",data=data)"
   ]
  },
  {
   "cell_type": "code",
   "execution_count": 101,
   "metadata": {},
   "outputs": [
    {
     "data": {
      "text/plain": [
       "<matplotlib.axes._subplots.AxesSubplot at 0x1fd9e808610>"
      ]
     },
     "execution_count": 101,
     "metadata": {},
     "output_type": "execute_result"
    },
    {
     "data": {
      "image/png": "[encoded data removed]",
      "text/plain": [
       "<Figure size 432x288 with 1 Axes>"
      ]
     },
     "metadata": {
      "needs_background": "light"
     },
     "output_type": "display_data"
    }
   ],
   "source": [
    "sbn.barplot(x=\"cat_afftype\",y=\"madrs3\",hue=\"sex\",data=data)"
   ]
  },
  {
   "cell_type": "code",
   "execution_count": 99,
   "metadata": {},
   "outputs": [
    {
     "data": {
      "text/html": [
       "<div>\n",
       "<style scoped>\n",
       "    .dataframe tbody tr th:only-of-type {\n",
       "        vertical-align: middle;\n",
       "    }\n",
       "\n",
       "    .dataframe tbody tr th {\n",
       "        vertical-align: top;\n",
       "    }\n",
       "\n",
       "    .dataframe thead th {\n",
       "        text-align: right;\n",
       "    }\n",
       "</style>\n",
       "<table border=\"1\" class=\"dataframe\">\n",
       "  <thead>\n",
       "    <tr style=\"text-align: right;\">\n",
       "      <th></th>\n",
       "      <th>number</th>\n",
       "      <th>days</th>\n",
       "      <th>gender</th>\n",
       "      <th>age</th>\n",
       "      <th>afftype</th>\n",
       "      <th>melanch</th>\n",
       "      <th>inpatient</th>\n",
       "      <th>edu</th>\n",
       "      <th>marriage</th>\n",
       "      <th>work</th>\n",
       "      <th>madrs1</th>\n",
       "      <th>madrs2</th>\n",
       "      <th>madrs3</th>\n",
       "      <th>sex</th>\n",
       "      <th>cat_afftype</th>\n",
       "    </tr>\n",
       "  </thead>\n",
       "  <tbody>\n",
       "    <tr>\n",
       "      <th>0</th>\n",
       "      <td>condition_1</td>\n",
       "      <td>11</td>\n",
       "      <td>2</td>\n",
       "      <td>35-39</td>\n",
       "      <td>2.0</td>\n",
       "      <td>2.0</td>\n",
       "      <td>2.0</td>\n",
       "      <td>6-10</td>\n",
       "      <td>1.0</td>\n",
       "      <td>2.0</td>\n",
       "      <td>19.0</td>\n",
       "      <td>19.0</td>\n",
       "      <td>0.0</td>\n",
       "      <td>man</td>\n",
       "      <td>unipolar_depresif</td>\n",
       "    </tr>\n",
       "    <tr>\n",
       "      <th>1</th>\n",
       "      <td>condition_2</td>\n",
       "      <td>18</td>\n",
       "      <td>2</td>\n",
       "      <td>40-44</td>\n",
       "      <td>1.0</td>\n",
       "      <td>2.0</td>\n",
       "      <td>2.0</td>\n",
       "      <td>6-10</td>\n",
       "      <td>2.0</td>\n",
       "      <td>2.0</td>\n",
       "      <td>24.0</td>\n",
       "      <td>11.0</td>\n",
       "      <td>13.0</td>\n",
       "      <td>man</td>\n",
       "      <td>bipolarr</td>\n",
       "    </tr>\n",
       "    <tr>\n",
       "      <th>2</th>\n",
       "      <td>condition_3</td>\n",
       "      <td>13</td>\n",
       "      <td>1</td>\n",
       "      <td>45-49</td>\n",
       "      <td>2.0</td>\n",
       "      <td>2.0</td>\n",
       "      <td>2.0</td>\n",
       "      <td>6-10</td>\n",
       "      <td>2.0</td>\n",
       "      <td>2.0</td>\n",
       "      <td>24.0</td>\n",
       "      <td>25.0</td>\n",
       "      <td>-1.0</td>\n",
       "      <td>woman</td>\n",
       "      <td>unipolar_depresif</td>\n",
       "    </tr>\n",
       "    <tr>\n",
       "      <th>3</th>\n",
       "      <td>condition_4</td>\n",
       "      <td>13</td>\n",
       "      <td>2</td>\n",
       "      <td>25-29</td>\n",
       "      <td>2.0</td>\n",
       "      <td>2.0</td>\n",
       "      <td>2.0</td>\n",
       "      <td>11-15</td>\n",
       "      <td>1.0</td>\n",
       "      <td>1.0</td>\n",
       "      <td>20.0</td>\n",
       "      <td>16.0</td>\n",
       "      <td>4.0</td>\n",
       "      <td>man</td>\n",
       "      <td>unipolar_depresif</td>\n",
       "    </tr>\n",
       "    <tr>\n",
       "      <th>4</th>\n",
       "      <td>condition_5</td>\n",
       "      <td>13</td>\n",
       "      <td>2</td>\n",
       "      <td>50-54</td>\n",
       "      <td>2.0</td>\n",
       "      <td>2.0</td>\n",
       "      <td>2.0</td>\n",
       "      <td>11-15</td>\n",
       "      <td>2.0</td>\n",
       "      <td>2.0</td>\n",
       "      <td>26.0</td>\n",
       "      <td>26.0</td>\n",
       "      <td>0.0</td>\n",
       "      <td>man</td>\n",
       "      <td>unipolar_depresif</td>\n",
       "    </tr>\n",
       "  </tbody>\n",
       "</table>\n",
       "</div>"
      ],
      "text/plain": [
       "        number  days  gender    age  afftype  melanch  inpatient    edu  \\\n",
       "0  condition_1    11       2  35-39      2.0      2.0        2.0   6-10   \n",
       "1  condition_2    18       2  40-44      1.0      2.0        2.0   6-10   \n",
       "2  condition_3    13       1  45-49      2.0      2.0        2.0   6-10   \n",
       "3  condition_4    13       2  25-29      2.0      2.0        2.0  11-15   \n",
       "4  condition_5    13       2  50-54      2.0      2.0        2.0  11-15   \n",
       "\n",
       "   marriage  work  madrs1  madrs2  madrs3    sex        cat_afftype  \n",
       "0       1.0   2.0    19.0    19.0     0.0    man  unipolar_depresif  \n",
       "1       2.0   2.0    24.0    11.0    13.0    man           bipolarr  \n",
       "2       2.0   2.0    24.0    25.0    -1.0  woman  unipolar_depresif  \n",
       "3       1.0   1.0    20.0    16.0     4.0    man  unipolar_depresif  \n",
       "4       2.0   2.0    26.0    26.0     0.0    man  unipolar_depresif  "
      ]
     },
     "execution_count": 99,
     "metadata": {},
     "output_type": "execute_result"
    }
   ],
   "source": [
    "data.head()"
   ]
  },
  {
   "cell_type": "markdown",
   "metadata": {},
   "source": [
    "# çalışmak ve evlilik durumları depresyonu tedavisi sonucunu etkiler mi ?"
   ]
  },
  {
   "cell_type": "code",
   "execution_count": 113,
   "metadata": {},
   "outputs": [
    {
     "data": {
      "text/plain": [
       "<matplotlib.legend.Legend at 0x1fd9fae5520>"
      ]
     },
     "execution_count": 113,
     "metadata": {},
     "output_type": "execute_result"
    },
    {
     "data": {
      "image/png": "[encoded data removed]",
      "text/plain": [
       "<Figure size 432x288 with 1 Axes>"
      ]
     },
     "metadata": {
      "needs_background": "light"
     },
     "output_type": "display_data"
    }
   ],
   "source": [
    "sbn.barplot(x=\"work\",y=\"madrs3\",hue=\"marriage\",data=data)\n",
    "plt.legend(loc=4)"
   ]
  },
  {
   "cell_type": "markdown",
   "metadata": {},
   "source": [
    "## yaş grupları ile evlilik durumları depresyon tedavisi sonucunu etkiler mi ?"
   ]
  },
  {
   "cell_type": "code",
   "execution_count": 114,
   "metadata": {},
   "outputs": [
    {
     "data": {
      "text/plain": [
       "<matplotlib.legend.Legend at 0x1fd9fb42730>"
      ]
     },
     "execution_count": 114,
     "metadata": {},
     "output_type": "execute_result"
    },
    {
     "data": {
      "image/png": "[encoded data removed]",
      "text/plain": [
       "<Figure size 432x288 with 1 Axes>"
      ]
     },
     "metadata": {
      "needs_background": "light"
     },
     "output_type": "display_data"
    }
   ],
   "source": [
    "sbn.barplot(x=\"age\",y=\"madrs3\",hue=\"marriage\",data=data)\n",
    "plt.legend(loc=4)"
   ]
  },
  {
   "cell_type": "code",
   "execution_count": 116,
   "metadata": {},
   "outputs": [],
   "source": [
    "data[\"age\"]=data[\"age\"].astype(pd.CategoricalDtype(categories=['20-24', '25-29', '30-34', '35-39', '40-44', '45-49', '50-54',\n",
    "       '55-59', '60-64', '65-69'],ordered=True))"
   ]
  },
  {
   "cell_type": "code",
   "execution_count": 119,
   "metadata": {},
   "outputs": [
    {
     "data": {
      "text/plain": [
       "0    35-39\n",
       "1    40-44\n",
       "2    45-49\n",
       "3    25-29\n",
       "4    50-54\n",
       "Name: age, dtype: category\n",
       "Categories (10, object): [20-24 < 25-29 < 30-34 < 35-39 ... 50-54 < 55-59 < 60-64 < 65-69]"
      ]
     },
     "execution_count": 119,
     "metadata": {},
     "output_type": "execute_result"
    }
   ],
   "source": [
    "data.age.iloc[:5]"
   ]
  },
  {
   "cell_type": "code",
   "execution_count": 121,
   "metadata": {},
   "outputs": [],
   "source": [
    "liste=[]\n",
    "for i in data.age.cat.codes:\n",
    "    if(0<=i<3):\n",
    "        liste.append(0)\n",
    "    elif(i<5):\n",
    "        liste.append(1)\n",
    "    elif(i<7):\n",
    "        liste.append(2)\n",
    "    else: liste.append(3)\n",
    "data[\"new_age\"]=liste"
   ]
  },
  {
   "cell_type": "code",
   "execution_count": 124,
   "metadata": {},
   "outputs": [
    {
     "data": {
      "text/plain": [
       "<matplotlib.legend.Legend at 0x1fda04bd490>"
      ]
     },
     "execution_count": 124,
     "metadata": {},
     "output_type": "execute_result"
    },
    {
     "data": {
      "image/png": "[encoded data removed]",
      "text/plain": [
       "<Figure size 864x432 with 2 Axes>"
      ]
     },
     "metadata": {
      "needs_background": "light"
     },
     "output_type": "display_data"
    }
   ],
   "source": [
    "plt.figure(figsize=(12,6))\n",
    "plt.subplot(1,2,1)\n",
    "sbn.barplot(x=\"new_age\",y=\"madrs3\",hue=\"marriage\",data=data)\n",
    "plt.subplot(1,2,2)\n",
    "sbn.barplot(x=\"new_age\",y=\"madrs3\",hue=\"sex\",data=data)\n",
    "plt.legend(loc=4)"
   ]
  },
  {
   "cell_type": "code",
   "execution_count": null,
   "metadata": {},
   "outputs": [],
   "source": []
  },
  {
   "cell_type": "code",
   "execution_count": null,
   "metadata": {},
   "outputs": [],
   "source": []
  },
  {
   "cell_type": "code",
   "execution_count": null,
   "metadata": {},
   "outputs": [],
   "source": []
  },
  {
   "cell_type": "code",
   "execution_count": 128,
   "metadata": {},
   "outputs": [
    {
     "data": {
      "text/plain": [
       "'C:\\\\Users\\\\omerm\\\\OneDrive\\\\Masaüstü\\\\Data'"
      ]
     },
     "execution_count": 128,
     "metadata": {},
     "output_type": "execute_result"
    }
   ],
   "source": [
    "os.getcwd()"
   ]
  },
  {
   "cell_type": "code",
   "execution_count": 137,
   "metadata": {},
   "outputs": [],
   "source": [
    "x=pd.read_csv((os.listdir(os.getcwd())[0]))"
   ]
  },
  {
   "cell_type": "code",
   "execution_count": null,
   "metadata": {},
   "outputs": [],
   "source": []
  },
  {
   "cell_type": "code",
   "execution_count": 138,
   "metadata": {},
   "outputs": [
    {
     "data": {
      "text/plain": [
       "(23244, 3)"
      ]
     },
     "execution_count": 138,
     "metadata": {},
     "output_type": "execute_result"
    }
   ],
   "source": [
    "x.shape"
   ]
  },
  {
   "cell_type": "code",
   "execution_count": 143,
   "metadata": {},
   "outputs": [
    {
     "data": {
      "text/plain": [
       "(23244, 3)"
      ]
     },
     "execution_count": 143,
     "metadata": {},
     "output_type": "execute_result"
    }
   ],
   "source": [
    "x.shape"
   ]
  },
  {
   "cell_type": "code",
   "execution_count": 144,
   "metadata": {},
   "outputs": [
    {
     "data": {
      "text/html": [
       "<div>\n",
       "<style scoped>\n",
       "    .dataframe tbody tr th:only-of-type {\n",
       "        vertical-align: middle;\n",
       "    }\n",
       "\n",
       "    .dataframe tbody tr th {\n",
       "        vertical-align: top;\n",
       "    }\n",
       "\n",
       "    .dataframe thead th {\n",
       "        text-align: right;\n",
       "    }\n",
       "</style>\n",
       "<table border=\"1\" class=\"dataframe\">\n",
       "  <thead>\n",
       "    <tr style=\"text-align: right;\">\n",
       "      <th></th>\n",
       "      <th>timestamp</th>\n",
       "      <th>date</th>\n",
       "      <th>activity</th>\n",
       "    </tr>\n",
       "  </thead>\n",
       "  <tbody>\n",
       "    <tr>\n",
       "      <th>23239</th>\n",
       "      <td>2003-05-23 15:19:00</td>\n",
       "      <td>2003-05-23</td>\n",
       "      <td>0</td>\n",
       "    </tr>\n",
       "    <tr>\n",
       "      <th>23240</th>\n",
       "      <td>2003-05-23 15:20:00</td>\n",
       "      <td>2003-05-23</td>\n",
       "      <td>0</td>\n",
       "    </tr>\n",
       "    <tr>\n",
       "      <th>23241</th>\n",
       "      <td>2003-05-23 15:21:00</td>\n",
       "      <td>2003-05-23</td>\n",
       "      <td>0</td>\n",
       "    </tr>\n",
       "    <tr>\n",
       "      <th>23242</th>\n",
       "      <td>2003-05-23 15:22:00</td>\n",
       "      <td>2003-05-23</td>\n",
       "      <td>0</td>\n",
       "    </tr>\n",
       "    <tr>\n",
       "      <th>23243</th>\n",
       "      <td>2003-05-23 15:23:00</td>\n",
       "      <td>2003-05-23</td>\n",
       "      <td>533</td>\n",
       "    </tr>\n",
       "  </tbody>\n",
       "</table>\n",
       "</div>"
      ],
      "text/plain": [
       "                 timestamp        date  activity\n",
       "23239  2003-05-23 15:19:00  2003-05-23         0\n",
       "23240  2003-05-23 15:20:00  2003-05-23         0\n",
       "23241  2003-05-23 15:21:00  2003-05-23         0\n",
       "23242  2003-05-23 15:22:00  2003-05-23         0\n",
       "23243  2003-05-23 15:23:00  2003-05-23       533"
      ]
     },
     "execution_count": 144,
     "metadata": {},
     "output_type": "execute_result"
    }
   ],
   "source": [
    "x.tail()"
   ]
  },
  {
   "cell_type": "code",
   "execution_count": 146,
   "metadata": {},
   "outputs": [
    {
     "data": {
      "text/plain": [
       "193.7"
      ]
     },
     "execution_count": 146,
     "metadata": {},
     "output_type": "execute_result"
    }
   ],
   "source": [
    "23244/120"
   ]
  },
  {
   "cell_type": "code",
   "execution_count": 147,
   "metadata": {
    "collapsed": true,
    "jupyter": {
     "outputs_hidden": true
    }
   },
   "outputs": [
    {
     "data": {
      "text/plain": [
       "[346.55,\n",
       " 284.56666666666666,\n",
       " 279.18333333333334,\n",
       " 218.78333333333333,\n",
       " 238.55,\n",
       " 209.85,\n",
       " 129.11666666666667,\n",
       " 60.46666666666667,\n",
       " 99.95,\n",
       " 41.53333333333333,\n",
       " 32.45,\n",
       " 148.73333333333332,\n",
       " 8.0,\n",
       " 4.083333333333333,\n",
       " 7.066666666666666,\n",
       " 4.033333333333333,\n",
       " 12.216666666666667,\n",
       " 0.9666666666666667,\n",
       " 10.0,\n",
       " 13.7,\n",
       " 146.73333333333332,\n",
       " 111.45,\n",
       " 395.65,\n",
       " 351.95,\n",
       " 247.33333333333334,\n",
       " 348.03333333333336,\n",
       " 279.8833333333333,\n",
       " 75.91666666666667,\n",
       " 368.1666666666667,\n",
       " 394.6333333333333,\n",
       " 307.8,\n",
       " 263.56666666666666,\n",
       " 164.31666666666666,\n",
       " 120.05,\n",
       " 46.516666666666666,\n",
       " 67.86666666666666,\n",
       " 69.7,\n",
       " 22.25,\n",
       " 11.016666666666667,\n",
       " 2.0833333333333335,\n",
       " 12.65,\n",
       " 4.516666666666667,\n",
       " 6.433333333333334,\n",
       " 5.666666666666667,\n",
       " 36.55,\n",
       " 161.81666666666666,\n",
       " 228.83333333333334,\n",
       " 432.48333333333335,\n",
       " 192.4,\n",
       " 38.35,\n",
       " 7.733333333333333,\n",
       " 160.68333333333334,\n",
       " 181.9,\n",
       " 276.1166666666667,\n",
       " 298.46666666666664,\n",
       " 223.46666666666667,\n",
       " 333.1166666666667,\n",
       " 178.11666666666667,\n",
       " 58.2,\n",
       " 36.7,\n",
       " 100.61666666666666,\n",
       " 98.63333333333334,\n",
       " 7.716666666666667,\n",
       " 3.283333333333333,\n",
       " 3.7,\n",
       " 0.5833333333333334,\n",
       " 1.9666666666666666,\n",
       " 17.783333333333335,\n",
       " 231.55,\n",
       " 339.6666666666667,\n",
       " 72.85,\n",
       " 116.66666666666667,\n",
       " 347.06666666666666,\n",
       " 207.83333333333334,\n",
       " 227.56666666666666,\n",
       " 184.88333333333333,\n",
       " 206.7,\n",
       " 192.21666666666667,\n",
       " 447.5833333333333,\n",
       " 157.01666666666668,\n",
       " 60.083333333333336,\n",
       " 47.666666666666664,\n",
       " 79.96666666666667,\n",
       " 85.48333333333333,\n",
       " 2.7666666666666666,\n",
       " 0.9166666666666666,\n",
       " 4.083333333333333,\n",
       " 6.516666666666667,\n",
       " 20.366666666666667,\n",
       " 7.95,\n",
       " 13.733333333333333,\n",
       " 10.866666666666667,\n",
       " 117.96666666666667,\n",
       " 158.26666666666668,\n",
       " 228.06666666666666,\n",
       " 267.48333333333335,\n",
       " 196.81666666666666,\n",
       " 178.4,\n",
       " 299.96666666666664,\n",
       " 62.7,\n",
       " 152.28333333333333,\n",
       " 124.48333333333333,\n",
       " 123.86666666666666,\n",
       " 144.5,\n",
       " 57.2,\n",
       " 52.15,\n",
       " 43.96666666666667,\n",
       " 111.23333333333333,\n",
       " 2.7666666666666666,\n",
       " 2.6666666666666665,\n",
       " 12.45,\n",
       " 5.25,\n",
       " 9.816666666666666,\n",
       " 9.683333333333334,\n",
       " 9.683333333333334,\n",
       " 9.866666666666667,\n",
       " 16.9,\n",
       " 144.56666666666666,\n",
       " 317.8,\n",
       " 368.25,\n",
       " 367.7,\n",
       " 702.2666666666667,\n",
       " 1034.85,\n",
       " 795.7666666666667,\n",
       " 332.2,\n",
       " 1137.3,\n",
       " 959.95,\n",
       " 892.6833333333333,\n",
       " 244.2,\n",
       " 140.2,\n",
       " 56.36666666666667,\n",
       " 31.8,\n",
       " 52.0,\n",
       " 100.48333333333333,\n",
       " 15.733333333333333,\n",
       " 9.533333333333333,\n",
       " 0.3,\n",
       " 7.3,\n",
       " 12.533333333333333,\n",
       " 16.45,\n",
       " 6.45,\n",
       " 136.48333333333332,\n",
       " 127.61666666666666,\n",
       " 368.3,\n",
       " 202.28333333333333,\n",
       " 119.78333333333333,\n",
       " 170.33333333333334,\n",
       " 80.25,\n",
       " 284.6333333333333,\n",
       " 230.13333333333333,\n",
       " 325.3,\n",
       " 42.45,\n",
       " 86.9,\n",
       " 66.05,\n",
       " 132.21666666666667,\n",
       " 9.9,\n",
       " 3.783333333333333,\n",
       " 2.9166666666666665,\n",
       " 14.016666666666667,\n",
       " 5.633333333333334,\n",
       " 25.75,\n",
       " 2.5,\n",
       " 17.316666666666666,\n",
       " 65.73333333333333,\n",
       " 1.3166666666666667,\n",
       " 199.36666666666667,\n",
       " 169.95,\n",
       " 349.18333333333334,\n",
       " 264.8666666666667,\n",
       " 330.01666666666665,\n",
       " 274.01666666666665,\n",
       " 192.35,\n",
       " 481.03333333333336,\n",
       " 349.68333333333334,\n",
       " 246.48333333333332,\n",
       " 179.86666666666667,\n",
       " 91.55,\n",
       " 206.88333333333333,\n",
       " 187.46666666666667,\n",
       " 74.75,\n",
       " 89.08333333333333,\n",
       " 9.9,\n",
       " 0.9,\n",
       " 3.6,\n",
       " 3.566666666666667,\n",
       " 6.45,\n",
       " 9.566666666666666,\n",
       " 11.583333333333334,\n",
       " 22.466666666666665,\n",
       " 194.1,\n",
       " 394.03333333333336,\n",
       " 382.55,\n",
       " 305.28333333333336]"
      ]
     },
     "execution_count": 147,
     "metadata": {},
     "output_type": "execute_result"
    }
   ],
   "source": [
    "liste=[]\n",
    "k=0\n",
    "for i in range(193):\n",
    "    liste.append(np.mean(x[\"activity\"].iloc[k:k+60]))\n",
    "    k+=60\n",
    "liste"
   ]
  },
  {
   "cell_type": "code",
   "execution_count": 148,
   "metadata": {},
   "outputs": [
    {
     "data": {
      "text/html": [
       "<div>\n",
       "<style scoped>\n",
       "    .dataframe tbody tr th:only-of-type {\n",
       "        vertical-align: middle;\n",
       "    }\n",
       "\n",
       "    .dataframe tbody tr th {\n",
       "        vertical-align: top;\n",
       "    }\n",
       "\n",
       "    .dataframe thead th {\n",
       "        text-align: right;\n",
       "    }\n",
       "</style>\n",
       "<table border=\"1\" class=\"dataframe\">\n",
       "  <thead>\n",
       "    <tr style=\"text-align: right;\">\n",
       "      <th></th>\n",
       "      <th>activity</th>\n",
       "    </tr>\n",
       "  </thead>\n",
       "  <tbody>\n",
       "    <tr>\n",
       "      <th>0</th>\n",
       "      <td>346.550000</td>\n",
       "    </tr>\n",
       "    <tr>\n",
       "      <th>1</th>\n",
       "      <td>284.566667</td>\n",
       "    </tr>\n",
       "    <tr>\n",
       "      <th>2</th>\n",
       "      <td>279.183333</td>\n",
       "    </tr>\n",
       "    <tr>\n",
       "      <th>3</th>\n",
       "      <td>218.783333</td>\n",
       "    </tr>\n",
       "    <tr>\n",
       "      <th>4</th>\n",
       "      <td>238.550000</td>\n",
       "    </tr>\n",
       "    <tr>\n",
       "      <th>...</th>\n",
       "      <td>...</td>\n",
       "    </tr>\n",
       "    <tr>\n",
       "      <th>188</th>\n",
       "      <td>22.466667</td>\n",
       "    </tr>\n",
       "    <tr>\n",
       "      <th>189</th>\n",
       "      <td>194.100000</td>\n",
       "    </tr>\n",
       "    <tr>\n",
       "      <th>190</th>\n",
       "      <td>394.033333</td>\n",
       "    </tr>\n",
       "    <tr>\n",
       "      <th>191</th>\n",
       "      <td>382.550000</td>\n",
       "    </tr>\n",
       "    <tr>\n",
       "      <th>192</th>\n",
       "      <td>305.283333</td>\n",
       "    </tr>\n",
       "  </tbody>\n",
       "</table>\n",
       "<p>193 rows × 1 columns</p>\n",
       "</div>"
      ],
      "text/plain": [
       "       activity\n",
       "0    346.550000\n",
       "1    284.566667\n",
       "2    279.183333\n",
       "3    218.783333\n",
       "4    238.550000\n",
       "..          ...\n",
       "188   22.466667\n",
       "189  194.100000\n",
       "190  394.033333\n",
       "191  382.550000\n",
       "192  305.283333\n",
       "\n",
       "[193 rows x 1 columns]"
      ]
     },
     "execution_count": 148,
     "metadata": {},
     "output_type": "execute_result"
    }
   ],
   "source": [
    "new_activity=pd.DataFrame(data=liste,columns=[\"activity\"])\n",
    "new_activity"
   ]
  },
  {
   "cell_type": "code",
   "execution_count": null,
   "metadata": {},
   "outputs": [],
   "source": []
  },
  {
   "cell_type": "code",
   "execution_count": null,
   "metadata": {},
   "outputs": [],
   "source": []
  },
  {
   "cell_type": "code",
   "execution_count": null,
   "metadata": {},
   "outputs": [],
   "source": []
  },
  {
   "cell_type": "code",
   "execution_count": null,
   "metadata": {},
   "outputs": [],
   "source": []
  },
  {
   "cell_type": "code",
   "execution_count": null,
   "metadata": {},
   "outputs": [],
   "source": []
  },
  {
   "cell_type": "code",
   "execution_count": null,
   "metadata": {},
   "outputs": [],
   "source": []
  },
  {
   "cell_type": "code",
   "execution_count": null,
   "metadata": {},
   "outputs": [],
   "source": []
  },
  {
   "cell_type": "code",
   "execution_count": null,
   "metadata": {},
   "outputs": [],
   "source": []
  },
  {
   "cell_type": "code",
   "execution_count": null,
   "metadata": {},
   "outputs": [],
   "source": []
  },
  {
   "cell_type": "code",
   "execution_count": null,
   "metadata": {},
   "outputs": [],
   "source": []
  },
  {
   "cell_type": "code",
   "execution_count": null,
   "metadata": {},
   "outputs": [],
   "source": []
  },
  {
   "cell_type": "code",
   "execution_count": null,
   "metadata": {},
   "outputs": [],
   "source": []
  },
  {
   "cell_type": "code",
   "execution_count": null,
   "metadata": {},
   "outputs": [],
   "source": []
  },
  {
   "cell_type": "code",
   "execution_count": null,
   "metadata": {},
   "outputs": [],
   "source": []
  },
  {
   "cell_type": "code",
   "execution_count": null,
   "metadata": {},
   "outputs": [],
   "source": []
  },
  {
   "cell_type": "code",
   "execution_count": 99,
   "metadata": {},
   "outputs": [
    {
     "data": {
      "text/plain": [
       "age\n",
       "60-64    1\n",
       "65-69    1\n",
       "40-44    2\n",
       "35-39    3\n",
       "45-49    4\n",
       "20-24    5\n",
       "25-29    5\n",
       "30-34    5\n",
       "50-54    6\n",
       "Name: gender, dtype: int64"
      ]
     },
     "execution_count": 99,
     "metadata": {},
     "output_type": "execute_result"
    }
   ],
   "source": [
    "data.iloc[23:].groupby(\"age\")[\"gender\"].count().sort_values()"
   ]
  },
  {
   "cell_type": "code",
   "execution_count": 98,
   "metadata": {},
   "outputs": [
    {
     "data": {
      "text/plain": [
       "age\n",
       "20-24    1\n",
       "25-29    2\n",
       "30-34    2\n",
       "35-39    4\n",
       "40-44    3\n",
       "45-49    5\n",
       "50-54    3\n",
       "55-59    1\n",
       "60-64    1\n",
       "65-69    1\n",
       "Name: gender, dtype: int64"
      ]
     },
     "execution_count": 98,
     "metadata": {},
     "output_type": "execute_result"
    }
   ],
   "source": [
    "data.iloc[:23].groupby(\"age\")[\"gender\"].count()"
   ]
  },
  {
   "cell_type": "code",
   "execution_count": 89,
   "metadata": {},
   "outputs": [
    {
     "data": {
      "text/plain": [
       "50-54    6\n",
       "20-24    5\n",
       "25-29    5\n",
       "30-34    5\n",
       "45-49    4\n",
       "35-39    3\n",
       "40-44    2\n",
       "60-64    1\n",
       "65-69    1\n",
       "Name: age, dtype: int64"
      ]
     },
     "execution_count": 89,
     "metadata": {},
     "output_type": "execute_result"
    }
   ],
   "source": [
    "data.iloc[23:][\"age\"].value_counts()"
   ]
  },
  {
   "cell_type": "code",
   "execution_count": 87,
   "metadata": {},
   "outputs": [
    {
     "data": {
      "text/html": [
       "<div>\n",
       "<style scoped>\n",
       "    .dataframe tbody tr th:only-of-type {\n",
       "        vertical-align: middle;\n",
       "    }\n",
       "\n",
       "    .dataframe tbody tr th {\n",
       "        vertical-align: top;\n",
       "    }\n",
       "\n",
       "    .dataframe thead th {\n",
       "        text-align: right;\n",
       "    }\n",
       "</style>\n",
       "<table border=\"1\" class=\"dataframe\">\n",
       "  <thead>\n",
       "    <tr style=\"text-align: right;\">\n",
       "      <th></th>\n",
       "      <th>number</th>\n",
       "      <th>days</th>\n",
       "      <th>gender</th>\n",
       "      <th>age</th>\n",
       "      <th>afftype</th>\n",
       "      <th>melanch</th>\n",
       "      <th>inpatient</th>\n",
       "      <th>edu</th>\n",
       "      <th>marriage</th>\n",
       "      <th>work</th>\n",
       "      <th>madrs1</th>\n",
       "      <th>madrs2</th>\n",
       "      <th>madrs3</th>\n",
       "      <th>sex</th>\n",
       "    </tr>\n",
       "  </thead>\n",
       "  <tbody>\n",
       "    <tr>\n",
       "      <th>0</th>\n",
       "      <td>condition_1</td>\n",
       "      <td>11</td>\n",
       "      <td>2</td>\n",
       "      <td>35-39</td>\n",
       "      <td>2.0</td>\n",
       "      <td>2.0</td>\n",
       "      <td>2.0</td>\n",
       "      <td>6-10</td>\n",
       "      <td>1.0</td>\n",
       "      <td>2.0</td>\n",
       "      <td>19.0</td>\n",
       "      <td>19.0</td>\n",
       "      <td>0.0</td>\n",
       "      <td>man</td>\n",
       "    </tr>\n",
       "    <tr>\n",
       "      <th>1</th>\n",
       "      <td>condition_2</td>\n",
       "      <td>18</td>\n",
       "      <td>2</td>\n",
       "      <td>40-44</td>\n",
       "      <td>1.0</td>\n",
       "      <td>2.0</td>\n",
       "      <td>2.0</td>\n",
       "      <td>6-10</td>\n",
       "      <td>2.0</td>\n",
       "      <td>2.0</td>\n",
       "      <td>24.0</td>\n",
       "      <td>11.0</td>\n",
       "      <td>13.0</td>\n",
       "      <td>man</td>\n",
       "    </tr>\n",
       "    <tr>\n",
       "      <th>2</th>\n",
       "      <td>condition_3</td>\n",
       "      <td>13</td>\n",
       "      <td>1</td>\n",
       "      <td>45-49</td>\n",
       "      <td>2.0</td>\n",
       "      <td>2.0</td>\n",
       "      <td>2.0</td>\n",
       "      <td>6-10</td>\n",
       "      <td>2.0</td>\n",
       "      <td>2.0</td>\n",
       "      <td>24.0</td>\n",
       "      <td>25.0</td>\n",
       "      <td>-1.0</td>\n",
       "      <td>woman</td>\n",
       "    </tr>\n",
       "    <tr>\n",
       "      <th>3</th>\n",
       "      <td>condition_4</td>\n",
       "      <td>13</td>\n",
       "      <td>2</td>\n",
       "      <td>25-29</td>\n",
       "      <td>2.0</td>\n",
       "      <td>2.0</td>\n",
       "      <td>2.0</td>\n",
       "      <td>11-15</td>\n",
       "      <td>1.0</td>\n",
       "      <td>1.0</td>\n",
       "      <td>20.0</td>\n",
       "      <td>16.0</td>\n",
       "      <td>4.0</td>\n",
       "      <td>man</td>\n",
       "    </tr>\n",
       "    <tr>\n",
       "      <th>4</th>\n",
       "      <td>condition_5</td>\n",
       "      <td>13</td>\n",
       "      <td>2</td>\n",
       "      <td>50-54</td>\n",
       "      <td>2.0</td>\n",
       "      <td>2.0</td>\n",
       "      <td>2.0</td>\n",
       "      <td>11-15</td>\n",
       "      <td>2.0</td>\n",
       "      <td>2.0</td>\n",
       "      <td>26.0</td>\n",
       "      <td>26.0</td>\n",
       "      <td>0.0</td>\n",
       "      <td>man</td>\n",
       "    </tr>\n",
       "    <tr>\n",
       "      <th>5</th>\n",
       "      <td>condition_6</td>\n",
       "      <td>7</td>\n",
       "      <td>1</td>\n",
       "      <td>35-39</td>\n",
       "      <td>2.0</td>\n",
       "      <td>2.0</td>\n",
       "      <td>2.0</td>\n",
       "      <td>6-10</td>\n",
       "      <td>1.0</td>\n",
       "      <td>2.0</td>\n",
       "      <td>18.0</td>\n",
       "      <td>15.0</td>\n",
       "      <td>3.0</td>\n",
       "      <td>woman</td>\n",
       "    </tr>\n",
       "    <tr>\n",
       "      <th>6</th>\n",
       "      <td>condition_7</td>\n",
       "      <td>11</td>\n",
       "      <td>1</td>\n",
       "      <td>20-24</td>\n",
       "      <td>1.0</td>\n",
       "      <td>NaN</td>\n",
       "      <td>2.0</td>\n",
       "      <td>11-15</td>\n",
       "      <td>2.0</td>\n",
       "      <td>1.0</td>\n",
       "      <td>24.0</td>\n",
       "      <td>25.0</td>\n",
       "      <td>-1.0</td>\n",
       "      <td>woman</td>\n",
       "    </tr>\n",
       "    <tr>\n",
       "      <th>7</th>\n",
       "      <td>condition_8</td>\n",
       "      <td>5</td>\n",
       "      <td>2</td>\n",
       "      <td>25-29</td>\n",
       "      <td>2.0</td>\n",
       "      <td>NaN</td>\n",
       "      <td>2.0</td>\n",
       "      <td>11-15</td>\n",
       "      <td>1.0</td>\n",
       "      <td>2.0</td>\n",
       "      <td>20.0</td>\n",
       "      <td>16.0</td>\n",
       "      <td>4.0</td>\n",
       "      <td>man</td>\n",
       "    </tr>\n",
       "    <tr>\n",
       "      <th>8</th>\n",
       "      <td>condition_9</td>\n",
       "      <td>13</td>\n",
       "      <td>2</td>\n",
       "      <td>45-49</td>\n",
       "      <td>1.0</td>\n",
       "      <td>NaN</td>\n",
       "      <td>2.0</td>\n",
       "      <td>6-10</td>\n",
       "      <td>1.0</td>\n",
       "      <td>2.0</td>\n",
       "      <td>26.0</td>\n",
       "      <td>26.0</td>\n",
       "      <td>0.0</td>\n",
       "      <td>man</td>\n",
       "    </tr>\n",
       "    <tr>\n",
       "      <th>9</th>\n",
       "      <td>condition_10</td>\n",
       "      <td>9</td>\n",
       "      <td>2</td>\n",
       "      <td>45-49</td>\n",
       "      <td>2.0</td>\n",
       "      <td>2.0</td>\n",
       "      <td>2.0</td>\n",
       "      <td>6-10</td>\n",
       "      <td>1.0</td>\n",
       "      <td>2.0</td>\n",
       "      <td>28.0</td>\n",
       "      <td>21.0</td>\n",
       "      <td>7.0</td>\n",
       "      <td>man</td>\n",
       "    </tr>\n",
       "    <tr>\n",
       "      <th>10</th>\n",
       "      <td>condition_11</td>\n",
       "      <td>14</td>\n",
       "      <td>1</td>\n",
       "      <td>45-49</td>\n",
       "      <td>2.0</td>\n",
       "      <td>2.0</td>\n",
       "      <td>2.0</td>\n",
       "      <td>6-10</td>\n",
       "      <td>1.0</td>\n",
       "      <td>2.0</td>\n",
       "      <td>24.0</td>\n",
       "      <td>24.0</td>\n",
       "      <td>0.0</td>\n",
       "      <td>woman</td>\n",
       "    </tr>\n",
       "    <tr>\n",
       "      <th>11</th>\n",
       "      <td>condition_12</td>\n",
       "      <td>12</td>\n",
       "      <td>2</td>\n",
       "      <td>40-44</td>\n",
       "      <td>1.0</td>\n",
       "      <td>2.0</td>\n",
       "      <td>2.0</td>\n",
       "      <td>6-10</td>\n",
       "      <td>2.0</td>\n",
       "      <td>2.0</td>\n",
       "      <td>25.0</td>\n",
       "      <td>21.0</td>\n",
       "      <td>4.0</td>\n",
       "      <td>man</td>\n",
       "    </tr>\n",
       "    <tr>\n",
       "      <th>12</th>\n",
       "      <td>condition_13</td>\n",
       "      <td>14</td>\n",
       "      <td>2</td>\n",
       "      <td>35-39</td>\n",
       "      <td>1.0</td>\n",
       "      <td>2.0</td>\n",
       "      <td>2.0</td>\n",
       "      <td>11-15</td>\n",
       "      <td>2.0</td>\n",
       "      <td>2.0</td>\n",
       "      <td>18.0</td>\n",
       "      <td>13.0</td>\n",
       "      <td>5.0</td>\n",
       "      <td>man</td>\n",
       "    </tr>\n",
       "    <tr>\n",
       "      <th>13</th>\n",
       "      <td>condition_14</td>\n",
       "      <td>14</td>\n",
       "      <td>1</td>\n",
       "      <td>60-64</td>\n",
       "      <td>1.0</td>\n",
       "      <td>2.0</td>\n",
       "      <td>2.0</td>\n",
       "      <td>6-10</td>\n",
       "      <td>2.0</td>\n",
       "      <td>2.0</td>\n",
       "      <td>28.0</td>\n",
       "      <td>19.0</td>\n",
       "      <td>9.0</td>\n",
       "      <td>woman</td>\n",
       "    </tr>\n",
       "    <tr>\n",
       "      <th>14</th>\n",
       "      <td>condition_15</td>\n",
       "      <td>13</td>\n",
       "      <td>2</td>\n",
       "      <td>55-59</td>\n",
       "      <td>2.0</td>\n",
       "      <td>2.0</td>\n",
       "      <td>2.0</td>\n",
       "      <td>11-15</td>\n",
       "      <td>1.0</td>\n",
       "      <td>1.0</td>\n",
       "      <td>14.0</td>\n",
       "      <td>18.0</td>\n",
       "      <td>-4.0</td>\n",
       "      <td>man</td>\n",
       "    </tr>\n",
       "    <tr>\n",
       "      <th>15</th>\n",
       "      <td>condition_16</td>\n",
       "      <td>16</td>\n",
       "      <td>1</td>\n",
       "      <td>45-49</td>\n",
       "      <td>2.0</td>\n",
       "      <td>2.0</td>\n",
       "      <td>2.0</td>\n",
       "      <td>11-15</td>\n",
       "      <td>1.0</td>\n",
       "      <td>2.0</td>\n",
       "      <td>13.0</td>\n",
       "      <td>17.0</td>\n",
       "      <td>-4.0</td>\n",
       "      <td>woman</td>\n",
       "    </tr>\n",
       "    <tr>\n",
       "      <th>16</th>\n",
       "      <td>condition_17</td>\n",
       "      <td>13</td>\n",
       "      <td>1</td>\n",
       "      <td>50-54</td>\n",
       "      <td>1.0</td>\n",
       "      <td>2.0</td>\n",
       "      <td>2.0</td>\n",
       "      <td>6-10</td>\n",
       "      <td>1.0</td>\n",
       "      <td>2.0</td>\n",
       "      <td>17.0</td>\n",
       "      <td>15.0</td>\n",
       "      <td>2.0</td>\n",
       "      <td>woman</td>\n",
       "    </tr>\n",
       "    <tr>\n",
       "      <th>17</th>\n",
       "      <td>condition_18</td>\n",
       "      <td>13</td>\n",
       "      <td>2</td>\n",
       "      <td>40-44</td>\n",
       "      <td>3.0</td>\n",
       "      <td>2.0</td>\n",
       "      <td>2.0</td>\n",
       "      <td>11-15</td>\n",
       "      <td>2.0</td>\n",
       "      <td>2.0</td>\n",
       "      <td>18.0</td>\n",
       "      <td>15.0</td>\n",
       "      <td>3.0</td>\n",
       "      <td>man</td>\n",
       "    </tr>\n",
       "    <tr>\n",
       "      <th>18</th>\n",
       "      <td>condition_19</td>\n",
       "      <td>13</td>\n",
       "      <td>2</td>\n",
       "      <td>50-54</td>\n",
       "      <td>2.0</td>\n",
       "      <td>2.0</td>\n",
       "      <td>1.0</td>\n",
       "      <td>16-20</td>\n",
       "      <td>2.0</td>\n",
       "      <td>2.0</td>\n",
       "      <td>26.0</td>\n",
       "      <td>21.0</td>\n",
       "      <td>5.0</td>\n",
       "      <td>man</td>\n",
       "    </tr>\n",
       "    <tr>\n",
       "      <th>19</th>\n",
       "      <td>condition_20</td>\n",
       "      <td>13</td>\n",
       "      <td>1</td>\n",
       "      <td>30-34</td>\n",
       "      <td>2.0</td>\n",
       "      <td>1.0</td>\n",
       "      <td>1.0</td>\n",
       "      <td>6-10</td>\n",
       "      <td>1.0</td>\n",
       "      <td>2.0</td>\n",
       "      <td>27.0</td>\n",
       "      <td>25.0</td>\n",
       "      <td>2.0</td>\n",
       "      <td>woman</td>\n",
       "    </tr>\n",
       "    <tr>\n",
       "      <th>20</th>\n",
       "      <td>condition_21</td>\n",
       "      <td>13</td>\n",
       "      <td>2</td>\n",
       "      <td>35-39</td>\n",
       "      <td>2.0</td>\n",
       "      <td>2.0</td>\n",
       "      <td>1.0</td>\n",
       "      <td>6-10</td>\n",
       "      <td>2.0</td>\n",
       "      <td>2.0</td>\n",
       "      <td>26.0</td>\n",
       "      <td>21.0</td>\n",
       "      <td>5.0</td>\n",
       "      <td>man</td>\n",
       "    </tr>\n",
       "    <tr>\n",
       "      <th>21</th>\n",
       "      <td>condition_22</td>\n",
       "      <td>14</td>\n",
       "      <td>1</td>\n",
       "      <td>65-69</td>\n",
       "      <td>2.0</td>\n",
       "      <td>2.0</td>\n",
       "      <td>1.0</td>\n",
       "      <td></td>\n",
       "      <td>2.0</td>\n",
       "      <td>2.0</td>\n",
       "      <td>29.0</td>\n",
       "      <td>28.0</td>\n",
       "      <td>1.0</td>\n",
       "      <td>woman</td>\n",
       "    </tr>\n",
       "    <tr>\n",
       "      <th>22</th>\n",
       "      <td>condition_23</td>\n",
       "      <td>16</td>\n",
       "      <td>1</td>\n",
       "      <td>30-34</td>\n",
       "      <td>2.0</td>\n",
       "      <td>2.0</td>\n",
       "      <td>1.0</td>\n",
       "      <td>16-20</td>\n",
       "      <td>2.0</td>\n",
       "      <td>2.0</td>\n",
       "      <td>29.0</td>\n",
       "      <td>23.0</td>\n",
       "      <td>6.0</td>\n",
       "      <td>woman</td>\n",
       "    </tr>\n",
       "  </tbody>\n",
       "</table>\n",
       "</div>"
      ],
      "text/plain": [
       "          number  days  gender    age  afftype  melanch  inpatient    edu  \\\n",
       "0    condition_1    11       2  35-39      2.0      2.0        2.0   6-10   \n",
       "1    condition_2    18       2  40-44      1.0      2.0        2.0   6-10   \n",
       "2    condition_3    13       1  45-49      2.0      2.0        2.0   6-10   \n",
       "3    condition_4    13       2  25-29      2.0      2.0        2.0  11-15   \n",
       "4    condition_5    13       2  50-54      2.0      2.0        2.0  11-15   \n",
       "5    condition_6     7       1  35-39      2.0      2.0        2.0   6-10   \n",
       "6    condition_7    11       1  20-24      1.0      NaN        2.0  11-15   \n",
       "7    condition_8     5       2  25-29      2.0      NaN        2.0  11-15   \n",
       "8    condition_9    13       2  45-49      1.0      NaN        2.0   6-10   \n",
       "9   condition_10     9       2  45-49      2.0      2.0        2.0   6-10   \n",
       "10  condition_11    14       1  45-49      2.0      2.0        2.0   6-10   \n",
       "11  condition_12    12       2  40-44      1.0      2.0        2.0   6-10   \n",
       "12  condition_13    14       2  35-39      1.0      2.0        2.0  11-15   \n",
       "13  condition_14    14       1  60-64      1.0      2.0        2.0   6-10   \n",
       "14  condition_15    13       2  55-59      2.0      2.0        2.0  11-15   \n",
       "15  condition_16    16       1  45-49      2.0      2.0        2.0  11-15   \n",
       "16  condition_17    13       1  50-54      1.0      2.0        2.0   6-10   \n",
       "17  condition_18    13       2  40-44      3.0      2.0        2.0  11-15   \n",
       "18  condition_19    13       2  50-54      2.0      2.0        1.0  16-20   \n",
       "19  condition_20    13       1  30-34      2.0      1.0        1.0   6-10   \n",
       "20  condition_21    13       2  35-39      2.0      2.0        1.0   6-10   \n",
       "21  condition_22    14       1  65-69      2.0      2.0        1.0          \n",
       "22  condition_23    16       1  30-34      2.0      2.0        1.0  16-20   \n",
       "\n",
       "    marriage  work  madrs1  madrs2  madrs3    sex  \n",
       "0        1.0   2.0    19.0    19.0     0.0    man  \n",
       "1        2.0   2.0    24.0    11.0    13.0    man  \n",
       "2        2.0   2.0    24.0    25.0    -1.0  woman  \n",
       "3        1.0   1.0    20.0    16.0     4.0    man  \n",
       "4        2.0   2.0    26.0    26.0     0.0    man  \n",
       "5        1.0   2.0    18.0    15.0     3.0  woman  \n",
       "6        2.0   1.0    24.0    25.0    -1.0  woman  \n",
       "7        1.0   2.0    20.0    16.0     4.0    man  \n",
       "8        1.0   2.0    26.0    26.0     0.0    man  \n",
       "9        1.0   2.0    28.0    21.0     7.0    man  \n",
       "10       1.0   2.0    24.0    24.0     0.0  woman  \n",
       "11       2.0   2.0    25.0    21.0     4.0    man  \n",
       "12       2.0   2.0    18.0    13.0     5.0    man  \n",
       "13       2.0   2.0    28.0    19.0     9.0  woman  \n",
       "14       1.0   1.0    14.0    18.0    -4.0    man  \n",
       "15       1.0   2.0    13.0    17.0    -4.0  woman  \n",
       "16       1.0   2.0    17.0    15.0     2.0  woman  \n",
       "17       2.0   2.0    18.0    15.0     3.0    man  \n",
       "18       2.0   2.0    26.0    21.0     5.0    man  \n",
       "19       1.0   2.0    27.0    25.0     2.0  woman  \n",
       "20       2.0   2.0    26.0    21.0     5.0    man  \n",
       "21       2.0   2.0    29.0    28.0     1.0  woman  \n",
       "22       2.0   2.0    29.0    23.0     6.0  woman  "
      ]
     },
     "execution_count": 87,
     "metadata": {},
     "output_type": "execute_result"
    }
   ],
   "source": []
  },
  {
   "cell_type": "code",
   "execution_count": null,
   "metadata": {},
   "outputs": [],
   "source": []
  },
  {
   "cell_type": "code",
   "execution_count": null,
   "metadata": {},
   "outputs": [],
   "source": []
  },
  {
   "cell_type": "code",
   "execution_count": 71,
   "metadata": {
    "collapsed": true,
    "jupyter": {
     "outputs_hidden": true
    }
   },
   "outputs": [
    {
     "ename": "ValueError",
     "evalue": "The truth value of a Series is ambiguous. Use a.empty, a.bool(), a.item(), a.any() or a.all().",
     "output_type": "error",
     "traceback": [
      "\u001b[1;31m---------------------------------------------------------------------------\u001b[0m",
      "\u001b[1;31mValueError\u001b[0m                                Traceback (most recent call last)",
      "\u001b[1;32m<ipython-input-71-b0da51e89adf>\u001b[0m in \u001b[0;36m<module>\u001b[1;34m\u001b[0m\n\u001b[1;32m----> 1\u001b[1;33m \u001b[0msbn\u001b[0m\u001b[1;33m.\u001b[0m\u001b[0mcatplot\u001b[0m\u001b[1;33m(\u001b[0m\u001b[0mx\u001b[0m\u001b[1;33m=\u001b[0m\u001b[1;34m\"age\"\u001b[0m\u001b[1;33m,\u001b[0m\u001b[0my\u001b[0m\u001b[1;33m=\u001b[0m\u001b[0mdata\u001b[0m\u001b[1;33m.\u001b[0m\u001b[0mgroupby\u001b[0m\u001b[1;33m(\u001b[0m\u001b[1;34m\"age\"\u001b[0m\u001b[1;33m)\u001b[0m\u001b[1;33m[\u001b[0m\u001b[1;34m\"gender\"\u001b[0m\u001b[1;33m]\u001b[0m\u001b[1;33m.\u001b[0m\u001b[0mcount\u001b[0m\u001b[1;33m(\u001b[0m\u001b[1;33m)\u001b[0m\u001b[1;33m,\u001b[0m\u001b[0mdata\u001b[0m\u001b[1;33m=\u001b[0m\u001b[0mdata\u001b[0m\u001b[1;33m)\u001b[0m\u001b[1;33m\u001b[0m\u001b[1;33m\u001b[0m\u001b[0m\n\u001b[0m",
      "\u001b[1;32m~\\anaconda3\\lib\\site-packages\\seaborn\\categorical.py\u001b[0m in \u001b[0;36mcatplot\u001b[1;34m(x, y, hue, data, row, col, col_wrap, estimator, ci, n_boot, units, seed, order, hue_order, row_order, col_order, kind, height, aspect, orient, color, palette, legend, legend_out, sharex, sharey, margin_titles, facet_kws, **kwargs)\u001b[0m\n\u001b[0;32m   3760\u001b[0m \u001b[1;33m\u001b[0m\u001b[0m\n\u001b[0;32m   3761\u001b[0m     \u001b[1;31m# Draw the plot onto the facets\u001b[0m\u001b[1;33m\u001b[0m\u001b[1;33m\u001b[0m\u001b[1;33m\u001b[0m\u001b[0m\n\u001b[1;32m-> 3762\u001b[1;33m     \u001b[0mg\u001b[0m\u001b[1;33m.\u001b[0m\u001b[0mmap_dataframe\u001b[0m\u001b[1;33m(\u001b[0m\u001b[0mplot_func\u001b[0m\u001b[1;33m,\u001b[0m \u001b[0mx\u001b[0m\u001b[1;33m,\u001b[0m \u001b[0my\u001b[0m\u001b[1;33m,\u001b[0m \u001b[0mhue\u001b[0m\u001b[1;33m,\u001b[0m \u001b[1;33m**\u001b[0m\u001b[0mplot_kws\u001b[0m\u001b[1;33m)\u001b[0m\u001b[1;33m\u001b[0m\u001b[1;33m\u001b[0m\u001b[0m\n\u001b[0m\u001b[0;32m   3763\u001b[0m \u001b[1;33m\u001b[0m\u001b[0m\n\u001b[0;32m   3764\u001b[0m     \u001b[1;31m# Special case axis labels for a count type plot\u001b[0m\u001b[1;33m\u001b[0m\u001b[1;33m\u001b[0m\u001b[1;33m\u001b[0m\u001b[0m\n",
      "\u001b[1;32m~\\anaconda3\\lib\\site-packages\\seaborn\\axisgrid.py\u001b[0m in \u001b[0;36mmap_dataframe\u001b[1;34m(self, func, *args, **kwargs)\u001b[0m\n\u001b[0;32m    829\u001b[0m \u001b[1;33m\u001b[0m\u001b[0m\n\u001b[0;32m    830\u001b[0m         \u001b[1;31m# Finalize the annotations and layout\u001b[0m\u001b[1;33m\u001b[0m\u001b[1;33m\u001b[0m\u001b[1;33m\u001b[0m\u001b[0m\n\u001b[1;32m--> 831\u001b[1;33m         \u001b[0mself\u001b[0m\u001b[1;33m.\u001b[0m\u001b[0m_finalize_grid\u001b[0m\u001b[1;33m(\u001b[0m\u001b[0margs\u001b[0m\u001b[1;33m[\u001b[0m\u001b[1;33m:\u001b[0m\u001b[1;36m2\u001b[0m\u001b[1;33m]\u001b[0m\u001b[1;33m)\u001b[0m\u001b[1;33m\u001b[0m\u001b[1;33m\u001b[0m\u001b[0m\n\u001b[0m\u001b[0;32m    832\u001b[0m \u001b[1;33m\u001b[0m\u001b[0m\n\u001b[0;32m    833\u001b[0m         \u001b[1;32mreturn\u001b[0m \u001b[0mself\u001b[0m\u001b[1;33m\u001b[0m\u001b[1;33m\u001b[0m\u001b[0m\n",
      "\u001b[1;32m~\\anaconda3\\lib\\site-packages\\seaborn\\axisgrid.py\u001b[0m in \u001b[0;36m_finalize_grid\u001b[1;34m(self, axlabels)\u001b[0m\n\u001b[0;32m    852\u001b[0m     \u001b[1;32mdef\u001b[0m \u001b[0m_finalize_grid\u001b[0m\u001b[1;33m(\u001b[0m\u001b[0mself\u001b[0m\u001b[1;33m,\u001b[0m \u001b[0maxlabels\u001b[0m\u001b[1;33m)\u001b[0m\u001b[1;33m:\u001b[0m\u001b[1;33m\u001b[0m\u001b[1;33m\u001b[0m\u001b[0m\n\u001b[0;32m    853\u001b[0m         \u001b[1;34m\"\"\"Finalize the annotations and layout.\"\"\"\u001b[0m\u001b[1;33m\u001b[0m\u001b[1;33m\u001b[0m\u001b[0m\n\u001b[1;32m--> 854\u001b[1;33m         \u001b[0mself\u001b[0m\u001b[1;33m.\u001b[0m\u001b[0mset_axis_labels\u001b[0m\u001b[1;33m(\u001b[0m\u001b[1;33m*\u001b[0m\u001b[0maxlabels\u001b[0m\u001b[1;33m)\u001b[0m\u001b[1;33m\u001b[0m\u001b[1;33m\u001b[0m\u001b[0m\n\u001b[0m\u001b[0;32m    855\u001b[0m         \u001b[0mself\u001b[0m\u001b[1;33m.\u001b[0m\u001b[0mset_titles\u001b[0m\u001b[1;33m(\u001b[0m\u001b[1;33m)\u001b[0m\u001b[1;33m\u001b[0m\u001b[1;33m\u001b[0m\u001b[0m\n\u001b[0;32m    856\u001b[0m         \u001b[0mself\u001b[0m\u001b[1;33m.\u001b[0m\u001b[0mfig\u001b[0m\u001b[1;33m.\u001b[0m\u001b[0mtight_layout\u001b[0m\u001b[1;33m(\u001b[0m\u001b[1;33m)\u001b[0m\u001b[1;33m\u001b[0m\u001b[1;33m\u001b[0m\u001b[0m\n",
      "\u001b[1;32m~\\anaconda3\\lib\\site-packages\\seaborn\\axisgrid.py\u001b[0m in \u001b[0;36mset_axis_labels\u001b[1;34m(self, x_var, y_var)\u001b[0m\n\u001b[0;32m    881\u001b[0m         \u001b[1;32mif\u001b[0m \u001b[0my_var\u001b[0m \u001b[1;32mis\u001b[0m \u001b[1;32mnot\u001b[0m \u001b[1;32mNone\u001b[0m\u001b[1;33m:\u001b[0m\u001b[1;33m\u001b[0m\u001b[1;33m\u001b[0m\u001b[0m\n\u001b[0;32m    882\u001b[0m             \u001b[0mself\u001b[0m\u001b[1;33m.\u001b[0m\u001b[0m_y_var\u001b[0m \u001b[1;33m=\u001b[0m \u001b[0my_var\u001b[0m\u001b[1;33m\u001b[0m\u001b[1;33m\u001b[0m\u001b[0m\n\u001b[1;32m--> 883\u001b[1;33m             \u001b[0mself\u001b[0m\u001b[1;33m.\u001b[0m\u001b[0mset_ylabels\u001b[0m\u001b[1;33m(\u001b[0m\u001b[0my_var\u001b[0m\u001b[1;33m)\u001b[0m\u001b[1;33m\u001b[0m\u001b[1;33m\u001b[0m\u001b[0m\n\u001b[0m\u001b[0;32m    884\u001b[0m         \u001b[1;32mreturn\u001b[0m \u001b[0mself\u001b[0m\u001b[1;33m\u001b[0m\u001b[1;33m\u001b[0m\u001b[0m\n\u001b[0;32m    885\u001b[0m \u001b[1;33m\u001b[0m\u001b[0m\n",
      "\u001b[1;32m~\\anaconda3\\lib\\site-packages\\seaborn\\axisgrid.py\u001b[0m in \u001b[0;36mset_ylabels\u001b[1;34m(self, label, **kwargs)\u001b[0m\n\u001b[0;32m    897\u001b[0m             \u001b[0mlabel\u001b[0m \u001b[1;33m=\u001b[0m \u001b[0mself\u001b[0m\u001b[1;33m.\u001b[0m\u001b[0m_y_var\u001b[0m\u001b[1;33m\u001b[0m\u001b[1;33m\u001b[0m\u001b[0m\n\u001b[0;32m    898\u001b[0m         \u001b[1;32mfor\u001b[0m \u001b[0max\u001b[0m \u001b[1;32min\u001b[0m \u001b[0mself\u001b[0m\u001b[1;33m.\u001b[0m\u001b[0m_left_axes\u001b[0m\u001b[1;33m:\u001b[0m\u001b[1;33m\u001b[0m\u001b[1;33m\u001b[0m\u001b[0m\n\u001b[1;32m--> 899\u001b[1;33m             \u001b[0max\u001b[0m\u001b[1;33m.\u001b[0m\u001b[0mset_ylabel\u001b[0m\u001b[1;33m(\u001b[0m\u001b[0mlabel\u001b[0m\u001b[1;33m,\u001b[0m \u001b[1;33m**\u001b[0m\u001b[0mkwargs\u001b[0m\u001b[1;33m)\u001b[0m\u001b[1;33m\u001b[0m\u001b[1;33m\u001b[0m\u001b[0m\n\u001b[0m\u001b[0;32m    900\u001b[0m         \u001b[1;32mreturn\u001b[0m \u001b[0mself\u001b[0m\u001b[1;33m\u001b[0m\u001b[1;33m\u001b[0m\u001b[0m\n\u001b[0;32m    901\u001b[0m \u001b[1;33m\u001b[0m\u001b[0m\n",
      "\u001b[1;32m~\\anaconda3\\lib\\site-packages\\matplotlib\\axes\\_axes.py\u001b[0m in \u001b[0;36mset_ylabel\u001b[1;34m(self, ylabel, fontdict, labelpad, **kwargs)\u001b[0m\n\u001b[0;32m    280\u001b[0m         \u001b[1;32mif\u001b[0m \u001b[0mlabelpad\u001b[0m \u001b[1;32mis\u001b[0m \u001b[1;32mnot\u001b[0m \u001b[1;32mNone\u001b[0m\u001b[1;33m:\u001b[0m\u001b[1;33m\u001b[0m\u001b[1;33m\u001b[0m\u001b[0m\n\u001b[0;32m    281\u001b[0m             \u001b[0mself\u001b[0m\u001b[1;33m.\u001b[0m\u001b[0myaxis\u001b[0m\u001b[1;33m.\u001b[0m\u001b[0mlabelpad\u001b[0m \u001b[1;33m=\u001b[0m \u001b[0mlabelpad\u001b[0m\u001b[1;33m\u001b[0m\u001b[1;33m\u001b[0m\u001b[0m\n\u001b[1;32m--> 282\u001b[1;33m         \u001b[1;32mreturn\u001b[0m \u001b[0mself\u001b[0m\u001b[1;33m.\u001b[0m\u001b[0myaxis\u001b[0m\u001b[1;33m.\u001b[0m\u001b[0mset_label_text\u001b[0m\u001b[1;33m(\u001b[0m\u001b[0mylabel\u001b[0m\u001b[1;33m,\u001b[0m \u001b[0mfontdict\u001b[0m\u001b[1;33m,\u001b[0m \u001b[1;33m**\u001b[0m\u001b[0mkwargs\u001b[0m\u001b[1;33m)\u001b[0m\u001b[1;33m\u001b[0m\u001b[1;33m\u001b[0m\u001b[0m\n\u001b[0m\u001b[0;32m    283\u001b[0m \u001b[1;33m\u001b[0m\u001b[0m\n\u001b[0;32m    284\u001b[0m     \u001b[1;32mdef\u001b[0m \u001b[0mget_legend_handles_labels\u001b[0m\u001b[1;33m(\u001b[0m\u001b[0mself\u001b[0m\u001b[1;33m,\u001b[0m \u001b[0mlegend_handler_map\u001b[0m\u001b[1;33m=\u001b[0m\u001b[1;32mNone\u001b[0m\u001b[1;33m)\u001b[0m\u001b[1;33m:\u001b[0m\u001b[1;33m\u001b[0m\u001b[1;33m\u001b[0m\u001b[0m\n",
      "\u001b[1;32m~\\anaconda3\\lib\\site-packages\\matplotlib\\axis.py\u001b[0m in \u001b[0;36mset_label_text\u001b[1;34m(self, label, fontdict, **kwargs)\u001b[0m\n\u001b[0;32m   1611\u001b[0m         \"\"\"\n\u001b[0;32m   1612\u001b[0m         \u001b[0mself\u001b[0m\u001b[1;33m.\u001b[0m\u001b[0misDefault_label\u001b[0m \u001b[1;33m=\u001b[0m \u001b[1;32mFalse\u001b[0m\u001b[1;33m\u001b[0m\u001b[1;33m\u001b[0m\u001b[0m\n\u001b[1;32m-> 1613\u001b[1;33m         \u001b[0mself\u001b[0m\u001b[1;33m.\u001b[0m\u001b[0mlabel\u001b[0m\u001b[1;33m.\u001b[0m\u001b[0mset_text\u001b[0m\u001b[1;33m(\u001b[0m\u001b[0mlabel\u001b[0m\u001b[1;33m)\u001b[0m\u001b[1;33m\u001b[0m\u001b[1;33m\u001b[0m\u001b[0m\n\u001b[0m\u001b[0;32m   1614\u001b[0m         \u001b[1;32mif\u001b[0m \u001b[0mfontdict\u001b[0m \u001b[1;32mis\u001b[0m \u001b[1;32mnot\u001b[0m \u001b[1;32mNone\u001b[0m\u001b[1;33m:\u001b[0m\u001b[1;33m\u001b[0m\u001b[1;33m\u001b[0m\u001b[0m\n\u001b[0;32m   1615\u001b[0m             \u001b[0mself\u001b[0m\u001b[1;33m.\u001b[0m\u001b[0mlabel\u001b[0m\u001b[1;33m.\u001b[0m\u001b[0mupdate\u001b[0m\u001b[1;33m(\u001b[0m\u001b[0mfontdict\u001b[0m\u001b[1;33m)\u001b[0m\u001b[1;33m\u001b[0m\u001b[1;33m\u001b[0m\u001b[0m\n",
      "\u001b[1;32m~\\anaconda3\\lib\\site-packages\\matplotlib\\text.py\u001b[0m in \u001b[0;36mset_text\u001b[1;34m(self, s)\u001b[0m\n\u001b[0;32m   1163\u001b[0m         \u001b[1;32mif\u001b[0m \u001b[0ms\u001b[0m \u001b[1;32mis\u001b[0m \u001b[1;32mNone\u001b[0m\u001b[1;33m:\u001b[0m\u001b[1;33m\u001b[0m\u001b[1;33m\u001b[0m\u001b[0m\n\u001b[0;32m   1164\u001b[0m             \u001b[0ms\u001b[0m \u001b[1;33m=\u001b[0m \u001b[1;34m''\u001b[0m\u001b[1;33m\u001b[0m\u001b[1;33m\u001b[0m\u001b[0m\n\u001b[1;32m-> 1165\u001b[1;33m         \u001b[1;32mif\u001b[0m \u001b[0ms\u001b[0m \u001b[1;33m!=\u001b[0m \u001b[0mself\u001b[0m\u001b[1;33m.\u001b[0m\u001b[0m_text\u001b[0m\u001b[1;33m:\u001b[0m\u001b[1;33m\u001b[0m\u001b[1;33m\u001b[0m\u001b[0m\n\u001b[0m\u001b[0;32m   1166\u001b[0m             \u001b[0mself\u001b[0m\u001b[1;33m.\u001b[0m\u001b[0m_text\u001b[0m \u001b[1;33m=\u001b[0m \u001b[0mstr\u001b[0m\u001b[1;33m(\u001b[0m\u001b[0ms\u001b[0m\u001b[1;33m)\u001b[0m\u001b[1;33m\u001b[0m\u001b[1;33m\u001b[0m\u001b[0m\n\u001b[0;32m   1167\u001b[0m             \u001b[0mself\u001b[0m\u001b[1;33m.\u001b[0m\u001b[0mstale\u001b[0m \u001b[1;33m=\u001b[0m \u001b[1;32mTrue\u001b[0m\u001b[1;33m\u001b[0m\u001b[1;33m\u001b[0m\u001b[0m\n",
      "\u001b[1;32m~\\anaconda3\\lib\\site-packages\\pandas\\core\\generic.py\u001b[0m in \u001b[0;36m__nonzero__\u001b[1;34m(self)\u001b[0m\n\u001b[0;32m   1476\u001b[0m \u001b[1;33m\u001b[0m\u001b[0m\n\u001b[0;32m   1477\u001b[0m     \u001b[1;32mdef\u001b[0m \u001b[0m__nonzero__\u001b[0m\u001b[1;33m(\u001b[0m\u001b[0mself\u001b[0m\u001b[1;33m)\u001b[0m\u001b[1;33m:\u001b[0m\u001b[1;33m\u001b[0m\u001b[1;33m\u001b[0m\u001b[0m\n\u001b[1;32m-> 1478\u001b[1;33m         raise ValueError(\n\u001b[0m\u001b[0;32m   1479\u001b[0m             \u001b[1;34mf\"The truth value of a {type(self).__name__} is ambiguous. \"\u001b[0m\u001b[1;33m\u001b[0m\u001b[1;33m\u001b[0m\u001b[0m\n\u001b[0;32m   1480\u001b[0m             \u001b[1;34m\"Use a.empty, a.bool(), a.item(), a.any() or a.all().\"\u001b[0m\u001b[1;33m\u001b[0m\u001b[1;33m\u001b[0m\u001b[0m\n",
      "\u001b[1;31mValueError\u001b[0m: The truth value of a Series is ambiguous. Use a.empty, a.bool(), a.item(), a.any() or a.all()."
     ]
    },
    {
     "data": {
      "image/png": "[encoded data removed]",
      "text/plain": [
       "<Figure size 360x360 with 1 Axes>"
      ]
     },
     "metadata": {
      "needs_background": "light"
     },
     "output_type": "display_data"
    }
   ],
   "source": [
    "sbn.catplot(x=\"age\",y=data.groupby(\"age\")[\"gender\"].count(),data=data)"
   ]
  },
  {
   "cell_type": "code",
   "execution_count": 69,
   "metadata": {},
   "outputs": [
    {
     "data": {
      "text/plain": [
       "age\n",
       "20-24    6\n",
       "25-29    7\n",
       "30-34    7\n",
       "35-39    7\n",
       "40-44    5\n",
       "45-49    9\n",
       "50-54    9\n",
       "55-59    1\n",
       "60-64    2\n",
       "65-69    2\n",
       "Name: gender, dtype: int64"
      ]
     },
     "execution_count": 69,
     "metadata": {},
     "output_type": "execute_result"
    }
   ],
   "source": [
    "data.groupby(\"age\")[\"gender\"].count()"
   ]
  },
  {
   "cell_type": "code",
   "execution_count": 80,
   "metadata": {},
   "outputs": [
    {
     "data": {
      "text/plain": [
       "[<matplotlib.lines.Line2D at 0x1df4730dd90>]"
      ]
     },
     "execution_count": 80,
     "metadata": {},
     "output_type": "execute_result"
    },
    {
     "data": {
      "image/png": "[encoded data removed]",
      "text/plain": [
       "<Figure size 432x288 with 1 Axes>"
      ]
     },
     "metadata": {
      "needs_background": "light"
     },
     "output_type": "display_data"
    }
   ],
   "source": []
  },
  {
   "cell_type": "code",
   "execution_count": 79,
   "metadata": {},
   "outputs": [
    {
     "data": {
      "text/plain": [
       "array(['35-39', '40-44', '45-49', '25-29', '50-54', '20-24', '60-64',\n",
       "       '55-59', '30-34', '65-69'], dtype=object)"
      ]
     },
     "execution_count": 79,
     "metadata": {},
     "output_type": "execute_result"
    }
   ],
   "source": [
    "data[\"age\"].unique()"
   ]
  },
  {
   "cell_type": "code",
   "execution_count": null,
   "metadata": {},
   "outputs": [],
   "source": []
  },
  {
   "cell_type": "code",
   "execution_count": null,
   "metadata": {},
   "outputs": [],
   "source": []
  },
  {
   "cell_type": "code",
   "execution_count": null,
   "metadata": {},
   "outputs": [],
   "source": []
  },
  {
   "cell_type": "code",
   "execution_count": 54,
   "metadata": {},
   "outputs": [
    {
     "data": {
      "text/html": [
       "<div>\n",
       "<style scoped>\n",
       "    .dataframe tbody tr th:only-of-type {\n",
       "        vertical-align: middle;\n",
       "    }\n",
       "\n",
       "    .dataframe tbody tr th {\n",
       "        vertical-align: top;\n",
       "    }\n",
       "\n",
       "    .dataframe thead th {\n",
       "        text-align: right;\n",
       "    }\n",
       "</style>\n",
       "<table border=\"1\" class=\"dataframe\">\n",
       "  <thead>\n",
       "    <tr style=\"text-align: right;\">\n",
       "      <th></th>\n",
       "      <th>number</th>\n",
       "      <th>days</th>\n",
       "      <th>gender</th>\n",
       "      <th>age</th>\n",
       "      <th>afftype</th>\n",
       "      <th>melanch</th>\n",
       "      <th>inpatient</th>\n",
       "      <th>edu</th>\n",
       "      <th>marriage</th>\n",
       "      <th>work</th>\n",
       "      <th>madrs1</th>\n",
       "      <th>madrs2</th>\n",
       "      <th>madrs3</th>\n",
       "      <th>sex</th>\n",
       "    </tr>\n",
       "  </thead>\n",
       "  <tbody>\n",
       "    <tr>\n",
       "      <th>0</th>\n",
       "      <td>condition_1</td>\n",
       "      <td>11</td>\n",
       "      <td>2</td>\n",
       "      <td>35-39</td>\n",
       "      <td>2.0</td>\n",
       "      <td>2.0</td>\n",
       "      <td>2.0</td>\n",
       "      <td>6-10</td>\n",
       "      <td>1.0</td>\n",
       "      <td>2.0</td>\n",
       "      <td>19.0</td>\n",
       "      <td>19.0</td>\n",
       "      <td>0.0</td>\n",
       "      <td>man</td>\n",
       "    </tr>\n",
       "    <tr>\n",
       "      <th>1</th>\n",
       "      <td>condition_2</td>\n",
       "      <td>18</td>\n",
       "      <td>2</td>\n",
       "      <td>40-44</td>\n",
       "      <td>1.0</td>\n",
       "      <td>2.0</td>\n",
       "      <td>2.0</td>\n",
       "      <td>6-10</td>\n",
       "      <td>2.0</td>\n",
       "      <td>2.0</td>\n",
       "      <td>24.0</td>\n",
       "      <td>11.0</td>\n",
       "      <td>13.0</td>\n",
       "      <td>man</td>\n",
       "    </tr>\n",
       "    <tr>\n",
       "      <th>2</th>\n",
       "      <td>condition_3</td>\n",
       "      <td>13</td>\n",
       "      <td>1</td>\n",
       "      <td>45-49</td>\n",
       "      <td>2.0</td>\n",
       "      <td>2.0</td>\n",
       "      <td>2.0</td>\n",
       "      <td>6-10</td>\n",
       "      <td>2.0</td>\n",
       "      <td>2.0</td>\n",
       "      <td>24.0</td>\n",
       "      <td>25.0</td>\n",
       "      <td>-1.0</td>\n",
       "      <td>woman</td>\n",
       "    </tr>\n",
       "    <tr>\n",
       "      <th>3</th>\n",
       "      <td>condition_4</td>\n",
       "      <td>13</td>\n",
       "      <td>2</td>\n",
       "      <td>25-29</td>\n",
       "      <td>2.0</td>\n",
       "      <td>2.0</td>\n",
       "      <td>2.0</td>\n",
       "      <td>11-15</td>\n",
       "      <td>1.0</td>\n",
       "      <td>1.0</td>\n",
       "      <td>20.0</td>\n",
       "      <td>16.0</td>\n",
       "      <td>4.0</td>\n",
       "      <td>man</td>\n",
       "    </tr>\n",
       "    <tr>\n",
       "      <th>4</th>\n",
       "      <td>condition_5</td>\n",
       "      <td>13</td>\n",
       "      <td>2</td>\n",
       "      <td>50-54</td>\n",
       "      <td>2.0</td>\n",
       "      <td>2.0</td>\n",
       "      <td>2.0</td>\n",
       "      <td>11-15</td>\n",
       "      <td>2.0</td>\n",
       "      <td>2.0</td>\n",
       "      <td>26.0</td>\n",
       "      <td>26.0</td>\n",
       "      <td>0.0</td>\n",
       "      <td>man</td>\n",
       "    </tr>\n",
       "  </tbody>\n",
       "</table>\n",
       "</div>"
      ],
      "text/plain": [
       "        number  days  gender    age  afftype  melanch  inpatient    edu  \\\n",
       "0  condition_1    11       2  35-39      2.0      2.0        2.0   6-10   \n",
       "1  condition_2    18       2  40-44      1.0      2.0        2.0   6-10   \n",
       "2  condition_3    13       1  45-49      2.0      2.0        2.0   6-10   \n",
       "3  condition_4    13       2  25-29      2.0      2.0        2.0  11-15   \n",
       "4  condition_5    13       2  50-54      2.0      2.0        2.0  11-15   \n",
       "\n",
       "   marriage  work  madrs1  madrs2  madrs3    sex  \n",
       "0       1.0   2.0    19.0    19.0     0.0    man  \n",
       "1       2.0   2.0    24.0    11.0    13.0    man  \n",
       "2       2.0   2.0    24.0    25.0    -1.0  woman  \n",
       "3       1.0   1.0    20.0    16.0     4.0    man  \n",
       "4       2.0   2.0    26.0    26.0     0.0    man  "
      ]
     },
     "execution_count": 54,
     "metadata": {},
     "output_type": "execute_result"
    }
   ],
   "source": [
    "data.head()"
   ]
  },
  {
   "cell_type": "code",
   "execution_count": 66,
   "metadata": {},
   "outputs": [
    {
     "data": {
      "text/plain": [
       "RangeIndex(start=0, stop=55, step=1)"
      ]
     },
     "execution_count": 66,
     "metadata": {},
     "output_type": "execute_result"
    }
   ],
   "source": [
    "data[\"age\"].index"
   ]
  },
  {
   "cell_type": "code",
   "execution_count": null,
   "metadata": {},
   "outputs": [],
   "source": []
  }
 ],
 "metadata": {
  "kernelspec": {
   "display_name": "PyCharm (PythonProjeleri)",
   "language": "python",
   "name": "pycharm-a9edda46"
  },
  "language_info": {
   "codemirror_mode": {
    "name": "ipython",
    "version": 3
   },
   "file_extension": ".py",
   "mimetype": "text/x-python",
   "name": "python",
   "nbconvert_exporter": "python",
   "pygments_lexer": "ipython3",
   "version": "3.8.3"
  }
 },
 "nbformat": 4,
 "nbformat_minor": 4
}
