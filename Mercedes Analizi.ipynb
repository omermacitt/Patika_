{
 "cells": [
  {
   "cell_type": "markdown",
   "metadata": {},
   "source": [
    "# Kütüphane Yüklemeleri"
   ]
  },
  {
   "cell_type": "code",
   "execution_count": 1,
   "metadata": {},
   "outputs": [],
   "source": [
    "import pandas as pd\n",
    "import numpy as np\n",
    "import seaborn as sbn\n",
    "import matplotlib.pyplot as plt\n",
    "import os\n",
    "os.chdir(\"C:/Users/omerm/OneDrive/Masaüstü\")"
   ]
  },
  {
   "cell_type": "markdown",
   "metadata": {},
   "source": [
    "# Veri Seti hakkında bilgilendirme"
   ]
  },
  {
   "cell_type": "markdown",
   "metadata": {},
   "source": [
    "model=Arabanın modeli\n",
    "\n",
    "year=üretim tarihi\n",
    "\n",
    "price=Arabanın fiyatı\n",
    "\n",
    "transmission=Vites türü\n",
    "\n",
    "mileage=Mil\n",
    "\n",
    "fuelType=Yakıt türü\n",
    "\n",
    "tax=vergi\n",
    "\n",
    "mpg=mil başına tükettiği benzin(galon cinsinden)\n",
    "\n",
    "engineSize=Motor boyutu"
   ]
  },
  {
   "cell_type": "markdown",
   "metadata": {},
   "source": [
    "# Veri yükleme"
   ]
  },
  {
   "cell_type": "code",
   "execution_count": 2,
   "metadata": {},
   "outputs": [],
   "source": [
    "df=pd.read_csv(\"merc.csv\")\n",
    "data=df.copy()"
   ]
  },
  {
   "cell_type": "code",
   "execution_count": 3,
   "metadata": {},
   "outputs": [
    {
     "data": {
      "text/html": [
       "<div>\n",
       "<style scoped>\n",
       "    .dataframe tbody tr th:only-of-type {\n",
       "        vertical-align: middle;\n",
       "    }\n",
       "\n",
       "    .dataframe tbody tr th {\n",
       "        vertical-align: top;\n",
       "    }\n",
       "\n",
       "    .dataframe thead th {\n",
       "        text-align: right;\n",
       "    }\n",
       "</style>\n",
       "<table border=\"1\" class=\"dataframe\">\n",
       "  <thead>\n",
       "    <tr style=\"text-align: right;\">\n",
       "      <th></th>\n",
       "      <th>model</th>\n",
       "      <th>year</th>\n",
       "      <th>price</th>\n",
       "      <th>transmission</th>\n",
       "      <th>mileage</th>\n",
       "      <th>fuelType</th>\n",
       "      <th>tax</th>\n",
       "      <th>mpg</th>\n",
       "      <th>engineSize</th>\n",
       "    </tr>\n",
       "  </thead>\n",
       "  <tbody>\n",
       "    <tr>\n",
       "      <th>0</th>\n",
       "      <td>SLK</td>\n",
       "      <td>2005</td>\n",
       "      <td>5200</td>\n",
       "      <td>Automatic</td>\n",
       "      <td>63000</td>\n",
       "      <td>Petrol</td>\n",
       "      <td>325</td>\n",
       "      <td>32.1</td>\n",
       "      <td>1.8</td>\n",
       "    </tr>\n",
       "    <tr>\n",
       "      <th>1</th>\n",
       "      <td>S Class</td>\n",
       "      <td>2017</td>\n",
       "      <td>34948</td>\n",
       "      <td>Automatic</td>\n",
       "      <td>27000</td>\n",
       "      <td>Hybrid</td>\n",
       "      <td>20</td>\n",
       "      <td>61.4</td>\n",
       "      <td>2.1</td>\n",
       "    </tr>\n",
       "    <tr>\n",
       "      <th>2</th>\n",
       "      <td>SL CLASS</td>\n",
       "      <td>2016</td>\n",
       "      <td>49948</td>\n",
       "      <td>Automatic</td>\n",
       "      <td>6200</td>\n",
       "      <td>Petrol</td>\n",
       "      <td>555</td>\n",
       "      <td>28.0</td>\n",
       "      <td>5.5</td>\n",
       "    </tr>\n",
       "    <tr>\n",
       "      <th>3</th>\n",
       "      <td>G Class</td>\n",
       "      <td>2016</td>\n",
       "      <td>61948</td>\n",
       "      <td>Automatic</td>\n",
       "      <td>16000</td>\n",
       "      <td>Petrol</td>\n",
       "      <td>325</td>\n",
       "      <td>30.4</td>\n",
       "      <td>4.0</td>\n",
       "    </tr>\n",
       "    <tr>\n",
       "      <th>4</th>\n",
       "      <td>G Class</td>\n",
       "      <td>2016</td>\n",
       "      <td>73948</td>\n",
       "      <td>Automatic</td>\n",
       "      <td>4000</td>\n",
       "      <td>Petrol</td>\n",
       "      <td>325</td>\n",
       "      <td>30.1</td>\n",
       "      <td>4.0</td>\n",
       "    </tr>\n",
       "  </tbody>\n",
       "</table>\n",
       "</div>"
      ],
      "text/plain": [
       "       model  year  price transmission  mileage fuelType  tax   mpg  \\\n",
       "0        SLK  2005   5200    Automatic    63000   Petrol  325  32.1   \n",
       "1    S Class  2017  34948    Automatic    27000   Hybrid   20  61.4   \n",
       "2   SL CLASS  2016  49948    Automatic     6200   Petrol  555  28.0   \n",
       "3    G Class  2016  61948    Automatic    16000   Petrol  325  30.4   \n",
       "4    G Class  2016  73948    Automatic     4000   Petrol  325  30.1   \n",
       "\n",
       "   engineSize  \n",
       "0         1.8  \n",
       "1         2.1  \n",
       "2         5.5  \n",
       "3         4.0  \n",
       "4         4.0  "
      ]
     },
     "execution_count": 3,
     "metadata": {},
     "output_type": "execute_result"
    }
   ],
   "source": [
    "data.head()"
   ]
  },
  {
   "cell_type": "code",
   "execution_count": 4,
   "metadata": {},
   "outputs": [
    {
     "name": "stdout",
     "output_type": "stream",
     "text": [
      "<class 'pandas.core.frame.DataFrame'>\n",
      "RangeIndex: 13119 entries, 0 to 13118\n",
      "Data columns (total 9 columns):\n",
      " #   Column        Non-Null Count  Dtype  \n",
      "---  ------        --------------  -----  \n",
      " 0   model         13119 non-null  object \n",
      " 1   year          13119 non-null  int64  \n",
      " 2   price         13119 non-null  int64  \n",
      " 3   transmission  13119 non-null  object \n",
      " 4   mileage       13119 non-null  int64  \n",
      " 5   fuelType      13119 non-null  object \n",
      " 6   tax           13119 non-null  int64  \n",
      " 7   mpg           13119 non-null  float64\n",
      " 8   engineSize    13119 non-null  float64\n",
      "dtypes: float64(2), int64(4), object(3)\n",
      "memory usage: 922.6+ KB\n"
     ]
    }
   ],
   "source": [
    "data.info()"
   ]
  },
  {
   "cell_type": "markdown",
   "metadata": {},
   "source": [
    "### Eksik veri var mı ?"
   ]
  },
  {
   "cell_type": "code",
   "execution_count": 5,
   "metadata": {},
   "outputs": [
    {
     "data": {
      "text/plain": [
       "model           0\n",
       "year            0\n",
       "price           0\n",
       "transmission    0\n",
       "mileage         0\n",
       "fuelType        0\n",
       "tax             0\n",
       "mpg             0\n",
       "engineSize      0\n",
       "dtype: int64"
      ]
     },
     "execution_count": 5,
     "metadata": {},
     "output_type": "execute_result"
    }
   ],
   "source": [
    "data.isnull().sum()"
   ]
  },
  {
   "cell_type": "code",
   "execution_count": 6,
   "metadata": {},
   "outputs": [
    {
     "data": {
      "text/html": [
       "<div>\n",
       "<style scoped>\n",
       "    .dataframe tbody tr th:only-of-type {\n",
       "        vertical-align: middle;\n",
       "    }\n",
       "\n",
       "    .dataframe tbody tr th {\n",
       "        vertical-align: top;\n",
       "    }\n",
       "\n",
       "    .dataframe thead th {\n",
       "        text-align: right;\n",
       "    }\n",
       "</style>\n",
       "<table border=\"1\" class=\"dataframe\">\n",
       "  <thead>\n",
       "    <tr style=\"text-align: right;\">\n",
       "      <th></th>\n",
       "      <th>count</th>\n",
       "      <th>mean</th>\n",
       "      <th>std</th>\n",
       "      <th>min</th>\n",
       "      <th>25%</th>\n",
       "      <th>50%</th>\n",
       "      <th>75%</th>\n",
       "      <th>max</th>\n",
       "    </tr>\n",
       "  </thead>\n",
       "  <tbody>\n",
       "    <tr>\n",
       "      <th>year</th>\n",
       "      <td>13119.0</td>\n",
       "      <td>2017.296288</td>\n",
       "      <td>2.224709</td>\n",
       "      <td>1970.0</td>\n",
       "      <td>2016.0</td>\n",
       "      <td>2018.0</td>\n",
       "      <td>2019.0</td>\n",
       "      <td>2020.0</td>\n",
       "    </tr>\n",
       "    <tr>\n",
       "      <th>price</th>\n",
       "      <td>13119.0</td>\n",
       "      <td>24698.596920</td>\n",
       "      <td>11842.675542</td>\n",
       "      <td>650.0</td>\n",
       "      <td>17450.0</td>\n",
       "      <td>22480.0</td>\n",
       "      <td>28980.0</td>\n",
       "      <td>159999.0</td>\n",
       "    </tr>\n",
       "    <tr>\n",
       "      <th>mileage</th>\n",
       "      <td>13119.0</td>\n",
       "      <td>21949.559037</td>\n",
       "      <td>21176.512267</td>\n",
       "      <td>1.0</td>\n",
       "      <td>6097.5</td>\n",
       "      <td>15189.0</td>\n",
       "      <td>31779.5</td>\n",
       "      <td>259000.0</td>\n",
       "    </tr>\n",
       "    <tr>\n",
       "      <th>tax</th>\n",
       "      <td>13119.0</td>\n",
       "      <td>129.972178</td>\n",
       "      <td>65.260286</td>\n",
       "      <td>0.0</td>\n",
       "      <td>125.0</td>\n",
       "      <td>145.0</td>\n",
       "      <td>145.0</td>\n",
       "      <td>580.0</td>\n",
       "    </tr>\n",
       "    <tr>\n",
       "      <th>mpg</th>\n",
       "      <td>13119.0</td>\n",
       "      <td>55.155843</td>\n",
       "      <td>15.220082</td>\n",
       "      <td>1.1</td>\n",
       "      <td>45.6</td>\n",
       "      <td>56.5</td>\n",
       "      <td>64.2</td>\n",
       "      <td>217.3</td>\n",
       "    </tr>\n",
       "    <tr>\n",
       "      <th>engineSize</th>\n",
       "      <td>13119.0</td>\n",
       "      <td>2.071530</td>\n",
       "      <td>0.572426</td>\n",
       "      <td>0.0</td>\n",
       "      <td>1.8</td>\n",
       "      <td>2.0</td>\n",
       "      <td>2.1</td>\n",
       "      <td>6.2</td>\n",
       "    </tr>\n",
       "  </tbody>\n",
       "</table>\n",
       "</div>"
      ],
      "text/plain": [
       "              count          mean           std     min      25%      50%  \\\n",
       "year        13119.0   2017.296288      2.224709  1970.0   2016.0   2018.0   \n",
       "price       13119.0  24698.596920  11842.675542   650.0  17450.0  22480.0   \n",
       "mileage     13119.0  21949.559037  21176.512267     1.0   6097.5  15189.0   \n",
       "tax         13119.0    129.972178     65.260286     0.0    125.0    145.0   \n",
       "mpg         13119.0     55.155843     15.220082     1.1     45.6     56.5   \n",
       "engineSize  13119.0      2.071530      0.572426     0.0      1.8      2.0   \n",
       "\n",
       "                75%       max  \n",
       "year         2019.0    2020.0  \n",
       "price       28980.0  159999.0  \n",
       "mileage     31779.5  259000.0  \n",
       "tax           145.0     580.0  \n",
       "mpg            64.2     217.3  \n",
       "engineSize      2.1       6.2  "
      ]
     },
     "execution_count": 6,
     "metadata": {},
     "output_type": "execute_result"
    }
   ],
   "source": [
    "data.describe().T"
   ]
  },
  {
   "cell_type": "code",
   "execution_count": 7,
   "metadata": {},
   "outputs": [],
   "source": [
    "import researchpy as rp"
   ]
  },
  {
   "cell_type": "code",
   "execution_count": 8,
   "metadata": {},
   "outputs": [
    {
     "name": "stdout",
     "output_type": "stream",
     "text": [
      "\n",
      "\n"
     ]
    },
    {
     "data": {
      "text/html": [
       "<div>\n",
       "<style scoped>\n",
       "    .dataframe tbody tr th:only-of-type {\n",
       "        vertical-align: middle;\n",
       "    }\n",
       "\n",
       "    .dataframe tbody tr th {\n",
       "        vertical-align: top;\n",
       "    }\n",
       "\n",
       "    .dataframe thead th {\n",
       "        text-align: right;\n",
       "    }\n",
       "</style>\n",
       "<table border=\"1\" class=\"dataframe\">\n",
       "  <thead>\n",
       "    <tr style=\"text-align: right;\">\n",
       "      <th></th>\n",
       "      <th>Variable</th>\n",
       "      <th>N</th>\n",
       "      <th>Mean</th>\n",
       "      <th>SD</th>\n",
       "      <th>SE</th>\n",
       "      <th>95% Conf.</th>\n",
       "      <th>Interval</th>\n",
       "    </tr>\n",
       "  </thead>\n",
       "  <tbody>\n",
       "    <tr>\n",
       "      <th>0</th>\n",
       "      <td>year</td>\n",
       "      <td>13119.0</td>\n",
       "      <td>2017.2963</td>\n",
       "      <td>2.2247</td>\n",
       "      <td>0.0194</td>\n",
       "      <td>2017.2582</td>\n",
       "      <td>2017.3344</td>\n",
       "    </tr>\n",
       "    <tr>\n",
       "      <th>1</th>\n",
       "      <td>price</td>\n",
       "      <td>13119.0</td>\n",
       "      <td>24698.5969</td>\n",
       "      <td>11842.6755</td>\n",
       "      <td>103.3950</td>\n",
       "      <td>24495.9278</td>\n",
       "      <td>24901.2661</td>\n",
       "    </tr>\n",
       "    <tr>\n",
       "      <th>2</th>\n",
       "      <td>mileage</td>\n",
       "      <td>13119.0</td>\n",
       "      <td>21949.5590</td>\n",
       "      <td>21176.5123</td>\n",
       "      <td>184.8860</td>\n",
       "      <td>21587.1557</td>\n",
       "      <td>22311.9624</td>\n",
       "    </tr>\n",
       "    <tr>\n",
       "      <th>3</th>\n",
       "      <td>tax</td>\n",
       "      <td>13119.0</td>\n",
       "      <td>129.9722</td>\n",
       "      <td>65.2603</td>\n",
       "      <td>0.5698</td>\n",
       "      <td>128.8553</td>\n",
       "      <td>131.0890</td>\n",
       "    </tr>\n",
       "    <tr>\n",
       "      <th>4</th>\n",
       "      <td>mpg</td>\n",
       "      <td>13119.0</td>\n",
       "      <td>55.1558</td>\n",
       "      <td>15.2201</td>\n",
       "      <td>0.1329</td>\n",
       "      <td>54.8954</td>\n",
       "      <td>55.4163</td>\n",
       "    </tr>\n",
       "    <tr>\n",
       "      <th>5</th>\n",
       "      <td>engineSize</td>\n",
       "      <td>13119.0</td>\n",
       "      <td>2.0715</td>\n",
       "      <td>0.5724</td>\n",
       "      <td>0.0050</td>\n",
       "      <td>2.0617</td>\n",
       "      <td>2.0813</td>\n",
       "    </tr>\n",
       "  </tbody>\n",
       "</table>\n",
       "</div>"
      ],
      "text/plain": [
       "     Variable        N        Mean          SD        SE   95% Conf.  \\\n",
       "0        year  13119.0   2017.2963      2.2247    0.0194   2017.2582   \n",
       "1       price  13119.0  24698.5969  11842.6755  103.3950  24495.9278   \n",
       "2     mileage  13119.0  21949.5590  21176.5123  184.8860  21587.1557   \n",
       "3         tax  13119.0    129.9722     65.2603    0.5698    128.8553   \n",
       "4         mpg  13119.0     55.1558     15.2201    0.1329     54.8954   \n",
       "5  engineSize  13119.0      2.0715      0.5724    0.0050      2.0617   \n",
       "\n",
       "     Interval  \n",
       "0   2017.3344  \n",
       "1  24901.2661  \n",
       "2  22311.9624  \n",
       "3    131.0890  \n",
       "4     55.4163  \n",
       "5      2.0813  "
      ]
     },
     "execution_count": 8,
     "metadata": {},
     "output_type": "execute_result"
    }
   ],
   "source": [
    "rp.summary_cont(data.select_dtypes(include=[\"int64\",\"float64\"]))"
   ]
  },
  {
   "cell_type": "code",
   "execution_count": 74,
   "metadata": {},
   "outputs": [],
   "source": [
    "import scipy.stats as stat\n",
    "varianca=stat.describe(data.select_dtypes(include=[\"float64\",\"int64\"]))[3]\n",
    "skewness=stat.describe(data.select_dtypes(include=[\"float64\",\"int64\"]))[4]\n",
    "kurtosis=stat.describe(data.select_dtypes(include=[\"float64\",\"int64\"]))[5]"
   ]
  },
  {
   "cell_type": "code",
   "execution_count": 76,
   "metadata": {},
   "outputs": [
    {
     "data": {
      "text/html": [
       "<div>\n",
       "<style scoped>\n",
       "    .dataframe tbody tr th:only-of-type {\n",
       "        vertical-align: middle;\n",
       "    }\n",
       "\n",
       "    .dataframe tbody tr th {\n",
       "        vertical-align: top;\n",
       "    }\n",
       "\n",
       "    .dataframe thead th {\n",
       "        text-align: right;\n",
       "    }\n",
       "</style>\n",
       "<table border=\"1\" class=\"dataframe\">\n",
       "  <thead>\n",
       "    <tr style=\"text-align: right;\">\n",
       "      <th></th>\n",
       "      <th>count</th>\n",
       "      <th>mean</th>\n",
       "      <th>std</th>\n",
       "      <th>min</th>\n",
       "      <th>5%</th>\n",
       "      <th>10%</th>\n",
       "      <th>25%</th>\n",
       "      <th>30%</th>\n",
       "      <th>50%</th>\n",
       "      <th>75%</th>\n",
       "      <th>90%</th>\n",
       "      <th>max</th>\n",
       "      <th>variance</th>\n",
       "      <th>skewness</th>\n",
       "      <th>kurtosis</th>\n",
       "    </tr>\n",
       "  </thead>\n",
       "  <tbody>\n",
       "    <tr>\n",
       "      <th>year</th>\n",
       "      <td>13119.0</td>\n",
       "      <td>2017.296288</td>\n",
       "      <td>2.224709</td>\n",
       "      <td>1970.0</td>\n",
       "      <td>2014.0</td>\n",
       "      <td>2015.0</td>\n",
       "      <td>2016.0</td>\n",
       "      <td>2016.0</td>\n",
       "      <td>2018.0</td>\n",
       "      <td>2019.0</td>\n",
       "      <td>2019.0</td>\n",
       "      <td>2020.0</td>\n",
       "      <td>4.949331e+00</td>\n",
       "      <td>-2.897231</td>\n",
       "      <td>25.846402</td>\n",
       "    </tr>\n",
       "    <tr>\n",
       "      <th>price</th>\n",
       "      <td>13119.0</td>\n",
       "      <td>24698.596920</td>\n",
       "      <td>11842.675542</td>\n",
       "      <td>650.0</td>\n",
       "      <td>11649.0</td>\n",
       "      <td>13868.4</td>\n",
       "      <td>17450.0</td>\n",
       "      <td>18449.0</td>\n",
       "      <td>22480.0</td>\n",
       "      <td>28980.0</td>\n",
       "      <td>38000.0</td>\n",
       "      <td>159999.0</td>\n",
       "      <td>1.402490e+08</td>\n",
       "      <td>2.650461</td>\n",
       "      <td>15.441843</td>\n",
       "    </tr>\n",
       "    <tr>\n",
       "      <th>mileage</th>\n",
       "      <td>13119.0</td>\n",
       "      <td>21949.559037</td>\n",
       "      <td>21176.512267</td>\n",
       "      <td>1.0</td>\n",
       "      <td>1000.0</td>\n",
       "      <td>1987.0</td>\n",
       "      <td>6097.5</td>\n",
       "      <td>8069.4</td>\n",
       "      <td>15189.0</td>\n",
       "      <td>31779.5</td>\n",
       "      <td>49277.4</td>\n",
       "      <td>259000.0</td>\n",
       "      <td>4.484447e+08</td>\n",
       "      <td>1.884203</td>\n",
       "      <td>6.290549</td>\n",
       "    </tr>\n",
       "    <tr>\n",
       "      <th>tax</th>\n",
       "      <td>13119.0</td>\n",
       "      <td>129.972178</td>\n",
       "      <td>65.260286</td>\n",
       "      <td>0.0</td>\n",
       "      <td>20.0</td>\n",
       "      <td>20.0</td>\n",
       "      <td>125.0</td>\n",
       "      <td>145.0</td>\n",
       "      <td>145.0</td>\n",
       "      <td>145.0</td>\n",
       "      <td>150.0</td>\n",
       "      <td>580.0</td>\n",
       "      <td>4.258905e+03</td>\n",
       "      <td>1.231735</td>\n",
       "      <td>9.828966</td>\n",
       "    </tr>\n",
       "    <tr>\n",
       "      <th>mpg</th>\n",
       "      <td>13119.0</td>\n",
       "      <td>55.155843</td>\n",
       "      <td>15.220082</td>\n",
       "      <td>1.1</td>\n",
       "      <td>31.7</td>\n",
       "      <td>36.7</td>\n",
       "      <td>45.6</td>\n",
       "      <td>47.1</td>\n",
       "      <td>56.5</td>\n",
       "      <td>64.2</td>\n",
       "      <td>68.9</td>\n",
       "      <td>217.3</td>\n",
       "      <td>2.316509e+02</td>\n",
       "      <td>2.157475</td>\n",
       "      <td>16.459044</td>\n",
       "    </tr>\n",
       "    <tr>\n",
       "      <th>engineSize</th>\n",
       "      <td>13119.0</td>\n",
       "      <td>2.071530</td>\n",
       "      <td>0.572426</td>\n",
       "      <td>0.0</td>\n",
       "      <td>1.3</td>\n",
       "      <td>1.5</td>\n",
       "      <td>1.8</td>\n",
       "      <td>2.0</td>\n",
       "      <td>2.0</td>\n",
       "      <td>2.1</td>\n",
       "      <td>3.0</td>\n",
       "      <td>6.2</td>\n",
       "      <td>3.276716e-01</td>\n",
       "      <td>2.135384</td>\n",
       "      <td>8.833675</td>\n",
       "    </tr>\n",
       "  </tbody>\n",
       "</table>\n",
       "</div>"
      ],
      "text/plain": [
       "              count          mean           std     min       5%      10%  \\\n",
       "year        13119.0   2017.296288      2.224709  1970.0   2014.0   2015.0   \n",
       "price       13119.0  24698.596920  11842.675542   650.0  11649.0  13868.4   \n",
       "mileage     13119.0  21949.559037  21176.512267     1.0   1000.0   1987.0   \n",
       "tax         13119.0    129.972178     65.260286     0.0     20.0     20.0   \n",
       "mpg         13119.0     55.155843     15.220082     1.1     31.7     36.7   \n",
       "engineSize  13119.0      2.071530      0.572426     0.0      1.3      1.5   \n",
       "\n",
       "                25%      30%      50%      75%      90%       max  \\\n",
       "year         2016.0   2016.0   2018.0   2019.0   2019.0    2020.0   \n",
       "price       17450.0  18449.0  22480.0  28980.0  38000.0  159999.0   \n",
       "mileage      6097.5   8069.4  15189.0  31779.5  49277.4  259000.0   \n",
       "tax           125.0    145.0    145.0    145.0    150.0     580.0   \n",
       "mpg            45.6     47.1     56.5     64.2     68.9     217.3   \n",
       "engineSize      1.8      2.0      2.0      2.1      3.0       6.2   \n",
       "\n",
       "                variance  skewness   kurtosis  \n",
       "year        4.949331e+00 -2.897231  25.846402  \n",
       "price       1.402490e+08  2.650461  15.441843  \n",
       "mileage     4.484447e+08  1.884203   6.290549  \n",
       "tax         4.258905e+03  1.231735   9.828966  \n",
       "mpg         2.316509e+02  2.157475  16.459044  \n",
       "engineSize  3.276716e-01  2.135384   8.833675  "
      ]
     },
     "execution_count": 76,
     "metadata": {},
     "output_type": "execute_result"
    }
   ],
   "source": [
    "pd.concat([data.describe([0.05,0.1,0.25,0.3,0.5,0.75,0.9]).T,pd.DataFrame({\n",
    "\"variance\":varianca,\"skewness\":skewness,\"kurtosis\":kurtosis\n",
    "},index=data.describe().T.index)],axis=1)"
   ]
  },
  {
   "cell_type": "markdown",
   "metadata": {},
   "source": [
    "### Çıkarımlar:\n",
    "1-year değişkeni sola çarpık ve Sivri bir dağılıma sahip (ortalama std'den büyük olduğundan bu açıkça görünüyor) . Bu değişken 2015-2018 civarında değerlerde dolaşırken\n",
    "bazı aykırı değerlere sahip (1970 gibi)\n",
    "\n",
    "2-price değişkeni sağa çarpık ve sivri bir dağılıma sahip. Ortalama ve median değerleri birbirlerine yakın ancak %5'ten küçük ve %90'dan büyük dağılımlar ortalama değerinden \n",
    "çok farklı değere sahip. Bu da ortalamayı etkiliyor olabilir. 160000 değeri ortalamayı çok etkiliyor olabilir.\n",
    "\n",
    "3-mileage değişkeni ortalama ve median arasında hafif bir farklılık mevcut. Ancak minimum ve maksimum değere bakılırsa oldukça farklı değerler mevcut.\n",
    "\n",
    "4-tax değişkeninin ortalama ve median değerleri birbirinden farklı ancak dağılıma bakılırsa bunu etkileyen farklı şeyler mevcut. Örneğin %30 %50 ve %75'lik dağılım dilimlerine bakılırsa\n",
    "değerler hep sabit iken ortalama değeri düşük çıkmış. Bu da demek oluyor ki aşırı derecede küçük değerler var kı ortalama değeri bu kadar düşmüş.\n",
    "\n",
    "5-mpg değişkeninde ortalama ve median değerleri neredeyse aynı.Bu da dağılımın güzel dağıldığı hakkında bize bilgi veriyor olabilir.\n",
    "\n",
    "6-enginSize değişkeninde de ortalama ve median değerleri iyi dağılmış olabileceğini gösteriyor ancak enginSize değerinin 0 olabileceği durumu kafa karıştırıcı."
   ]
  },
  {
   "cell_type": "code",
   "execution_count": 77,
   "metadata": {},
   "outputs": [
    {
     "data": {
      "text/html": [
       "<div>\n",
       "<style scoped>\n",
       "    .dataframe tbody tr th:only-of-type {\n",
       "        vertical-align: middle;\n",
       "    }\n",
       "\n",
       "    .dataframe tbody tr th {\n",
       "        vertical-align: top;\n",
       "    }\n",
       "\n",
       "    .dataframe thead th {\n",
       "        text-align: right;\n",
       "    }\n",
       "</style>\n",
       "<table border=\"1\" class=\"dataframe\">\n",
       "  <thead>\n",
       "    <tr style=\"text-align: right;\">\n",
       "      <th></th>\n",
       "      <th>model</th>\n",
       "      <th>transmission</th>\n",
       "      <th>fuelType</th>\n",
       "    </tr>\n",
       "  </thead>\n",
       "  <tbody>\n",
       "    <tr>\n",
       "      <th>0</th>\n",
       "      <td>SLK</td>\n",
       "      <td>Automatic</td>\n",
       "      <td>Petrol</td>\n",
       "    </tr>\n",
       "    <tr>\n",
       "      <th>1</th>\n",
       "      <td>S Class</td>\n",
       "      <td>Automatic</td>\n",
       "      <td>Hybrid</td>\n",
       "    </tr>\n",
       "    <tr>\n",
       "      <th>2</th>\n",
       "      <td>SL CLASS</td>\n",
       "      <td>Automatic</td>\n",
       "      <td>Petrol</td>\n",
       "    </tr>\n",
       "    <tr>\n",
       "      <th>3</th>\n",
       "      <td>G Class</td>\n",
       "      <td>Automatic</td>\n",
       "      <td>Petrol</td>\n",
       "    </tr>\n",
       "    <tr>\n",
       "      <th>4</th>\n",
       "      <td>G Class</td>\n",
       "      <td>Automatic</td>\n",
       "      <td>Petrol</td>\n",
       "    </tr>\n",
       "  </tbody>\n",
       "</table>\n",
       "</div>"
      ],
      "text/plain": [
       "       model transmission fuelType\n",
       "0        SLK    Automatic   Petrol\n",
       "1    S Class    Automatic   Hybrid\n",
       "2   SL CLASS    Automatic   Petrol\n",
       "3    G Class    Automatic   Petrol\n",
       "4    G Class    Automatic   Petrol"
      ]
     },
     "execution_count": 77,
     "metadata": {},
     "output_type": "execute_result"
    }
   ],
   "source": [
    "cat_var=data.select_dtypes(include=[\"object\"])\n",
    "cat_var.head()"
   ]
  },
  {
   "cell_type": "code",
   "execution_count": 78,
   "metadata": {},
   "outputs": [
    {
     "data": {
      "text/html": [
       "<div>\n",
       "<style scoped>\n",
       "    .dataframe tbody tr th:only-of-type {\n",
       "        vertical-align: middle;\n",
       "    }\n",
       "\n",
       "    .dataframe tbody tr th {\n",
       "        vertical-align: top;\n",
       "    }\n",
       "\n",
       "    .dataframe thead th {\n",
       "        text-align: right;\n",
       "    }\n",
       "</style>\n",
       "<table border=\"1\" class=\"dataframe\">\n",
       "  <thead>\n",
       "    <tr style=\"text-align: right;\">\n",
       "      <th></th>\n",
       "      <th>Variable</th>\n",
       "      <th>Outcome</th>\n",
       "      <th>Count</th>\n",
       "      <th>Percent</th>\n",
       "    </tr>\n",
       "  </thead>\n",
       "  <tbody>\n",
       "    <tr>\n",
       "      <th>0</th>\n",
       "      <td>model</td>\n",
       "      <td>C Class</td>\n",
       "      <td>3747</td>\n",
       "      <td>28.56</td>\n",
       "    </tr>\n",
       "    <tr>\n",
       "      <th>1</th>\n",
       "      <td></td>\n",
       "      <td>A Class</td>\n",
       "      <td>2561</td>\n",
       "      <td>19.52</td>\n",
       "    </tr>\n",
       "    <tr>\n",
       "      <th>2</th>\n",
       "      <td></td>\n",
       "      <td>E Class</td>\n",
       "      <td>1953</td>\n",
       "      <td>14.89</td>\n",
       "    </tr>\n",
       "    <tr>\n",
       "      <th>3</th>\n",
       "      <td></td>\n",
       "      <td>GLC Class</td>\n",
       "      <td>960</td>\n",
       "      <td>7.32</td>\n",
       "    </tr>\n",
       "    <tr>\n",
       "      <th>4</th>\n",
       "      <td></td>\n",
       "      <td>GLA Class</td>\n",
       "      <td>847</td>\n",
       "      <td>6.46</td>\n",
       "    </tr>\n",
       "    <tr>\n",
       "      <th>5</th>\n",
       "      <td></td>\n",
       "      <td>B Class</td>\n",
       "      <td>591</td>\n",
       "      <td>4.50</td>\n",
       "    </tr>\n",
       "    <tr>\n",
       "      <th>6</th>\n",
       "      <td></td>\n",
       "      <td>CL Class</td>\n",
       "      <td>511</td>\n",
       "      <td>3.90</td>\n",
       "    </tr>\n",
       "    <tr>\n",
       "      <th>7</th>\n",
       "      <td></td>\n",
       "      <td>GLE Class</td>\n",
       "      <td>461</td>\n",
       "      <td>3.51</td>\n",
       "    </tr>\n",
       "    <tr>\n",
       "      <th>8</th>\n",
       "      <td></td>\n",
       "      <td>SL CLASS</td>\n",
       "      <td>260</td>\n",
       "      <td>1.98</td>\n",
       "    </tr>\n",
       "    <tr>\n",
       "      <th>9</th>\n",
       "      <td></td>\n",
       "      <td>CLS Class</td>\n",
       "      <td>237</td>\n",
       "      <td>1.81</td>\n",
       "    </tr>\n",
       "    <tr>\n",
       "      <th>10</th>\n",
       "      <td></td>\n",
       "      <td>V Class</td>\n",
       "      <td>207</td>\n",
       "      <td>1.58</td>\n",
       "    </tr>\n",
       "    <tr>\n",
       "      <th>11</th>\n",
       "      <td></td>\n",
       "      <td>S Class</td>\n",
       "      <td>197</td>\n",
       "      <td>1.50</td>\n",
       "    </tr>\n",
       "    <tr>\n",
       "      <th>12</th>\n",
       "      <td></td>\n",
       "      <td>GL Class</td>\n",
       "      <td>121</td>\n",
       "      <td>0.92</td>\n",
       "    </tr>\n",
       "    <tr>\n",
       "      <th>13</th>\n",
       "      <td></td>\n",
       "      <td>SLK</td>\n",
       "      <td>95</td>\n",
       "      <td>0.72</td>\n",
       "    </tr>\n",
       "    <tr>\n",
       "      <th>14</th>\n",
       "      <td></td>\n",
       "      <td>CLA Class</td>\n",
       "      <td>86</td>\n",
       "      <td>0.66</td>\n",
       "    </tr>\n",
       "    <tr>\n",
       "      <th>15</th>\n",
       "      <td></td>\n",
       "      <td>X-CLASS</td>\n",
       "      <td>82</td>\n",
       "      <td>0.63</td>\n",
       "    </tr>\n",
       "    <tr>\n",
       "      <th>16</th>\n",
       "      <td></td>\n",
       "      <td>M Class</td>\n",
       "      <td>79</td>\n",
       "      <td>0.60</td>\n",
       "    </tr>\n",
       "    <tr>\n",
       "      <th>17</th>\n",
       "      <td></td>\n",
       "      <td>GLS Class</td>\n",
       "      <td>74</td>\n",
       "      <td>0.56</td>\n",
       "    </tr>\n",
       "    <tr>\n",
       "      <th>18</th>\n",
       "      <td></td>\n",
       "      <td>GLB Class</td>\n",
       "      <td>19</td>\n",
       "      <td>0.14</td>\n",
       "    </tr>\n",
       "    <tr>\n",
       "      <th>19</th>\n",
       "      <td></td>\n",
       "      <td>G Class</td>\n",
       "      <td>15</td>\n",
       "      <td>0.11</td>\n",
       "    </tr>\n",
       "    <tr>\n",
       "      <th>20</th>\n",
       "      <td></td>\n",
       "      <td>CLK</td>\n",
       "      <td>7</td>\n",
       "      <td>0.05</td>\n",
       "    </tr>\n",
       "    <tr>\n",
       "      <th>21</th>\n",
       "      <td></td>\n",
       "      <td>CLC Class</td>\n",
       "      <td>3</td>\n",
       "      <td>0.02</td>\n",
       "    </tr>\n",
       "    <tr>\n",
       "      <th>22</th>\n",
       "      <td></td>\n",
       "      <td>R Class</td>\n",
       "      <td>2</td>\n",
       "      <td>0.02</td>\n",
       "    </tr>\n",
       "    <tr>\n",
       "      <th>23</th>\n",
       "      <td></td>\n",
       "      <td>180</td>\n",
       "      <td>1</td>\n",
       "      <td>0.01</td>\n",
       "    </tr>\n",
       "    <tr>\n",
       "      <th>24</th>\n",
       "      <td></td>\n",
       "      <td>230</td>\n",
       "      <td>1</td>\n",
       "      <td>0.01</td>\n",
       "    </tr>\n",
       "    <tr>\n",
       "      <th>25</th>\n",
       "      <td></td>\n",
       "      <td>200</td>\n",
       "      <td>1</td>\n",
       "      <td>0.01</td>\n",
       "    </tr>\n",
       "    <tr>\n",
       "      <th>26</th>\n",
       "      <td></td>\n",
       "      <td>220</td>\n",
       "      <td>1</td>\n",
       "      <td>0.01</td>\n",
       "    </tr>\n",
       "    <tr>\n",
       "      <th>27</th>\n",
       "      <td>transmission</td>\n",
       "      <td>Semi-Auto</td>\n",
       "      <td>6848</td>\n",
       "      <td>52.20</td>\n",
       "    </tr>\n",
       "    <tr>\n",
       "      <th>28</th>\n",
       "      <td></td>\n",
       "      <td>Automatic</td>\n",
       "      <td>4825</td>\n",
       "      <td>36.78</td>\n",
       "    </tr>\n",
       "    <tr>\n",
       "      <th>29</th>\n",
       "      <td></td>\n",
       "      <td>Manual</td>\n",
       "      <td>1444</td>\n",
       "      <td>11.01</td>\n",
       "    </tr>\n",
       "    <tr>\n",
       "      <th>30</th>\n",
       "      <td></td>\n",
       "      <td>Other</td>\n",
       "      <td>2</td>\n",
       "      <td>0.02</td>\n",
       "    </tr>\n",
       "    <tr>\n",
       "      <th>31</th>\n",
       "      <td>fuelType</td>\n",
       "      <td>Diesel</td>\n",
       "      <td>9187</td>\n",
       "      <td>70.03</td>\n",
       "    </tr>\n",
       "    <tr>\n",
       "      <th>32</th>\n",
       "      <td></td>\n",
       "      <td>Petrol</td>\n",
       "      <td>3752</td>\n",
       "      <td>28.60</td>\n",
       "    </tr>\n",
       "    <tr>\n",
       "      <th>33</th>\n",
       "      <td></td>\n",
       "      <td>Hybrid</td>\n",
       "      <td>173</td>\n",
       "      <td>1.32</td>\n",
       "    </tr>\n",
       "    <tr>\n",
       "      <th>34</th>\n",
       "      <td></td>\n",
       "      <td>Other</td>\n",
       "      <td>7</td>\n",
       "      <td>0.05</td>\n",
       "    </tr>\n",
       "  </tbody>\n",
       "</table>\n",
       "</div>"
      ],
      "text/plain": [
       "        Variable     Outcome  Count  Percent\n",
       "0          model     C Class   3747    28.56\n",
       "1                    A Class   2561    19.52\n",
       "2                    E Class   1953    14.89\n",
       "3                  GLC Class    960     7.32\n",
       "4                  GLA Class    847     6.46\n",
       "5                    B Class    591     4.50\n",
       "6                   CL Class    511     3.90\n",
       "7                  GLE Class    461     3.51\n",
       "8                   SL CLASS    260     1.98\n",
       "9                  CLS Class    237     1.81\n",
       "10                   V Class    207     1.58\n",
       "11                   S Class    197     1.50\n",
       "12                  GL Class    121     0.92\n",
       "13                       SLK     95     0.72\n",
       "14                 CLA Class     86     0.66\n",
       "15                   X-CLASS     82     0.63\n",
       "16                   M Class     79     0.60\n",
       "17                 GLS Class     74     0.56\n",
       "18                 GLB Class     19     0.14\n",
       "19                   G Class     15     0.11\n",
       "20                       CLK      7     0.05\n",
       "21                 CLC Class      3     0.02\n",
       "22                   R Class      2     0.02\n",
       "23                       180      1     0.01\n",
       "24                       230      1     0.01\n",
       "25                       200      1     0.01\n",
       "26                       220      1     0.01\n",
       "27  transmission   Semi-Auto   6848    52.20\n",
       "28                 Automatic   4825    36.78\n",
       "29                    Manual   1444    11.01\n",
       "30                     Other      2     0.02\n",
       "31      fuelType      Diesel   9187    70.03\n",
       "32                    Petrol   3752    28.60\n",
       "33                    Hybrid    173     1.32\n",
       "34                     Other      7     0.05"
      ]
     },
     "execution_count": 78,
     "metadata": {},
     "output_type": "execute_result"
    }
   ],
   "source": [
    "rp.summary_cat(cat_var)"
   ]
  },
  {
   "cell_type": "code",
   "execution_count": 79,
   "metadata": {},
   "outputs": [
    {
     "data": {
      "text/html": [
       "<div>\n",
       "<style scoped>\n",
       "    .dataframe tbody tr th:only-of-type {\n",
       "        vertical-align: middle;\n",
       "    }\n",
       "\n",
       "    .dataframe tbody tr th {\n",
       "        vertical-align: top;\n",
       "    }\n",
       "\n",
       "    .dataframe thead th {\n",
       "        text-align: right;\n",
       "    }\n",
       "</style>\n",
       "<table border=\"1\" class=\"dataframe\">\n",
       "  <thead>\n",
       "    <tr style=\"text-align: right;\">\n",
       "      <th></th>\n",
       "      <th>model</th>\n",
       "      <th>transmission</th>\n",
       "      <th>fuelType</th>\n",
       "    </tr>\n",
       "  </thead>\n",
       "  <tbody>\n",
       "    <tr>\n",
       "      <th>count</th>\n",
       "      <td>13119</td>\n",
       "      <td>13119</td>\n",
       "      <td>13119</td>\n",
       "    </tr>\n",
       "    <tr>\n",
       "      <th>unique</th>\n",
       "      <td>27</td>\n",
       "      <td>4</td>\n",
       "      <td>4</td>\n",
       "    </tr>\n",
       "    <tr>\n",
       "      <th>top</th>\n",
       "      <td>C Class</td>\n",
       "      <td>Semi-Auto</td>\n",
       "      <td>Diesel</td>\n",
       "    </tr>\n",
       "    <tr>\n",
       "      <th>freq</th>\n",
       "      <td>3747</td>\n",
       "      <td>6848</td>\n",
       "      <td>9187</td>\n",
       "    </tr>\n",
       "  </tbody>\n",
       "</table>\n",
       "</div>"
      ],
      "text/plain": [
       "           model transmission fuelType\n",
       "count      13119        13119    13119\n",
       "unique        27            4        4\n",
       "top      C Class    Semi-Auto   Diesel\n",
       "freq        3747         6848     9187"
      ]
     },
     "execution_count": 79,
     "metadata": {},
     "output_type": "execute_result"
    }
   ],
   "source": [
    "cat_var.describe()"
   ]
  },
  {
   "cell_type": "markdown",
   "metadata": {},
   "source": [
    "### Çıkarımlar:\n",
    "1-model değişkeninin dağılımı incelendiğinde çok sınıflı kategorik bir yapıya sahip. Ancak sınıflardaki veri dağılımı homojen değil.\n",
    "\n",
    "2-transmission değişkeninde semi-auto ile automatic sınıfları dağılımı birbirine yakın kabul edilse dahi veri dağılımı tam homojen diyemeyiz. İnsanların genel olarak yarı-otomatik tercih ettiği görülüyor. Tabii ki bu seçimin birçok etmeni olabilir. Ücreti,konforluğu ... vs.\n",
    "\n",
    "3-fueltype değişkeni dağılımı da homojen görünmemekte."
   ]
  },
  {
   "cell_type": "markdown",
   "metadata": {},
   "source": [
    "## Verilerin korelasyonlarına bakalım"
   ]
  },
  {
   "cell_type": "code",
   "execution_count": 81,
   "metadata": {},
   "outputs": [
    {
     "data": {
      "text/html": [
       "<div>\n",
       "<style scoped>\n",
       "    .dataframe tbody tr th:only-of-type {\n",
       "        vertical-align: middle;\n",
       "    }\n",
       "\n",
       "    .dataframe tbody tr th {\n",
       "        vertical-align: top;\n",
       "    }\n",
       "\n",
       "    .dataframe thead th {\n",
       "        text-align: right;\n",
       "    }\n",
       "</style>\n",
       "<table border=\"1\" class=\"dataframe\">\n",
       "  <thead>\n",
       "    <tr style=\"text-align: right;\">\n",
       "      <th></th>\n",
       "      <th>year</th>\n",
       "      <th>price</th>\n",
       "      <th>mileage</th>\n",
       "      <th>tax</th>\n",
       "      <th>mpg</th>\n",
       "      <th>engineSize</th>\n",
       "    </tr>\n",
       "  </thead>\n",
       "  <tbody>\n",
       "    <tr>\n",
       "      <th>year</th>\n",
       "      <td>1.000000</td>\n",
       "      <td>0.520712</td>\n",
       "      <td>-0.738027</td>\n",
       "      <td>0.012480</td>\n",
       "      <td>-0.094626</td>\n",
       "      <td>-0.142147</td>\n",
       "    </tr>\n",
       "    <tr>\n",
       "      <th>price</th>\n",
       "      <td>0.520712</td>\n",
       "      <td>1.000000</td>\n",
       "      <td>-0.537214</td>\n",
       "      <td>0.268717</td>\n",
       "      <td>-0.438445</td>\n",
       "      <td>0.516126</td>\n",
       "    </tr>\n",
       "    <tr>\n",
       "      <th>mileage</th>\n",
       "      <td>-0.738027</td>\n",
       "      <td>-0.537214</td>\n",
       "      <td>1.000000</td>\n",
       "      <td>-0.160223</td>\n",
       "      <td>0.202850</td>\n",
       "      <td>0.063652</td>\n",
       "    </tr>\n",
       "    <tr>\n",
       "      <th>tax</th>\n",
       "      <td>0.012480</td>\n",
       "      <td>0.268717</td>\n",
       "      <td>-0.160223</td>\n",
       "      <td>1.000000</td>\n",
       "      <td>-0.513742</td>\n",
       "      <td>0.338341</td>\n",
       "    </tr>\n",
       "    <tr>\n",
       "      <th>mpg</th>\n",
       "      <td>-0.094626</td>\n",
       "      <td>-0.438445</td>\n",
       "      <td>0.202850</td>\n",
       "      <td>-0.513742</td>\n",
       "      <td>1.000000</td>\n",
       "      <td>-0.339862</td>\n",
       "    </tr>\n",
       "    <tr>\n",
       "      <th>engineSize</th>\n",
       "      <td>-0.142147</td>\n",
       "      <td>0.516126</td>\n",
       "      <td>0.063652</td>\n",
       "      <td>0.338341</td>\n",
       "      <td>-0.339862</td>\n",
       "      <td>1.000000</td>\n",
       "    </tr>\n",
       "  </tbody>\n",
       "</table>\n",
       "</div>"
      ],
      "text/plain": [
       "                year     price   mileage       tax       mpg  engineSize\n",
       "year        1.000000  0.520712 -0.738027  0.012480 -0.094626   -0.142147\n",
       "price       0.520712  1.000000 -0.537214  0.268717 -0.438445    0.516126\n",
       "mileage    -0.738027 -0.537214  1.000000 -0.160223  0.202850    0.063652\n",
       "tax         0.012480  0.268717 -0.160223  1.000000 -0.513742    0.338341\n",
       "mpg        -0.094626 -0.438445  0.202850 -0.513742  1.000000   -0.339862\n",
       "engineSize -0.142147  0.516126  0.063652  0.338341 -0.339862    1.000000"
      ]
     },
     "execution_count": 81,
     "metadata": {},
     "output_type": "execute_result"
    }
   ],
   "source": [
    "data.corr()"
   ]
  },
  {
   "cell_type": "code",
   "execution_count": 83,
   "metadata": {},
   "outputs": [
    {
     "data": {
      "text/plain": [
       "<AxesSubplot:>"
      ]
     },
     "execution_count": 83,
     "metadata": {},
     "output_type": "execute_result"
    },
    {
     "data": {
      "image/png": "[encoded data removed]",
      "text/plain": [
       "<Figure size 432x288 with 2 Axes>"
      ]
     },
     "metadata": {
      "needs_background": "light"
     },
     "output_type": "display_data"
    }
   ],
   "source": [
    "sbn.heatmap(data.corr())"
   ]
  },
  {
   "cell_type": "markdown",
   "metadata": {},
   "source": [
    "Bağımlı değişkenimiz olan price değişkeninin korelasyon dağılımı incelendiğinde neredeyse bütün değişkenlerle orta şiddetli bir korelasyona sahip olduğu görülüyor.\n",
    "\n",
    "year değişkeni ile mileage değişkeni arasında neredeyde %75 oranında negatif bir korelasyon var. Bu da demek istemiş olabilir ki yeni arabalar üretildiği sürece insanlar o arabayı\n",
    "uzun ömürlü olarak kullanmıyor ve yeni araba alıyor gibi bir yorum yapılabilir."
   ]
  },
  {
   "cell_type": "code",
   "execution_count": 88,
   "metadata": {},
   "outputs": [
    {
     "data": {
      "text/plain": [
       "<seaborn.axisgrid.PairGrid at 0x2448c60be50>"
      ]
     },
     "execution_count": 88,
     "metadata": {},
     "output_type": "execute_result"
    },
    {
     "data": {
      "image/png": "[encoded data removed]",
      "text/plain": [
       "<Figure size 1080x1080 with 42 Axes>"
      ]
     },
     "metadata": {
      "needs_background": "light"
     },
     "output_type": "display_data"
    }
   ],
   "source": [
    "sbn.pairplot(data)"
   ]
  },
  {
   "cell_type": "markdown",
   "metadata": {},
   "source": [
    "saçılım grafiği incelendiğinde bazı noktalarda kümelenme bazı noktalarda aykırı değerler bulunmakta.Bunlarla ilgili düşünmek gerekir"
   ]
  },
  {
   "cell_type": "code",
   "execution_count": 89,
   "metadata": {},
   "outputs": [
    {
     "data": {
      "text/plain": [
       "<AxesSubplot:xlabel='transmission', ylabel='price'>"
      ]
     },
     "execution_count": 89,
     "metadata": {},
     "output_type": "execute_result"
    },
    {
     "data": {
      "image/png": "[encoded data removed]",
      "text/plain": [
       "<Figure size 432x288 with 1 Axes>"
      ]
     },
     "metadata": {
      "needs_background": "light"
     },
     "output_type": "display_data"
    }
   ],
   "source": [
    "sbn.barplot(x=\"transmission\",y=\"price\",data=data)"
   ]
  },
  {
   "cell_type": "code",
   "execution_count": 93,
   "metadata": {},
   "outputs": [
    {
     "data": {
      "text/html": [
       "<div>\n",
       "<style scoped>\n",
       "    .dataframe tbody tr th:only-of-type {\n",
       "        vertical-align: middle;\n",
       "    }\n",
       "\n",
       "    .dataframe tbody tr th {\n",
       "        vertical-align: top;\n",
       "    }\n",
       "\n",
       "    .dataframe thead th {\n",
       "        text-align: right;\n",
       "    }\n",
       "</style>\n",
       "<table border=\"1\" class=\"dataframe\">\n",
       "  <thead>\n",
       "    <tr style=\"text-align: right;\">\n",
       "      <th></th>\n",
       "      <th>count</th>\n",
       "      <th>mean</th>\n",
       "      <th>std</th>\n",
       "      <th>min</th>\n",
       "      <th>25%</th>\n",
       "      <th>50%</th>\n",
       "      <th>75%</th>\n",
       "      <th>max</th>\n",
       "    </tr>\n",
       "    <tr>\n",
       "      <th>transmission</th>\n",
       "      <th></th>\n",
       "      <th></th>\n",
       "      <th></th>\n",
       "      <th></th>\n",
       "      <th></th>\n",
       "      <th></th>\n",
       "      <th></th>\n",
       "      <th></th>\n",
       "    </tr>\n",
       "  </thead>\n",
       "  <tbody>\n",
       "    <tr>\n",
       "      <th>Automatic</th>\n",
       "      <td>4825.0</td>\n",
       "      <td>24406.959585</td>\n",
       "      <td>12549.608653</td>\n",
       "      <td>1490.0</td>\n",
       "      <td>16917.00</td>\n",
       "      <td>21489.0</td>\n",
       "      <td>28995.00</td>\n",
       "      <td>154998.0</td>\n",
       "    </tr>\n",
       "    <tr>\n",
       "      <th>Manual</th>\n",
       "      <td>1444.0</td>\n",
       "      <td>15442.434903</td>\n",
       "      <td>4242.892536</td>\n",
       "      <td>650.0</td>\n",
       "      <td>12800.00</td>\n",
       "      <td>14999.0</td>\n",
       "      <td>17420.00</td>\n",
       "      <td>36999.0</td>\n",
       "    </tr>\n",
       "    <tr>\n",
       "      <th>Other</th>\n",
       "      <td>2.0</td>\n",
       "      <td>15847.500000</td>\n",
       "      <td>4034.044187</td>\n",
       "      <td>12995.0</td>\n",
       "      <td>14421.25</td>\n",
       "      <td>15847.5</td>\n",
       "      <td>17273.75</td>\n",
       "      <td>18700.0</td>\n",
       "    </tr>\n",
       "    <tr>\n",
       "      <th>Semi-Auto</th>\n",
       "      <td>6848.0</td>\n",
       "      <td>26858.461157</td>\n",
       "      <td>11451.014446</td>\n",
       "      <td>1995.0</td>\n",
       "      <td>19965.00</td>\n",
       "      <td>24790.0</td>\n",
       "      <td>30199.00</td>\n",
       "      <td>159999.0</td>\n",
       "    </tr>\n",
       "  </tbody>\n",
       "</table>\n",
       "</div>"
      ],
      "text/plain": [
       "               count          mean           std      min       25%      50%  \\\n",
       "transmission                                                                   \n",
       "Automatic     4825.0  24406.959585  12549.608653   1490.0  16917.00  21489.0   \n",
       "Manual        1444.0  15442.434903   4242.892536    650.0  12800.00  14999.0   \n",
       "Other            2.0  15847.500000   4034.044187  12995.0  14421.25  15847.5   \n",
       "Semi-Auto     6848.0  26858.461157  11451.014446   1995.0  19965.00  24790.0   \n",
       "\n",
       "                   75%       max  \n",
       "transmission                      \n",
       "Automatic     28995.00  154998.0  \n",
       "Manual        17420.00   36999.0  \n",
       "Other         17273.75   18700.0  \n",
       "Semi-Auto     30199.00  159999.0  "
      ]
     },
     "execution_count": 93,
     "metadata": {},
     "output_type": "execute_result"
    }
   ],
   "source": [
    "data.groupby(\"transmission\").describe()[\"price\"]"
   ]
  },
  {
   "cell_type": "markdown",
   "metadata": {},
   "source": [
    "vites türünün price değişkenine göre dağılımı"
   ]
  },
  {
   "cell_type": "code",
   "execution_count": 103,
   "metadata": {},
   "outputs": [
    {
     "data": {
      "text/plain": [
       "<seaborn.axisgrid.FacetGrid at 0x24490f51190>"
      ]
     },
     "execution_count": 103,
     "metadata": {},
     "output_type": "execute_result"
    },
    {
     "data": {
      "image/png": "[encoded data removed]",
      "text/plain": [
       "<Figure size 1440x360 with 4 Axes>"
      ]
     },
     "metadata": {
      "needs_background": "light"
     },
     "output_type": "display_data"
    }
   ],
   "source": [
    "sbn.catplot(x=\"transmission\",y=\"price\",data=data,col=\"fuelType\")"
   ]
  },
  {
   "cell_type": "markdown",
   "metadata": {},
   "source": [
    "price değişkeninin dağılımı"
   ]
  },
  {
   "cell_type": "code",
   "execution_count": 111,
   "metadata": {},
   "outputs": [
    {
     "name": "stderr",
     "output_type": "stream",
     "text": [
      "C:\\Users\\omerm\\anaconda3\\envs\\PythonProjeleri\\lib\\site-packages\\seaborn\\distributions.py:2551: FutureWarning: `distplot` is a deprecated function and will be removed in a future version. Please adapt your code to use either `displot` (a figure-level function with similar flexibility) or `histplot` (an axes-level function for histograms).\n",
      "  warnings.warn(msg, FutureWarning)\n"
     ]
    },
    {
     "data": {
      "image/png": "[encoded data removed]",
      "text/plain": [
       "<Figure size 432x288 with 1 Axes>"
      ]
     },
     "metadata": {
      "needs_background": "light"
     },
     "output_type": "display_data"
    }
   ],
   "source": [
    "sbn.distplot(a=df.price);"
   ]
  },
  {
   "cell_type": "code",
   "execution_count": 116,
   "metadata": {},
   "outputs": [
    {
     "data": {
      "text/plain": [
       "<AxesSubplot:xlabel='price', ylabel='Density'>"
      ]
     },
     "execution_count": 116,
     "metadata": {},
     "output_type": "execute_result"
    },
    {
     "data": {
      "image/png": "[encoded data removed]",
      "text/plain": [
       "<Figure size 432x288 with 1 Axes>"
      ]
     },
     "metadata": {
      "needs_background": "light"
     },
     "output_type": "display_data"
    }
   ],
   "source": [
    "sbn.kdeplot(df.price,shade=False)"
   ]
  },
  {
   "cell_type": "code",
   "execution_count": 125,
   "metadata": {},
   "outputs": [
    {
     "data": {
      "image/png": "[encoded data removed]",
      "text/plain": [
       "<Figure size 360x360 with 1 Axes>"
      ]
     },
     "metadata": {
      "needs_background": "light"
     },
     "output_type": "display_data"
    },
    {
     "data": {
      "image/png": "[encoded data removed]",
      "text/plain": [
       "<Figure size 360x360 with 1 Axes>"
      ]
     },
     "metadata": {
      "needs_background": "light"
     },
     "output_type": "display_data"
    }
   ],
   "source": [
    "sbn.FacetGrid(data,hue=\"transmission\",height=5).map(sbn.kdeplot,\"price\",shade=True)\n",
    "plt.legend()\n",
    "plt.show()\n",
    "sbn.FacetGrid(df,hue=\"fuelType\",height=5).map(sbn.kdeplot,\"price\",shade=True)\n",
    "plt.legend()\n",
    "plt.show()"
   ]
  },
  {
   "cell_type": "markdown",
   "metadata": {},
   "source": [
    "kdeplot ile çizilen price değişkeninin dağılımındaki hafif bi tepeli bir yapı bulunmakta. Bu hafif tepelenmenin nedeni petrol değişkeni olabilir."
   ]
  },
  {
   "cell_type": "code",
   "execution_count": 127,
   "metadata": {},
   "outputs": [
    {
     "data": {
      "text/plain": [
       "<AxesSubplot:xlabel='fuelType', ylabel='price'>"
      ]
     },
     "execution_count": 127,
     "metadata": {},
     "output_type": "execute_result"
    },
    {
     "data": {
      "image/png": "[encoded data removed]",
      "text/plain": [
       "<Figure size 432x288 with 1 Axes>"
      ]
     },
     "metadata": {
      "needs_background": "light"
     },
     "output_type": "display_data"
    }
   ],
   "source": [
    "sbn.boxplot(x=\"fuelType\",y=\"price\",data=data)"
   ]
  },
  {
   "cell_type": "code",
   "execution_count": 131,
   "metadata": {},
   "outputs": [
    {
     "data": {
      "text/plain": [
       "array([1970, 1997, 1998, 1999, 2000, 2001, 2002, 2003, 2004, 2005, 2006,\n",
       "       2007, 2008, 2009, 2010, 2011, 2012, 2013, 2014, 2015, 2016, 2017,\n",
       "       2018, 2019, 2020], dtype=int64)"
      ]
     },
     "execution_count": 131,
     "metadata": {},
     "output_type": "execute_result"
    }
   ],
   "source": [
    "np.sort(data.year.unique())"
   ]
  },
  {
   "cell_type": "markdown",
   "metadata": {},
   "source": [
    "### Veri ön işleme"
   ]
  },
  {
   "cell_type": "markdown",
   "metadata": {},
   "source": [
    "yıl değişkeninin dağılımı incelendiğinde 60000'den sonraki değerler ve 10000'den küçük fiyatlı araçlar çok nadir bulunmakta o yüzden o değerleri ayrı bir veri olarak tutacağım\n"
   ]
  },
  {
   "cell_type": "code",
   "execution_count": 146,
   "metadata": {},
   "outputs": [
    {
     "data": {
      "text/html": [
       "<div>\n",
       "<style scoped>\n",
       "    .dataframe tbody tr th:only-of-type {\n",
       "        vertical-align: middle;\n",
       "    }\n",
       "\n",
       "    .dataframe tbody tr th {\n",
       "        vertical-align: top;\n",
       "    }\n",
       "\n",
       "    .dataframe thead th {\n",
       "        text-align: right;\n",
       "    }\n",
       "</style>\n",
       "<table border=\"1\" class=\"dataframe\">\n",
       "  <thead>\n",
       "    <tr style=\"text-align: right;\">\n",
       "      <th></th>\n",
       "      <th>model</th>\n",
       "      <th>year</th>\n",
       "      <th>price</th>\n",
       "      <th>transmission</th>\n",
       "      <th>mileage</th>\n",
       "      <th>fuelType</th>\n",
       "      <th>tax</th>\n",
       "      <th>mpg</th>\n",
       "      <th>engineSize</th>\n",
       "    </tr>\n",
       "  </thead>\n",
       "  <tbody>\n",
       "    <tr>\n",
       "      <th>0</th>\n",
       "      <td>SLK</td>\n",
       "      <td>2005</td>\n",
       "      <td>5200</td>\n",
       "      <td>Automatic</td>\n",
       "      <td>63000</td>\n",
       "      <td>Petrol</td>\n",
       "      <td>325</td>\n",
       "      <td>32.1</td>\n",
       "      <td>1.8</td>\n",
       "    </tr>\n",
       "    <tr>\n",
       "      <th>3</th>\n",
       "      <td>G Class</td>\n",
       "      <td>2016</td>\n",
       "      <td>61948</td>\n",
       "      <td>Automatic</td>\n",
       "      <td>16000</td>\n",
       "      <td>Petrol</td>\n",
       "      <td>325</td>\n",
       "      <td>30.4</td>\n",
       "      <td>4.0</td>\n",
       "    </tr>\n",
       "    <tr>\n",
       "      <th>4</th>\n",
       "      <td>G Class</td>\n",
       "      <td>2016</td>\n",
       "      <td>73948</td>\n",
       "      <td>Automatic</td>\n",
       "      <td>4000</td>\n",
       "      <td>Petrol</td>\n",
       "      <td>325</td>\n",
       "      <td>30.1</td>\n",
       "      <td>4.0</td>\n",
       "    </tr>\n",
       "    <tr>\n",
       "      <th>5</th>\n",
       "      <td>SL CLASS</td>\n",
       "      <td>2011</td>\n",
       "      <td>149948</td>\n",
       "      <td>Automatic</td>\n",
       "      <td>3000</td>\n",
       "      <td>Petrol</td>\n",
       "      <td>570</td>\n",
       "      <td>21.4</td>\n",
       "      <td>6.2</td>\n",
       "    </tr>\n",
       "    <tr>\n",
       "      <th>8</th>\n",
       "      <td>G Class</td>\n",
       "      <td>2019</td>\n",
       "      <td>139948</td>\n",
       "      <td>Automatic</td>\n",
       "      <td>12000</td>\n",
       "      <td>Petrol</td>\n",
       "      <td>145</td>\n",
       "      <td>21.4</td>\n",
       "      <td>4.0</td>\n",
       "    </tr>\n",
       "    <tr>\n",
       "      <th>...</th>\n",
       "      <td>...</td>\n",
       "      <td>...</td>\n",
       "      <td>...</td>\n",
       "      <td>...</td>\n",
       "      <td>...</td>\n",
       "      <td>...</td>\n",
       "      <td>...</td>\n",
       "      <td>...</td>\n",
       "      <td>...</td>\n",
       "    </tr>\n",
       "    <tr>\n",
       "      <th>12888</th>\n",
       "      <td>GLC Class</td>\n",
       "      <td>2019</td>\n",
       "      <td>68900</td>\n",
       "      <td>Automatic</td>\n",
       "      <td>6007</td>\n",
       "      <td>Petrol</td>\n",
       "      <td>145</td>\n",
       "      <td>22.1</td>\n",
       "      <td>4.0</td>\n",
       "    </tr>\n",
       "    <tr>\n",
       "      <th>12959</th>\n",
       "      <td>M Class</td>\n",
       "      <td>2009</td>\n",
       "      <td>9990</td>\n",
       "      <td>Automatic</td>\n",
       "      <td>59000</td>\n",
       "      <td>Diesel</td>\n",
       "      <td>555</td>\n",
       "      <td>30.4</td>\n",
       "      <td>3.0</td>\n",
       "    </tr>\n",
       "    <tr>\n",
       "      <th>13002</th>\n",
       "      <td>GLE Class</td>\n",
       "      <td>2018</td>\n",
       "      <td>66974</td>\n",
       "      <td>Automatic</td>\n",
       "      <td>16592</td>\n",
       "      <td>Petrol</td>\n",
       "      <td>145</td>\n",
       "      <td>23.7</td>\n",
       "      <td>5.5</td>\n",
       "    </tr>\n",
       "    <tr>\n",
       "      <th>13038</th>\n",
       "      <td>C Class</td>\n",
       "      <td>2020</td>\n",
       "      <td>68995</td>\n",
       "      <td>Automatic</td>\n",
       "      <td>2000</td>\n",
       "      <td>Petrol</td>\n",
       "      <td>145</td>\n",
       "      <td>28.0</td>\n",
       "      <td>4.0</td>\n",
       "    </tr>\n",
       "    <tr>\n",
       "      <th>13060</th>\n",
       "      <td>A Class</td>\n",
       "      <td>2017</td>\n",
       "      <td>109495</td>\n",
       "      <td>Automatic</td>\n",
       "      <td>1755</td>\n",
       "      <td>Petrol</td>\n",
       "      <td>145</td>\n",
       "      <td>24.8</td>\n",
       "      <td>4.0</td>\n",
       "    </tr>\n",
       "  </tbody>\n",
       "</table>\n",
       "<p>539 rows × 9 columns</p>\n",
       "</div>"
      ],
      "text/plain": [
       "            model  year   price transmission  mileage fuelType  tax   mpg  \\\n",
       "0             SLK  2005    5200    Automatic    63000   Petrol  325  32.1   \n",
       "3         G Class  2016   61948    Automatic    16000   Petrol  325  30.4   \n",
       "4         G Class  2016   73948    Automatic     4000   Petrol  325  30.1   \n",
       "5        SL CLASS  2011  149948    Automatic     3000   Petrol  570  21.4   \n",
       "8         G Class  2019  139948    Automatic    12000   Petrol  145  21.4   \n",
       "...           ...   ...     ...          ...      ...      ...  ...   ...   \n",
       "12888   GLC Class  2019   68900    Automatic     6007   Petrol  145  22.1   \n",
       "12959     M Class  2009    9990    Automatic    59000   Diesel  555  30.4   \n",
       "13002   GLE Class  2018   66974    Automatic    16592   Petrol  145  23.7   \n",
       "13038     C Class  2020   68995    Automatic     2000   Petrol  145  28.0   \n",
       "13060     A Class  2017  109495    Automatic     1755   Petrol  145  24.8   \n",
       "\n",
       "       engineSize  \n",
       "0             1.8  \n",
       "3             4.0  \n",
       "4             4.0  \n",
       "5             6.2  \n",
       "8             4.0  \n",
       "...           ...  \n",
       "12888         4.0  \n",
       "12959         3.0  \n",
       "13002         5.5  \n",
       "13038         4.0  \n",
       "13060         4.0  \n",
       "\n",
       "[539 rows x 9 columns]"
      ]
     },
     "execution_count": 146,
     "metadata": {},
     "output_type": "execute_result"
    }
   ],
   "source": [
    "veri1=data[(data.price>60000)|(data.price<10000)]\n",
    "veri1"
   ]
  },
  {
   "cell_type": "markdown",
   "metadata": {},
   "source": [
    "fuelType ve transmission kategorilerinde çok nadir olan değerler bulunmakta onlardan da kurtulalım"
   ]
  },
  {
   "cell_type": "code",
   "execution_count": 149,
   "metadata": {},
   "outputs": [],
   "source": [
    "data.drop(index=veri1.index,inplace=True)"
   ]
  },
  {
   "cell_type": "code",
   "execution_count": 152,
   "metadata": {},
   "outputs": [],
   "source": [
    "data.drop(index=data[(data.fuelType==\"Other\")|(data.fuelType==\"Hybrid\")].index,inplace=True)"
   ]
  },
  {
   "cell_type": "code",
   "execution_count": 154,
   "metadata": {},
   "outputs": [
    {
     "data": {
      "text/plain": [
       "Diesel    8905\n",
       "Petrol    3495\n",
       "Name: fuelType, dtype: int64"
      ]
     },
     "execution_count": 154,
     "metadata": {},
     "output_type": "execute_result"
    }
   ],
   "source": [
    "data.fuelType.value_counts()"
   ]
  },
  {
   "cell_type": "code",
   "execution_count": 150,
   "metadata": {},
   "outputs": [
    {
     "data": {
      "text/plain": [
       "Diesel    8905\n",
       "Petrol    3495\n",
       "Hybrid     173\n",
       "Other        7\n",
       "Name: fuelType, dtype: int64"
      ]
     },
     "execution_count": 150,
     "metadata": {},
     "output_type": "execute_result"
    }
   ],
   "source": [
    "data.fuelType.value_counts()"
   ]
  },
  {
   "cell_type": "code",
   "execution_count": 151,
   "metadata": {},
   "outputs": [
    {
     "data": {
      "text/plain": [
       "Semi-Auto    6705\n",
       "Automatic    4537\n",
       "Manual       1336\n",
       "Other           2\n",
       "Name: transmission, dtype: int64"
      ]
     },
     "execution_count": 151,
     "metadata": {},
     "output_type": "execute_result"
    }
   ],
   "source": [
    "data.transmission.value_counts()"
   ]
  },
  {
   "cell_type": "code",
   "execution_count": 162,
   "metadata": {},
   "outputs": [
    {
     "data": {
      "text/plain": [
       " C Class      3477\n",
       " A Class      2458\n",
       " E Class      1865\n",
       " GLC Class     935\n",
       " GLA Class     846\n",
       " B Class       530\n",
       " CL Class      510\n",
       " GLE Class     445\n",
       " SL CLASS      245\n",
       " CLS Class     234\n",
       " V Class       206\n",
       " S Class       145\n",
       " GL Class      119\n",
       " CLA Class      86\n",
       " X-CLASS        82\n",
       " M Class        68\n",
       " GLS Class      62\n",
       " SLK            61\n",
       " GLB Class      19\n",
       " G Class         3\n",
       "200              1\n",
       "180              1\n",
       " R Class         1\n",
       "220              1\n",
       "Name: model, dtype: int64"
      ]
     },
     "execution_count": 162,
     "metadata": {},
     "output_type": "execute_result"
    }
   ],
   "source": [
    "(data.model.value_counts())"
   ]
  },
  {
   "cell_type": "markdown",
   "metadata": {},
   "source": [
    "500'den az gözlenen modelleri veri setinden atalım"
   ]
  },
  {
   "cell_type": "code",
   "execution_count": 170,
   "metadata": {},
   "outputs": [],
   "source": []
  },
  {
   "cell_type": "code",
   "execution_count": 168,
   "metadata": {
    "collapsed": true,
    "jupyter": {
     "outputs_hidden": true
    }
   },
   "outputs": [
    {
     "ename": "KeyError",
     "evalue": "\"[' GLE Class' ' SL CLASS' ' CLS Class' ' V Class' ' S Class' ' GL Class'\\n ' CLA Class' ' X-CLASS' ' M Class' ' GLS Class' ' SLK' ' GLB Class'\\n ' G Class' '200' '180' ' R Class' '220'] not found in axis\"",
     "output_type": "error",
     "traceback": [
      "\u001b[1;31m---------------------------------------------------------------------------\u001b[0m",
      "\u001b[1;31mKeyError\u001b[0m                                  Traceback (most recent call last)",
      "\u001b[1;32m<ipython-input-168-15bf36ea4785>\u001b[0m in \u001b[0;36m<module>\u001b[1;34m\u001b[0m\n\u001b[1;32m----> 1\u001b[1;33m \u001b[0mdata\u001b[0m\u001b[1;33m.\u001b[0m\u001b[0mdrop\u001b[0m\u001b[1;33m(\u001b[0m\u001b[0minplace\u001b[0m\u001b[1;33m=\u001b[0m\u001b[1;32mTrue\u001b[0m\u001b[1;33m,\u001b[0m\u001b[0mindex\u001b[0m\u001b[1;33m=\u001b[0m\u001b[0mdata\u001b[0m\u001b[1;33m.\u001b[0m\u001b[0mmodel\u001b[0m\u001b[1;33m.\u001b[0m\u001b[0mvalue_counts\u001b[0m\u001b[1;33m(\u001b[0m\u001b[1;33m)\u001b[0m\u001b[1;33m[\u001b[0m\u001b[0mdata\u001b[0m\u001b[1;33m.\u001b[0m\u001b[0mmodel\u001b[0m\u001b[1;33m.\u001b[0m\u001b[0mvalue_counts\u001b[0m\u001b[1;33m(\u001b[0m\u001b[1;33m)\u001b[0m\u001b[1;33m<\u001b[0m\u001b[1;36m500\u001b[0m\u001b[1;33m]\u001b[0m\u001b[1;33m.\u001b[0m\u001b[0mindex\u001b[0m\u001b[1;33m)\u001b[0m\u001b[1;33m\u001b[0m\u001b[1;33m\u001b[0m\u001b[0m\n\u001b[0m",
      "\u001b[1;32m~\\anaconda3\\envs\\PythonProjeleri\\lib\\site-packages\\pandas\\core\\frame.py\u001b[0m in \u001b[0;36mdrop\u001b[1;34m(self, labels, axis, index, columns, level, inplace, errors)\u001b[0m\n\u001b[0;32m   4160\u001b[0m                 \u001b[0mweight\u001b[0m  \u001b[1;36m1.0\u001b[0m     \u001b[1;36m0.8\u001b[0m\u001b[1;33m\u001b[0m\u001b[1;33m\u001b[0m\u001b[0m\n\u001b[0;32m   4161\u001b[0m         \"\"\"\n\u001b[1;32m-> 4162\u001b[1;33m         return super().drop(\n\u001b[0m\u001b[0;32m   4163\u001b[0m             \u001b[0mlabels\u001b[0m\u001b[1;33m=\u001b[0m\u001b[0mlabels\u001b[0m\u001b[1;33m,\u001b[0m\u001b[1;33m\u001b[0m\u001b[1;33m\u001b[0m\u001b[0m\n\u001b[0;32m   4164\u001b[0m             \u001b[0maxis\u001b[0m\u001b[1;33m=\u001b[0m\u001b[0maxis\u001b[0m\u001b[1;33m,\u001b[0m\u001b[1;33m\u001b[0m\u001b[1;33m\u001b[0m\u001b[0m\n",
      "\u001b[1;32m~\\anaconda3\\envs\\PythonProjeleri\\lib\\site-packages\\pandas\\core\\generic.py\u001b[0m in \u001b[0;36mdrop\u001b[1;34m(self, labels, axis, index, columns, level, inplace, errors)\u001b[0m\n\u001b[0;32m   3882\u001b[0m         \u001b[1;32mfor\u001b[0m \u001b[0maxis\u001b[0m\u001b[1;33m,\u001b[0m \u001b[0mlabels\u001b[0m \u001b[1;32min\u001b[0m \u001b[0maxes\u001b[0m\u001b[1;33m.\u001b[0m\u001b[0mitems\u001b[0m\u001b[1;33m(\u001b[0m\u001b[1;33m)\u001b[0m\u001b[1;33m:\u001b[0m\u001b[1;33m\u001b[0m\u001b[1;33m\u001b[0m\u001b[0m\n\u001b[0;32m   3883\u001b[0m             \u001b[1;32mif\u001b[0m \u001b[0mlabels\u001b[0m \u001b[1;32mis\u001b[0m \u001b[1;32mnot\u001b[0m \u001b[1;32mNone\u001b[0m\u001b[1;33m:\u001b[0m\u001b[1;33m\u001b[0m\u001b[1;33m\u001b[0m\u001b[0m\n\u001b[1;32m-> 3884\u001b[1;33m                 \u001b[0mobj\u001b[0m \u001b[1;33m=\u001b[0m \u001b[0mobj\u001b[0m\u001b[1;33m.\u001b[0m\u001b[0m_drop_axis\u001b[0m\u001b[1;33m(\u001b[0m\u001b[0mlabels\u001b[0m\u001b[1;33m,\u001b[0m \u001b[0maxis\u001b[0m\u001b[1;33m,\u001b[0m \u001b[0mlevel\u001b[0m\u001b[1;33m=\u001b[0m\u001b[0mlevel\u001b[0m\u001b[1;33m,\u001b[0m \u001b[0merrors\u001b[0m\u001b[1;33m=\u001b[0m\u001b[0merrors\u001b[0m\u001b[1;33m)\u001b[0m\u001b[1;33m\u001b[0m\u001b[1;33m\u001b[0m\u001b[0m\n\u001b[0m\u001b[0;32m   3885\u001b[0m \u001b[1;33m\u001b[0m\u001b[0m\n\u001b[0;32m   3886\u001b[0m         \u001b[1;32mif\u001b[0m \u001b[0minplace\u001b[0m\u001b[1;33m:\u001b[0m\u001b[1;33m\u001b[0m\u001b[1;33m\u001b[0m\u001b[0m\n",
      "\u001b[1;32m~\\anaconda3\\envs\\PythonProjeleri\\lib\\site-packages\\pandas\\core\\generic.py\u001b[0m in \u001b[0;36m_drop_axis\u001b[1;34m(self, labels, axis, level, errors)\u001b[0m\n\u001b[0;32m   3916\u001b[0m                 \u001b[0mnew_axis\u001b[0m \u001b[1;33m=\u001b[0m \u001b[0maxis\u001b[0m\u001b[1;33m.\u001b[0m\u001b[0mdrop\u001b[0m\u001b[1;33m(\u001b[0m\u001b[0mlabels\u001b[0m\u001b[1;33m,\u001b[0m \u001b[0mlevel\u001b[0m\u001b[1;33m=\u001b[0m\u001b[0mlevel\u001b[0m\u001b[1;33m,\u001b[0m \u001b[0merrors\u001b[0m\u001b[1;33m=\u001b[0m\u001b[0merrors\u001b[0m\u001b[1;33m)\u001b[0m\u001b[1;33m\u001b[0m\u001b[1;33m\u001b[0m\u001b[0m\n\u001b[0;32m   3917\u001b[0m             \u001b[1;32melse\u001b[0m\u001b[1;33m:\u001b[0m\u001b[1;33m\u001b[0m\u001b[1;33m\u001b[0m\u001b[0m\n\u001b[1;32m-> 3918\u001b[1;33m                 \u001b[0mnew_axis\u001b[0m \u001b[1;33m=\u001b[0m \u001b[0maxis\u001b[0m\u001b[1;33m.\u001b[0m\u001b[0mdrop\u001b[0m\u001b[1;33m(\u001b[0m\u001b[0mlabels\u001b[0m\u001b[1;33m,\u001b[0m \u001b[0merrors\u001b[0m\u001b[1;33m=\u001b[0m\u001b[0merrors\u001b[0m\u001b[1;33m)\u001b[0m\u001b[1;33m\u001b[0m\u001b[1;33m\u001b[0m\u001b[0m\n\u001b[0m\u001b[0;32m   3919\u001b[0m             \u001b[0mresult\u001b[0m \u001b[1;33m=\u001b[0m \u001b[0mself\u001b[0m\u001b[1;33m.\u001b[0m\u001b[0mreindex\u001b[0m\u001b[1;33m(\u001b[0m\u001b[1;33m**\u001b[0m\u001b[1;33m{\u001b[0m\u001b[0maxis_name\u001b[0m\u001b[1;33m:\u001b[0m \u001b[0mnew_axis\u001b[0m\u001b[1;33m}\u001b[0m\u001b[1;33m)\u001b[0m\u001b[1;33m\u001b[0m\u001b[1;33m\u001b[0m\u001b[0m\n\u001b[0;32m   3920\u001b[0m \u001b[1;33m\u001b[0m\u001b[0m\n",
      "\u001b[1;32m~\\anaconda3\\envs\\PythonProjeleri\\lib\\site-packages\\pandas\\core\\indexes\\base.py\u001b[0m in \u001b[0;36mdrop\u001b[1;34m(self, labels, errors)\u001b[0m\n\u001b[0;32m   5276\u001b[0m         \u001b[1;32mif\u001b[0m \u001b[0mmask\u001b[0m\u001b[1;33m.\u001b[0m\u001b[0many\u001b[0m\u001b[1;33m(\u001b[0m\u001b[1;33m)\u001b[0m\u001b[1;33m:\u001b[0m\u001b[1;33m\u001b[0m\u001b[1;33m\u001b[0m\u001b[0m\n\u001b[0;32m   5277\u001b[0m             \u001b[1;32mif\u001b[0m \u001b[0merrors\u001b[0m \u001b[1;33m!=\u001b[0m \u001b[1;34m\"ignore\"\u001b[0m\u001b[1;33m:\u001b[0m\u001b[1;33m\u001b[0m\u001b[1;33m\u001b[0m\u001b[0m\n\u001b[1;32m-> 5278\u001b[1;33m                 \u001b[1;32mraise\u001b[0m \u001b[0mKeyError\u001b[0m\u001b[1;33m(\u001b[0m\u001b[1;34mf\"{labels[mask]} not found in axis\"\u001b[0m\u001b[1;33m)\u001b[0m\u001b[1;33m\u001b[0m\u001b[1;33m\u001b[0m\u001b[0m\n\u001b[0m\u001b[0;32m   5279\u001b[0m             \u001b[0mindexer\u001b[0m \u001b[1;33m=\u001b[0m \u001b[0mindexer\u001b[0m\u001b[1;33m[\u001b[0m\u001b[1;33m~\u001b[0m\u001b[0mmask\u001b[0m\u001b[1;33m]\u001b[0m\u001b[1;33m\u001b[0m\u001b[1;33m\u001b[0m\u001b[0m\n\u001b[0;32m   5280\u001b[0m         \u001b[1;32mreturn\u001b[0m \u001b[0mself\u001b[0m\u001b[1;33m.\u001b[0m\u001b[0mdelete\u001b[0m\u001b[1;33m(\u001b[0m\u001b[0mindexer\u001b[0m\u001b[1;33m)\u001b[0m\u001b[1;33m\u001b[0m\u001b[1;33m\u001b[0m\u001b[0m\n",
      "\u001b[1;31mKeyError\u001b[0m: \"[' GLE Class' ' SL CLASS' ' CLS Class' ' V Class' ' S Class' ' GL Class'\\n ' CLA Class' ' X-CLASS' ' M Class' ' GLS Class' ' SLK' ' GLB Class'\\n ' G Class' '200' '180' ' R Class' '220'] not found in axis\""
     ]
    }
   ],
   "source": [
    "data.drop(inplace=True,index=data.model.value_counts()[data.model.value_counts()<500].index)"
   ]
  },
  {
   "cell_type": "code",
   "execution_count": 175,
   "metadata": {},
   "outputs": [
    {
     "data": {
      "text/plain": [
       "Index([' GLE Class', ' SL CLASS', ' CLS Class', ' V Class', ' S Class',\n",
       "       ' GL Class', ' CLA Class', ' X-CLASS', ' M Class', ' GLS Class', ' SLK',\n",
       "       ' GLB Class', ' G Class', '200', '180', ' R Class', '220'],\n",
       "      dtype='object')"
      ]
     },
     "execution_count": 175,
     "metadata": {},
     "output_type": "execute_result"
    }
   ],
   "source": [
    "data.model.value_counts()[data.model.value_counts()<500].index"
   ]
  },
  {
   "cell_type": "code",
   "execution_count": 179,
   "metadata": {},
   "outputs": [],
   "source": [
    "def deneme(x):\n",
    "    c=data.model.value_counts()[data.model.value_counts()<500].index\n",
    "    if(x in c):\n",
    "        return True\n",
    "    return False\n",
    "data.drop(index=data[data.model.apply(deneme)].index,inplace=True)"
   ]
  },
  {
   "cell_type": "markdown",
   "metadata": {},
   "source": [
    "KAtegorik değerleri sayısal değere dönüştürme"
   ]
  },
  {
   "cell_type": "code",
   "execution_count": 183,
   "metadata": {},
   "outputs": [
    {
     "data": {
      "text/html": [
       "<div>\n",
       "<style scoped>\n",
       "    .dataframe tbody tr th:only-of-type {\n",
       "        vertical-align: middle;\n",
       "    }\n",
       "\n",
       "    .dataframe tbody tr th {\n",
       "        vertical-align: top;\n",
       "    }\n",
       "\n",
       "    .dataframe thead th {\n",
       "        text-align: right;\n",
       "    }\n",
       "</style>\n",
       "<table border=\"1\" class=\"dataframe\">\n",
       "  <thead>\n",
       "    <tr style=\"text-align: right;\">\n",
       "      <th></th>\n",
       "      <th>year</th>\n",
       "      <th>price</th>\n",
       "      <th>mileage</th>\n",
       "      <th>tax</th>\n",
       "      <th>mpg</th>\n",
       "      <th>engineSize</th>\n",
       "      <th>model_ A Class</th>\n",
       "      <th>model_ B Class</th>\n",
       "      <th>model_ C Class</th>\n",
       "      <th>model_ CL Class</th>\n",
       "      <th>model_ E Class</th>\n",
       "      <th>model_ GLA Class</th>\n",
       "      <th>model_ GLC Class</th>\n",
       "      <th>transmission_Automatic</th>\n",
       "      <th>transmission_Manual</th>\n",
       "      <th>transmission_Semi-Auto</th>\n",
       "      <th>fuelType_Diesel</th>\n",
       "      <th>fuelType_Petrol</th>\n",
       "    </tr>\n",
       "  </thead>\n",
       "  <tbody>\n",
       "    <tr>\n",
       "      <th>9</th>\n",
       "      <td>2017</td>\n",
       "      <td>19750</td>\n",
       "      <td>15258</td>\n",
       "      <td>30</td>\n",
       "      <td>64.2</td>\n",
       "      <td>2.1</td>\n",
       "      <td>0</td>\n",
       "      <td>0</td>\n",
       "      <td>0</td>\n",
       "      <td>0</td>\n",
       "      <td>0</td>\n",
       "      <td>1</td>\n",
       "      <td>0</td>\n",
       "      <td>1</td>\n",
       "      <td>0</td>\n",
       "      <td>0</td>\n",
       "      <td>1</td>\n",
       "      <td>0</td>\n",
       "    </tr>\n",
       "    <tr>\n",
       "      <th>10</th>\n",
       "      <td>2020</td>\n",
       "      <td>32980</td>\n",
       "      <td>606</td>\n",
       "      <td>145</td>\n",
       "      <td>35.8</td>\n",
       "      <td>2.0</td>\n",
       "      <td>1</td>\n",
       "      <td>0</td>\n",
       "      <td>0</td>\n",
       "      <td>0</td>\n",
       "      <td>0</td>\n",
       "      <td>0</td>\n",
       "      <td>0</td>\n",
       "      <td>1</td>\n",
       "      <td>0</td>\n",
       "      <td>0</td>\n",
       "      <td>0</td>\n",
       "      <td>1</td>\n",
       "    </tr>\n",
       "    <tr>\n",
       "      <th>11</th>\n",
       "      <td>2020</td>\n",
       "      <td>26980</td>\n",
       "      <td>1000</td>\n",
       "      <td>145</td>\n",
       "      <td>62.8</td>\n",
       "      <td>1.5</td>\n",
       "      <td>1</td>\n",
       "      <td>0</td>\n",
       "      <td>0</td>\n",
       "      <td>0</td>\n",
       "      <td>0</td>\n",
       "      <td>0</td>\n",
       "      <td>0</td>\n",
       "      <td>1</td>\n",
       "      <td>0</td>\n",
       "      <td>0</td>\n",
       "      <td>1</td>\n",
       "      <td>0</td>\n",
       "    </tr>\n",
       "    <tr>\n",
       "      <th>12</th>\n",
       "      <td>2019</td>\n",
       "      <td>23750</td>\n",
       "      <td>278</td>\n",
       "      <td>145</td>\n",
       "      <td>55.4</td>\n",
       "      <td>2.0</td>\n",
       "      <td>0</td>\n",
       "      <td>1</td>\n",
       "      <td>0</td>\n",
       "      <td>0</td>\n",
       "      <td>0</td>\n",
       "      <td>0</td>\n",
       "      <td>0</td>\n",
       "      <td>1</td>\n",
       "      <td>0</td>\n",
       "      <td>0</td>\n",
       "      <td>1</td>\n",
       "      <td>0</td>\n",
       "    </tr>\n",
       "    <tr>\n",
       "      <th>14</th>\n",
       "      <td>2016</td>\n",
       "      <td>18980</td>\n",
       "      <td>41713</td>\n",
       "      <td>125</td>\n",
       "      <td>56.6</td>\n",
       "      <td>2.1</td>\n",
       "      <td>0</td>\n",
       "      <td>0</td>\n",
       "      <td>0</td>\n",
       "      <td>0</td>\n",
       "      <td>0</td>\n",
       "      <td>1</td>\n",
       "      <td>0</td>\n",
       "      <td>1</td>\n",
       "      <td>0</td>\n",
       "      <td>0</td>\n",
       "      <td>1</td>\n",
       "      <td>0</td>\n",
       "    </tr>\n",
       "    <tr>\n",
       "      <th>...</th>\n",
       "      <td>...</td>\n",
       "      <td>...</td>\n",
       "      <td>...</td>\n",
       "      <td>...</td>\n",
       "      <td>...</td>\n",
       "      <td>...</td>\n",
       "      <td>...</td>\n",
       "      <td>...</td>\n",
       "      <td>...</td>\n",
       "      <td>...</td>\n",
       "      <td>...</td>\n",
       "      <td>...</td>\n",
       "      <td>...</td>\n",
       "      <td>...</td>\n",
       "      <td>...</td>\n",
       "      <td>...</td>\n",
       "      <td>...</td>\n",
       "      <td>...</td>\n",
       "    </tr>\n",
       "    <tr>\n",
       "      <th>13112</th>\n",
       "      <td>2019</td>\n",
       "      <td>30399</td>\n",
       "      <td>5000</td>\n",
       "      <td>145</td>\n",
       "      <td>61.4</td>\n",
       "      <td>2.0</td>\n",
       "      <td>0</td>\n",
       "      <td>0</td>\n",
       "      <td>1</td>\n",
       "      <td>0</td>\n",
       "      <td>0</td>\n",
       "      <td>0</td>\n",
       "      <td>0</td>\n",
       "      <td>1</td>\n",
       "      <td>0</td>\n",
       "      <td>0</td>\n",
       "      <td>1</td>\n",
       "      <td>0</td>\n",
       "    </tr>\n",
       "    <tr>\n",
       "      <th>13113</th>\n",
       "      <td>2020</td>\n",
       "      <td>30999</td>\n",
       "      <td>1000</td>\n",
       "      <td>145</td>\n",
       "      <td>64.2</td>\n",
       "      <td>2.0</td>\n",
       "      <td>0</td>\n",
       "      <td>0</td>\n",
       "      <td>1</td>\n",
       "      <td>0</td>\n",
       "      <td>0</td>\n",
       "      <td>0</td>\n",
       "      <td>0</td>\n",
       "      <td>1</td>\n",
       "      <td>0</td>\n",
       "      <td>0</td>\n",
       "      <td>1</td>\n",
       "      <td>0</td>\n",
       "    </tr>\n",
       "    <tr>\n",
       "      <th>13114</th>\n",
       "      <td>2020</td>\n",
       "      <td>35999</td>\n",
       "      <td>500</td>\n",
       "      <td>145</td>\n",
       "      <td>55.4</td>\n",
       "      <td>2.0</td>\n",
       "      <td>0</td>\n",
       "      <td>0</td>\n",
       "      <td>1</td>\n",
       "      <td>0</td>\n",
       "      <td>0</td>\n",
       "      <td>0</td>\n",
       "      <td>0</td>\n",
       "      <td>1</td>\n",
       "      <td>0</td>\n",
       "      <td>0</td>\n",
       "      <td>1</td>\n",
       "      <td>0</td>\n",
       "    </tr>\n",
       "    <tr>\n",
       "      <th>13115</th>\n",
       "      <td>2020</td>\n",
       "      <td>24699</td>\n",
       "      <td>2500</td>\n",
       "      <td>145</td>\n",
       "      <td>55.4</td>\n",
       "      <td>2.0</td>\n",
       "      <td>0</td>\n",
       "      <td>1</td>\n",
       "      <td>0</td>\n",
       "      <td>0</td>\n",
       "      <td>0</td>\n",
       "      <td>0</td>\n",
       "      <td>0</td>\n",
       "      <td>1</td>\n",
       "      <td>0</td>\n",
       "      <td>0</td>\n",
       "      <td>1</td>\n",
       "      <td>0</td>\n",
       "    </tr>\n",
       "    <tr>\n",
       "      <th>13116</th>\n",
       "      <td>2019</td>\n",
       "      <td>30999</td>\n",
       "      <td>11612</td>\n",
       "      <td>145</td>\n",
       "      <td>41.5</td>\n",
       "      <td>2.1</td>\n",
       "      <td>0</td>\n",
       "      <td>0</td>\n",
       "      <td>0</td>\n",
       "      <td>0</td>\n",
       "      <td>0</td>\n",
       "      <td>0</td>\n",
       "      <td>1</td>\n",
       "      <td>1</td>\n",
       "      <td>0</td>\n",
       "      <td>0</td>\n",
       "      <td>1</td>\n",
       "      <td>0</td>\n",
       "    </tr>\n",
       "  </tbody>\n",
       "</table>\n",
       "<p>10621 rows × 18 columns</p>\n",
       "</div>"
      ],
      "text/plain": [
       "       year  price  mileage  tax   mpg  engineSize  model_ A Class  \\\n",
       "9      2017  19750    15258   30  64.2         2.1               0   \n",
       "10     2020  32980      606  145  35.8         2.0               1   \n",
       "11     2020  26980     1000  145  62.8         1.5               1   \n",
       "12     2019  23750      278  145  55.4         2.0               0   \n",
       "14     2016  18980    41713  125  56.6         2.1               0   \n",
       "...     ...    ...      ...  ...   ...         ...             ...   \n",
       "13112  2019  30399     5000  145  61.4         2.0               0   \n",
       "13113  2020  30999     1000  145  64.2         2.0               0   \n",
       "13114  2020  35999      500  145  55.4         2.0               0   \n",
       "13115  2020  24699     2500  145  55.4         2.0               0   \n",
       "13116  2019  30999    11612  145  41.5         2.1               0   \n",
       "\n",
       "       model_ B Class  model_ C Class  model_ CL Class  model_ E Class  \\\n",
       "9                   0               0                0               0   \n",
       "10                  0               0                0               0   \n",
       "11                  0               0                0               0   \n",
       "12                  1               0                0               0   \n",
       "14                  0               0                0               0   \n",
       "...               ...             ...              ...             ...   \n",
       "13112               0               1                0               0   \n",
       "13113               0               1                0               0   \n",
       "13114               0               1                0               0   \n",
       "13115               1               0                0               0   \n",
       "13116               0               0                0               0   \n",
       "\n",
       "       model_ GLA Class  model_ GLC Class  transmission_Automatic  \\\n",
       "9                     1                 0                       1   \n",
       "10                    0                 0                       1   \n",
       "11                    0                 0                       1   \n",
       "12                    0                 0                       1   \n",
       "14                    1                 0                       1   \n",
       "...                 ...               ...                     ...   \n",
       "13112                 0                 0                       1   \n",
       "13113                 0                 0                       1   \n",
       "13114                 0                 0                       1   \n",
       "13115                 0                 0                       1   \n",
       "13116                 0                 1                       1   \n",
       "\n",
       "       transmission_Manual  transmission_Semi-Auto  fuelType_Diesel  \\\n",
       "9                        0                       0                1   \n",
       "10                       0                       0                0   \n",
       "11                       0                       0                1   \n",
       "12                       0                       0                1   \n",
       "14                       0                       0                1   \n",
       "...                    ...                     ...              ...   \n",
       "13112                    0                       0                1   \n",
       "13113                    0                       0                1   \n",
       "13114                    0                       0                1   \n",
       "13115                    0                       0                1   \n",
       "13116                    0                       0                1   \n",
       "\n",
       "       fuelType_Petrol  \n",
       "9                    0  \n",
       "10                   1  \n",
       "11                   0  \n",
       "12                   0  \n",
       "14                   0  \n",
       "...                ...  \n",
       "13112                0  \n",
       "13113                0  \n",
       "13114                0  \n",
       "13115                0  \n",
       "13116                0  \n",
       "\n",
       "[10621 rows x 18 columns]"
      ]
     },
     "execution_count": 183,
     "metadata": {},
     "output_type": "execute_result"
    }
   ],
   "source": [
    "veri=pd.get_dummies(data)\n",
    "veri.drop(columns=\"fuelType_Diesel\")\n",
    "veri"
   ]
  },
  {
   "cell_type": "markdown",
   "metadata": {},
   "source": [
    "model oluşturma"
   ]
  },
  {
   "cell_type": "code",
   "execution_count": 185,
   "metadata": {},
   "outputs": [],
   "source": [
    "from sklearn.linear_model import LinearRegression\n",
    "from sklearn.metrics import mean_squared_error,r2_score\n",
    "from sklearn.model_selection import cross_val_score,cross_val_predict,cross_validate,train_test_split\n",
    "import statsmodels.api as sm"
   ]
  },
  {
   "cell_type": "code",
   "execution_count": 187,
   "metadata": {},
   "outputs": [
    {
     "data": {
      "text/html": [
       "<div>\n",
       "<style scoped>\n",
       "    .dataframe tbody tr th:only-of-type {\n",
       "        vertical-align: middle;\n",
       "    }\n",
       "\n",
       "    .dataframe tbody tr th {\n",
       "        vertical-align: top;\n",
       "    }\n",
       "\n",
       "    .dataframe thead th {\n",
       "        text-align: right;\n",
       "    }\n",
       "</style>\n",
       "<table border=\"1\" class=\"dataframe\">\n",
       "  <thead>\n",
       "    <tr style=\"text-align: right;\">\n",
       "      <th></th>\n",
       "      <th>const</th>\n",
       "      <th>year</th>\n",
       "      <th>price</th>\n",
       "      <th>mileage</th>\n",
       "      <th>tax</th>\n",
       "      <th>mpg</th>\n",
       "      <th>engineSize</th>\n",
       "      <th>model_ A Class</th>\n",
       "      <th>model_ B Class</th>\n",
       "      <th>model_ C Class</th>\n",
       "      <th>model_ CL Class</th>\n",
       "      <th>model_ E Class</th>\n",
       "      <th>model_ GLA Class</th>\n",
       "      <th>model_ GLC Class</th>\n",
       "      <th>transmission_Automatic</th>\n",
       "      <th>transmission_Manual</th>\n",
       "      <th>transmission_Semi-Auto</th>\n",
       "      <th>fuelType_Diesel</th>\n",
       "      <th>fuelType_Petrol</th>\n",
       "    </tr>\n",
       "  </thead>\n",
       "  <tbody>\n",
       "    <tr>\n",
       "      <th>9</th>\n",
       "      <td>1.0</td>\n",
       "      <td>2017</td>\n",
       "      <td>19750</td>\n",
       "      <td>15258</td>\n",
       "      <td>30</td>\n",
       "      <td>64.2</td>\n",
       "      <td>2.1</td>\n",
       "      <td>0</td>\n",
       "      <td>0</td>\n",
       "      <td>0</td>\n",
       "      <td>0</td>\n",
       "      <td>0</td>\n",
       "      <td>1</td>\n",
       "      <td>0</td>\n",
       "      <td>1</td>\n",
       "      <td>0</td>\n",
       "      <td>0</td>\n",
       "      <td>1</td>\n",
       "      <td>0</td>\n",
       "    </tr>\n",
       "    <tr>\n",
       "      <th>10</th>\n",
       "      <td>1.0</td>\n",
       "      <td>2020</td>\n",
       "      <td>32980</td>\n",
       "      <td>606</td>\n",
       "      <td>145</td>\n",
       "      <td>35.8</td>\n",
       "      <td>2.0</td>\n",
       "      <td>1</td>\n",
       "      <td>0</td>\n",
       "      <td>0</td>\n",
       "      <td>0</td>\n",
       "      <td>0</td>\n",
       "      <td>0</td>\n",
       "      <td>0</td>\n",
       "      <td>1</td>\n",
       "      <td>0</td>\n",
       "      <td>0</td>\n",
       "      <td>0</td>\n",
       "      <td>1</td>\n",
       "    </tr>\n",
       "    <tr>\n",
       "      <th>11</th>\n",
       "      <td>1.0</td>\n",
       "      <td>2020</td>\n",
       "      <td>26980</td>\n",
       "      <td>1000</td>\n",
       "      <td>145</td>\n",
       "      <td>62.8</td>\n",
       "      <td>1.5</td>\n",
       "      <td>1</td>\n",
       "      <td>0</td>\n",
       "      <td>0</td>\n",
       "      <td>0</td>\n",
       "      <td>0</td>\n",
       "      <td>0</td>\n",
       "      <td>0</td>\n",
       "      <td>1</td>\n",
       "      <td>0</td>\n",
       "      <td>0</td>\n",
       "      <td>1</td>\n",
       "      <td>0</td>\n",
       "    </tr>\n",
       "    <tr>\n",
       "      <th>12</th>\n",
       "      <td>1.0</td>\n",
       "      <td>2019</td>\n",
       "      <td>23750</td>\n",
       "      <td>278</td>\n",
       "      <td>145</td>\n",
       "      <td>55.4</td>\n",
       "      <td>2.0</td>\n",
       "      <td>0</td>\n",
       "      <td>1</td>\n",
       "      <td>0</td>\n",
       "      <td>0</td>\n",
       "      <td>0</td>\n",
       "      <td>0</td>\n",
       "      <td>0</td>\n",
       "      <td>1</td>\n",
       "      <td>0</td>\n",
       "      <td>0</td>\n",
       "      <td>1</td>\n",
       "      <td>0</td>\n",
       "    </tr>\n",
       "    <tr>\n",
       "      <th>14</th>\n",
       "      <td>1.0</td>\n",
       "      <td>2016</td>\n",
       "      <td>18980</td>\n",
       "      <td>41713</td>\n",
       "      <td>125</td>\n",
       "      <td>56.6</td>\n",
       "      <td>2.1</td>\n",
       "      <td>0</td>\n",
       "      <td>0</td>\n",
       "      <td>0</td>\n",
       "      <td>0</td>\n",
       "      <td>0</td>\n",
       "      <td>1</td>\n",
       "      <td>0</td>\n",
       "      <td>1</td>\n",
       "      <td>0</td>\n",
       "      <td>0</td>\n",
       "      <td>1</td>\n",
       "      <td>0</td>\n",
       "    </tr>\n",
       "  </tbody>\n",
       "</table>\n",
       "</div>"
      ],
      "text/plain": [
       "    const  year  price  mileage  tax   mpg  engineSize  model_ A Class  \\\n",
       "9     1.0  2017  19750    15258   30  64.2         2.1               0   \n",
       "10    1.0  2020  32980      606  145  35.8         2.0               1   \n",
       "11    1.0  2020  26980     1000  145  62.8         1.5               1   \n",
       "12    1.0  2019  23750      278  145  55.4         2.0               0   \n",
       "14    1.0  2016  18980    41713  125  56.6         2.1               0   \n",
       "\n",
       "    model_ B Class  model_ C Class  model_ CL Class  model_ E Class  \\\n",
       "9                0               0                0               0   \n",
       "10               0               0                0               0   \n",
       "11               0               0                0               0   \n",
       "12               1               0                0               0   \n",
       "14               0               0                0               0   \n",
       "\n",
       "    model_ GLA Class  model_ GLC Class  transmission_Automatic  \\\n",
       "9                  1                 0                       1   \n",
       "10                 0                 0                       1   \n",
       "11                 0                 0                       1   \n",
       "12                 0                 0                       1   \n",
       "14                 1                 0                       1   \n",
       "\n",
       "    transmission_Manual  transmission_Semi-Auto  fuelType_Diesel  \\\n",
       "9                     0                       0                1   \n",
       "10                    0                       0                0   \n",
       "11                    0                       0                1   \n",
       "12                    0                       0                1   \n",
       "14                    0                       0                1   \n",
       "\n",
       "    fuelType_Petrol  \n",
       "9                 0  \n",
       "10                1  \n",
       "11                0  \n",
       "12                0  \n",
       "14                0  "
      ]
     },
     "execution_count": 187,
     "metadata": {},
     "output_type": "execute_result"
    }
   ],
   "source": [
    "X=sm.add_constant(data=veri)\n",
    "X.head()"
   ]
  },
  {
   "cell_type": "code",
   "execution_count": 199,
   "metadata": {},
   "outputs": [
    {
     "data": {
      "text/html": [
       "<table class=\"simpletable\">\n",
       "<caption>OLS Regression Results</caption>\n",
       "<tr>\n",
       "  <th>Dep. Variable:</th>          <td>price</td>      <th>  R-squared:         </th>  <td>   0.822</td>  \n",
       "</tr>\n",
       "<tr>\n",
       "  <th>Model:</th>                   <td>OLS</td>       <th>  Adj. R-squared:    </th>  <td>   0.821</td>  \n",
       "</tr>\n",
       "<tr>\n",
       "  <th>Method:</th>             <td>Least Squares</td>  <th>  F-statistic:       </th>  <td>   3491.</td>  \n",
       "</tr>\n",
       "<tr>\n",
       "  <th>Date:</th>             <td>Wed, 11 Aug 2021</td> <th>  Prob (F-statistic):</th>   <td>  0.00</td>   \n",
       "</tr>\n",
       "<tr>\n",
       "  <th>Time:</th>                 <td>18:13:53</td>     <th>  Log-Likelihood:    </th> <td>-1.0134e+05</td>\n",
       "</tr>\n",
       "<tr>\n",
       "  <th>No. Observations:</th>      <td> 10621</td>      <th>  AIC:               </th>  <td>2.027e+05</td> \n",
       "</tr>\n",
       "<tr>\n",
       "  <th>Df Residuals:</th>          <td> 10606</td>      <th>  BIC:               </th>  <td>2.028e+05</td> \n",
       "</tr>\n",
       "<tr>\n",
       "  <th>Df Model:</th>              <td>    14</td>      <th>                     </th>      <td> </td>     \n",
       "</tr>\n",
       "<tr>\n",
       "  <th>Covariance Type:</th>      <td>nonrobust</td>    <th>                     </th>      <td> </td>     \n",
       "</tr>\n",
       "</table>\n",
       "<table class=\"simpletable\">\n",
       "<tr>\n",
       "             <td></td>               <th>coef</th>     <th>std err</th>      <th>t</th>      <th>P>|t|</th>  <th>[0.025</th>    <th>0.975]</th>  \n",
       "</tr>\n",
       "<tr>\n",
       "  <th>year</th>                   <td> 2321.9305</td> <td>   31.558</td> <td>   73.576</td> <td> 0.000</td> <td> 2260.070</td> <td> 2383.791</td>\n",
       "</tr>\n",
       "<tr>\n",
       "  <th>mileage</th>                <td>   -0.1027</td> <td>    0.003</td> <td>  -36.538</td> <td> 0.000</td> <td>   -0.108</td> <td>   -0.097</td>\n",
       "</tr>\n",
       "<tr>\n",
       "  <th>tax</th>                    <td>  -17.5250</td> <td>    0.797</td> <td>  -22.001</td> <td> 0.000</td> <td>  -19.086</td> <td>  -15.964</td>\n",
       "</tr>\n",
       "<tr>\n",
       "  <th>mpg</th>                    <td> -234.9148</td> <td>    6.053</td> <td>  -38.810</td> <td> 0.000</td> <td> -246.780</td> <td> -223.050</td>\n",
       "</tr>\n",
       "<tr>\n",
       "  <th>engineSize</th>             <td> 5787.7990</td> <td>  100.679</td> <td>   57.488</td> <td> 0.000</td> <td> 5590.450</td> <td> 5985.148</td>\n",
       "</tr>\n",
       "<tr>\n",
       "  <th>model_ A Class</th>         <td>-6.824e+05</td> <td> 9330.085</td> <td>  -73.138</td> <td> 0.000</td> <td>-7.01e+05</td> <td>-6.64e+05</td>\n",
       "</tr>\n",
       "<tr>\n",
       "  <th>model_ B Class</th>         <td>-6.848e+05</td> <td> 9336.219</td> <td>  -73.345</td> <td> 0.000</td> <td>-7.03e+05</td> <td>-6.66e+05</td>\n",
       "</tr>\n",
       "<tr>\n",
       "  <th>model_ C Class</th>         <td>-6.812e+05</td> <td> 9337.245</td> <td>  -72.959</td> <td> 0.000</td> <td>   -7e+05</td> <td>-6.63e+05</td>\n",
       "</tr>\n",
       "<tr>\n",
       "  <th>model_ CL Class</th>        <td>-6.815e+05</td> <td> 9329.976</td> <td>  -73.047</td> <td> 0.000</td> <td>   -7e+05</td> <td>-6.63e+05</td>\n",
       "</tr>\n",
       "<tr>\n",
       "  <th>model_ E Class</th>         <td>-6.796e+05</td> <td> 9338.028</td> <td>  -72.774</td> <td> 0.000</td> <td>-6.98e+05</td> <td>-6.61e+05</td>\n",
       "</tr>\n",
       "<tr>\n",
       "  <th>model_ GLA Class</th>       <td>-6.831e+05</td> <td> 9325.087</td> <td>  -73.251</td> <td> 0.000</td> <td>-7.01e+05</td> <td>-6.65e+05</td>\n",
       "</tr>\n",
       "<tr>\n",
       "  <th>model_ GLC Class</th>       <td>-6.771e+05</td> <td> 9337.241</td> <td>  -72.512</td> <td> 0.000</td> <td>-6.95e+05</td> <td>-6.59e+05</td>\n",
       "</tr>\n",
       "<tr>\n",
       "  <th>transmission_Automatic</th> <td>-1.589e+06</td> <td> 2.18e+04</td> <td>  -72.990</td> <td> 0.000</td> <td>-1.63e+06</td> <td>-1.55e+06</td>\n",
       "</tr>\n",
       "<tr>\n",
       "  <th>transmission_Manual</th>    <td>-1.591e+06</td> <td> 2.18e+04</td> <td>  -73.068</td> <td> 0.000</td> <td>-1.63e+06</td> <td>-1.55e+06</td>\n",
       "</tr>\n",
       "<tr>\n",
       "  <th>transmission_Semi-Auto</th> <td>-1.589e+06</td> <td> 2.18e+04</td> <td>  -72.966</td> <td> 0.000</td> <td>-1.63e+06</td> <td>-1.55e+06</td>\n",
       "</tr>\n",
       "<tr>\n",
       "  <th>fuelType_Diesel</th>        <td>-2.384e+06</td> <td> 3.27e+04</td> <td>  -72.975</td> <td> 0.000</td> <td>-2.45e+06</td> <td>-2.32e+06</td>\n",
       "</tr>\n",
       "<tr>\n",
       "  <th>fuelType_Petrol</th>        <td>-2.385e+06</td> <td> 3.27e+04</td> <td>  -73.041</td> <td> 0.000</td> <td>-2.45e+06</td> <td>-2.32e+06</td>\n",
       "</tr>\n",
       "</table>\n",
       "<table class=\"simpletable\">\n",
       "<tr>\n",
       "  <th>Omnibus:</th>       <td>1542.122</td> <th>  Durbin-Watson:     </th> <td>   1.709</td>\n",
       "</tr>\n",
       "<tr>\n",
       "  <th>Prob(Omnibus):</th>  <td> 0.000</td>  <th>  Jarque-Bera (JB):  </th> <td>5577.796</td>\n",
       "</tr>\n",
       "<tr>\n",
       "  <th>Skew:</th>           <td> 0.709</td>  <th>  Prob(JB):          </th> <td>    0.00</td>\n",
       "</tr>\n",
       "<tr>\n",
       "  <th>Kurtosis:</th>       <td> 6.254</td>  <th>  Cond. No.          </th> <td>2.95e+20</td>\n",
       "</tr>\n",
       "</table><br/><br/>Notes:<br/>[1] Standard Errors assume that the covariance matrix of the errors is correctly specified.<br/>[2] The smallest eigenvalue is  9e-29. This might indicate that there are<br/>strong multicollinearity problems or that the design matrix is singular."
      ],
      "text/plain": [
       "<class 'statsmodels.iolib.summary.Summary'>\n",
       "\"\"\"\n",
       "                            OLS Regression Results                            \n",
       "==============================================================================\n",
       "Dep. Variable:                  price   R-squared:                       0.822\n",
       "Model:                            OLS   Adj. R-squared:                  0.821\n",
       "Method:                 Least Squares   F-statistic:                     3491.\n",
       "Date:                Wed, 11 Aug 2021   Prob (F-statistic):               0.00\n",
       "Time:                        18:13:53   Log-Likelihood:            -1.0134e+05\n",
       "No. Observations:               10621   AIC:                         2.027e+05\n",
       "Df Residuals:                   10606   BIC:                         2.028e+05\n",
       "Df Model:                          14                                         \n",
       "Covariance Type:            nonrobust                                         \n",
       "==========================================================================================\n",
       "                             coef    std err          t      P>|t|      [0.025      0.975]\n",
       "------------------------------------------------------------------------------------------\n",
       "year                    2321.9305     31.558     73.576      0.000    2260.070    2383.791\n",
       "mileage                   -0.1027      0.003    -36.538      0.000      -0.108      -0.097\n",
       "tax                      -17.5250      0.797    -22.001      0.000     -19.086     -15.964\n",
       "mpg                     -234.9148      6.053    -38.810      0.000    -246.780    -223.050\n",
       "engineSize              5787.7990    100.679     57.488      0.000    5590.450    5985.148\n",
       "model_ A Class         -6.824e+05   9330.085    -73.138      0.000   -7.01e+05   -6.64e+05\n",
       "model_ B Class         -6.848e+05   9336.219    -73.345      0.000   -7.03e+05   -6.66e+05\n",
       "model_ C Class         -6.812e+05   9337.245    -72.959      0.000      -7e+05   -6.63e+05\n",
       "model_ CL Class        -6.815e+05   9329.976    -73.047      0.000      -7e+05   -6.63e+05\n",
       "model_ E Class         -6.796e+05   9338.028    -72.774      0.000   -6.98e+05   -6.61e+05\n",
       "model_ GLA Class       -6.831e+05   9325.087    -73.251      0.000   -7.01e+05   -6.65e+05\n",
       "model_ GLC Class       -6.771e+05   9337.241    -72.512      0.000   -6.95e+05   -6.59e+05\n",
       "transmission_Automatic -1.589e+06   2.18e+04    -72.990      0.000   -1.63e+06   -1.55e+06\n",
       "transmission_Manual    -1.591e+06   2.18e+04    -73.068      0.000   -1.63e+06   -1.55e+06\n",
       "transmission_Semi-Auto -1.589e+06   2.18e+04    -72.966      0.000   -1.63e+06   -1.55e+06\n",
       "fuelType_Diesel        -2.384e+06   3.27e+04    -72.975      0.000   -2.45e+06   -2.32e+06\n",
       "fuelType_Petrol        -2.385e+06   3.27e+04    -73.041      0.000   -2.45e+06   -2.32e+06\n",
       "==============================================================================\n",
       "Omnibus:                     1542.122   Durbin-Watson:                   1.709\n",
       "Prob(Omnibus):                  0.000   Jarque-Bera (JB):             5577.796\n",
       "Skew:                           0.709   Prob(JB):                         0.00\n",
       "Kurtosis:                       6.254   Cond. No.                     2.95e+20\n",
       "==============================================================================\n",
       "\n",
       "Notes:\n",
       "[1] Standard Errors assume that the covariance matrix of the errors is correctly specified.\n",
       "[2] The smallest eigenvalue is  9e-29. This might indicate that there are\n",
       "strong multicollinearity problems or that the design matrix is singular.\n",
       "\"\"\""
      ]
     },
     "execution_count": 199,
     "metadata": {},
     "output_type": "execute_result"
    }
   ],
   "source": [
    "x=veri.drop(columns=\"price\")\n",
    "y=veri[\"price\"]\n",
    "lm=sm.OLS(endog=y,exog=x)\n",
    "lm=lm.fit()\n",
    "lm.summary()"
   ]
  },
  {
   "cell_type": "code",
   "execution_count": 200,
   "metadata": {},
   "outputs": [
    {
     "data": {
      "text/plain": [
       "LinearRegression()"
      ]
     },
     "execution_count": 200,
     "metadata": {},
     "output_type": "execute_result"
    }
   ],
   "source": [
    "x_train,x_test,y_train,y_test=train_test_split(x,y,test_size=0.3,random_state=42)\n",
    "lm_model=LinearRegression()\n",
    "lm_model.fit(x_train,y_train)"
   ]
  },
  {
   "cell_type": "code",
   "execution_count": 201,
   "metadata": {},
   "outputs": [
    {
     "name": "stdout",
     "output_type": "stream",
     "text": [
      "Eğitim Hatası:3335.3264683102097\n",
      "Test Hatası:3452.1476299214128\n",
      "R2 Score:0.8254948832138607\n"
     ]
    }
   ],
   "source": [
    "print(\"Eğitim Hatası:{}\\nTest Hatası:{}\\nR2 Score:{}\".format(\n",
    "    np.sqrt(mean_squared_error(y_train,lm_model.predict(x_train))),\n",
    "    np.sqrt(mean_squared_error(y_test,lm_model.predict(x_test)))\n",
    ",r2_score(y_train,lm_model.predict(x_train))\n",
    "))"
   ]
  },
  {
   "cell_type": "markdown",
   "metadata": {},
   "source": [
    "Hataları görselleştirme"
   ]
  },
  {
   "cell_type": "code",
   "execution_count": 202,
   "metadata": {},
   "outputs": [
    {
     "data": {
      "text/plain": [
       "year                      2.321931e+03\n",
       "mileage                  -1.027247e-01\n",
       "tax                      -1.752498e+01\n",
       "mpg                      -2.349148e+02\n",
       "engineSize                5.787799e+03\n",
       "model_ A Class           -6.823843e+05\n",
       "model_ B Class           -6.847631e+05\n",
       "model_ C Class           -6.812338e+05\n",
       "model_ CL Class          -6.815291e+05\n",
       "model_ E Class           -6.795684e+05\n",
       "model_ GLA Class         -6.830740e+05\n",
       "model_ GLC Class         -6.770592e+05\n",
       "transmission_Automatic   -1.589416e+06\n",
       "transmission_Manual      -1.590884e+06\n",
       "transmission_Semi-Auto   -1.589312e+06\n",
       "fuelType_Diesel          -2.384253e+06\n",
       "fuelType_Petrol          -2.385359e+06\n",
       "dtype: float64"
      ]
     },
     "execution_count": 202,
     "metadata": {},
     "output_type": "execute_result"
    }
   ],
   "source": [
    "lm.params"
   ]
  },
  {
   "cell_type": "code",
   "execution_count": 203,
   "metadata": {},
   "outputs": [
    {
     "data": {
      "text/plain": [
       "9        21570.490171\n",
       "10       33703.165641\n",
       "11       25531.491052\n",
       "12       25537.178040\n",
       "14       16651.456144\n",
       "             ...     \n",
       "13112    27171.890224\n",
       "13113    29246.958225\n",
       "13114    31365.570645\n",
       "13115    27630.854210\n",
       "13116    35920.880870\n",
       "Length: 10621, dtype: float64"
      ]
     },
     "execution_count": 203,
     "metadata": {},
     "output_type": "execute_result"
    }
   ],
   "source": [
    "lm.fittedvalues"
   ]
  },
  {
   "cell_type": "code",
   "execution_count": 206,
   "metadata": {},
   "outputs": [
    {
     "data": {
      "image/png": "[encoded data removed]",
      "text/plain": [
       "<Figure size 432x288 with 1 Axes>"
      ]
     },
     "metadata": {
      "needs_background": "light"
     },
     "output_type": "display_data"
    }
   ],
   "source": [
    "lm.resid.plot();"
   ]
  },
  {
   "cell_type": "markdown",
   "metadata": {},
   "source": [
    "Model Tuning"
   ]
  },
  {
   "cell_type": "code",
   "execution_count": 209,
   "metadata": {},
   "outputs": [
    {
     "data": {
      "text/plain": [
       "0.8254948832138607"
      ]
     },
     "execution_count": 209,
     "metadata": {},
     "output_type": "execute_result"
    }
   ],
   "source": [
    "lm_model.score(x_train,y_train)"
   ]
  },
  {
   "cell_type": "code",
   "execution_count": 212,
   "metadata": {},
   "outputs": [
    {
     "name": "stdout",
     "output_type": "stream",
     "text": [
      "Tune edilmiş eğitim seti hatası 3342.884141489664\n",
      "Tune edilmiş test seti hatası 3448.123087163976\n"
     ]
    }
   ],
   "source": [
    "print(\"Tune edilmiş eğitim seti hatası {}\".format(np.sqrt(-cross_val_score(estimator=lm_model,X=x_train,y=y_train,cv=10,scoring=\"neg_mean_squared_error\")).mean()))\n",
    "print(\"Tune edilmiş test seti hatası {}\".format(np.sqrt(-cross_val_score(estimator=lm_model,X=x_test,y=y_test,cv=10,scoring=\"neg_mean_squared_error\")).mean()))"
   ]
  },
  {
   "cell_type": "markdown",
   "metadata": {},
   "source": [
    "PCR ile model oluşturma"
   ]
  },
  {
   "cell_type": "code",
   "execution_count": 213,
   "metadata": {},
   "outputs": [],
   "source": [
    "from sklearn.decomposition import PCA\n",
    "from sklearn.preprocessing import scale\n",
    "pca=PCA()\n",
    "x_reduced_train=pca.fit_transform(scale(x_train))\n",
    "x_reduced_test=pca.transform(scale(x_test))"
   ]
  },
  {
   "cell_type": "markdown",
   "metadata": {},
   "source": [
    "bağımsız değişkenlerin açıklama varyanslarına bakalım öncelikle"
   ]
  },
  {
   "cell_type": "code",
   "execution_count": 214,
   "metadata": {},
   "outputs": [
    {
     "data": {
      "text/plain": [
       "array([ 20.48,  33.83,  44.79,  53.53,  61.6 ,  68.38,  74.85,  81.19,\n",
       "        86.92,  91.58,  95.07,  97.69,  99.11, 100.01, 100.01, 100.01,\n",
       "       100.01])"
      ]
     },
     "execution_count": 214,
     "metadata": {},
     "output_type": "execute_result"
    }
   ],
   "source": [
    "np.cumsum(a=np.round(pca.explained_variance_ratio_,decimals=4)*100)"
   ]
  },
  {
   "cell_type": "markdown",
   "metadata": {},
   "source": [
    "9-10 değişkenle veri iyi şekilde açıklanabilir sanki "
   ]
  },
  {
   "cell_type": "markdown",
   "metadata": {},
   "source": [
    "2 boyuta indirgeyip böyle test edelim"
   ]
  },
  {
   "cell_type": "code",
   "execution_count": 216,
   "metadata": {},
   "outputs": [],
   "source": [
    "pcr_model=LinearRegression().fit(x_reduced_train,y_train)"
   ]
  },
  {
   "cell_type": "code",
   "execution_count": 217,
   "metadata": {},
   "outputs": [
    {
     "name": "stdout",
     "output_type": "stream",
     "text": [
      "Eğitim Hatası:3335.3264683101925\n",
      "Test Hatası:3453.964506416236\n",
      "R2 Score:0.8254948832138624\n"
     ]
    }
   ],
   "source": [
    "print(\"Eğitim Hatası:{}\\nTest Hatası:{}\\nR2 Score:{}\".format(\n",
    "    np.sqrt(mean_squared_error(y_train,pcr_model.predict(x_reduced_train))),\n",
    "    np.sqrt(mean_squared_error(y_test,pcr_model.predict(x_reduced_test)))\n",
    ",r2_score(y_train,pcr_model.predict(x_reduced_train))\n",
    "))"
   ]
  },
  {
   "cell_type": "markdown",
   "metadata": {},
   "source": [
    "PCR model tuning"
   ]
  },
  {
   "cell_type": "code",
   "execution_count": 218,
   "metadata": {},
   "outputs": [],
   "source": [
    "from sklearn.model_selection import KFold"
   ]
  },
  {
   "cell_type": "code",
   "execution_count": 220,
   "metadata": {},
   "outputs": [
    {
     "data": {
      "image/png": "[encoded data removed]",
      "text/plain": [
       "<Figure size 432x288 with 1 Axes>"
      ]
     },
     "metadata": {
      "needs_background": "light"
     },
     "output_type": "display_data"
    }
   ],
   "source": [
    "cv_10=KFold(n_splits=10,shuffle=True,random_state=42)\n",
    "lm_model=LinearRegression()\n",
    "rmse=list()\n",
    "for i in np.arange(1,x_reduced_train.shape[1]+1):\n",
    "    score=np.sqrt(-1*cross_val_score(estimator=lm_model,\n",
    "                                     X=x_reduced_train[:,:i],\n",
    "                                     y=y_train.ravel(),\n",
    "                                     cv=cv_10,\n",
    "                                     scoring=\"neg_mean_squared_error\")).mean()\n",
    "    rmse.append(score)\n",
    "plt.plot(rmse,\"-v\")\n",
    "plt.xlabel(\"bileşen sayısı\")\n",
    "plt.ylabel(\"RMSE\")\n",
    "plt.title(\"PCR Model Tuning\")\n",
    "plt.show()"
   ]
  },
  {
   "cell_type": "code",
   "execution_count": 223,
   "metadata": {},
   "outputs": [
    {
     "name": "stdout",
     "output_type": "stream",
     "text": [
      "Eğitim Hatası:3341.947810342538\n",
      "Test Hatası:3462.1046830985397\n",
      "R2 Score:0.8248013349256849\n"
     ]
    }
   ],
   "source": [
    "final_model=LinearRegression()\n",
    "final_model.fit(x_reduced_train[:,:13],y_train)\n",
    "print(\"Eğitim Hatası:{}\\nTest Hatası:{}\\nR2 Score:{}\".format(\n",
    "    np.sqrt(mean_squared_error(y_train,final_model.predict(x_reduced_train[:,:13]))),\n",
    "    np.sqrt(mean_squared_error(y_test,final_model.predict(x_reduced_test[:,:13])))\n",
    ",r2_score(y_train,final_model.predict(x_reduced_train[:,:13]))\n",
    "))"
   ]
  },
  {
   "cell_type": "markdown",
   "metadata": {},
   "source": [
    "PLS model"
   ]
  },
  {
   "cell_type": "code",
   "execution_count": 224,
   "metadata": {},
   "outputs": [],
   "source": [
    "from sklearn.cross_decomposition import PLSRegression,PLSSVD"
   ]
  },
  {
   "cell_type": "code",
   "execution_count": 225,
   "metadata": {},
   "outputs": [
    {
     "name": "stdout",
     "output_type": "stream",
     "text": [
      "Eğitim Hatası:3806.044373114122\n",
      "Test Hatası:3934.3825237461147\n",
      "R2 Score:0.7727629407169321\n"
     ]
    }
   ],
   "source": [
    "pls_model=PLSRegression()\n",
    "pls_model.fit(x_train,y_train)\n",
    "print(\"Eğitim Hatası:{}\\nTest Hatası:{}\\nR2 Score:{}\".format(\n",
    "    np.sqrt(mean_squared_error(y_train,pls_model.predict(x_train))),\n",
    "    np.sqrt(mean_squared_error(y_test,pls_model.predict(x_test)))\n",
    ",r2_score(y_train,pls_model.predict(x_train))\n",
    "))"
   ]
  },
  {
   "cell_type": "code",
   "execution_count": 227,
   "metadata": {},
   "outputs": [
    {
     "name": "stderr",
     "output_type": "stream",
     "text": [
      "C:\\Users\\omerm\\anaconda3\\envs\\PythonProjeleri\\lib\\site-packages\\sklearn\\cross_decomposition\\_pls.py:353: UserWarning: X scores are null at iteration 14\n",
      "  warnings.warn('X scores are null at iteration %s' % k)\n",
      "C:\\Users\\omerm\\anaconda3\\envs\\PythonProjeleri\\lib\\site-packages\\sklearn\\cross_decomposition\\_pls.py:353: UserWarning: X scores are null at iteration 14\n",
      "  warnings.warn('X scores are null at iteration %s' % k)\n",
      "C:\\Users\\omerm\\anaconda3\\envs\\PythonProjeleri\\lib\\site-packages\\sklearn\\cross_decomposition\\_pls.py:353: UserWarning: X scores are null at iteration 14\n",
      "  warnings.warn('X scores are null at iteration %s' % k)\n",
      "C:\\Users\\omerm\\anaconda3\\envs\\PythonProjeleri\\lib\\site-packages\\sklearn\\cross_decomposition\\_pls.py:353: UserWarning: X scores are null at iteration 14\n",
      "  warnings.warn('X scores are null at iteration %s' % k)\n",
      "C:\\Users\\omerm\\anaconda3\\envs\\PythonProjeleri\\lib\\site-packages\\sklearn\\cross_decomposition\\_pls.py:353: UserWarning: X scores are null at iteration 14\n",
      "  warnings.warn('X scores are null at iteration %s' % k)\n",
      "C:\\Users\\omerm\\anaconda3\\envs\\PythonProjeleri\\lib\\site-packages\\sklearn\\cross_decomposition\\_pls.py:353: UserWarning: X scores are null at iteration 14\n",
      "  warnings.warn('X scores are null at iteration %s' % k)\n",
      "C:\\Users\\omerm\\anaconda3\\envs\\PythonProjeleri\\lib\\site-packages\\sklearn\\cross_decomposition\\_pls.py:353: UserWarning: X scores are null at iteration 14\n",
      "  warnings.warn('X scores are null at iteration %s' % k)\n",
      "C:\\Users\\omerm\\anaconda3\\envs\\PythonProjeleri\\lib\\site-packages\\sklearn\\cross_decomposition\\_pls.py:353: UserWarning: X scores are null at iteration 14\n",
      "  warnings.warn('X scores are null at iteration %s' % k)\n",
      "C:\\Users\\omerm\\anaconda3\\envs\\PythonProjeleri\\lib\\site-packages\\sklearn\\cross_decomposition\\_pls.py:353: UserWarning: X scores are null at iteration 14\n",
      "  warnings.warn('X scores are null at iteration %s' % k)\n",
      "C:\\Users\\omerm\\anaconda3\\envs\\PythonProjeleri\\lib\\site-packages\\sklearn\\cross_decomposition\\_pls.py:353: UserWarning: X scores are null at iteration 14\n",
      "  warnings.warn('X scores are null at iteration %s' % k)\n",
      "C:\\Users\\omerm\\anaconda3\\envs\\PythonProjeleri\\lib\\site-packages\\sklearn\\cross_decomposition\\_pls.py:353: UserWarning: X scores are null at iteration 14\n",
      "  warnings.warn('X scores are null at iteration %s' % k)\n",
      "C:\\Users\\omerm\\anaconda3\\envs\\PythonProjeleri\\lib\\site-packages\\sklearn\\cross_decomposition\\_pls.py:353: UserWarning: X scores are null at iteration 14\n",
      "  warnings.warn('X scores are null at iteration %s' % k)\n",
      "C:\\Users\\omerm\\anaconda3\\envs\\PythonProjeleri\\lib\\site-packages\\sklearn\\cross_decomposition\\_pls.py:353: UserWarning: X scores are null at iteration 14\n",
      "  warnings.warn('X scores are null at iteration %s' % k)\n",
      "C:\\Users\\omerm\\anaconda3\\envs\\PythonProjeleri\\lib\\site-packages\\sklearn\\cross_decomposition\\_pls.py:353: UserWarning: X scores are null at iteration 14\n",
      "  warnings.warn('X scores are null at iteration %s' % k)\n",
      "C:\\Users\\omerm\\anaconda3\\envs\\PythonProjeleri\\lib\\site-packages\\sklearn\\cross_decomposition\\_pls.py:353: UserWarning: X scores are null at iteration 14\n",
      "  warnings.warn('X scores are null at iteration %s' % k)\n",
      "C:\\Users\\omerm\\anaconda3\\envs\\PythonProjeleri\\lib\\site-packages\\sklearn\\cross_decomposition\\_pls.py:353: UserWarning: X scores are null at iteration 14\n",
      "  warnings.warn('X scores are null at iteration %s' % k)\n",
      "C:\\Users\\omerm\\anaconda3\\envs\\PythonProjeleri\\lib\\site-packages\\sklearn\\cross_decomposition\\_pls.py:353: UserWarning: X scores are null at iteration 14\n",
      "  warnings.warn('X scores are null at iteration %s' % k)\n",
      "C:\\Users\\omerm\\anaconda3\\envs\\PythonProjeleri\\lib\\site-packages\\sklearn\\cross_decomposition\\_pls.py:353: UserWarning: X scores are null at iteration 14\n",
      "  warnings.warn('X scores are null at iteration %s' % k)\n",
      "C:\\Users\\omerm\\anaconda3\\envs\\PythonProjeleri\\lib\\site-packages\\sklearn\\cross_decomposition\\_pls.py:353: UserWarning: X scores are null at iteration 14\n",
      "  warnings.warn('X scores are null at iteration %s' % k)\n",
      "C:\\Users\\omerm\\anaconda3\\envs\\PythonProjeleri\\lib\\site-packages\\sklearn\\cross_decomposition\\_pls.py:353: UserWarning: X scores are null at iteration 14\n",
      "  warnings.warn('X scores are null at iteration %s' % k)\n",
      "C:\\Users\\omerm\\anaconda3\\envs\\PythonProjeleri\\lib\\site-packages\\sklearn\\cross_decomposition\\_pls.py:353: UserWarning: X scores are null at iteration 14\n",
      "  warnings.warn('X scores are null at iteration %s' % k)\n",
      "C:\\Users\\omerm\\anaconda3\\envs\\PythonProjeleri\\lib\\site-packages\\sklearn\\cross_decomposition\\_pls.py:353: UserWarning: X scores are null at iteration 14\n",
      "  warnings.warn('X scores are null at iteration %s' % k)\n",
      "C:\\Users\\omerm\\anaconda3\\envs\\PythonProjeleri\\lib\\site-packages\\sklearn\\cross_decomposition\\_pls.py:353: UserWarning: X scores are null at iteration 14\n",
      "  warnings.warn('X scores are null at iteration %s' % k)\n",
      "C:\\Users\\omerm\\anaconda3\\envs\\PythonProjeleri\\lib\\site-packages\\sklearn\\cross_decomposition\\_pls.py:353: UserWarning: X scores are null at iteration 14\n",
      "  warnings.warn('X scores are null at iteration %s' % k)\n",
      "C:\\Users\\omerm\\anaconda3\\envs\\PythonProjeleri\\lib\\site-packages\\sklearn\\cross_decomposition\\_pls.py:353: UserWarning: X scores are null at iteration 14\n",
      "  warnings.warn('X scores are null at iteration %s' % k)\n",
      "C:\\Users\\omerm\\anaconda3\\envs\\PythonProjeleri\\lib\\site-packages\\sklearn\\cross_decomposition\\_pls.py:353: UserWarning: X scores are null at iteration 14\n",
      "  warnings.warn('X scores are null at iteration %s' % k)\n",
      "C:\\Users\\omerm\\anaconda3\\envs\\PythonProjeleri\\lib\\site-packages\\sklearn\\cross_decomposition\\_pls.py:353: UserWarning: X scores are null at iteration 14\n",
      "  warnings.warn('X scores are null at iteration %s' % k)\n",
      "C:\\Users\\omerm\\anaconda3\\envs\\PythonProjeleri\\lib\\site-packages\\sklearn\\cross_decomposition\\_pls.py:353: UserWarning: X scores are null at iteration 14\n",
      "  warnings.warn('X scores are null at iteration %s' % k)\n",
      "C:\\Users\\omerm\\anaconda3\\envs\\PythonProjeleri\\lib\\site-packages\\sklearn\\cross_decomposition\\_pls.py:353: UserWarning: X scores are null at iteration 14\n",
      "  warnings.warn('X scores are null at iteration %s' % k)\n",
      "C:\\Users\\omerm\\anaconda3\\envs\\PythonProjeleri\\lib\\site-packages\\sklearn\\cross_decomposition\\_pls.py:353: UserWarning: X scores are null at iteration 14\n",
      "  warnings.warn('X scores are null at iteration %s' % k)\n"
     ]
    },
    {
     "data": {
      "text/plain": [
       "Text(0.5, 1.0, 'Salary')"
      ]
     },
     "execution_count": 227,
     "metadata": {},
     "output_type": "execute_result"
    },
    {
     "data": {
      "image/png": "[encoded data removed]",
      "text/plain": [
       "<Figure size 432x288 with 1 Axes>"
      ]
     },
     "metadata": {
      "needs_background": "light"
     },
     "output_type": "display_data"
    }
   ],
   "source": [
    "cv_10=KFold(n_splits=10,shuffle=True,random_state=1)\n",
    "rmse=list()\n",
    "for i in np.arange(1,x_train.shape[1]+1):\n",
    "    pls=PLSRegression(n_components=i)\n",
    "    score=np.sqrt(-1*cross_val_score(estimator=pls,\n",
    "                                     X=x_train,y=y_train,\n",
    "                                     cv=cv_10,scoring=\"neg_mean_squared_error\").mean())\n",
    "    rmse.append(score)\n",
    "plt.plot(np.arange(1,x_train.shape[1]+1),np.array(rmse),\"-v\",c=\"r\")\n",
    "plt.xlabel(\"bileşen sayısı\")\n",
    "plt.ylabel(\"RMSE\")\n",
    "plt.title(\"Salary\")"
   ]
  },
  {
   "cell_type": "code",
   "execution_count": 228,
   "metadata": {},
   "outputs": [
    {
     "name": "stdout",
     "output_type": "stream",
     "text": [
      "Eğitim Hatası:3343.48962821479\n",
      "Test Hatası:3455.597552461482\n",
      "R2 Score:0.8246396407522821\n"
     ]
    }
   ],
   "source": [
    "final_model=PLSRegression(5)\n",
    "final_model.fit(x_train,y_train)\n",
    "print(\"Eğitim Hatası:{}\\nTest Hatası:{}\\nR2 Score:{}\".format(\n",
    "    np.sqrt(mean_squared_error(y_train,final_model.predict(x_train))),np.sqrt(mean_squared_error(y_test,final_model.predict(x_test)))\n",
    ",r2_score(y_train,final_model.predict(x_train))\n",
    "))"
   ]
  },
  {
   "cell_type": "code",
   "execution_count": null,
   "metadata": {},
   "outputs": [],
   "source": []
  },
  {
   "cell_type": "code",
   "execution_count": null,
   "metadata": {},
   "outputs": [],
   "source": []
  },
  {
   "cell_type": "code",
   "execution_count": null,
   "metadata": {},
   "outputs": [],
   "source": []
  },
  {
   "cell_type": "code",
   "execution_count": null,
   "metadata": {},
   "outputs": [],
   "source": []
  },
  {
   "cell_type": "code",
   "execution_count": null,
   "metadata": {},
   "outputs": [],
   "source": []
  },
  {
   "cell_type": "code",
   "execution_count": null,
   "metadata": {},
   "outputs": [],
   "source": []
  },
  {
   "cell_type": "code",
   "execution_count": null,
   "metadata": {},
   "outputs": [],
   "source": []
  },
  {
   "cell_type": "code",
   "execution_count": null,
   "metadata": {},
   "outputs": [],
   "source": []
  },
  {
   "cell_type": "code",
   "execution_count": null,
   "metadata": {},
   "outputs": [],
   "source": []
  },
  {
   "cell_type": "code",
   "execution_count": 182,
   "metadata": {},
   "outputs": [
    {
     "data": {
      "text/plain": [
       "<AxesSubplot:xlabel='model', ylabel='price'>"
      ]
     },
     "execution_count": 182,
     "metadata": {},
     "output_type": "execute_result"
    },
    {
     "data": {
      "image/png": "[encoded data removed]",
      "text/plain": [
       "<Figure size 432x288 with 1 Axes>"
      ]
     },
     "metadata": {
      "needs_background": "light"
     },
     "output_type": "display_data"
    }
   ],
   "source": [
    "sbn.boxplot(x=\"model\",y=\"price\",data=data)"
   ]
  },
  {
   "cell_type": "code",
   "execution_count": null,
   "metadata": {},
   "outputs": [],
   "source": []
  },
  {
   "cell_type": "code",
   "execution_count": null,
   "metadata": {},
   "outputs": [],
   "source": []
  },
  {
   "cell_type": "code",
   "execution_count": null,
   "metadata": {},
   "outputs": [],
   "source": []
  },
  {
   "cell_type": "code",
   "execution_count": 139,
   "metadata": {},
   "outputs": [
    {
     "data": {
      "text/html": [
       "<div>\n",
       "<style scoped>\n",
       "    .dataframe tbody tr th:only-of-type {\n",
       "        vertical-align: middle;\n",
       "    }\n",
       "\n",
       "    .dataframe tbody tr th {\n",
       "        vertical-align: top;\n",
       "    }\n",
       "\n",
       "    .dataframe thead th {\n",
       "        text-align: right;\n",
       "    }\n",
       "</style>\n",
       "<table border=\"1\" class=\"dataframe\">\n",
       "  <thead>\n",
       "    <tr style=\"text-align: right;\">\n",
       "      <th></th>\n",
       "      <th>count</th>\n",
       "      <th>mean</th>\n",
       "      <th>std</th>\n",
       "      <th>min</th>\n",
       "      <th>5%</th>\n",
       "      <th>10%</th>\n",
       "      <th>25%</th>\n",
       "      <th>30%</th>\n",
       "      <th>50%</th>\n",
       "      <th>75%</th>\n",
       "      <th>90%</th>\n",
       "      <th>max</th>\n",
       "      <th>variance</th>\n",
       "      <th>skewness</th>\n",
       "      <th>kurtosis</th>\n",
       "    </tr>\n",
       "  </thead>\n",
       "  <tbody>\n",
       "    <tr>\n",
       "      <th>year</th>\n",
       "      <td>13119.0</td>\n",
       "      <td>2017.296288</td>\n",
       "      <td>2.224709</td>\n",
       "      <td>1970.0</td>\n",
       "      <td>2014.0</td>\n",
       "      <td>2015.0</td>\n",
       "      <td>2016.0</td>\n",
       "      <td>2016.0</td>\n",
       "      <td>2018.0</td>\n",
       "      <td>2019.0</td>\n",
       "      <td>2019.0</td>\n",
       "      <td>2020.0</td>\n",
       "      <td>4.949331e+00</td>\n",
       "      <td>-2.897231</td>\n",
       "      <td>25.846402</td>\n",
       "    </tr>\n",
       "    <tr>\n",
       "      <th>price</th>\n",
       "      <td>13119.0</td>\n",
       "      <td>24698.596920</td>\n",
       "      <td>11842.675542</td>\n",
       "      <td>650.0</td>\n",
       "      <td>11649.0</td>\n",
       "      <td>13868.4</td>\n",
       "      <td>17450.0</td>\n",
       "      <td>18449.0</td>\n",
       "      <td>22480.0</td>\n",
       "      <td>28980.0</td>\n",
       "      <td>38000.0</td>\n",
       "      <td>159999.0</td>\n",
       "      <td>1.402490e+08</td>\n",
       "      <td>2.650461</td>\n",
       "      <td>15.441843</td>\n",
       "    </tr>\n",
       "    <tr>\n",
       "      <th>mileage</th>\n",
       "      <td>13119.0</td>\n",
       "      <td>21949.559037</td>\n",
       "      <td>21176.512267</td>\n",
       "      <td>1.0</td>\n",
       "      <td>1000.0</td>\n",
       "      <td>1987.0</td>\n",
       "      <td>6097.5</td>\n",
       "      <td>8069.4</td>\n",
       "      <td>15189.0</td>\n",
       "      <td>31779.5</td>\n",
       "      <td>49277.4</td>\n",
       "      <td>259000.0</td>\n",
       "      <td>4.484447e+08</td>\n",
       "      <td>1.884203</td>\n",
       "      <td>6.290549</td>\n",
       "    </tr>\n",
       "    <tr>\n",
       "      <th>tax</th>\n",
       "      <td>13119.0</td>\n",
       "      <td>129.972178</td>\n",
       "      <td>65.260286</td>\n",
       "      <td>0.0</td>\n",
       "      <td>20.0</td>\n",
       "      <td>20.0</td>\n",
       "      <td>125.0</td>\n",
       "      <td>145.0</td>\n",
       "      <td>145.0</td>\n",
       "      <td>145.0</td>\n",
       "      <td>150.0</td>\n",
       "      <td>580.0</td>\n",
       "      <td>4.258905e+03</td>\n",
       "      <td>1.231735</td>\n",
       "      <td>9.828966</td>\n",
       "    </tr>\n",
       "    <tr>\n",
       "      <th>mpg</th>\n",
       "      <td>13119.0</td>\n",
       "      <td>55.155843</td>\n",
       "      <td>15.220082</td>\n",
       "      <td>1.1</td>\n",
       "      <td>31.7</td>\n",
       "      <td>36.7</td>\n",
       "      <td>45.6</td>\n",
       "      <td>47.1</td>\n",
       "      <td>56.5</td>\n",
       "      <td>64.2</td>\n",
       "      <td>68.9</td>\n",
       "      <td>217.3</td>\n",
       "      <td>2.316509e+02</td>\n",
       "      <td>2.157475</td>\n",
       "      <td>16.459044</td>\n",
       "    </tr>\n",
       "    <tr>\n",
       "      <th>engineSize</th>\n",
       "      <td>13119.0</td>\n",
       "      <td>2.071530</td>\n",
       "      <td>0.572426</td>\n",
       "      <td>0.0</td>\n",
       "      <td>1.3</td>\n",
       "      <td>1.5</td>\n",
       "      <td>1.8</td>\n",
       "      <td>2.0</td>\n",
       "      <td>2.0</td>\n",
       "      <td>2.1</td>\n",
       "      <td>3.0</td>\n",
       "      <td>6.2</td>\n",
       "      <td>3.276716e-01</td>\n",
       "      <td>2.135384</td>\n",
       "      <td>8.833675</td>\n",
       "    </tr>\n",
       "  </tbody>\n",
       "</table>\n",
       "</div>"
      ],
      "text/plain": [
       "              count          mean           std     min       5%      10%  \\\n",
       "year        13119.0   2017.296288      2.224709  1970.0   2014.0   2015.0   \n",
       "price       13119.0  24698.596920  11842.675542   650.0  11649.0  13868.4   \n",
       "mileage     13119.0  21949.559037  21176.512267     1.0   1000.0   1987.0   \n",
       "tax         13119.0    129.972178     65.260286     0.0     20.0     20.0   \n",
       "mpg         13119.0     55.155843     15.220082     1.1     31.7     36.7   \n",
       "engineSize  13119.0      2.071530      0.572426     0.0      1.3      1.5   \n",
       "\n",
       "                25%      30%      50%      75%      90%       max  \\\n",
       "year         2016.0   2016.0   2018.0   2019.0   2019.0    2020.0   \n",
       "price       17450.0  18449.0  22480.0  28980.0  38000.0  159999.0   \n",
       "mileage      6097.5   8069.4  15189.0  31779.5  49277.4  259000.0   \n",
       "tax           125.0    145.0    145.0    145.0    150.0     580.0   \n",
       "mpg            45.6     47.1     56.5     64.2     68.9     217.3   \n",
       "engineSize      1.8      2.0      2.0      2.1      3.0       6.2   \n",
       "\n",
       "                variance  skewness   kurtosis  \n",
       "year        4.949331e+00 -2.897231  25.846402  \n",
       "price       1.402490e+08  2.650461  15.441843  \n",
       "mileage     4.484447e+08  1.884203   6.290549  \n",
       "tax         4.258905e+03  1.231735   9.828966  \n",
       "mpg         2.316509e+02  2.157475  16.459044  \n",
       "engineSize  3.276716e-01  2.135384   8.833675  "
      ]
     },
     "execution_count": 139,
     "metadata": {},
     "output_type": "execute_result"
    }
   ],
   "source": [
    "pd.concat([data.describe([0.05,0.1,0.25,0.3,0.5,0.75,0.9]).T,pd.DataFrame({\n",
    "\"variance\":varianca,\"skewness\":skewness,\"kurtosis\":kurtosis\n",
    "},index=data.describe().T.index)],axis=1)"
   ]
  },
  {
   "cell_type": "code",
   "execution_count": null,
   "metadata": {
    "jupyter": {
     "source_hidden": true
    }
   },
   "outputs": [],
   "source": []
  },
  {
   "cell_type": "code",
   "execution_count": null,
   "metadata": {},
   "outputs": [],
   "source": []
  },
  {
   "cell_type": "code",
   "execution_count": null,
   "metadata": {},
   "outputs": [],
   "source": []
  },
  {
   "cell_type": "code",
   "execution_count": null,
   "metadata": {},
   "outputs": [],
   "source": []
  },
  {
   "cell_type": "code",
   "execution_count": null,
   "metadata": {},
   "outputs": [],
   "source": []
  },
  {
   "cell_type": "code",
   "execution_count": 108,
   "metadata": {},
   "outputs": [
    {
     "data": {
      "text/html": [
       "<div>\n",
       "<style scoped>\n",
       "    .dataframe tbody tr th:only-of-type {\n",
       "        vertical-align: middle;\n",
       "    }\n",
       "\n",
       "    .dataframe tbody tr th {\n",
       "        vertical-align: top;\n",
       "    }\n",
       "\n",
       "    .dataframe thead th {\n",
       "        text-align: right;\n",
       "    }\n",
       "</style>\n",
       "<table border=\"1\" class=\"dataframe\">\n",
       "  <thead>\n",
       "    <tr style=\"text-align: right;\">\n",
       "      <th></th>\n",
       "      <th>model</th>\n",
       "      <th>year</th>\n",
       "      <th>price</th>\n",
       "      <th>transmission</th>\n",
       "      <th>mileage</th>\n",
       "      <th>fuelType</th>\n",
       "      <th>tax</th>\n",
       "      <th>mpg</th>\n",
       "      <th>engineSize</th>\n",
       "    </tr>\n",
       "  </thead>\n",
       "  <tbody>\n",
       "    <tr>\n",
       "      <th>3978</th>\n",
       "      <td>G Class</td>\n",
       "      <td>2019</td>\n",
       "      <td>102502</td>\n",
       "      <td>Semi-Auto</td>\n",
       "      <td>8691</td>\n",
       "      <td>Diesel</td>\n",
       "      <td>150</td>\n",
       "      <td>11.0</td>\n",
       "      <td>3.0</td>\n",
       "    </tr>\n",
       "  </tbody>\n",
       "</table>\n",
       "</div>"
      ],
      "text/plain": [
       "         model  year   price transmission  mileage fuelType  tax   mpg  \\\n",
       "3978   G Class  2019  102502    Semi-Auto     8691   Diesel  150  11.0   \n",
       "\n",
       "      engineSize  \n",
       "3978         3.0  "
      ]
     },
     "execution_count": 108,
     "metadata": {},
     "output_type": "execute_result"
    }
   ],
   "source": [
    "data[(data.transmission==\"Semi-Auto\")&(data.price>80000)&(data.fuelType==\"Diesel\")]"
   ]
  },
  {
   "cell_type": "code",
   "execution_count": null,
   "metadata": {},
   "outputs": [],
   "source": []
  }
 ],
 "metadata": {
  "kernelspec": {
   "display_name": "Python 3",
   "language": "python",
   "name": "python3"
  },
  "language_info": {
   "codemirror_mode": {
    "name": "ipython",
    "version": 3
   },
   "file_extension": ".py",
   "mimetype": "text/x-python",
   "name": "python",
   "nbconvert_exporter": "python",
   "pygments_lexer": "ipython3",
   "version": "3.8.5"
  }
 },
 "nbformat": 4,
 "nbformat_minor": 4
}
