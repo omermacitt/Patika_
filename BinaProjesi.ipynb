{
 "cells": [
  {
   "cell_type": "code",
   "execution_count": 3,
   "metadata": {},
   "outputs": [],
   "source": [
    "import pandas as pd\n",
    "import numpy as np\n",
    "import seaborn as sbn\n",
    "import matplotlib.pyplot as plt\n",
    "data=pd.read_csv(\"bina.csv\")"
   ]
  },
  {
   "cell_type": "code",
   "execution_count": 4,
   "metadata": {},
   "outputs": [
    {
     "data": {
      "text/html": [
       "<div>\n",
       "<style scoped>\n",
       "    .dataframe tbody tr th:only-of-type {\n",
       "        vertical-align: middle;\n",
       "    }\n",
       "\n",
       "    .dataframe tbody tr th {\n",
       "        vertical-align: top;\n",
       "    }\n",
       "\n",
       "    .dataframe thead th {\n",
       "        text-align: right;\n",
       "    }\n",
       "</style>\n",
       "<table border=\"1\" class=\"dataframe\">\n",
       "  <thead>\n",
       "    <tr style=\"text-align: right;\">\n",
       "      <th></th>\n",
       "      <th>X1</th>\n",
       "      <th>X2</th>\n",
       "      <th>X3</th>\n",
       "      <th>X4</th>\n",
       "      <th>X5</th>\n",
       "      <th>X6</th>\n",
       "      <th>X7</th>\n",
       "      <th>X8</th>\n",
       "      <th>Y1</th>\n",
       "      <th>Y2</th>\n",
       "    </tr>\n",
       "  </thead>\n",
       "  <tbody>\n",
       "    <tr>\n",
       "      <th>0</th>\n",
       "      <td>0.98</td>\n",
       "      <td>514.5</td>\n",
       "      <td>294.0</td>\n",
       "      <td>110.25</td>\n",
       "      <td>7.0</td>\n",
       "      <td>2</td>\n",
       "      <td>0.0</td>\n",
       "      <td>0</td>\n",
       "      <td>15.55</td>\n",
       "      <td>21.33</td>\n",
       "    </tr>\n",
       "    <tr>\n",
       "      <th>1</th>\n",
       "      <td>0.98</td>\n",
       "      <td>514.5</td>\n",
       "      <td>294.0</td>\n",
       "      <td>110.25</td>\n",
       "      <td>7.0</td>\n",
       "      <td>3</td>\n",
       "      <td>0.0</td>\n",
       "      <td>0</td>\n",
       "      <td>15.55</td>\n",
       "      <td>21.33</td>\n",
       "    </tr>\n",
       "    <tr>\n",
       "      <th>2</th>\n",
       "      <td>0.98</td>\n",
       "      <td>514.5</td>\n",
       "      <td>294.0</td>\n",
       "      <td>110.25</td>\n",
       "      <td>7.0</td>\n",
       "      <td>4</td>\n",
       "      <td>0.0</td>\n",
       "      <td>0</td>\n",
       "      <td>15.55</td>\n",
       "      <td>21.33</td>\n",
       "    </tr>\n",
       "    <tr>\n",
       "      <th>3</th>\n",
       "      <td>0.98</td>\n",
       "      <td>514.5</td>\n",
       "      <td>294.0</td>\n",
       "      <td>110.25</td>\n",
       "      <td>7.0</td>\n",
       "      <td>5</td>\n",
       "      <td>0.0</td>\n",
       "      <td>0</td>\n",
       "      <td>15.55</td>\n",
       "      <td>21.33</td>\n",
       "    </tr>\n",
       "    <tr>\n",
       "      <th>4</th>\n",
       "      <td>0.90</td>\n",
       "      <td>563.5</td>\n",
       "      <td>318.5</td>\n",
       "      <td>122.50</td>\n",
       "      <td>7.0</td>\n",
       "      <td>2</td>\n",
       "      <td>0.0</td>\n",
       "      <td>0</td>\n",
       "      <td>20.84</td>\n",
       "      <td>28.28</td>\n",
       "    </tr>\n",
       "  </tbody>\n",
       "</table>\n",
       "</div>"
      ],
      "text/plain": [
       "     X1     X2     X3      X4   X5  X6   X7  X8     Y1     Y2\n",
       "0  0.98  514.5  294.0  110.25  7.0   2  0.0   0  15.55  21.33\n",
       "1  0.98  514.5  294.0  110.25  7.0   3  0.0   0  15.55  21.33\n",
       "2  0.98  514.5  294.0  110.25  7.0   4  0.0   0  15.55  21.33\n",
       "3  0.98  514.5  294.0  110.25  7.0   5  0.0   0  15.55  21.33\n",
       "4  0.90  563.5  318.5  122.50  7.0   2  0.0   0  20.84  28.28"
      ]
     },
     "execution_count": 4,
     "metadata": {},
     "output_type": "execute_result"
    }
   ],
   "source": [
    "data.head()"
   ]
  },
  {
   "cell_type": "markdown",
   "metadata": {},
   "source": [
    "## Veri seti hakkında bilgilendirme\n",
    "\n",
    "X1 Bağıl(göreceli) Kompaktlık\n",
    "\n",
    "X2 Yüzey Alanı\n",
    "\n",
    "X3 Duvar Alanı\n",
    "\n",
    "X4 Çatı Alanı\n",
    "\n",
    "X5 Toplam Yükseklik\n",
    "\n",
    "X6 Yönlendirme\n",
    "\n",
    "X7 Cam Alanı\n",
    "\n",
    "X8 Cam Alanı Dağılımı\n",
    "\n",
    "y1 Isıtma Yükü\n",
    "\n",
    "y2 Soğutma Yükü"
   ]
  },
  {
   "cell_type": "markdown",
   "metadata": {},
   "source": [
    "## Veri seti analizi"
   ]
  },
  {
   "cell_type": "code",
   "execution_count": 5,
   "metadata": {},
   "outputs": [
    {
     "data": {
      "text/html": [
       "<div>\n",
       "<style scoped>\n",
       "    .dataframe tbody tr th:only-of-type {\n",
       "        vertical-align: middle;\n",
       "    }\n",
       "\n",
       "    .dataframe tbody tr th {\n",
       "        vertical-align: top;\n",
       "    }\n",
       "\n",
       "    .dataframe thead th {\n",
       "        text-align: right;\n",
       "    }\n",
       "</style>\n",
       "<table border=\"1\" class=\"dataframe\">\n",
       "  <thead>\n",
       "    <tr style=\"text-align: right;\">\n",
       "      <th></th>\n",
       "      <th>count</th>\n",
       "      <th>mean</th>\n",
       "      <th>std</th>\n",
       "      <th>min</th>\n",
       "      <th>25%</th>\n",
       "      <th>50%</th>\n",
       "      <th>75%</th>\n",
       "      <th>max</th>\n",
       "    </tr>\n",
       "  </thead>\n",
       "  <tbody>\n",
       "    <tr>\n",
       "      <th>X1</th>\n",
       "      <td>768.0</td>\n",
       "      <td>0.764167</td>\n",
       "      <td>0.105777</td>\n",
       "      <td>0.62</td>\n",
       "      <td>0.6825</td>\n",
       "      <td>0.75</td>\n",
       "      <td>0.8300</td>\n",
       "      <td>0.98</td>\n",
       "    </tr>\n",
       "    <tr>\n",
       "      <th>X2</th>\n",
       "      <td>768.0</td>\n",
       "      <td>671.708333</td>\n",
       "      <td>88.086116</td>\n",
       "      <td>514.50</td>\n",
       "      <td>606.3750</td>\n",
       "      <td>673.75</td>\n",
       "      <td>741.1250</td>\n",
       "      <td>808.50</td>\n",
       "    </tr>\n",
       "    <tr>\n",
       "      <th>X3</th>\n",
       "      <td>768.0</td>\n",
       "      <td>318.500000</td>\n",
       "      <td>43.626481</td>\n",
       "      <td>245.00</td>\n",
       "      <td>294.0000</td>\n",
       "      <td>318.50</td>\n",
       "      <td>343.0000</td>\n",
       "      <td>416.50</td>\n",
       "    </tr>\n",
       "    <tr>\n",
       "      <th>X4</th>\n",
       "      <td>768.0</td>\n",
       "      <td>176.604167</td>\n",
       "      <td>45.165950</td>\n",
       "      <td>110.25</td>\n",
       "      <td>140.8750</td>\n",
       "      <td>183.75</td>\n",
       "      <td>220.5000</td>\n",
       "      <td>220.50</td>\n",
       "    </tr>\n",
       "    <tr>\n",
       "      <th>X5</th>\n",
       "      <td>768.0</td>\n",
       "      <td>5.250000</td>\n",
       "      <td>1.751140</td>\n",
       "      <td>3.50</td>\n",
       "      <td>3.5000</td>\n",
       "      <td>5.25</td>\n",
       "      <td>7.0000</td>\n",
       "      <td>7.00</td>\n",
       "    </tr>\n",
       "    <tr>\n",
       "      <th>X6</th>\n",
       "      <td>768.0</td>\n",
       "      <td>3.500000</td>\n",
       "      <td>1.118763</td>\n",
       "      <td>2.00</td>\n",
       "      <td>2.7500</td>\n",
       "      <td>3.50</td>\n",
       "      <td>4.2500</td>\n",
       "      <td>5.00</td>\n",
       "    </tr>\n",
       "    <tr>\n",
       "      <th>X7</th>\n",
       "      <td>768.0</td>\n",
       "      <td>0.234375</td>\n",
       "      <td>0.133221</td>\n",
       "      <td>0.00</td>\n",
       "      <td>0.1000</td>\n",
       "      <td>0.25</td>\n",
       "      <td>0.4000</td>\n",
       "      <td>0.40</td>\n",
       "    </tr>\n",
       "    <tr>\n",
       "      <th>X8</th>\n",
       "      <td>768.0</td>\n",
       "      <td>2.812500</td>\n",
       "      <td>1.550960</td>\n",
       "      <td>0.00</td>\n",
       "      <td>1.7500</td>\n",
       "      <td>3.00</td>\n",
       "      <td>4.0000</td>\n",
       "      <td>5.00</td>\n",
       "    </tr>\n",
       "    <tr>\n",
       "      <th>Y1</th>\n",
       "      <td>768.0</td>\n",
       "      <td>22.307201</td>\n",
       "      <td>10.090196</td>\n",
       "      <td>6.01</td>\n",
       "      <td>12.9925</td>\n",
       "      <td>18.95</td>\n",
       "      <td>31.6675</td>\n",
       "      <td>43.10</td>\n",
       "    </tr>\n",
       "    <tr>\n",
       "      <th>Y2</th>\n",
       "      <td>768.0</td>\n",
       "      <td>24.587760</td>\n",
       "      <td>9.513306</td>\n",
       "      <td>10.90</td>\n",
       "      <td>15.6200</td>\n",
       "      <td>22.08</td>\n",
       "      <td>33.1325</td>\n",
       "      <td>48.03</td>\n",
       "    </tr>\n",
       "  </tbody>\n",
       "</table>\n",
       "</div>"
      ],
      "text/plain": [
       "    count        mean        std     min       25%     50%       75%     max\n",
       "X1  768.0    0.764167   0.105777    0.62    0.6825    0.75    0.8300    0.98\n",
       "X2  768.0  671.708333  88.086116  514.50  606.3750  673.75  741.1250  808.50\n",
       "X3  768.0  318.500000  43.626481  245.00  294.0000  318.50  343.0000  416.50\n",
       "X4  768.0  176.604167  45.165950  110.25  140.8750  183.75  220.5000  220.50\n",
       "X5  768.0    5.250000   1.751140    3.50    3.5000    5.25    7.0000    7.00\n",
       "X6  768.0    3.500000   1.118763    2.00    2.7500    3.50    4.2500    5.00\n",
       "X7  768.0    0.234375   0.133221    0.00    0.1000    0.25    0.4000    0.40\n",
       "X8  768.0    2.812500   1.550960    0.00    1.7500    3.00    4.0000    5.00\n",
       "Y1  768.0   22.307201  10.090196    6.01   12.9925   18.95   31.6675   43.10\n",
       "Y2  768.0   24.587760   9.513306   10.90   15.6200   22.08   33.1325   48.03"
      ]
     },
     "execution_count": 5,
     "metadata": {},
     "output_type": "execute_result"
    }
   ],
   "source": [
    "data.describe().T "
   ]
  },
  {
   "cell_type": "code",
   "execution_count": 6,
   "metadata": {},
   "outputs": [
    {
     "name": "stdout",
     "output_type": "stream",
     "text": [
      "<class 'pandas.core.frame.DataFrame'>\n",
      "RangeIndex: 768 entries, 0 to 767\n",
      "Data columns (total 10 columns):\n",
      " #   Column  Non-Null Count  Dtype  \n",
      "---  ------  --------------  -----  \n",
      " 0   X1      768 non-null    float64\n",
      " 1   X2      768 non-null    float64\n",
      " 2   X3      768 non-null    float64\n",
      " 3   X4      768 non-null    float64\n",
      " 4   X5      768 non-null    float64\n",
      " 5   X6      768 non-null    int64  \n",
      " 6   X7      768 non-null    float64\n",
      " 7   X8      768 non-null    int64  \n",
      " 8   Y1      768 non-null    float64\n",
      " 9   Y2      768 non-null    float64\n",
      "dtypes: float64(8), int64(2)\n",
      "memory usage: 60.1 KB\n"
     ]
    }
   ],
   "source": [
    "data.info()"
   ]
  },
  {
   "cell_type": "markdown",
   "metadata": {},
   "source": [
    "## Veri setinde eksik veri mevcut mu ?"
   ]
  },
  {
   "cell_type": "code",
   "execution_count": 7,
   "metadata": {},
   "outputs": [
    {
     "data": {
      "text/plain": [
       "<AxesSubplot:>"
      ]
     },
     "execution_count": 7,
     "metadata": {},
     "output_type": "execute_result"
    },
    {
     "data": {
      "image/png": "[encoded data removed]",
      "text/plain": [
       "<Figure size 432x288 with 1 Axes>"
      ]
     },
     "metadata": {
      "needs_background": "light"
     },
     "output_type": "display_data"
    }
   ],
   "source": [
    "data.isnull().sum().sort_values().plot.barh()"
   ]
  },
  {
   "cell_type": "markdown",
   "metadata": {},
   "source": [
    "## X7 ve X8 verilerinin incelenmesi"
   ]
  },
  {
   "cell_type": "code",
   "execution_count": 8,
   "metadata": {},
   "outputs": [
    {
     "data": {
      "text/plain": [
       "4"
      ]
     },
     "execution_count": 8,
     "metadata": {},
     "output_type": "execute_result"
    }
   ],
   "source": [
    "data[\"X7\"].nunique()"
   ]
  },
  {
   "cell_type": "code",
   "execution_count": 9,
   "metadata": {},
   "outputs": [
    {
     "data": {
      "text/plain": [
       "array([0.  , 0.1 , 0.25, 0.4 ])"
      ]
     },
     "execution_count": 9,
     "metadata": {},
     "output_type": "execute_result"
    }
   ],
   "source": [
    "data[\"X7\"].unique()"
   ]
  },
  {
   "cell_type": "code",
   "execution_count": 10,
   "metadata": {},
   "outputs": [
    {
     "data": {
      "text/plain": [
       "0.40    240\n",
       "0.10    240\n",
       "0.25    240\n",
       "0.00     48\n",
       "Name: X7, dtype: int64"
      ]
     },
     "execution_count": 10,
     "metadata": {},
     "output_type": "execute_result"
    }
   ],
   "source": [
    "data[\"X7\"].value_counts()"
   ]
  },
  {
   "cell_type": "code",
   "execution_count": 11,
   "metadata": {},
   "outputs": [
    {
     "data": {
      "text/plain": [
       "6"
      ]
     },
     "execution_count": 11,
     "metadata": {},
     "output_type": "execute_result"
    }
   ],
   "source": [
    "data[\"X8\"].nunique()"
   ]
  },
  {
   "cell_type": "code",
   "execution_count": 12,
   "metadata": {},
   "outputs": [
    {
     "data": {
      "text/plain": [
       "array([0, 1, 2, 3, 4, 5], dtype=int64)"
      ]
     },
     "execution_count": 12,
     "metadata": {},
     "output_type": "execute_result"
    }
   ],
   "source": [
    "data[\"X8\"].unique()"
   ]
  },
  {
   "cell_type": "code",
   "execution_count": 13,
   "metadata": {},
   "outputs": [
    {
     "data": {
      "text/plain": [
       "5    144\n",
       "4    144\n",
       "3    144\n",
       "2    144\n",
       "1    144\n",
       "0     48\n",
       "Name: X8, dtype: int64"
      ]
     },
     "execution_count": 13,
     "metadata": {},
     "output_type": "execute_result"
    }
   ],
   "source": [
    "data[\"X8\"].value_counts()"
   ]
  },
  {
   "cell_type": "markdown",
   "metadata": {},
   "source": [
    "## X8 ve X7 değişkenleri arasındaki korelasyon ilişkisinin incelenmesi"
   ]
  },
  {
   "cell_type": "code",
   "execution_count": 14,
   "metadata": {},
   "outputs": [
    {
     "data": {
      "text/html": [
       "<div>\n",
       "<style scoped>\n",
       "    .dataframe tbody tr th:only-of-type {\n",
       "        vertical-align: middle;\n",
       "    }\n",
       "\n",
       "    .dataframe tbody tr th {\n",
       "        vertical-align: top;\n",
       "    }\n",
       "\n",
       "    .dataframe thead th {\n",
       "        text-align: right;\n",
       "    }\n",
       "</style>\n",
       "<table border=\"1\" class=\"dataframe\">\n",
       "  <thead>\n",
       "    <tr style=\"text-align: right;\">\n",
       "      <th></th>\n",
       "      <th>X8</th>\n",
       "      <th>X7</th>\n",
       "    </tr>\n",
       "  </thead>\n",
       "  <tbody>\n",
       "    <tr>\n",
       "      <th>X8</th>\n",
       "      <td>1.000000</td>\n",
       "      <td>0.212964</td>\n",
       "    </tr>\n",
       "    <tr>\n",
       "      <th>X7</th>\n",
       "      <td>0.212964</td>\n",
       "      <td>1.000000</td>\n",
       "    </tr>\n",
       "  </tbody>\n",
       "</table>\n",
       "</div>"
      ],
      "text/plain": [
       "          X8        X7\n",
       "X8  1.000000  0.212964\n",
       "X7  0.212964  1.000000"
      ]
     },
     "execution_count": 14,
     "metadata": {},
     "output_type": "execute_result"
    }
   ],
   "source": [
    "data[[\"X8\",\"X7\"]].corr()"
   ]
  },
  {
   "cell_type": "markdown",
   "metadata": {},
   "source": [
    "## Y1 değişkeninin diğer verilerle olan korelasyon ilişkisinin incelenmesi"
   ]
  },
  {
   "cell_type": "code",
   "execution_count": 15,
   "metadata": {},
   "outputs": [
    {
     "data": {
      "text/plain": [
       "<AxesSubplot:>"
      ]
     },
     "execution_count": 15,
     "metadata": {},
     "output_type": "execute_result"
    },
    {
     "data": {
      "image/png": "[encoded data removed]",
      "text/plain": [
       "<Figure size 432x288 with 1 Axes>"
      ]
     },
     "metadata": {
      "needs_background": "light"
     },
     "output_type": "display_data"
    }
   ],
   "source": [
    "data.corr()[\"Y1\"].sort_values().plot.barh()"
   ]
  },
  {
   "cell_type": "markdown",
   "metadata": {},
   "source": [
    "## Y2 değişkeninin diğer verilerle olan korelasyon ilişkisinin incelenmesi"
   ]
  },
  {
   "cell_type": "code",
   "execution_count": 16,
   "metadata": {},
   "outputs": [
    {
     "data": {
      "text/plain": [
       "<AxesSubplot:>"
      ]
     },
     "execution_count": 16,
     "metadata": {},
     "output_type": "execute_result"
    },
    {
     "data": {
      "image/png": "[encoded data removed]",
      "text/plain": [
       "<Figure size 432x288 with 1 Axes>"
      ]
     },
     "metadata": {
      "needs_background": "light"
     },
     "output_type": "display_data"
    }
   ],
   "source": [
    "data.corr()[\"Y2\"].sort_values().plot.barh()"
   ]
  },
  {
   "cell_type": "markdown",
   "metadata": {},
   "source": [
    "#### X8 ve X6 değişkenlerinin Y1 ve Y2 değişkenleri ile olan ilişkisi pozitif yönlü ancak çok düşük"
   ]
  },
  {
   "cell_type": "markdown",
   "metadata": {},
   "source": [
    "#### X2 ve X4 değişkeninin de hem Y1 hem de Y2 değişkenleri ile olan korelasyonu negatif yüksek şiddette denebilir.Ancak beklentim biri için negatif ilişkide olursa diğeri için de pozitif ilişkide olacağı yönündeydi."
   ]
  },
  {
   "cell_type": "markdown",
   "metadata": {},
   "source": [
    "## Model oluşturma süreci"
   ]
  },
  {
   "cell_type": "code",
   "execution_count": 18,
   "metadata": {},
   "outputs": [],
   "source": [
    "y=data[[\"Y1\",\"Y2\"]]\n",
    "x=data.drop(columns=[\"Y1\",\"Y2\",\"X6\",\"X8\"])"
   ]
  },
  {
   "cell_type": "code",
   "execution_count": 19,
   "metadata": {},
   "outputs": [],
   "source": [
    "from sklearn.model_selection import train_test_split\n",
    "x_train,x_test,y_train,y_test=train_test_split(x,y,test_size=0.25,random_state=42)"
   ]
  },
  {
   "cell_type": "markdown",
   "metadata": {},
   "source": [
    "### Doğrusal Regresyon modellerini deneyelim "
   ]
  },
  {
   "cell_type": "code",
   "execution_count": 20,
   "metadata": {},
   "outputs": [
    {
     "name": "stdout",
     "output_type": "stream",
     "text": [
      "Eğitim hatası: 3.0859516375907416 Test Hatası: 3.0636843685037998\n"
     ]
    }
   ],
   "source": [
    "from sklearn.linear_model import LinearRegression\n",
    "from sklearn.metrics import mean_squared_error,confusion_matrix\n",
    "lr_model=LinearRegression()\n",
    "lr_model.fit(x_train,y_train)\n",
    "lr_hata_train=np.sqrt(mean_squared_error(y_train,lr_model.predict(x_train)))\n",
    "lr_hata_test=np.sqrt(mean_squared_error(y_test,lr_model.predict(x_test)))\n",
    "print(\"Eğitim hatası: {} Test Hatası: {}\".format(lr_hata_test,lr_hata_train))"
   ]
  },
  {
   "cell_type": "markdown",
   "metadata": {},
   "source": [
    "### Veriden ufak bir veri kaybını göze alarak temel bileşen analizi yapalım"
   ]
  },
  {
   "cell_type": "code",
   "execution_count": 21,
   "metadata": {},
   "outputs": [
    {
     "name": "stdout",
     "output_type": "stream",
     "text": [
      "Eğitim hatası: 3.324087519018104 Test Hatası: 3.0626267337502395\n"
     ]
    }
   ],
   "source": [
    "from sklearn.decomposition import PCA\n",
    "from sklearn import preprocessing\n",
    "pca=PCA()\n",
    "x_reduced_train=pca.fit_transform(preprocessing.scale(x_train))\n",
    "x_reduced_test=pca.fit_transform(preprocessing.scale(x_test))\n",
    "pca_model=LinearRegression()\n",
    "pca_model.fit(x_reduced_train,y_train)\n",
    "pca_hata_train=np.sqrt(mean_squared_error(y_train,pca_model.predict(x_reduced_train)))\n",
    "pca_hata_test=np.sqrt(mean_squared_error(y_test,pca_model.predict(x_reduced_test)))\n",
    "print(\"Eğitim hatası: {} Test Hatası: {}\".format(pca_hata_test,pca_hata_train))"
   ]
  },
  {
   "cell_type": "markdown",
   "metadata": {},
   "source": [
    "### PCA model tuning"
   ]
  },
  {
   "cell_type": "code",
   "execution_count": 22,
   "metadata": {},
   "outputs": [
    {
     "data": {
      "image/png": "[encoded data removed]",
      "text/plain": [
       "<Figure size 432x288 with 1 Axes>"
      ]
     },
     "metadata": {
      "needs_background": "light"
     },
     "output_type": "display_data"
    }
   ],
   "source": [
    "from sklearn import model_selection\n",
    "lm=LinearRegression()\n",
    "RMSE=list()\n",
    "for i in np.arange(1,x_reduced_train.shape[1]+1):\n",
    "    score=np.sqrt(-1*model_selection.cross_val_score(lm,x_reduced_train[:,:i],y_train,\n",
    "                                                    cv=model_selection.KFold(n_splits=10,shuffle=True,random_state=42),\n",
    "                                                    scoring=\"neg_mean_squared_error\").mean())\n",
    "    RMSE.append(score)\n",
    "plt.plot(RMSE,\"-v\")\n",
    "plt.xlabel(\"Bileşen Sayısı\")\n",
    "plt.ylabel(\"RMSE\")\n",
    "plt.title(\"PCR model tuning\")\n",
    "plt.show()"
   ]
  },
  {
   "cell_type": "code",
   "execution_count": 38,
   "metadata": {},
   "outputs": [
    {
     "name": "stdout",
     "output_type": "stream",
     "text": [
      "Eğitim hatası: 3.250834468539019 Test Hatası: 3.0963317445674043\n"
     ]
    }
   ],
   "source": [
    "lr=LinearRegression()\n",
    "pcr_model=lr.fit(x_reduced_train[:,:4],y_train)\n",
    "print(\"Eğitim hatası: {} Test Hatası: {}\".format(np.sqrt(mean_squared_error(y_test,pcr_model.predict(x_reduced_test[:,:4])))\n",
    "                                                 ,\n",
    "                    np.sqrt(mean_squared_error(y_train,pcr_model.predict(x_reduced_train[:,:4])))))"
   ]
  },
  {
   "cell_type": "markdown",
   "metadata": {},
   "source": [
    "#### Ridge regresyon ile model oluşturma"
   ]
  },
  {
   "cell_type": "code",
   "execution_count": 24,
   "metadata": {},
   "outputs": [
    {
     "name": "stdout",
     "output_type": "stream",
     "text": [
      "Eğitim hatası: 3.14287142395888 Test Hatası: 3.152896737006581\n"
     ]
    }
   ],
   "source": [
    "from sklearn.linear_model import Ridge,RidgeCV\n",
    "ridge_model=Ridge().fit(x_train,y_train)\n",
    "alphas=10**np.linspace(10,-2,100)*(0.5)\n",
    "ridge_model_train_hata=np.sqrt(mean_squared_error(y_train,ridge_model.predict(x_train)))\n",
    "ridge_model_test_hata=np.sqrt(mean_squared_error(y_test,ridge_model.predict(x_test)))\n",
    "print(\"Eğitim hatası: {} Test Hatası: {}\".format(ridge_model_train_hata,ridge_model_test_hata))"
   ]
  },
  {
   "cell_type": "code",
   "execution_count": 25,
   "metadata": {},
   "outputs": [
    {
     "data": {
      "text/plain": [
       "0.005"
      ]
     },
     "execution_count": 25,
     "metadata": {},
     "output_type": "execute_result"
    }
   ],
   "source": [
    "ridge_cv_model=RidgeCV(alphas=alphas,scoring=\"neg_mean_squared_error\",normalize=True,cv=10)\n",
    "ridge_cv_model.fit(x_train,y_train)\n",
    "ridge_cv_model.alpha_"
   ]
  },
  {
   "cell_type": "code",
   "execution_count": 26,
   "metadata": {},
   "outputs": [
    {
     "name": "stdout",
     "output_type": "stream",
     "text": [
      "Eğitim hatası: 3.076185602045664 Test Hatası: 3.0996973032893824\n"
     ]
    }
   ],
   "source": [
    "ridge_cv_model_train_hata=np.sqrt(mean_squared_error(y_train,ridge_cv_model.predict(x_train)))\n",
    "ridge_cv_model_test_hata=np.sqrt(mean_squared_error(y_test,ridge_cv_model.predict(x_test)))\n",
    "print(\"Eğitim hatası: {} Test Hatası: {}\".format(ridge_cv_model_train_hata,ridge_cv_model_test_hata))"
   ]
  },
  {
   "cell_type": "markdown",
   "metadata": {},
   "source": [
    "####  Lasso Regresyon"
   ]
  },
  {
   "cell_type": "code",
   "execution_count": 27,
   "metadata": {},
   "outputs": [
    {
     "name": "stdout",
     "output_type": "stream",
     "text": [
      "Eğitim hatası: 4.525936388254252 Test Hatası: 4.676404374914983\n"
     ]
    }
   ],
   "source": [
    "from sklearn.linear_model import Lasso,LassoCV,MultiTaskLassoCV\n",
    "lasso_model=Lasso().fit(x_train,y_train)\n",
    "lasso_model_train_hata=np.sqrt(mean_squared_error(y_train,lasso_model.predict(x_train)))\n",
    "lasso_model_test_hata=np.sqrt(mean_squared_error(y_test,lasso_model.predict(x_test)))\n",
    "print(\"Eğitim hatası: {} Test Hatası: {}\".format(lasso_model_train_hata,lasso_model_test_hata))"
   ]
  },
  {
   "cell_type": "code",
   "execution_count": 28,
   "metadata": {},
   "outputs": [],
   "source": [
    "lasso_cv_model=MultiTaskLassoCV(alphas=alphas,cv=10,normalize=True)"
   ]
  },
  {
   "cell_type": "code",
   "execution_count": 29,
   "metadata": {},
   "outputs": [
    {
     "name": "stdout",
     "output_type": "stream",
     "text": [
      "Eğitim hatası: 4.525936388254252 Test Hatası: 4.676404374914983\n"
     ]
    }
   ],
   "source": [
    "lasso_cv_model.fit(x_train,y_train)\n",
    "lasso_cv_model_train_hata=np.sqrt(mean_squared_error(y_train,lasso_model.predict(x_train)))\n",
    "lasso_cv_model_test_hata=np.sqrt(mean_squared_error(y_test,lasso_model.predict(x_test)))\n",
    "print(\"Eğitim hatası: {} Test Hatası: {}\".format(lasso_cv_model_train_hata,lasso_cv_model_test_hata))"
   ]
  },
  {
   "cell_type": "markdown",
   "metadata": {},
   "source": [
    "#### PLS Regresyon"
   ]
  },
  {
   "cell_type": "code",
   "execution_count": 30,
   "metadata": {},
   "outputs": [],
   "source": [
    "from sklearn.cross_decomposition import PLSRegression"
   ]
  },
  {
   "cell_type": "code",
   "execution_count": 31,
   "metadata": {},
   "outputs": [
    {
     "name": "stdout",
     "output_type": "stream",
     "text": [
      "Eğitim hatası: 3.5582445749718747 Test Hatası: 3.6829190308710236\n"
     ]
    }
   ],
   "source": [
    "pls_model=PLSRegression()\n",
    "pls_model.fit(x_train,y_train)\n",
    "pls_model_train_hata=np.sqrt(mean_squared_error(y_train,pls_model.predict(x_train)))\n",
    "pls_model_test_hata=np.sqrt(mean_squared_error(y_test,pls_model.predict(x_test)))\n",
    "print(\"Eğitim hatası: {} Test Hatası: {}\".format(pls_model_train_hata,pls_model_test_hata))"
   ]
  },
  {
   "cell_type": "code",
   "execution_count": 32,
   "metadata": {},
   "outputs": [
    {
     "data": {
      "image/png": "[encoded data removed]",
      "text/plain": [
       "<Figure size 432x288 with 1 Axes>"
      ]
     },
     "metadata": {
      "needs_background": "light"
     },
     "output_type": "display_data"
    }
   ],
   "source": [
    "from sklearn.model_selection import cross_val_score\n",
    "cv_10=model_selection.KFold(n_splits=10,shuffle=True,random_state=42)\n",
    "rmse=[]\n",
    "for i in np.arange(1,x_train.shape[1]+1):\n",
    "    pls=PLSRegression(n_components=i)\n",
    "    score=np.sqrt(-1*cross_val_score(pls_model,x_train,y_train,cv=cv_10,scoring=\"neg_mean_squared_error\").mean())\n",
    "    rmse.append(score)\n",
    "plt.plot(np.arange(1,x_train.shape[1]+1),np.array(rmse),\"-v\",c=\"r\")\n",
    "plt.xlabel(\"Bileşen Sayısı\")\n",
    "plt.ylabel(\"RMSE\")\n",
    "plt.show()"
   ]
  },
  {
   "cell_type": "code",
   "execution_count": 33,
   "metadata": {},
   "outputs": [
    {
     "name": "stdout",
     "output_type": "stream",
     "text": [
      "Eğitim hatası: 3.062626733750239 Test Hatası: 3.08262522440171\n"
     ]
    }
   ],
   "source": [
    "pls_cv_model=PLSRegression(n_components=5).fit(x_train,y_train)\n",
    "pls_cv_model_train_hata=np.sqrt(mean_squared_error(y_train,pls_cv_model.predict(x_train)))\n",
    "pls_cv_model_test_hata=np.sqrt(mean_squared_error(y_test,pls_cv_model.predict(x_test)))\n",
    "print(\"Eğitim hatası: {} Test Hatası: {}\".format(pls_cv_model_train_hata,pls_cv_model_test_hata))"
   ]
  },
  {
   "cell_type": "markdown",
   "metadata": {},
   "source": [
    "#### ElasticNet Regresyonu"
   ]
  },
  {
   "cell_type": "code",
   "execution_count": 34,
   "metadata": {},
   "outputs": [],
   "source": [
    "from sklearn.linear_model import ElasticNet,ElasticNetCV,MultiTaskElasticNetCV"
   ]
  },
  {
   "cell_type": "code",
   "execution_count": 35,
   "metadata": {},
   "outputs": [
    {
     "name": "stdout",
     "output_type": "stream",
     "text": [
      "Eğitim hatası: 4.401924747449182 Test Hatası: 4.541302251760081\n"
     ]
    }
   ],
   "source": [
    "enet_model=ElasticNet().fit(x_train,y_train)\n",
    "enet_train_hata=np.sqrt(mean_squared_error(y_train,enet_model.predict(x_train)))\n",
    "enet_test_hata=np.sqrt(mean_squared_error(y_test,enet_model.predict(x_test)))\n",
    "print(\"Eğitim hatası: {} Test Hatası: {}\".format(enet_train_hata,enet_test_hata))"
   ]
  },
  {
   "cell_type": "markdown",
   "metadata": {},
   "source": [
    "#### Model tuning"
   ]
  },
  {
   "cell_type": "code",
   "execution_count": 36,
   "metadata": {},
   "outputs": [
    {
     "name": "stdout",
     "output_type": "stream",
     "text": [
      "Eğitim hatası: 4.164566625064602 Test Hatası: 4.2720772299275\n"
     ]
    }
   ],
   "source": [
    "enet_cv_model=MultiTaskLassoCV(cv=10).fit(x_train,y_train)\n",
    "enet_cv_train_hata=np.sqrt(mean_squared_error(y_train,enet_cv_model.predict(x_train)))\n",
    "enet_cv_test_hata=np.sqrt(mean_squared_error(y_test,enet_cv_model.predict(x_test)))\n",
    "print(\"Eğitim hatası: {} Test Hatası: {}\".format(enet_cv_train_hata,enet_cv_test_hata))"
   ]
  },
  {
   "cell_type": "markdown",
   "metadata": {},
   "source": [
    "## Doğrusal Olmayan Regresyon modelleri"
   ]
  },
  {
   "cell_type": "markdown",
   "metadata": {},
   "source": [
    "#### XGBoost"
   ]
  },
  {
   "cell_type": "code",
   "execution_count": 1,
   "metadata": {},
   "outputs": [
    {
     "name": "stdout",
     "output_type": "stream",
     "text": [
      "Requirement already satisfied: xgboost in c:\\users\\omerm\\anaconda3\\envs\\pythonprojeleri\\lib\\site-packages (1.3.3)\n",
      "Requirement already satisfied: numpy in c:\\users\\omerm\\anaconda3\\envs\\pythonprojeleri\\lib\\site-packages (from xgboost) (1.19.1)\n",
      "Requirement already satisfied: scipy in c:\\users\\omerm\\anaconda3\\envs\\pythonprojeleri\\lib\\site-packages (from xgboost) (1.5.2)\n"
     ]
    }
   ],
   "source": [
    "!pip install xgboost"
   ]
  },
  {
   "cell_type": "code",
   "execution_count": 40,
   "metadata": {},
   "outputs": [],
   "source": [
    "from xgboost import XGBRegressor"
   ]
  },
  {
   "cell_type": "code",
   "execution_count": 48,
   "metadata": {},
   "outputs": [
    {
     "data": {
      "text/plain": [
       "XGBRegressor(base_score=0.5, booster='gbtree', colsample_bylevel=1,\n",
       "             colsample_bynode=1, colsample_bytree=1, gamma=0, gpu_id=-1,\n",
       "             importance_type='gain', interaction_constraints='',\n",
       "             learning_rate=0.300000012, max_delta_step=0, max_depth=6,\n",
       "             min_child_weight=1, missing=nan, monotone_constraints='()',\n",
       "             n_estimators=100, n_jobs=8, num_parallel_tree=1, random_state=0,\n",
       "             reg_alpha=0, reg_lambda=1, scale_pos_weight=1, subsample=1,\n",
       "             tree_method='exact', validate_parameters=1, verbosity=None)"
      ]
     },
     "execution_count": 48,
     "metadata": {},
     "output_type": "execute_result"
    }
   ],
   "source": [
    "xgb_model=XGBRegressor()\n",
    "xgb_model.fit(x_train,y_train.iloc[:,1])"
   ]
  },
  {
   "cell_type": "code",
   "execution_count": 58,
   "metadata": {},
   "outputs": [
    {
     "data": {
      "text/plain": [
       "3.43016133060005"
      ]
     },
     "execution_count": 58,
     "metadata": {},
     "output_type": "execute_result"
    }
   ],
   "source": [
    "np.sqrt(mean_squared_error(y_test.iloc[:,1], xgb_model.predict(x_test)))+np.sqrt(mean_squared_error(y_test.iloc[:,1],xgb_model.predict(x_test)))"
   ]
  },
  {
   "cell_type": "code",
   "execution_count": 61,
   "metadata": {},
   "outputs": [
    {
     "name": "stdout",
     "output_type": "stream",
     "text": [
      "Fitting 10 folds for each of 525 candidates, totalling 5250 fits\n"
     ]
    },
    {
     "name": "stderr",
     "output_type": "stream",
     "text": [
      "[Parallel(n_jobs=-1)]: Using backend LokyBackend with 8 concurrent workers.\n",
      "[Parallel(n_jobs=-1)]: Done  25 tasks      | elapsed:    1.0s\n",
      "[Parallel(n_jobs=-1)]: Done 146 tasks      | elapsed:   16.6s\n",
      "[Parallel(n_jobs=-1)]: Done 349 tasks      | elapsed:   49.0s\n",
      "[Parallel(n_jobs=-1)]: Done 632 tasks      | elapsed:  1.7min\n",
      "[Parallel(n_jobs=-1)]: Done 997 tasks      | elapsed:  2.5min\n",
      "[Parallel(n_jobs=-1)]: Done 1442 tasks      | elapsed:  3.7min\n",
      "[Parallel(n_jobs=-1)]: Done 1969 tasks      | elapsed:  5.4min\n",
      "[Parallel(n_jobs=-1)]: Done 2576 tasks      | elapsed:  7.1min\n",
      "[Parallel(n_jobs=-1)]: Done 3265 tasks      | elapsed:  9.2min\n",
      "[Parallel(n_jobs=-1)]: Done 4034 tasks      | elapsed: 11.4min\n",
      "[Parallel(n_jobs=-1)]: Done 4885 tasks      | elapsed: 14.0min\n"
     ]
    },
    {
     "name": "stdout",
     "output_type": "stream",
     "text": [
      "[22:14:00] WARNING: C:/Users/Administrator/workspace/xgboost-win64_release_1.3.0/src/learner.cc:541: \n",
      "Parameters: { colsample_by_tree } might not be used.\n",
      "\n",
      "  This may not be accurate due to some parameters are only used in language bindings but\n",
      "  passed down to XGBoost core.  Or some parameters are not used but slip through this\n",
      "  verification. Please open an issue if you find above cases.\n",
      "\n",
      "\n"
     ]
    },
    {
     "name": "stderr",
     "output_type": "stream",
     "text": [
      "[Parallel(n_jobs=-1)]: Done 5250 out of 5250 | elapsed: 15.1min finished\n"
     ]
    }
   ],
   "source": [
    "from sklearn.model_selection import GridSearchCV\n",
    "xgb_params={\n",
    "    \"colsample_by_tree\":[0.3,0.4,0.5,0.6,0.8,0.9,1],\"n_estimators\":[100,200,500,1000,2000],\"max_depth\":[2,3,4,5,6],\"learning_rate\":[0.1,0.01,0.5]\n",
    "}\n",
    "xgb_model=XGBRegressor()\n",
    "xgb_cv_model=GridSearchCV(estimator=xgb_model,cv=10,n_jobs=-1,verbose=2,param_grid=xgb_params).fit(x_train,y_train.iloc[:,1])"
   ]
  },
  {
   "cell_type": "code",
   "execution_count": 62,
   "metadata": {},
   "outputs": [
    {
     "data": {
      "text/plain": [
       "3.377546458950399"
      ]
     },
     "execution_count": 62,
     "metadata": {},
     "output_type": "execute_result"
    }
   ],
   "source": [
    "np.sqrt(mean_squared_error(y_test.iloc[:,1], xgb_cv_model.predict(x_test)))+np.sqrt(mean_squared_error(y_test.iloc[:,1],xgb_cv_model.predict(x_test)))"
   ]
  },
  {
   "cell_type": "markdown",
   "metadata": {},
   "source": [
    "#### Random Forest"
   ]
  },
  {
   "cell_type": "code",
   "execution_count": 63,
   "metadata": {},
   "outputs": [],
   "source": [
    "from sklearn.ensemble import RandomForestRegressor\n",
    "rf_model=RandomForestRegressor().fit(x_train,y_train)"
   ]
  },
  {
   "cell_type": "code",
   "execution_count": 64,
   "metadata": {},
   "outputs": [
    {
     "data": {
      "text/plain": [
       "1.2598528237962152"
      ]
     },
     "execution_count": 64,
     "metadata": {},
     "output_type": "execute_result"
    }
   ],
   "source": [
    "np.sqrt(mean_squared_error(y_test,rf_model.predict(x_test)))"
   ]
  },
  {
   "cell_type": "code",
   "execution_count": 78,
   "metadata": {},
   "outputs": [],
   "source": [
    "rf_params={\n",
    "           \"max_features\":[2,3,10,5,7,10,13,15],\n",
    "           \"n_estimators\":[100,200,500,1000,2000]}\n",
    "rf_model=RandomForestRegressor()\n",
    "rf_cv_model=GridSearchCV(rf_model,param_grid=rf_params,cv=10,n_jobs=-1).fit(x_train,y_train)"
   ]
  },
  {
   "cell_type": "code",
   "execution_count": 79,
   "metadata": {},
   "outputs": [
    {
     "data": {
      "text/plain": [
       "1.2577723701866514"
      ]
     },
     "execution_count": 79,
     "metadata": {},
     "output_type": "execute_result"
    }
   ],
   "source": [
    "np.sqrt(mean_squared_error(y_test,rf_cv_model.predict(x_test)))"
   ]
  },
  {
   "cell_type": "code",
   "execution_count": 80,
   "metadata": {},
   "outputs": [
    {
     "data": {
      "text/plain": [
       "-0.0020804536095637705"
      ]
     },
     "execution_count": 80,
     "metadata": {},
     "output_type": "execute_result"
    }
   ],
   "source": [
    "1.2577723701866514-1.2598528237962152"
   ]
  },
  {
   "cell_type": "code",
   "execution_count": 83,
   "metadata": {},
   "outputs": [
    {
     "data": {
      "text/plain": [
       "{'max_features': 5, 'n_estimators': 200}"
      ]
     },
     "execution_count": 83,
     "metadata": {},
     "output_type": "execute_result"
    }
   ],
   "source": [
    "rf_cv_model.best_params_"
   ]
  },
  {
   "cell_type": "code",
   "execution_count": 96,
   "metadata": {},
   "outputs": [
    {
     "data": {
      "text/plain": [
       "1.2573567222296815"
      ]
     },
     "execution_count": 96,
     "metadata": {},
     "output_type": "execute_result"
    }
   ],
   "source": [
    "rf_cv_model2=RandomForestRegressor(n_estimators=1000,max_features=5,max_depth=12).fit(x_train,y_train)\n",
    "np.sqrt(mean_squared_error(y_test,rf_cv_model2.predict(x_test)))"
   ]
  },
  {
   "cell_type": "markdown",
   "metadata": {},
   "source": [
    "#### Değişkenlerin önem düzeyleri"
   ]
  },
  {
   "cell_type": "code",
   "execution_count": 112,
   "metadata": {},
   "outputs": [
    {
     "data": {
      "image/png": "[encoded data removed]",
      "text/plain": [
       "<Figure size 432x288 with 1 Axes>"
      ]
     },
     "metadata": {
      "needs_background": "light"
     },
     "output_type": "display_data"
    }
   ],
   "source": [
    "Importance=pd.DataFrame({\"Importance\":rf_cv_model2.feature_importances_*100},\n",
    "                        index=x_train.columns)\n",
    "Importance.sort_values(by=\"Importance\",axis=0,ascending=True).plot(kind=\"barh\",color=\"r\");\n",
    "plt.xlabel(\"Değişkenlerin önem düzeyleri\")\n",
    "plt.show()"
   ]
  },
  {
   "cell_type": "markdown",
   "metadata": {},
   "source": [
    "#### CatBoost Model"
   ]
  },
  {
   "cell_type": "code",
   "execution_count": 117,
   "metadata": {
    "collapsed": true,
    "jupyter": {
     "outputs_hidden": true
    }
   },
   "outputs": [
    {
     "name": "stdout",
     "output_type": "stream",
     "text": [
      "Learning rate set to 0.03538\n",
      "0:\tlearn: 9.1484346\ttotal: 159ms\tremaining: 2m 38s\n",
      "1:\tlearn: 8.8881662\ttotal: 159ms\tremaining: 1m 19s\n",
      "2:\tlearn: 8.6170768\ttotal: 160ms\tremaining: 53.2s\n",
      "3:\tlearn: 8.3826402\ttotal: 160ms\tremaining: 39.9s\n",
      "4:\tlearn: 8.1270061\ttotal: 161ms\tremaining: 32s\n",
      "5:\tlearn: 7.8853835\ttotal: 161ms\tremaining: 26.7s\n",
      "6:\tlearn: 7.6477291\ttotal: 162ms\tremaining: 23s\n",
      "7:\tlearn: 7.4464478\ttotal: 162ms\tremaining: 20.1s\n",
      "8:\tlearn: 7.2475773\ttotal: 163ms\tremaining: 17.9s\n",
      "9:\tlearn: 7.0328114\ttotal: 163ms\tremaining: 16.2s\n",
      "10:\tlearn: 6.8343951\ttotal: 164ms\tremaining: 14.7s\n",
      "11:\tlearn: 6.6394824\ttotal: 165ms\tremaining: 13.6s\n",
      "12:\tlearn: 6.4617215\ttotal: 165ms\tremaining: 12.5s\n",
      "13:\tlearn: 6.2788140\ttotal: 166ms\tremaining: 11.7s\n",
      "14:\tlearn: 6.1043644\ttotal: 166ms\tremaining: 10.9s\n",
      "15:\tlearn: 5.9357238\ttotal: 167ms\tremaining: 10.3s\n",
      "16:\tlearn: 5.7784906\ttotal: 168ms\tremaining: 9.69s\n",
      "17:\tlearn: 5.6199899\ttotal: 168ms\tremaining: 9.17s\n",
      "18:\tlearn: 5.4734098\ttotal: 169ms\tremaining: 8.7s\n",
      "19:\tlearn: 5.3264787\ttotal: 169ms\tremaining: 8.28s\n",
      "20:\tlearn: 5.1854647\ttotal: 170ms\tremaining: 7.9s\n",
      "21:\tlearn: 5.0499528\ttotal: 170ms\tremaining: 7.56s\n",
      "22:\tlearn: 4.9225218\ttotal: 171ms\tremaining: 7.25s\n",
      "23:\tlearn: 4.8053614\ttotal: 171ms\tremaining: 6.96s\n",
      "24:\tlearn: 4.6856391\ttotal: 172ms\tremaining: 6.7s\n",
      "25:\tlearn: 4.5704572\ttotal: 172ms\tremaining: 6.45s\n",
      "26:\tlearn: 4.4525421\ttotal: 173ms\tremaining: 6.23s\n",
      "27:\tlearn: 4.3476904\ttotal: 174ms\tremaining: 6.02s\n",
      "28:\tlearn: 4.2648285\ttotal: 174ms\tremaining: 5.83s\n",
      "29:\tlearn: 4.1690080\ttotal: 174ms\tremaining: 5.64s\n",
      "30:\tlearn: 4.0828082\ttotal: 175ms\tremaining: 5.46s\n",
      "31:\tlearn: 3.9887839\ttotal: 175ms\tremaining: 5.3s\n",
      "32:\tlearn: 3.8955846\ttotal: 176ms\tremaining: 5.15s\n",
      "33:\tlearn: 3.8056785\ttotal: 176ms\tremaining: 5.01s\n",
      "34:\tlearn: 3.7392171\ttotal: 177ms\tremaining: 4.88s\n",
      "35:\tlearn: 3.6799939\ttotal: 177ms\tremaining: 4.74s\n",
      "36:\tlearn: 3.6027251\ttotal: 178ms\tremaining: 4.62s\n",
      "37:\tlearn: 3.5276745\ttotal: 178ms\tremaining: 4.51s\n",
      "38:\tlearn: 3.4522490\ttotal: 179ms\tremaining: 4.4s\n",
      "39:\tlearn: 3.3797192\ttotal: 179ms\tremaining: 4.3s\n",
      "40:\tlearn: 3.3189187\ttotal: 180ms\tremaining: 4.2s\n",
      "41:\tlearn: 3.2566026\ttotal: 180ms\tremaining: 4.11s\n",
      "42:\tlearn: 3.1960623\ttotal: 181ms\tremaining: 4.02s\n",
      "43:\tlearn: 3.1449543\ttotal: 181ms\tremaining: 3.94s\n",
      "44:\tlearn: 3.0999689\ttotal: 182ms\tremaining: 3.85s\n",
      "45:\tlearn: 3.0518449\ttotal: 182ms\tremaining: 3.78s\n",
      "46:\tlearn: 2.9956973\ttotal: 183ms\tremaining: 3.7s\n",
      "47:\tlearn: 2.9420041\ttotal: 183ms\tremaining: 3.63s\n",
      "48:\tlearn: 2.8836845\ttotal: 184ms\tremaining: 3.56s\n",
      "49:\tlearn: 2.8282978\ttotal: 184ms\tremaining: 3.5s\n",
      "50:\tlearn: 2.7906470\ttotal: 185ms\tremaining: 3.44s\n",
      "51:\tlearn: 2.7567537\ttotal: 185ms\tremaining: 3.38s\n",
      "52:\tlearn: 2.7121640\ttotal: 186ms\tremaining: 3.32s\n",
      "53:\tlearn: 2.6700669\ttotal: 186ms\tremaining: 3.26s\n",
      "54:\tlearn: 2.6205574\ttotal: 187ms\tremaining: 3.21s\n",
      "55:\tlearn: 2.5752818\ttotal: 187ms\tremaining: 3.16s\n",
      "56:\tlearn: 2.5381468\ttotal: 188ms\tremaining: 3.11s\n",
      "57:\tlearn: 2.4996045\ttotal: 188ms\tremaining: 3.06s\n",
      "58:\tlearn: 2.4727604\ttotal: 189ms\tremaining: 3.01s\n",
      "59:\tlearn: 2.4478585\ttotal: 189ms\tremaining: 2.96s\n",
      "60:\tlearn: 2.4107487\ttotal: 190ms\tremaining: 2.92s\n",
      "61:\tlearn: 2.3704491\ttotal: 190ms\tremaining: 2.88s\n",
      "62:\tlearn: 2.3471026\ttotal: 191ms\tremaining: 2.84s\n",
      "63:\tlearn: 2.3167686\ttotal: 192ms\tremaining: 2.8s\n",
      "64:\tlearn: 2.2921966\ttotal: 192ms\tremaining: 2.77s\n",
      "65:\tlearn: 2.2608515\ttotal: 193ms\tremaining: 2.73s\n",
      "66:\tlearn: 2.2391328\ttotal: 193ms\tremaining: 2.69s\n",
      "67:\tlearn: 2.2083447\ttotal: 194ms\tremaining: 2.65s\n",
      "68:\tlearn: 2.1834300\ttotal: 194ms\tremaining: 2.62s\n",
      "69:\tlearn: 2.1617348\ttotal: 195ms\tremaining: 2.59s\n",
      "70:\tlearn: 2.1402638\ttotal: 195ms\tremaining: 2.56s\n",
      "71:\tlearn: 2.1231143\ttotal: 196ms\tremaining: 2.52s\n",
      "72:\tlearn: 2.1080784\ttotal: 197ms\tremaining: 2.5s\n",
      "73:\tlearn: 2.0858799\ttotal: 197ms\tremaining: 2.47s\n",
      "74:\tlearn: 2.0707526\ttotal: 198ms\tremaining: 2.44s\n",
      "75:\tlearn: 2.0492940\ttotal: 198ms\tremaining: 2.41s\n",
      "76:\tlearn: 2.0258926\ttotal: 199ms\tremaining: 2.38s\n",
      "77:\tlearn: 2.0062534\ttotal: 199ms\tremaining: 2.35s\n",
      "78:\tlearn: 1.9854519\ttotal: 200ms\tremaining: 2.33s\n",
      "79:\tlearn: 1.9748798\ttotal: 200ms\tremaining: 2.3s\n",
      "80:\tlearn: 1.9596369\ttotal: 200ms\tremaining: 2.27s\n",
      "81:\tlearn: 1.9397763\ttotal: 201ms\tremaining: 2.25s\n",
      "82:\tlearn: 1.9229562\ttotal: 202ms\tremaining: 2.23s\n",
      "83:\tlearn: 1.9126196\ttotal: 202ms\tremaining: 2.2s\n",
      "84:\tlearn: 1.9026787\ttotal: 203ms\tremaining: 2.18s\n",
      "85:\tlearn: 1.8936224\ttotal: 203ms\tremaining: 2.16s\n",
      "86:\tlearn: 1.8842047\ttotal: 203ms\tremaining: 2.13s\n",
      "87:\tlearn: 1.8725303\ttotal: 204ms\tremaining: 2.11s\n",
      "88:\tlearn: 1.8636902\ttotal: 204ms\tremaining: 2.09s\n",
      "89:\tlearn: 1.8544676\ttotal: 205ms\tremaining: 2.07s\n",
      "90:\tlearn: 1.8418650\ttotal: 206ms\tremaining: 2.05s\n",
      "91:\tlearn: 1.8392849\ttotal: 206ms\tremaining: 2.03s\n",
      "92:\tlearn: 1.8274263\ttotal: 206ms\tremaining: 2.01s\n",
      "93:\tlearn: 1.8163599\ttotal: 207ms\tremaining: 2s\n",
      "94:\tlearn: 1.8097177\ttotal: 207ms\tremaining: 1.98s\n",
      "95:\tlearn: 1.7999497\ttotal: 208ms\tremaining: 1.96s\n",
      "96:\tlearn: 1.7932854\ttotal: 209ms\tremaining: 1.94s\n",
      "97:\tlearn: 1.7830860\ttotal: 209ms\tremaining: 1.92s\n",
      "98:\tlearn: 1.7764298\ttotal: 210ms\tremaining: 1.91s\n",
      "99:\tlearn: 1.7713770\ttotal: 210ms\tremaining: 1.89s\n",
      "100:\tlearn: 1.7661668\ttotal: 211ms\tremaining: 1.87s\n",
      "101:\tlearn: 1.7589700\ttotal: 211ms\tremaining: 1.86s\n",
      "102:\tlearn: 1.7540552\ttotal: 212ms\tremaining: 1.84s\n",
      "103:\tlearn: 1.7476411\ttotal: 212ms\tremaining: 1.83s\n",
      "104:\tlearn: 1.7399980\ttotal: 213ms\tremaining: 1.81s\n",
      "105:\tlearn: 1.7352788\ttotal: 213ms\tremaining: 1.8s\n",
      "106:\tlearn: 1.7282886\ttotal: 214ms\tremaining: 1.78s\n",
      "107:\tlearn: 1.7228063\ttotal: 215ms\tremaining: 1.77s\n",
      "108:\tlearn: 1.7193372\ttotal: 215ms\tremaining: 1.76s\n",
      "109:\tlearn: 1.7121536\ttotal: 216ms\tremaining: 1.75s\n",
      "110:\tlearn: 1.7092602\ttotal: 216ms\tremaining: 1.73s\n",
      "111:\tlearn: 1.7053952\ttotal: 217ms\tremaining: 1.72s\n",
      "112:\tlearn: 1.7000156\ttotal: 217ms\tremaining: 1.71s\n",
      "113:\tlearn: 1.6965339\ttotal: 218ms\tremaining: 1.69s\n",
      "114:\tlearn: 1.6936140\ttotal: 218ms\tremaining: 1.68s\n",
      "115:\tlearn: 1.6886645\ttotal: 219ms\tremaining: 1.67s\n",
      "116:\tlearn: 1.6858433\ttotal: 219ms\tremaining: 1.66s\n",
      "117:\tlearn: 1.6808397\ttotal: 220ms\tremaining: 1.65s\n",
      "118:\tlearn: 1.6763965\ttotal: 221ms\tremaining: 1.64s\n",
      "119:\tlearn: 1.6742720\ttotal: 222ms\tremaining: 1.63s\n",
      "120:\tlearn: 1.6706027\ttotal: 223ms\tremaining: 1.62s\n",
      "121:\tlearn: 1.6657584\ttotal: 224ms\tremaining: 1.61s\n",
      "122:\tlearn: 1.6617922\ttotal: 224ms\tremaining: 1.6s\n",
      "123:\tlearn: 1.6582571\ttotal: 225ms\tremaining: 1.59s\n",
      "124:\tlearn: 1.6565575\ttotal: 225ms\tremaining: 1.58s\n",
      "125:\tlearn: 1.6536571\ttotal: 226ms\tremaining: 1.57s\n",
      "126:\tlearn: 1.6498127\ttotal: 226ms\tremaining: 1.55s\n",
      "127:\tlearn: 1.6469910\ttotal: 227ms\tremaining: 1.54s\n",
      "128:\tlearn: 1.6447068\ttotal: 227ms\tremaining: 1.53s\n",
      "129:\tlearn: 1.6409910\ttotal: 228ms\tremaining: 1.52s\n",
      "130:\tlearn: 1.6402859\ttotal: 228ms\tremaining: 1.51s\n",
      "131:\tlearn: 1.6373453\ttotal: 229ms\tremaining: 1.5s\n",
      "132:\tlearn: 1.6346010\ttotal: 229ms\tremaining: 1.5s\n",
      "133:\tlearn: 1.6315808\ttotal: 230ms\tremaining: 1.49s\n",
      "134:\tlearn: 1.6294862\ttotal: 231ms\tremaining: 1.48s\n",
      "135:\tlearn: 1.6260170\ttotal: 231ms\tremaining: 1.47s\n",
      "136:\tlearn: 1.6240628\ttotal: 231ms\tremaining: 1.46s\n",
      "137:\tlearn: 1.6220874\ttotal: 232ms\tremaining: 1.45s\n",
      "138:\tlearn: 1.6211605\ttotal: 232ms\tremaining: 1.44s\n",
      "139:\tlearn: 1.6203070\ttotal: 233ms\tremaining: 1.43s\n",
      "140:\tlearn: 1.6191252\ttotal: 233ms\tremaining: 1.42s\n",
      "141:\tlearn: 1.6163924\ttotal: 234ms\tremaining: 1.41s\n",
      "142:\tlearn: 1.6156226\ttotal: 234ms\tremaining: 1.4s\n",
      "143:\tlearn: 1.6139712\ttotal: 235ms\tremaining: 1.39s\n",
      "144:\tlearn: 1.6118315\ttotal: 235ms\tremaining: 1.39s\n",
      "145:\tlearn: 1.6111512\ttotal: 235ms\tremaining: 1.38s\n",
      "146:\tlearn: 1.6091251\ttotal: 236ms\tremaining: 1.37s\n",
      "147:\tlearn: 1.6066113\ttotal: 237ms\tremaining: 1.36s\n",
      "148:\tlearn: 1.6044765\ttotal: 237ms\tremaining: 1.35s\n",
      "149:\tlearn: 1.6032095\ttotal: 238ms\tremaining: 1.35s\n",
      "150:\tlearn: 1.6029085\ttotal: 238ms\tremaining: 1.34s\n",
      "151:\tlearn: 1.6013444\ttotal: 238ms\tremaining: 1.33s\n",
      "152:\tlearn: 1.6006773\ttotal: 239ms\tremaining: 1.32s\n",
      "153:\tlearn: 1.5996775\ttotal: 239ms\tremaining: 1.31s\n",
      "154:\tlearn: 1.5978137\ttotal: 240ms\tremaining: 1.31s\n",
      "155:\tlearn: 1.5971879\ttotal: 240ms\tremaining: 1.3s\n",
      "156:\tlearn: 1.5962435\ttotal: 241ms\tremaining: 1.29s\n",
      "157:\tlearn: 1.5954343\ttotal: 241ms\tremaining: 1.28s\n",
      "158:\tlearn: 1.5942371\ttotal: 242ms\tremaining: 1.28s\n",
      "159:\tlearn: 1.5935658\ttotal: 242ms\tremaining: 1.27s\n",
      "160:\tlearn: 1.5928159\ttotal: 243ms\tremaining: 1.26s\n",
      "161:\tlearn: 1.5921365\ttotal: 243ms\tremaining: 1.26s\n",
      "162:\tlearn: 1.5913173\ttotal: 243ms\tremaining: 1.25s\n",
      "163:\tlearn: 1.5901525\ttotal: 244ms\tremaining: 1.24s\n",
      "164:\tlearn: 1.5892819\ttotal: 244ms\tremaining: 1.24s\n",
      "165:\tlearn: 1.5878735\ttotal: 245ms\tremaining: 1.23s\n",
      "166:\tlearn: 1.5867573\ttotal: 245ms\tremaining: 1.22s\n",
      "167:\tlearn: 1.5861164\ttotal: 246ms\tremaining: 1.22s\n",
      "168:\tlearn: 1.5846861\ttotal: 246ms\tremaining: 1.21s\n",
      "169:\tlearn: 1.5838837\ttotal: 247ms\tremaining: 1.2s\n",
      "170:\tlearn: 1.5829388\ttotal: 247ms\tremaining: 1.2s\n",
      "171:\tlearn: 1.5821584\ttotal: 248ms\tremaining: 1.19s\n",
      "172:\tlearn: 1.5818957\ttotal: 248ms\tremaining: 1.19s\n",
      "173:\tlearn: 1.5811373\ttotal: 248ms\tremaining: 1.18s\n",
      "174:\tlearn: 1.5806590\ttotal: 249ms\tremaining: 1.17s\n",
      "175:\tlearn: 1.5801456\ttotal: 249ms\tremaining: 1.17s\n",
      "176:\tlearn: 1.5798837\ttotal: 250ms\tremaining: 1.16s\n",
      "177:\tlearn: 1.5793721\ttotal: 250ms\tremaining: 1.15s\n",
      "178:\tlearn: 1.5787648\ttotal: 250ms\tremaining: 1.15s\n",
      "179:\tlearn: 1.5780426\ttotal: 251ms\tremaining: 1.14s\n",
      "180:\tlearn: 1.5774916\ttotal: 251ms\tremaining: 1.14s\n",
      "181:\tlearn: 1.5768406\ttotal: 252ms\tremaining: 1.13s\n",
      "182:\tlearn: 1.5763358\ttotal: 252ms\tremaining: 1.13s\n",
      "183:\tlearn: 1.5758208\ttotal: 253ms\tremaining: 1.12s\n",
      "184:\tlearn: 1.5755762\ttotal: 253ms\tremaining: 1.11s\n",
      "185:\tlearn: 1.5748991\ttotal: 254ms\tremaining: 1.11s\n",
      "186:\tlearn: 1.5743133\ttotal: 254ms\tremaining: 1.1s\n",
      "187:\tlearn: 1.5738465\ttotal: 254ms\tremaining: 1.1s\n",
      "188:\tlearn: 1.5734256\ttotal: 255ms\tremaining: 1.09s\n",
      "189:\tlearn: 1.5729509\ttotal: 255ms\tremaining: 1.09s\n",
      "190:\tlearn: 1.5724221\ttotal: 256ms\tremaining: 1.08s\n",
      "191:\tlearn: 1.5719245\ttotal: 256ms\tremaining: 1.08s\n",
      "192:\tlearn: 1.5716116\ttotal: 257ms\tremaining: 1.07s\n",
      "193:\tlearn: 1.5711132\ttotal: 257ms\tremaining: 1.07s\n",
      "194:\tlearn: 1.5708702\ttotal: 258ms\tremaining: 1.06s\n",
      "195:\tlearn: 1.5702216\ttotal: 258ms\tremaining: 1.06s\n",
      "196:\tlearn: 1.5697525\ttotal: 259ms\tremaining: 1.05s\n",
      "197:\tlearn: 1.5694308\ttotal: 259ms\tremaining: 1.05s\n",
      "198:\tlearn: 1.5690937\ttotal: 260ms\tremaining: 1.04s\n",
      "199:\tlearn: 1.5689577\ttotal: 260ms\tremaining: 1.04s\n",
      "200:\tlearn: 1.5688906\ttotal: 260ms\tremaining: 1.03s\n",
      "201:\tlearn: 1.5686545\ttotal: 261ms\tremaining: 1.03s\n",
      "202:\tlearn: 1.5683395\ttotal: 261ms\tremaining: 1.02s\n",
      "203:\tlearn: 1.5679711\ttotal: 262ms\tremaining: 1.02s\n",
      "204:\tlearn: 1.5675971\ttotal: 262ms\tremaining: 1.02s\n",
      "205:\tlearn: 1.5673146\ttotal: 263ms\tremaining: 1.01s\n",
      "206:\tlearn: 1.5669458\ttotal: 263ms\tremaining: 1.01s\n",
      "207:\tlearn: 1.5667812\ttotal: 263ms\tremaining: 1s\n",
      "208:\tlearn: 1.5662915\ttotal: 264ms\tremaining: 999ms\n",
      "209:\tlearn: 1.5660244\ttotal: 264ms\tremaining: 995ms\n",
      "210:\tlearn: 1.5657748\ttotal: 265ms\tremaining: 990ms\n",
      "211:\tlearn: 1.5656211\ttotal: 265ms\tremaining: 986ms\n",
      "212:\tlearn: 1.5652394\ttotal: 266ms\tremaining: 982ms\n",
      "213:\tlearn: 1.5650090\ttotal: 266ms\tremaining: 978ms\n",
      "214:\tlearn: 1.5648089\ttotal: 267ms\tremaining: 974ms\n",
      "215:\tlearn: 1.5645136\ttotal: 267ms\tremaining: 970ms\n",
      "216:\tlearn: 1.5643533\ttotal: 268ms\tremaining: 966ms\n",
      "217:\tlearn: 1.5641753\ttotal: 268ms\tremaining: 962ms\n",
      "218:\tlearn: 1.5640201\ttotal: 269ms\tremaining: 958ms\n",
      "219:\tlearn: 1.5637987\ttotal: 269ms\tremaining: 954ms\n",
      "220:\tlearn: 1.5634920\ttotal: 270ms\tremaining: 950ms\n",
      "221:\tlearn: 1.5633102\ttotal: 270ms\tremaining: 946ms\n",
      "222:\tlearn: 1.5631089\ttotal: 270ms\tremaining: 942ms\n",
      "223:\tlearn: 1.5628788\ttotal: 271ms\tremaining: 938ms\n",
      "224:\tlearn: 1.5625943\ttotal: 271ms\tremaining: 935ms\n",
      "225:\tlearn: 1.5623757\ttotal: 272ms\tremaining: 931ms\n",
      "226:\tlearn: 1.5622103\ttotal: 272ms\tremaining: 927ms\n",
      "227:\tlearn: 1.5620893\ttotal: 273ms\tremaining: 924ms\n",
      "228:\tlearn: 1.5619160\ttotal: 273ms\tremaining: 920ms\n",
      "229:\tlearn: 1.5617112\ttotal: 274ms\tremaining: 917ms\n",
      "230:\tlearn: 1.5614931\ttotal: 274ms\tremaining: 913ms\n",
      "231:\tlearn: 1.5613112\ttotal: 275ms\tremaining: 910ms\n",
      "232:\tlearn: 1.5611210\ttotal: 275ms\tremaining: 906ms\n",
      "233:\tlearn: 1.5609727\ttotal: 276ms\tremaining: 903ms\n",
      "234:\tlearn: 1.5607243\ttotal: 276ms\tremaining: 900ms\n",
      "235:\tlearn: 1.5606732\ttotal: 277ms\tremaining: 896ms\n",
      "236:\tlearn: 1.5605127\ttotal: 277ms\tremaining: 892ms\n",
      "237:\tlearn: 1.5602738\ttotal: 278ms\tremaining: 889ms\n",
      "238:\tlearn: 1.5601752\ttotal: 278ms\tremaining: 885ms\n",
      "239:\tlearn: 1.5599994\ttotal: 279ms\tremaining: 882ms\n",
      "240:\tlearn: 1.5598027\ttotal: 279ms\tremaining: 879ms\n",
      "241:\tlearn: 1.5595620\ttotal: 280ms\tremaining: 876ms\n",
      "242:\tlearn: 1.5593877\ttotal: 280ms\tremaining: 872ms\n",
      "243:\tlearn: 1.5592015\ttotal: 281ms\tremaining: 869ms\n",
      "244:\tlearn: 1.5590337\ttotal: 281ms\tremaining: 866ms\n",
      "245:\tlearn: 1.5589219\ttotal: 282ms\tremaining: 863ms\n",
      "246:\tlearn: 1.5588033\ttotal: 282ms\tremaining: 860ms\n",
      "247:\tlearn: 1.5586859\ttotal: 283ms\tremaining: 857ms\n",
      "248:\tlearn: 1.5585658\ttotal: 283ms\tremaining: 854ms\n",
      "249:\tlearn: 1.5584685\ttotal: 284ms\tremaining: 851ms\n",
      "250:\tlearn: 1.5583815\ttotal: 284ms\tremaining: 847ms\n",
      "251:\tlearn: 1.5583002\ttotal: 284ms\tremaining: 844ms\n",
      "252:\tlearn: 1.5581853\ttotal: 285ms\tremaining: 841ms\n",
      "253:\tlearn: 1.5580568\ttotal: 285ms\tremaining: 838ms\n",
      "254:\tlearn: 1.5579621\ttotal: 286ms\tremaining: 835ms\n",
      "255:\tlearn: 1.5578528\ttotal: 286ms\tremaining: 832ms\n",
      "256:\tlearn: 1.5577648\ttotal: 287ms\tremaining: 830ms\n",
      "257:\tlearn: 1.5576884\ttotal: 287ms\tremaining: 827ms\n",
      "258:\tlearn: 1.5576233\ttotal: 288ms\tremaining: 824ms\n",
      "259:\tlearn: 1.5575238\ttotal: 288ms\tremaining: 821ms\n",
      "260:\tlearn: 1.5574314\ttotal: 289ms\tremaining: 818ms\n",
      "261:\tlearn: 1.5573057\ttotal: 289ms\tremaining: 815ms\n",
      "262:\tlearn: 1.5572293\ttotal: 290ms\tremaining: 812ms\n",
      "263:\tlearn: 1.5571815\ttotal: 290ms\tremaining: 809ms\n",
      "264:\tlearn: 1.5570594\ttotal: 291ms\tremaining: 807ms\n",
      "265:\tlearn: 1.5569341\ttotal: 291ms\tremaining: 804ms\n",
      "266:\tlearn: 1.5568419\ttotal: 292ms\tremaining: 801ms\n",
      "267:\tlearn: 1.5567336\ttotal: 292ms\tremaining: 799ms\n",
      "268:\tlearn: 1.5566420\ttotal: 293ms\tremaining: 796ms\n",
      "269:\tlearn: 1.5565889\ttotal: 293ms\tremaining: 793ms\n",
      "270:\tlearn: 1.5565124\ttotal: 294ms\tremaining: 791ms\n",
      "271:\tlearn: 1.5564507\ttotal: 294ms\tremaining: 788ms\n",
      "272:\tlearn: 1.5563719\ttotal: 295ms\tremaining: 785ms\n",
      "273:\tlearn: 1.5563112\ttotal: 295ms\tremaining: 783ms\n",
      "274:\tlearn: 1.5562186\ttotal: 296ms\tremaining: 780ms\n",
      "275:\tlearn: 1.5561465\ttotal: 296ms\tremaining: 777ms\n",
      "276:\tlearn: 1.5560569\ttotal: 297ms\tremaining: 775ms\n",
      "277:\tlearn: 1.5560113\ttotal: 297ms\tremaining: 772ms\n",
      "278:\tlearn: 1.5559421\ttotal: 298ms\tremaining: 770ms\n",
      "279:\tlearn: 1.5558942\ttotal: 298ms\tremaining: 767ms\n",
      "280:\tlearn: 1.5558220\ttotal: 299ms\tremaining: 764ms\n",
      "281:\tlearn: 1.5557668\ttotal: 299ms\tremaining: 762ms\n",
      "282:\tlearn: 1.5557386\ttotal: 300ms\tremaining: 760ms\n",
      "283:\tlearn: 1.5556658\ttotal: 300ms\tremaining: 757ms\n",
      "284:\tlearn: 1.5556266\ttotal: 301ms\tremaining: 755ms\n",
      "285:\tlearn: 1.5555689\ttotal: 301ms\tremaining: 753ms\n",
      "286:\tlearn: 1.5555128\ttotal: 302ms\tremaining: 750ms\n",
      "287:\tlearn: 1.5554624\ttotal: 302ms\tremaining: 748ms\n",
      "288:\tlearn: 1.5553990\ttotal: 303ms\tremaining: 745ms\n",
      "289:\tlearn: 1.5553446\ttotal: 303ms\tremaining: 743ms\n",
      "290:\tlearn: 1.5552934\ttotal: 304ms\tremaining: 740ms\n",
      "291:\tlearn: 1.5552239\ttotal: 304ms\tremaining: 738ms\n",
      "292:\tlearn: 1.5551787\ttotal: 305ms\tremaining: 736ms\n",
      "293:\tlearn: 1.5551301\ttotal: 305ms\tremaining: 733ms\n",
      "294:\tlearn: 1.5551022\ttotal: 306ms\tremaining: 731ms\n",
      "295:\tlearn: 1.5550268\ttotal: 306ms\tremaining: 729ms\n",
      "296:\tlearn: 1.5549783\ttotal: 307ms\tremaining: 726ms\n",
      "297:\tlearn: 1.5549180\ttotal: 307ms\tremaining: 724ms\n",
      "298:\tlearn: 1.5548742\ttotal: 308ms\tremaining: 722ms\n",
      "299:\tlearn: 1.5548240\ttotal: 308ms\tremaining: 720ms\n",
      "300:\tlearn: 1.5548008\ttotal: 309ms\tremaining: 717ms\n",
      "301:\tlearn: 1.5547611\ttotal: 309ms\tremaining: 715ms\n",
      "302:\tlearn: 1.5547360\ttotal: 310ms\tremaining: 713ms\n",
      "303:\tlearn: 1.5546839\ttotal: 310ms\tremaining: 711ms\n",
      "304:\tlearn: 1.5546548\ttotal: 311ms\tremaining: 708ms\n",
      "305:\tlearn: 1.5546296\ttotal: 311ms\tremaining: 706ms\n",
      "306:\tlearn: 1.5546025\ttotal: 312ms\tremaining: 704ms\n",
      "307:\tlearn: 1.5545667\ttotal: 312ms\tremaining: 702ms\n",
      "308:\tlearn: 1.5545382\ttotal: 313ms\tremaining: 700ms\n",
      "309:\tlearn: 1.5545105\ttotal: 313ms\tremaining: 698ms\n",
      "310:\tlearn: 1.5544826\ttotal: 314ms\tremaining: 695ms\n",
      "311:\tlearn: 1.5544593\ttotal: 314ms\tremaining: 693ms\n",
      "312:\tlearn: 1.5544257\ttotal: 315ms\tremaining: 691ms\n",
      "313:\tlearn: 1.5543964\ttotal: 315ms\tremaining: 689ms\n",
      "314:\tlearn: 1.5543583\ttotal: 316ms\tremaining: 687ms\n",
      "315:\tlearn: 1.5543344\ttotal: 316ms\tremaining: 684ms\n",
      "316:\tlearn: 1.5543144\ttotal: 317ms\tremaining: 682ms\n",
      "317:\tlearn: 1.5542898\ttotal: 317ms\tremaining: 680ms\n",
      "318:\tlearn: 1.5542737\ttotal: 318ms\tremaining: 678ms\n",
      "319:\tlearn: 1.5542591\ttotal: 318ms\tremaining: 676ms\n",
      "320:\tlearn: 1.5542407\ttotal: 319ms\tremaining: 674ms\n",
      "321:\tlearn: 1.5542180\ttotal: 319ms\tremaining: 672ms\n",
      "322:\tlearn: 1.5542017\ttotal: 320ms\tremaining: 670ms\n",
      "323:\tlearn: 1.5541819\ttotal: 320ms\tremaining: 668ms\n",
      "324:\tlearn: 1.5541570\ttotal: 321ms\tremaining: 666ms\n",
      "325:\tlearn: 1.5541288\ttotal: 321ms\tremaining: 664ms\n",
      "326:\tlearn: 1.5541110\ttotal: 322ms\tremaining: 662ms\n",
      "327:\tlearn: 1.5540932\ttotal: 322ms\tremaining: 660ms\n",
      "328:\tlearn: 1.5540772\ttotal: 322ms\tremaining: 658ms\n",
      "329:\tlearn: 1.5540542\ttotal: 323ms\tremaining: 657ms\n",
      "330:\tlearn: 1.5540187\ttotal: 324ms\tremaining: 655ms\n",
      "331:\tlearn: 1.5540079\ttotal: 324ms\tremaining: 653ms\n",
      "332:\tlearn: 1.5539837\ttotal: 325ms\tremaining: 651ms\n",
      "333:\tlearn: 1.5539494\ttotal: 325ms\tremaining: 649ms\n",
      "334:\tlearn: 1.5539166\ttotal: 326ms\tremaining: 647ms\n",
      "335:\tlearn: 1.5538922\ttotal: 326ms\tremaining: 645ms\n",
      "336:\tlearn: 1.5538733\ttotal: 327ms\tremaining: 643ms\n",
      "337:\tlearn: 1.5538538\ttotal: 327ms\tremaining: 641ms\n",
      "338:\tlearn: 1.5538432\ttotal: 328ms\tremaining: 639ms\n",
      "339:\tlearn: 1.5538277\ttotal: 328ms\tremaining: 637ms\n",
      "340:\tlearn: 1.5537975\ttotal: 329ms\tremaining: 635ms\n",
      "341:\tlearn: 1.5537771\ttotal: 329ms\tremaining: 633ms\n",
      "342:\tlearn: 1.5537491\ttotal: 330ms\tremaining: 631ms\n",
      "343:\tlearn: 1.5537244\ttotal: 330ms\tremaining: 630ms\n",
      "344:\tlearn: 1.5537160\ttotal: 331ms\tremaining: 628ms\n",
      "345:\tlearn: 1.5537077\ttotal: 331ms\tremaining: 626ms\n",
      "346:\tlearn: 1.5536958\ttotal: 331ms\tremaining: 624ms\n",
      "347:\tlearn: 1.5536846\ttotal: 332ms\tremaining: 622ms\n",
      "348:\tlearn: 1.5536687\ttotal: 332ms\tremaining: 620ms\n",
      "349:\tlearn: 1.5536452\ttotal: 333ms\tremaining: 618ms\n",
      "350:\tlearn: 1.5536253\ttotal: 333ms\tremaining: 616ms\n",
      "351:\tlearn: 1.5536146\ttotal: 334ms\tremaining: 615ms\n",
      "352:\tlearn: 1.5535982\ttotal: 334ms\tremaining: 613ms\n",
      "353:\tlearn: 1.5535761\ttotal: 335ms\tremaining: 611ms\n",
      "354:\tlearn: 1.5535542\ttotal: 335ms\tremaining: 609ms\n",
      "355:\tlearn: 1.5535371\ttotal: 336ms\tremaining: 607ms\n",
      "356:\tlearn: 1.5535120\ttotal: 336ms\tremaining: 606ms\n",
      "357:\tlearn: 1.5534998\ttotal: 337ms\tremaining: 604ms\n",
      "358:\tlearn: 1.5534889\ttotal: 337ms\tremaining: 602ms\n",
      "359:\tlearn: 1.5534762\ttotal: 338ms\tremaining: 600ms\n",
      "360:\tlearn: 1.5534696\ttotal: 338ms\tremaining: 598ms\n",
      "361:\tlearn: 1.5534604\ttotal: 339ms\tremaining: 597ms\n",
      "362:\tlearn: 1.5534523\ttotal: 339ms\tremaining: 595ms\n",
      "363:\tlearn: 1.5534430\ttotal: 339ms\tremaining: 593ms\n",
      "364:\tlearn: 1.5534326\ttotal: 340ms\tremaining: 591ms\n",
      "365:\tlearn: 1.5534250\ttotal: 340ms\tremaining: 590ms\n",
      "366:\tlearn: 1.5534079\ttotal: 341ms\tremaining: 588ms\n",
      "367:\tlearn: 1.5533994\ttotal: 341ms\tremaining: 586ms\n",
      "368:\tlearn: 1.5533904\ttotal: 342ms\tremaining: 584ms\n",
      "369:\tlearn: 1.5533786\ttotal: 342ms\tremaining: 583ms\n",
      "370:\tlearn: 1.5533681\ttotal: 343ms\tremaining: 581ms\n",
      "371:\tlearn: 1.5533614\ttotal: 343ms\tremaining: 579ms\n",
      "372:\tlearn: 1.5533534\ttotal: 344ms\tremaining: 578ms\n",
      "373:\tlearn: 1.5533469\ttotal: 344ms\tremaining: 576ms\n",
      "374:\tlearn: 1.5533321\ttotal: 345ms\tremaining: 574ms\n",
      "375:\tlearn: 1.5533272\ttotal: 345ms\tremaining: 573ms\n",
      "376:\tlearn: 1.5533189\ttotal: 346ms\tremaining: 571ms\n",
      "377:\tlearn: 1.5533133\ttotal: 346ms\tremaining: 569ms\n",
      "378:\tlearn: 1.5533074\ttotal: 346ms\tremaining: 568ms\n",
      "379:\tlearn: 1.5532983\ttotal: 347ms\tremaining: 566ms\n",
      "380:\tlearn: 1.5532916\ttotal: 347ms\tremaining: 564ms\n",
      "381:\tlearn: 1.5532808\ttotal: 348ms\tremaining: 563ms\n",
      "382:\tlearn: 1.5532749\ttotal: 348ms\tremaining: 561ms\n",
      "383:\tlearn: 1.5532636\ttotal: 349ms\tremaining: 560ms\n",
      "384:\tlearn: 1.5532573\ttotal: 349ms\tremaining: 558ms\n",
      "385:\tlearn: 1.5532522\ttotal: 350ms\tremaining: 556ms\n",
      "386:\tlearn: 1.5532439\ttotal: 350ms\tremaining: 555ms\n",
      "387:\tlearn: 1.5532360\ttotal: 351ms\tremaining: 553ms\n",
      "388:\tlearn: 1.5532287\ttotal: 351ms\tremaining: 552ms\n",
      "389:\tlearn: 1.5532173\ttotal: 352ms\tremaining: 550ms\n",
      "390:\tlearn: 1.5532100\ttotal: 352ms\tremaining: 548ms\n",
      "391:\tlearn: 1.5532061\ttotal: 353ms\tremaining: 547ms\n",
      "392:\tlearn: 1.5531999\ttotal: 353ms\tremaining: 545ms\n",
      "393:\tlearn: 1.5531958\ttotal: 354ms\tremaining: 544ms\n",
      "394:\tlearn: 1.5531895\ttotal: 354ms\tremaining: 542ms\n",
      "395:\tlearn: 1.5531843\ttotal: 355ms\tremaining: 541ms\n",
      "396:\tlearn: 1.5531787\ttotal: 355ms\tremaining: 539ms\n",
      "397:\tlearn: 1.5531754\ttotal: 355ms\tremaining: 538ms\n",
      "398:\tlearn: 1.5531674\ttotal: 356ms\tremaining: 536ms\n",
      "399:\tlearn: 1.5531565\ttotal: 356ms\tremaining: 535ms\n",
      "400:\tlearn: 1.5531530\ttotal: 357ms\tremaining: 533ms\n",
      "401:\tlearn: 1.5531444\ttotal: 357ms\tremaining: 532ms\n",
      "402:\tlearn: 1.5531405\ttotal: 358ms\tremaining: 530ms\n",
      "403:\tlearn: 1.5531348\ttotal: 358ms\tremaining: 529ms\n",
      "404:\tlearn: 1.5531304\ttotal: 359ms\tremaining: 527ms\n",
      "405:\tlearn: 1.5531269\ttotal: 359ms\tremaining: 526ms\n",
      "406:\tlearn: 1.5531231\ttotal: 360ms\tremaining: 524ms\n",
      "407:\tlearn: 1.5531155\ttotal: 360ms\tremaining: 523ms\n",
      "408:\tlearn: 1.5531123\ttotal: 361ms\tremaining: 521ms\n",
      "409:\tlearn: 1.5531094\ttotal: 361ms\tremaining: 520ms\n",
      "410:\tlearn: 1.5531025\ttotal: 362ms\tremaining: 518ms\n",
      "411:\tlearn: 1.5531002\ttotal: 362ms\tremaining: 517ms\n",
      "412:\tlearn: 1.5530983\ttotal: 363ms\tremaining: 515ms\n",
      "413:\tlearn: 1.5530950\ttotal: 363ms\tremaining: 514ms\n",
      "414:\tlearn: 1.5530884\ttotal: 363ms\tremaining: 512ms\n",
      "415:\tlearn: 1.5530863\ttotal: 364ms\tremaining: 511ms\n",
      "416:\tlearn: 1.5530791\ttotal: 364ms\tremaining: 509ms\n",
      "417:\tlearn: 1.5530762\ttotal: 365ms\tremaining: 508ms\n",
      "418:\tlearn: 1.5530707\ttotal: 365ms\tremaining: 507ms\n",
      "419:\tlearn: 1.5530680\ttotal: 366ms\tremaining: 505ms\n",
      "420:\tlearn: 1.5530649\ttotal: 366ms\tremaining: 504ms\n",
      "421:\tlearn: 1.5530606\ttotal: 367ms\tremaining: 502ms\n",
      "422:\tlearn: 1.5530559\ttotal: 367ms\tremaining: 501ms\n",
      "423:\tlearn: 1.5530506\ttotal: 368ms\tremaining: 499ms\n",
      "424:\tlearn: 1.5530477\ttotal: 368ms\tremaining: 498ms\n",
      "425:\tlearn: 1.5530446\ttotal: 369ms\tremaining: 497ms\n",
      "426:\tlearn: 1.5530394\ttotal: 369ms\tremaining: 495ms\n",
      "427:\tlearn: 1.5530363\ttotal: 370ms\tremaining: 494ms\n",
      "428:\tlearn: 1.5530326\ttotal: 370ms\tremaining: 493ms\n",
      "429:\tlearn: 1.5530302\ttotal: 371ms\tremaining: 491ms\n",
      "430:\tlearn: 1.5530286\ttotal: 371ms\tremaining: 490ms\n",
      "431:\tlearn: 1.5530266\ttotal: 372ms\tremaining: 488ms\n",
      "432:\tlearn: 1.5530234\ttotal: 372ms\tremaining: 487ms\n",
      "433:\tlearn: 1.5530224\ttotal: 372ms\tremaining: 486ms\n",
      "434:\tlearn: 1.5530164\ttotal: 373ms\tremaining: 484ms\n",
      "435:\tlearn: 1.5530096\ttotal: 373ms\tremaining: 483ms\n",
      "436:\tlearn: 1.5530075\ttotal: 374ms\tremaining: 482ms\n",
      "437:\tlearn: 1.5530025\ttotal: 374ms\tremaining: 480ms\n",
      "438:\tlearn: 1.5530019\ttotal: 375ms\tremaining: 479ms\n",
      "439:\tlearn: 1.5529971\ttotal: 375ms\tremaining: 478ms\n",
      "440:\tlearn: 1.5529922\ttotal: 376ms\tremaining: 476ms\n",
      "441:\tlearn: 1.5529908\ttotal: 376ms\tremaining: 475ms\n",
      "442:\tlearn: 1.5529899\ttotal: 377ms\tremaining: 474ms\n",
      "443:\tlearn: 1.5529867\ttotal: 377ms\tremaining: 473ms\n",
      "444:\tlearn: 1.5529850\ttotal: 378ms\tremaining: 471ms\n",
      "445:\tlearn: 1.5529817\ttotal: 378ms\tremaining: 470ms\n",
      "446:\tlearn: 1.5529807\ttotal: 379ms\tremaining: 469ms\n",
      "447:\tlearn: 1.5529790\ttotal: 379ms\tremaining: 467ms\n",
      "448:\tlearn: 1.5529777\ttotal: 380ms\tremaining: 466ms\n",
      "449:\tlearn: 1.5529766\ttotal: 380ms\tremaining: 465ms\n",
      "450:\tlearn: 1.5529734\ttotal: 381ms\tremaining: 463ms\n",
      "451:\tlearn: 1.5529700\ttotal: 381ms\tremaining: 462ms\n",
      "452:\tlearn: 1.5529685\ttotal: 382ms\tremaining: 461ms\n",
      "453:\tlearn: 1.5529679\ttotal: 382ms\tremaining: 459ms\n",
      "454:\tlearn: 1.5529641\ttotal: 383ms\tremaining: 458ms\n",
      "455:\tlearn: 1.5529623\ttotal: 383ms\tremaining: 457ms\n",
      "456:\tlearn: 1.5529606\ttotal: 383ms\tremaining: 456ms\n",
      "457:\tlearn: 1.5529580\ttotal: 384ms\tremaining: 454ms\n",
      "458:\tlearn: 1.5529553\ttotal: 384ms\tremaining: 453ms\n",
      "459:\tlearn: 1.5529535\ttotal: 385ms\tremaining: 452ms\n",
      "460:\tlearn: 1.5529506\ttotal: 385ms\tremaining: 451ms\n",
      "461:\tlearn: 1.5529480\ttotal: 386ms\tremaining: 449ms\n",
      "462:\tlearn: 1.5529456\ttotal: 386ms\tremaining: 448ms\n",
      "463:\tlearn: 1.5529421\ttotal: 387ms\tremaining: 447ms\n",
      "464:\tlearn: 1.5529405\ttotal: 387ms\tremaining: 446ms\n",
      "465:\tlearn: 1.5529396\ttotal: 388ms\tremaining: 444ms\n",
      "466:\tlearn: 1.5529387\ttotal: 388ms\tremaining: 443ms\n",
      "467:\tlearn: 1.5529370\ttotal: 389ms\tremaining: 442ms\n",
      "468:\tlearn: 1.5529355\ttotal: 389ms\tremaining: 441ms\n",
      "469:\tlearn: 1.5529341\ttotal: 390ms\tremaining: 440ms\n",
      "470:\tlearn: 1.5529321\ttotal: 390ms\tremaining: 438ms\n",
      "471:\tlearn: 1.5529290\ttotal: 391ms\tremaining: 437ms\n",
      "472:\tlearn: 1.5529275\ttotal: 391ms\tremaining: 436ms\n",
      "473:\tlearn: 1.5529267\ttotal: 392ms\tremaining: 435ms\n",
      "474:\tlearn: 1.5529257\ttotal: 393ms\tremaining: 434ms\n",
      "475:\tlearn: 1.5529222\ttotal: 393ms\tremaining: 433ms\n",
      "476:\tlearn: 1.5529216\ttotal: 395ms\tremaining: 433ms\n",
      "477:\tlearn: 1.5529209\ttotal: 395ms\tremaining: 431ms\n",
      "478:\tlearn: 1.5529204\ttotal: 396ms\tremaining: 430ms\n",
      "479:\tlearn: 1.5529197\ttotal: 396ms\tremaining: 429ms\n",
      "480:\tlearn: 1.5529175\ttotal: 397ms\tremaining: 428ms\n",
      "481:\tlearn: 1.5529166\ttotal: 397ms\tremaining: 427ms\n",
      "482:\tlearn: 1.5529149\ttotal: 398ms\tremaining: 426ms\n",
      "483:\tlearn: 1.5529140\ttotal: 398ms\tremaining: 424ms\n",
      "484:\tlearn: 1.5529133\ttotal: 398ms\tremaining: 423ms\n",
      "485:\tlearn: 1.5529126\ttotal: 399ms\tremaining: 422ms\n",
      "486:\tlearn: 1.5529108\ttotal: 399ms\tremaining: 421ms\n",
      "487:\tlearn: 1.5529103\ttotal: 400ms\tremaining: 419ms\n",
      "488:\tlearn: 1.5529091\ttotal: 400ms\tremaining: 418ms\n",
      "489:\tlearn: 1.5529078\ttotal: 401ms\tremaining: 417ms\n",
      "490:\tlearn: 1.5529066\ttotal: 401ms\tremaining: 416ms\n",
      "491:\tlearn: 1.5529047\ttotal: 402ms\tremaining: 415ms\n",
      "492:\tlearn: 1.5529037\ttotal: 402ms\tremaining: 414ms\n",
      "493:\tlearn: 1.5529027\ttotal: 403ms\tremaining: 413ms\n",
      "494:\tlearn: 1.5529011\ttotal: 403ms\tremaining: 411ms\n",
      "495:\tlearn: 1.5529000\ttotal: 404ms\tremaining: 410ms\n",
      "496:\tlearn: 1.5528980\ttotal: 404ms\tremaining: 409ms\n",
      "497:\tlearn: 1.5528970\ttotal: 405ms\tremaining: 408ms\n",
      "498:\tlearn: 1.5528955\ttotal: 405ms\tremaining: 407ms\n",
      "499:\tlearn: 1.5528949\ttotal: 406ms\tremaining: 406ms\n",
      "500:\tlearn: 1.5528941\ttotal: 406ms\tremaining: 404ms\n",
      "501:\tlearn: 1.5528923\ttotal: 406ms\tremaining: 403ms\n",
      "502:\tlearn: 1.5528911\ttotal: 407ms\tremaining: 402ms\n",
      "503:\tlearn: 1.5528906\ttotal: 408ms\tremaining: 401ms\n",
      "504:\tlearn: 1.5528901\ttotal: 408ms\tremaining: 400ms\n",
      "505:\tlearn: 1.5528896\ttotal: 408ms\tremaining: 399ms\n",
      "506:\tlearn: 1.5528893\ttotal: 409ms\tremaining: 398ms\n",
      "507:\tlearn: 1.5528886\ttotal: 409ms\tremaining: 396ms\n",
      "508:\tlearn: 1.5528872\ttotal: 410ms\tremaining: 395ms\n",
      "509:\tlearn: 1.5528853\ttotal: 410ms\tremaining: 394ms\n",
      "510:\tlearn: 1.5528822\ttotal: 411ms\tremaining: 393ms\n",
      "511:\tlearn: 1.5528802\ttotal: 411ms\tremaining: 392ms\n",
      "512:\tlearn: 1.5528800\ttotal: 412ms\tremaining: 391ms\n",
      "513:\tlearn: 1.5528770\ttotal: 412ms\tremaining: 390ms\n",
      "514:\tlearn: 1.5528762\ttotal: 413ms\tremaining: 389ms\n",
      "515:\tlearn: 1.5528754\ttotal: 413ms\tremaining: 388ms\n",
      "516:\tlearn: 1.5528738\ttotal: 414ms\tremaining: 387ms\n",
      "517:\tlearn: 1.5528734\ttotal: 414ms\tremaining: 385ms\n",
      "518:\tlearn: 1.5528729\ttotal: 415ms\tremaining: 384ms\n",
      "519:\tlearn: 1.5528724\ttotal: 415ms\tremaining: 383ms\n",
      "520:\tlearn: 1.5528708\ttotal: 416ms\tremaining: 382ms\n",
      "521:\tlearn: 1.5528705\ttotal: 416ms\tremaining: 381ms\n",
      "522:\tlearn: 1.5528701\ttotal: 417ms\tremaining: 380ms\n",
      "523:\tlearn: 1.5528699\ttotal: 417ms\tremaining: 379ms\n",
      "524:\tlearn: 1.5528687\ttotal: 417ms\tremaining: 378ms\n",
      "525:\tlearn: 1.5528674\ttotal: 418ms\tremaining: 377ms\n",
      "526:\tlearn: 1.5528669\ttotal: 418ms\tremaining: 375ms\n",
      "527:\tlearn: 1.5528652\ttotal: 419ms\tremaining: 374ms\n",
      "528:\tlearn: 1.5528645\ttotal: 419ms\tremaining: 373ms\n",
      "529:\tlearn: 1.5528636\ttotal: 420ms\tremaining: 372ms\n",
      "530:\tlearn: 1.5528631\ttotal: 420ms\tremaining: 371ms\n",
      "531:\tlearn: 1.5528628\ttotal: 421ms\tremaining: 370ms\n",
      "532:\tlearn: 1.5528625\ttotal: 421ms\tremaining: 369ms\n",
      "533:\tlearn: 1.5528621\ttotal: 422ms\tremaining: 368ms\n",
      "534:\tlearn: 1.5528616\ttotal: 422ms\tremaining: 367ms\n",
      "535:\tlearn: 1.5528603\ttotal: 423ms\tremaining: 366ms\n",
      "536:\tlearn: 1.5528600\ttotal: 423ms\tremaining: 365ms\n",
      "537:\tlearn: 1.5528595\ttotal: 424ms\tremaining: 364ms\n",
      "538:\tlearn: 1.5528582\ttotal: 424ms\tremaining: 363ms\n",
      "539:\tlearn: 1.5528580\ttotal: 424ms\tremaining: 362ms\n",
      "540:\tlearn: 1.5528577\ttotal: 425ms\tremaining: 361ms\n",
      "541:\tlearn: 1.5528568\ttotal: 425ms\tremaining: 359ms\n",
      "542:\tlearn: 1.5528555\ttotal: 426ms\tremaining: 358ms\n",
      "543:\tlearn: 1.5528553\ttotal: 426ms\tremaining: 357ms\n",
      "544:\tlearn: 1.5528551\ttotal: 427ms\tremaining: 356ms\n",
      "545:\tlearn: 1.5528545\ttotal: 427ms\tremaining: 355ms\n",
      "546:\tlearn: 1.5528538\ttotal: 428ms\tremaining: 354ms\n",
      "547:\tlearn: 1.5528532\ttotal: 428ms\tremaining: 353ms\n",
      "548:\tlearn: 1.5528527\ttotal: 429ms\tremaining: 352ms\n",
      "549:\tlearn: 1.5528522\ttotal: 429ms\tremaining: 351ms\n",
      "550:\tlearn: 1.5528520\ttotal: 430ms\tremaining: 350ms\n",
      "551:\tlearn: 1.5528517\ttotal: 430ms\tremaining: 349ms\n",
      "552:\tlearn: 1.5528512\ttotal: 431ms\tremaining: 348ms\n",
      "553:\tlearn: 1.5528507\ttotal: 431ms\tremaining: 347ms\n",
      "554:\tlearn: 1.5528502\ttotal: 432ms\tremaining: 346ms\n",
      "555:\tlearn: 1.5528495\ttotal: 432ms\tremaining: 345ms\n",
      "556:\tlearn: 1.5528490\ttotal: 432ms\tremaining: 344ms\n",
      "557:\tlearn: 1.5528485\ttotal: 433ms\tremaining: 343ms\n",
      "558:\tlearn: 1.5528475\ttotal: 433ms\tremaining: 342ms\n",
      "559:\tlearn: 1.5528466\ttotal: 434ms\tremaining: 341ms\n",
      "560:\tlearn: 1.5528464\ttotal: 434ms\tremaining: 340ms\n",
      "561:\tlearn: 1.5528453\ttotal: 435ms\tremaining: 339ms\n",
      "562:\tlearn: 1.5528448\ttotal: 435ms\tremaining: 338ms\n",
      "563:\tlearn: 1.5528447\ttotal: 436ms\tremaining: 337ms\n",
      "564:\tlearn: 1.5528445\ttotal: 436ms\tremaining: 336ms\n",
      "565:\tlearn: 1.5528443\ttotal: 437ms\tremaining: 335ms\n",
      "566:\tlearn: 1.5528441\ttotal: 437ms\tremaining: 334ms\n",
      "567:\tlearn: 1.5528436\ttotal: 438ms\tremaining: 333ms\n",
      "568:\tlearn: 1.5528434\ttotal: 438ms\tremaining: 332ms\n",
      "569:\tlearn: 1.5528433\ttotal: 439ms\tremaining: 331ms\n",
      "570:\tlearn: 1.5528426\ttotal: 439ms\tremaining: 330ms\n",
      "571:\tlearn: 1.5528422\ttotal: 440ms\tremaining: 329ms\n",
      "572:\tlearn: 1.5528410\ttotal: 440ms\tremaining: 328ms\n",
      "573:\tlearn: 1.5528405\ttotal: 441ms\tremaining: 327ms\n",
      "574:\tlearn: 1.5528404\ttotal: 441ms\tremaining: 326ms\n",
      "575:\tlearn: 1.5528397\ttotal: 442ms\tremaining: 325ms\n",
      "576:\tlearn: 1.5528395\ttotal: 442ms\tremaining: 324ms\n",
      "577:\tlearn: 1.5528387\ttotal: 442ms\tremaining: 323ms\n",
      "578:\tlearn: 1.5528386\ttotal: 443ms\tremaining: 322ms\n",
      "579:\tlearn: 1.5528384\ttotal: 443ms\tremaining: 321ms\n",
      "580:\tlearn: 1.5528383\ttotal: 444ms\tremaining: 320ms\n",
      "581:\tlearn: 1.5528378\ttotal: 444ms\tremaining: 319ms\n",
      "582:\tlearn: 1.5528376\ttotal: 445ms\tremaining: 318ms\n",
      "583:\tlearn: 1.5528372\ttotal: 445ms\tremaining: 317ms\n",
      "584:\tlearn: 1.5528368\ttotal: 446ms\tremaining: 316ms\n",
      "585:\tlearn: 1.5528367\ttotal: 446ms\tremaining: 315ms\n",
      "586:\tlearn: 1.5528365\ttotal: 447ms\tremaining: 314ms\n",
      "587:\tlearn: 1.5528363\ttotal: 447ms\tremaining: 313ms\n",
      "588:\tlearn: 1.5528361\ttotal: 448ms\tremaining: 312ms\n",
      "589:\tlearn: 1.5528359\ttotal: 448ms\tremaining: 311ms\n",
      "590:\tlearn: 1.5528358\ttotal: 449ms\tremaining: 310ms\n",
      "591:\tlearn: 1.5528357\ttotal: 449ms\tremaining: 309ms\n",
      "592:\tlearn: 1.5528356\ttotal: 449ms\tremaining: 308ms\n",
      "593:\tlearn: 1.5528353\ttotal: 450ms\tremaining: 308ms\n",
      "594:\tlearn: 1.5528353\ttotal: 450ms\tremaining: 307ms\n",
      "595:\tlearn: 1.5528352\ttotal: 451ms\tremaining: 306ms\n",
      "596:\tlearn: 1.5528348\ttotal: 451ms\tremaining: 305ms\n",
      "597:\tlearn: 1.5528346\ttotal: 452ms\tremaining: 304ms\n",
      "598:\tlearn: 1.5528344\ttotal: 452ms\tremaining: 303ms\n",
      "599:\tlearn: 1.5528343\ttotal: 453ms\tremaining: 302ms\n",
      "600:\tlearn: 1.5528342\ttotal: 453ms\tremaining: 301ms\n",
      "601:\tlearn: 1.5528341\ttotal: 454ms\tremaining: 300ms\n",
      "602:\tlearn: 1.5528338\ttotal: 454ms\tremaining: 299ms\n",
      "603:\tlearn: 1.5528334\ttotal: 455ms\tremaining: 298ms\n",
      "604:\tlearn: 1.5528330\ttotal: 455ms\tremaining: 297ms\n",
      "605:\tlearn: 1.5528328\ttotal: 456ms\tremaining: 296ms\n",
      "606:\tlearn: 1.5528325\ttotal: 456ms\tremaining: 295ms\n",
      "607:\tlearn: 1.5528323\ttotal: 457ms\tremaining: 294ms\n",
      "608:\tlearn: 1.5528319\ttotal: 457ms\tremaining: 294ms\n",
      "609:\tlearn: 1.5528317\ttotal: 458ms\tremaining: 293ms\n",
      "610:\tlearn: 1.5528315\ttotal: 458ms\tremaining: 292ms\n",
      "611:\tlearn: 1.5528309\ttotal: 459ms\tremaining: 291ms\n",
      "612:\tlearn: 1.5528308\ttotal: 459ms\tremaining: 290ms\n",
      "613:\tlearn: 1.5528306\ttotal: 460ms\tremaining: 289ms\n",
      "614:\tlearn: 1.5528304\ttotal: 460ms\tremaining: 288ms\n",
      "615:\tlearn: 1.5528304\ttotal: 461ms\tremaining: 287ms\n",
      "616:\tlearn: 1.5528302\ttotal: 461ms\tremaining: 286ms\n",
      "617:\tlearn: 1.5528298\ttotal: 461ms\tremaining: 285ms\n",
      "618:\tlearn: 1.5528297\ttotal: 462ms\tremaining: 284ms\n",
      "619:\tlearn: 1.5528293\ttotal: 462ms\tremaining: 283ms\n",
      "620:\tlearn: 1.5528292\ttotal: 463ms\tremaining: 282ms\n",
      "621:\tlearn: 1.5528291\ttotal: 463ms\tremaining: 282ms\n",
      "622:\tlearn: 1.5528290\ttotal: 464ms\tremaining: 281ms\n",
      "623:\tlearn: 1.5528287\ttotal: 464ms\tremaining: 280ms\n",
      "624:\tlearn: 1.5528285\ttotal: 465ms\tremaining: 279ms\n",
      "625:\tlearn: 1.5528284\ttotal: 465ms\tremaining: 278ms\n",
      "626:\tlearn: 1.5528283\ttotal: 466ms\tremaining: 277ms\n",
      "627:\tlearn: 1.5528279\ttotal: 466ms\tremaining: 276ms\n",
      "628:\tlearn: 1.5528278\ttotal: 467ms\tremaining: 275ms\n",
      "629:\tlearn: 1.5528276\ttotal: 467ms\tremaining: 274ms\n",
      "630:\tlearn: 1.5528276\ttotal: 468ms\tremaining: 273ms\n",
      "631:\tlearn: 1.5528275\ttotal: 468ms\tremaining: 273ms\n",
      "632:\tlearn: 1.5528273\ttotal: 469ms\tremaining: 272ms\n",
      "633:\tlearn: 1.5528267\ttotal: 469ms\tremaining: 271ms\n",
      "634:\tlearn: 1.5528266\ttotal: 469ms\tremaining: 270ms\n",
      "635:\tlearn: 1.5528260\ttotal: 470ms\tremaining: 269ms\n",
      "636:\tlearn: 1.5528256\ttotal: 470ms\tremaining: 268ms\n",
      "637:\tlearn: 1.5528256\ttotal: 471ms\tremaining: 267ms\n",
      "638:\tlearn: 1.5528255\ttotal: 471ms\tremaining: 266ms\n",
      "639:\tlearn: 1.5528253\ttotal: 472ms\tremaining: 265ms\n",
      "640:\tlearn: 1.5528249\ttotal: 472ms\tremaining: 264ms\n",
      "641:\tlearn: 1.5528248\ttotal: 473ms\tremaining: 264ms\n",
      "642:\tlearn: 1.5528245\ttotal: 473ms\tremaining: 263ms\n",
      "643:\tlearn: 1.5528242\ttotal: 474ms\tremaining: 262ms\n",
      "644:\tlearn: 1.5528238\ttotal: 474ms\tremaining: 261ms\n",
      "645:\tlearn: 1.5528237\ttotal: 475ms\tremaining: 260ms\n",
      "646:\tlearn: 1.5528236\ttotal: 475ms\tremaining: 259ms\n",
      "647:\tlearn: 1.5528234\ttotal: 476ms\tremaining: 258ms\n",
      "648:\tlearn: 1.5528234\ttotal: 476ms\tremaining: 257ms\n",
      "649:\tlearn: 1.5528231\ttotal: 476ms\tremaining: 256ms\n",
      "650:\tlearn: 1.5528227\ttotal: 477ms\tremaining: 256ms\n",
      "651:\tlearn: 1.5528225\ttotal: 477ms\tremaining: 255ms\n",
      "652:\tlearn: 1.5528224\ttotal: 478ms\tremaining: 254ms\n",
      "653:\tlearn: 1.5528218\ttotal: 478ms\tremaining: 253ms\n",
      "654:\tlearn: 1.5528217\ttotal: 479ms\tremaining: 252ms\n",
      "655:\tlearn: 1.5528216\ttotal: 479ms\tremaining: 251ms\n",
      "656:\tlearn: 1.5528215\ttotal: 480ms\tremaining: 250ms\n",
      "657:\tlearn: 1.5528215\ttotal: 480ms\tremaining: 250ms\n",
      "658:\tlearn: 1.5528207\ttotal: 481ms\tremaining: 249ms\n",
      "659:\tlearn: 1.5528204\ttotal: 481ms\tremaining: 248ms\n",
      "660:\tlearn: 1.5528203\ttotal: 482ms\tremaining: 247ms\n",
      "661:\tlearn: 1.5528203\ttotal: 482ms\tremaining: 246ms\n",
      "662:\tlearn: 1.5528200\ttotal: 482ms\tremaining: 245ms\n",
      "663:\tlearn: 1.5528198\ttotal: 483ms\tremaining: 244ms\n",
      "664:\tlearn: 1.5528193\ttotal: 483ms\tremaining: 244ms\n",
      "665:\tlearn: 1.5528190\ttotal: 484ms\tremaining: 243ms\n",
      "666:\tlearn: 1.5528189\ttotal: 484ms\tremaining: 242ms\n",
      "667:\tlearn: 1.5528189\ttotal: 485ms\tremaining: 241ms\n",
      "668:\tlearn: 1.5528189\ttotal: 486ms\tremaining: 240ms\n",
      "669:\tlearn: 1.5528188\ttotal: 486ms\tremaining: 240ms\n",
      "670:\tlearn: 1.5528187\ttotal: 487ms\tremaining: 239ms\n",
      "671:\tlearn: 1.5528186\ttotal: 487ms\tremaining: 238ms\n",
      "672:\tlearn: 1.5528186\ttotal: 488ms\tremaining: 237ms\n",
      "673:\tlearn: 1.5528185\ttotal: 488ms\tremaining: 236ms\n",
      "674:\tlearn: 1.5528185\ttotal: 489ms\tremaining: 235ms\n",
      "675:\tlearn: 1.5528183\ttotal: 489ms\tremaining: 234ms\n",
      "676:\tlearn: 1.5528182\ttotal: 490ms\tremaining: 234ms\n",
      "677:\tlearn: 1.5528182\ttotal: 490ms\tremaining: 233ms\n",
      "678:\tlearn: 1.5528179\ttotal: 491ms\tremaining: 232ms\n",
      "679:\tlearn: 1.5528179\ttotal: 491ms\tremaining: 231ms\n",
      "680:\tlearn: 1.5528178\ttotal: 492ms\tremaining: 230ms\n",
      "681:\tlearn: 1.5528178\ttotal: 492ms\tremaining: 229ms\n",
      "682:\tlearn: 1.5528177\ttotal: 493ms\tremaining: 229ms\n",
      "683:\tlearn: 1.5528175\ttotal: 493ms\tremaining: 228ms\n",
      "684:\tlearn: 1.5528175\ttotal: 493ms\tremaining: 227ms\n",
      "685:\tlearn: 1.5528175\ttotal: 494ms\tremaining: 226ms\n",
      "686:\tlearn: 1.5528172\ttotal: 494ms\tremaining: 225ms\n",
      "687:\tlearn: 1.5528172\ttotal: 495ms\tremaining: 224ms\n",
      "688:\tlearn: 1.5528172\ttotal: 495ms\tremaining: 224ms\n",
      "689:\tlearn: 1.5528165\ttotal: 496ms\tremaining: 223ms\n",
      "690:\tlearn: 1.5528164\ttotal: 496ms\tremaining: 222ms\n",
      "691:\tlearn: 1.5528163\ttotal: 497ms\tremaining: 221ms\n",
      "692:\tlearn: 1.5528162\ttotal: 497ms\tremaining: 220ms\n",
      "693:\tlearn: 1.5528154\ttotal: 498ms\tremaining: 219ms\n",
      "694:\tlearn: 1.5528154\ttotal: 498ms\tremaining: 219ms\n",
      "695:\tlearn: 1.5528153\ttotal: 499ms\tremaining: 218ms\n",
      "696:\tlearn: 1.5528153\ttotal: 499ms\tremaining: 217ms\n",
      "697:\tlearn: 1.5528152\ttotal: 500ms\tremaining: 216ms\n",
      "698:\tlearn: 1.5528149\ttotal: 500ms\tremaining: 215ms\n",
      "699:\tlearn: 1.5528149\ttotal: 501ms\tremaining: 215ms\n",
      "700:\tlearn: 1.5528148\ttotal: 501ms\tremaining: 214ms\n",
      "701:\tlearn: 1.5528147\ttotal: 502ms\tremaining: 213ms\n",
      "702:\tlearn: 1.5528147\ttotal: 502ms\tremaining: 212ms\n",
      "703:\tlearn: 1.5528146\ttotal: 503ms\tremaining: 211ms\n",
      "704:\tlearn: 1.5528144\ttotal: 503ms\tremaining: 211ms\n",
      "705:\tlearn: 1.5528143\ttotal: 504ms\tremaining: 210ms\n",
      "706:\tlearn: 1.5528140\ttotal: 504ms\tremaining: 209ms\n",
      "707:\tlearn: 1.5528140\ttotal: 505ms\tremaining: 208ms\n",
      "708:\tlearn: 1.5528139\ttotal: 505ms\tremaining: 207ms\n",
      "709:\tlearn: 1.5528139\ttotal: 506ms\tremaining: 207ms\n",
      "710:\tlearn: 1.5528138\ttotal: 506ms\tremaining: 206ms\n",
      "711:\tlearn: 1.5528136\ttotal: 507ms\tremaining: 205ms\n",
      "712:\tlearn: 1.5528134\ttotal: 507ms\tremaining: 204ms\n",
      "713:\tlearn: 1.5528129\ttotal: 508ms\tremaining: 203ms\n",
      "714:\tlearn: 1.5528129\ttotal: 508ms\tremaining: 203ms\n",
      "715:\tlearn: 1.5528128\ttotal: 509ms\tremaining: 202ms\n",
      "716:\tlearn: 1.5528128\ttotal: 509ms\tremaining: 201ms\n",
      "717:\tlearn: 1.5528128\ttotal: 510ms\tremaining: 200ms\n",
      "718:\tlearn: 1.5528127\ttotal: 510ms\tremaining: 199ms\n",
      "719:\tlearn: 1.5528127\ttotal: 511ms\tremaining: 199ms\n",
      "720:\tlearn: 1.5528126\ttotal: 511ms\tremaining: 198ms\n",
      "721:\tlearn: 1.5528124\ttotal: 511ms\tremaining: 197ms\n",
      "722:\tlearn: 1.5528121\ttotal: 512ms\tremaining: 196ms\n",
      "723:\tlearn: 1.5528120\ttotal: 512ms\tremaining: 195ms\n",
      "724:\tlearn: 1.5528120\ttotal: 513ms\tremaining: 195ms\n",
      "725:\tlearn: 1.5528119\ttotal: 513ms\tremaining: 194ms\n",
      "726:\tlearn: 1.5528118\ttotal: 514ms\tremaining: 193ms\n",
      "727:\tlearn: 1.5528117\ttotal: 514ms\tremaining: 192ms\n",
      "728:\tlearn: 1.5528113\ttotal: 515ms\tremaining: 191ms\n",
      "729:\tlearn: 1.5528112\ttotal: 515ms\tremaining: 191ms\n",
      "730:\tlearn: 1.5528111\ttotal: 516ms\tremaining: 190ms\n",
      "731:\tlearn: 1.5528111\ttotal: 516ms\tremaining: 189ms\n",
      "732:\tlearn: 1.5528110\ttotal: 517ms\tremaining: 188ms\n",
      "733:\tlearn: 1.5528110\ttotal: 517ms\tremaining: 188ms\n",
      "734:\tlearn: 1.5528107\ttotal: 518ms\tremaining: 187ms\n",
      "735:\tlearn: 1.5528107\ttotal: 518ms\tremaining: 186ms\n",
      "736:\tlearn: 1.5528107\ttotal: 519ms\tremaining: 185ms\n",
      "737:\tlearn: 1.5528106\ttotal: 519ms\tremaining: 184ms\n",
      "738:\tlearn: 1.5528105\ttotal: 520ms\tremaining: 184ms\n",
      "739:\tlearn: 1.5528101\ttotal: 520ms\tremaining: 183ms\n",
      "740:\tlearn: 1.5528099\ttotal: 521ms\tremaining: 182ms\n",
      "741:\tlearn: 1.5528098\ttotal: 521ms\tremaining: 181ms\n",
      "742:\tlearn: 1.5528098\ttotal: 522ms\tremaining: 180ms\n",
      "743:\tlearn: 1.5528097\ttotal: 522ms\tremaining: 180ms\n",
      "744:\tlearn: 1.5528096\ttotal: 523ms\tremaining: 179ms\n",
      "745:\tlearn: 1.5528096\ttotal: 523ms\tremaining: 178ms\n",
      "746:\tlearn: 1.5528093\ttotal: 524ms\tremaining: 177ms\n",
      "747:\tlearn: 1.5528091\ttotal: 524ms\tremaining: 177ms\n",
      "748:\tlearn: 1.5528091\ttotal: 525ms\tremaining: 176ms\n",
      "749:\tlearn: 1.5528089\ttotal: 525ms\tremaining: 175ms\n",
      "750:\tlearn: 1.5528088\ttotal: 526ms\tremaining: 174ms\n",
      "751:\tlearn: 1.5528088\ttotal: 526ms\tremaining: 174ms\n",
      "752:\tlearn: 1.5528088\ttotal: 527ms\tremaining: 173ms\n",
      "753:\tlearn: 1.5528087\ttotal: 527ms\tremaining: 172ms\n",
      "754:\tlearn: 1.5528087\ttotal: 528ms\tremaining: 171ms\n",
      "755:\tlearn: 1.5528087\ttotal: 528ms\tremaining: 171ms\n",
      "756:\tlearn: 1.5528087\ttotal: 529ms\tremaining: 170ms\n",
      "757:\tlearn: 1.5528086\ttotal: 529ms\tremaining: 169ms\n",
      "758:\tlearn: 1.5528086\ttotal: 530ms\tremaining: 168ms\n",
      "759:\tlearn: 1.5528085\ttotal: 530ms\tremaining: 167ms\n",
      "760:\tlearn: 1.5528085\ttotal: 531ms\tremaining: 167ms\n",
      "761:\tlearn: 1.5528082\ttotal: 531ms\tremaining: 166ms\n",
      "762:\tlearn: 1.5528081\ttotal: 532ms\tremaining: 165ms\n",
      "763:\tlearn: 1.5528079\ttotal: 532ms\tremaining: 164ms\n",
      "764:\tlearn: 1.5528079\ttotal: 533ms\tremaining: 164ms\n",
      "765:\tlearn: 1.5528077\ttotal: 533ms\tremaining: 163ms\n",
      "766:\tlearn: 1.5528077\ttotal: 534ms\tremaining: 162ms\n",
      "767:\tlearn: 1.5528077\ttotal: 534ms\tremaining: 161ms\n",
      "768:\tlearn: 1.5528075\ttotal: 535ms\tremaining: 161ms\n",
      "769:\tlearn: 1.5528074\ttotal: 535ms\tremaining: 160ms\n",
      "770:\tlearn: 1.5528073\ttotal: 536ms\tremaining: 159ms\n",
      "771:\tlearn: 1.5528072\ttotal: 536ms\tremaining: 158ms\n",
      "772:\tlearn: 1.5528072\ttotal: 536ms\tremaining: 158ms\n",
      "773:\tlearn: 1.5528070\ttotal: 537ms\tremaining: 157ms\n",
      "774:\tlearn: 1.5528070\ttotal: 537ms\tremaining: 156ms\n",
      "775:\tlearn: 1.5528069\ttotal: 538ms\tremaining: 155ms\n",
      "776:\tlearn: 1.5528068\ttotal: 538ms\tremaining: 155ms\n",
      "777:\tlearn: 1.5528068\ttotal: 539ms\tremaining: 154ms\n",
      "778:\tlearn: 1.5528068\ttotal: 539ms\tremaining: 153ms\n",
      "779:\tlearn: 1.5528065\ttotal: 540ms\tremaining: 152ms\n",
      "780:\tlearn: 1.5528065\ttotal: 540ms\tremaining: 151ms\n",
      "781:\tlearn: 1.5528060\ttotal: 541ms\tremaining: 151ms\n",
      "782:\tlearn: 1.5528059\ttotal: 541ms\tremaining: 150ms\n",
      "783:\tlearn: 1.5528059\ttotal: 542ms\tremaining: 149ms\n",
      "784:\tlearn: 1.5528058\ttotal: 542ms\tremaining: 149ms\n",
      "785:\tlearn: 1.5528058\ttotal: 543ms\tremaining: 148ms\n",
      "786:\tlearn: 1.5528057\ttotal: 543ms\tremaining: 147ms\n",
      "787:\tlearn: 1.5528057\ttotal: 544ms\tremaining: 146ms\n",
      "788:\tlearn: 1.5528057\ttotal: 544ms\tremaining: 146ms\n",
      "789:\tlearn: 1.5528055\ttotal: 545ms\tremaining: 145ms\n",
      "790:\tlearn: 1.5528054\ttotal: 545ms\tremaining: 144ms\n",
      "791:\tlearn: 1.5528054\ttotal: 546ms\tremaining: 143ms\n",
      "792:\tlearn: 1.5528053\ttotal: 546ms\tremaining: 143ms\n",
      "793:\tlearn: 1.5528053\ttotal: 547ms\tremaining: 142ms\n",
      "794:\tlearn: 1.5528052\ttotal: 547ms\tremaining: 141ms\n",
      "795:\tlearn: 1.5528052\ttotal: 547ms\tremaining: 140ms\n",
      "796:\tlearn: 1.5528050\ttotal: 548ms\tremaining: 140ms\n",
      "797:\tlearn: 1.5528046\ttotal: 548ms\tremaining: 139ms\n",
      "798:\tlearn: 1.5528046\ttotal: 549ms\tremaining: 138ms\n",
      "799:\tlearn: 1.5528046\ttotal: 549ms\tremaining: 137ms\n",
      "800:\tlearn: 1.5528046\ttotal: 550ms\tremaining: 137ms\n",
      "801:\tlearn: 1.5528045\ttotal: 550ms\tremaining: 136ms\n",
      "802:\tlearn: 1.5528045\ttotal: 551ms\tremaining: 135ms\n",
      "803:\tlearn: 1.5528045\ttotal: 551ms\tremaining: 134ms\n",
      "804:\tlearn: 1.5528045\ttotal: 552ms\tremaining: 134ms\n",
      "805:\tlearn: 1.5528044\ttotal: 552ms\tremaining: 133ms\n",
      "806:\tlearn: 1.5528043\ttotal: 553ms\tremaining: 132ms\n",
      "807:\tlearn: 1.5528043\ttotal: 553ms\tremaining: 131ms\n",
      "808:\tlearn: 1.5528042\ttotal: 554ms\tremaining: 131ms\n",
      "809:\tlearn: 1.5528042\ttotal: 554ms\tremaining: 130ms\n",
      "810:\tlearn: 1.5528041\ttotal: 554ms\tremaining: 129ms\n",
      "811:\tlearn: 1.5528041\ttotal: 555ms\tremaining: 128ms\n",
      "812:\tlearn: 1.5528041\ttotal: 555ms\tremaining: 128ms\n",
      "813:\tlearn: 1.5528041\ttotal: 556ms\tremaining: 127ms\n",
      "814:\tlearn: 1.5528041\ttotal: 556ms\tremaining: 126ms\n",
      "815:\tlearn: 1.5528041\ttotal: 557ms\tremaining: 126ms\n",
      "816:\tlearn: 1.5528041\ttotal: 557ms\tremaining: 125ms\n",
      "817:\tlearn: 1.5528040\ttotal: 558ms\tremaining: 124ms\n",
      "818:\tlearn: 1.5528040\ttotal: 558ms\tremaining: 123ms\n",
      "819:\tlearn: 1.5528040\ttotal: 559ms\tremaining: 123ms\n",
      "820:\tlearn: 1.5528040\ttotal: 559ms\tremaining: 122ms\n",
      "821:\tlearn: 1.5528040\ttotal: 560ms\tremaining: 121ms\n",
      "822:\tlearn: 1.5528040\ttotal: 560ms\tremaining: 120ms\n",
      "823:\tlearn: 1.5528040\ttotal: 561ms\tremaining: 120ms\n",
      "824:\tlearn: 1.5528040\ttotal: 561ms\tremaining: 119ms\n",
      "825:\tlearn: 1.5528039\ttotal: 562ms\tremaining: 118ms\n",
      "826:\tlearn: 1.5528039\ttotal: 562ms\tremaining: 118ms\n",
      "827:\tlearn: 1.5528038\ttotal: 562ms\tremaining: 117ms\n",
      "828:\tlearn: 1.5528038\ttotal: 563ms\tremaining: 116ms\n",
      "829:\tlearn: 1.5528038\ttotal: 563ms\tremaining: 115ms\n",
      "830:\tlearn: 1.5528038\ttotal: 564ms\tremaining: 115ms\n",
      "831:\tlearn: 1.5528038\ttotal: 564ms\tremaining: 114ms\n",
      "832:\tlearn: 1.5528038\ttotal: 565ms\tremaining: 113ms\n",
      "833:\tlearn: 1.5528037\ttotal: 565ms\tremaining: 112ms\n",
      "834:\tlearn: 1.5528037\ttotal: 566ms\tremaining: 112ms\n",
      "835:\tlearn: 1.5528035\ttotal: 566ms\tremaining: 111ms\n",
      "836:\tlearn: 1.5528035\ttotal: 567ms\tremaining: 110ms\n",
      "837:\tlearn: 1.5528035\ttotal: 567ms\tremaining: 110ms\n",
      "838:\tlearn: 1.5528034\ttotal: 568ms\tremaining: 109ms\n",
      "839:\tlearn: 1.5528034\ttotal: 568ms\tremaining: 108ms\n",
      "840:\tlearn: 1.5528034\ttotal: 569ms\tremaining: 108ms\n",
      "841:\tlearn: 1.5528034\ttotal: 569ms\tremaining: 107ms\n",
      "842:\tlearn: 1.5528033\ttotal: 570ms\tremaining: 106ms\n",
      "843:\tlearn: 1.5528033\ttotal: 570ms\tremaining: 105ms\n",
      "844:\tlearn: 1.5528033\ttotal: 570ms\tremaining: 105ms\n",
      "845:\tlearn: 1.5528032\ttotal: 571ms\tremaining: 104ms\n",
      "846:\tlearn: 1.5528032\ttotal: 571ms\tremaining: 103ms\n",
      "847:\tlearn: 1.5528032\ttotal: 572ms\tremaining: 103ms\n",
      "848:\tlearn: 1.5528031\ttotal: 572ms\tremaining: 102ms\n",
      "849:\tlearn: 1.5528031\ttotal: 573ms\tremaining: 101ms\n",
      "850:\tlearn: 1.5528028\ttotal: 573ms\tremaining: 100ms\n",
      "851:\tlearn: 1.5528027\ttotal: 574ms\tremaining: 99.7ms\n",
      "852:\tlearn: 1.5528027\ttotal: 574ms\tremaining: 99ms\n",
      "853:\tlearn: 1.5528027\ttotal: 575ms\tremaining: 98.3ms\n",
      "854:\tlearn: 1.5528027\ttotal: 575ms\tremaining: 97.5ms\n",
      "855:\tlearn: 1.5528027\ttotal: 576ms\tremaining: 96.8ms\n",
      "856:\tlearn: 1.5528026\ttotal: 576ms\tremaining: 96.1ms\n",
      "857:\tlearn: 1.5528025\ttotal: 577ms\tremaining: 95.4ms\n",
      "858:\tlearn: 1.5528025\ttotal: 577ms\tremaining: 94.7ms\n",
      "859:\tlearn: 1.5528024\ttotal: 577ms\tremaining: 94ms\n",
      "860:\tlearn: 1.5528024\ttotal: 578ms\tremaining: 93.3ms\n",
      "861:\tlearn: 1.5528023\ttotal: 578ms\tremaining: 92.6ms\n",
      "862:\tlearn: 1.5528023\ttotal: 579ms\tremaining: 91.9ms\n",
      "863:\tlearn: 1.5528022\ttotal: 579ms\tremaining: 91.2ms\n",
      "864:\tlearn: 1.5528022\ttotal: 580ms\tremaining: 90.5ms\n",
      "865:\tlearn: 1.5528021\ttotal: 580ms\tremaining: 89.8ms\n",
      "866:\tlearn: 1.5528020\ttotal: 581ms\tremaining: 89.1ms\n",
      "867:\tlearn: 1.5528020\ttotal: 581ms\tremaining: 88.4ms\n",
      "868:\tlearn: 1.5528020\ttotal: 582ms\tremaining: 87.7ms\n",
      "869:\tlearn: 1.5528019\ttotal: 582ms\tremaining: 87ms\n",
      "870:\tlearn: 1.5528017\ttotal: 583ms\tremaining: 86.3ms\n",
      "871:\tlearn: 1.5528017\ttotal: 583ms\tremaining: 85.6ms\n",
      "872:\tlearn: 1.5528015\ttotal: 584ms\tremaining: 85ms\n",
      "873:\tlearn: 1.5528014\ttotal: 584ms\tremaining: 84.3ms\n",
      "874:\tlearn: 1.5528013\ttotal: 585ms\tremaining: 83.6ms\n",
      "875:\tlearn: 1.5528013\ttotal: 585ms\tremaining: 82.9ms\n",
      "876:\tlearn: 1.5528013\ttotal: 586ms\tremaining: 82.2ms\n",
      "877:\tlearn: 1.5528013\ttotal: 586ms\tremaining: 81.5ms\n",
      "878:\tlearn: 1.5528013\ttotal: 587ms\tremaining: 80.8ms\n",
      "879:\tlearn: 1.5528011\ttotal: 588ms\tremaining: 80.1ms\n",
      "880:\tlearn: 1.5528011\ttotal: 589ms\tremaining: 79.5ms\n",
      "881:\tlearn: 1.5528010\ttotal: 590ms\tremaining: 78.9ms\n",
      "882:\tlearn: 1.5528010\ttotal: 590ms\tremaining: 78.2ms\n",
      "883:\tlearn: 1.5528009\ttotal: 591ms\tremaining: 77.5ms\n",
      "884:\tlearn: 1.5528009\ttotal: 591ms\tremaining: 76.8ms\n",
      "885:\tlearn: 1.5528008\ttotal: 592ms\tremaining: 76.1ms\n",
      "886:\tlearn: 1.5528008\ttotal: 592ms\tremaining: 75.4ms\n",
      "887:\tlearn: 1.5528008\ttotal: 593ms\tremaining: 74.8ms\n",
      "888:\tlearn: 1.5528008\ttotal: 593ms\tremaining: 74.1ms\n",
      "889:\tlearn: 1.5528008\ttotal: 594ms\tremaining: 73.4ms\n",
      "890:\tlearn: 1.5528008\ttotal: 594ms\tremaining: 72.7ms\n",
      "891:\tlearn: 1.5528007\ttotal: 595ms\tremaining: 72ms\n",
      "892:\tlearn: 1.5528007\ttotal: 595ms\tremaining: 71.3ms\n",
      "893:\tlearn: 1.5528007\ttotal: 596ms\tremaining: 70.7ms\n",
      "894:\tlearn: 1.5528007\ttotal: 596ms\tremaining: 70ms\n",
      "895:\tlearn: 1.5528006\ttotal: 597ms\tremaining: 69.3ms\n",
      "896:\tlearn: 1.5528006\ttotal: 597ms\tremaining: 68.6ms\n",
      "897:\tlearn: 1.5528005\ttotal: 598ms\tremaining: 67.9ms\n",
      "898:\tlearn: 1.5528005\ttotal: 598ms\tremaining: 67.2ms\n",
      "899:\tlearn: 1.5528005\ttotal: 599ms\tremaining: 66.5ms\n",
      "900:\tlearn: 1.5528005\ttotal: 599ms\tremaining: 65.8ms\n",
      "901:\tlearn: 1.5528005\ttotal: 600ms\tremaining: 65.2ms\n",
      "902:\tlearn: 1.5528005\ttotal: 600ms\tremaining: 64.5ms\n",
      "903:\tlearn: 1.5528002\ttotal: 601ms\tremaining: 63.8ms\n",
      "904:\tlearn: 1.5528002\ttotal: 601ms\tremaining: 63.1ms\n",
      "905:\tlearn: 1.5528002\ttotal: 602ms\tremaining: 62.4ms\n",
      "906:\tlearn: 1.5528000\ttotal: 602ms\tremaining: 61.7ms\n",
      "907:\tlearn: 1.5528000\ttotal: 603ms\tremaining: 61.1ms\n",
      "908:\tlearn: 1.5528000\ttotal: 603ms\tremaining: 60.4ms\n",
      "909:\tlearn: 1.5527999\ttotal: 604ms\tremaining: 59.7ms\n",
      "910:\tlearn: 1.5527999\ttotal: 604ms\tremaining: 59ms\n",
      "911:\tlearn: 1.5527999\ttotal: 604ms\tremaining: 58.3ms\n",
      "912:\tlearn: 1.5527999\ttotal: 605ms\tremaining: 57.6ms\n",
      "913:\tlearn: 1.5527998\ttotal: 605ms\tremaining: 57ms\n",
      "914:\tlearn: 1.5527998\ttotal: 606ms\tremaining: 56.3ms\n",
      "915:\tlearn: 1.5527998\ttotal: 606ms\tremaining: 55.6ms\n",
      "916:\tlearn: 1.5527998\ttotal: 607ms\tremaining: 54.9ms\n",
      "917:\tlearn: 1.5527998\ttotal: 607ms\tremaining: 54.2ms\n",
      "918:\tlearn: 1.5527997\ttotal: 608ms\tremaining: 53.6ms\n",
      "919:\tlearn: 1.5527997\ttotal: 608ms\tremaining: 52.9ms\n",
      "920:\tlearn: 1.5527997\ttotal: 609ms\tremaining: 52.2ms\n",
      "921:\tlearn: 1.5527997\ttotal: 609ms\tremaining: 51.5ms\n",
      "922:\tlearn: 1.5527997\ttotal: 610ms\tremaining: 50.9ms\n",
      "923:\tlearn: 1.5527996\ttotal: 610ms\tremaining: 50.2ms\n",
      "924:\tlearn: 1.5527995\ttotal: 611ms\tremaining: 49.5ms\n",
      "925:\tlearn: 1.5527995\ttotal: 611ms\tremaining: 48.8ms\n",
      "926:\tlearn: 1.5527995\ttotal: 612ms\tremaining: 48.2ms\n",
      "927:\tlearn: 1.5527995\ttotal: 612ms\tremaining: 47.5ms\n",
      "928:\tlearn: 1.5527995\ttotal: 613ms\tremaining: 46.8ms\n",
      "929:\tlearn: 1.5527995\ttotal: 613ms\tremaining: 46.1ms\n",
      "930:\tlearn: 1.5527995\ttotal: 613ms\tremaining: 45.5ms\n",
      "931:\tlearn: 1.5527995\ttotal: 614ms\tremaining: 44.8ms\n",
      "932:\tlearn: 1.5527995\ttotal: 614ms\tremaining: 44.1ms\n",
      "933:\tlearn: 1.5527995\ttotal: 615ms\tremaining: 43.4ms\n",
      "934:\tlearn: 1.5527994\ttotal: 615ms\tremaining: 42.8ms\n",
      "935:\tlearn: 1.5527994\ttotal: 616ms\tremaining: 42.1ms\n",
      "936:\tlearn: 1.5527994\ttotal: 616ms\tremaining: 41.4ms\n",
      "937:\tlearn: 1.5527994\ttotal: 617ms\tremaining: 40.8ms\n",
      "938:\tlearn: 1.5527994\ttotal: 617ms\tremaining: 40.1ms\n",
      "939:\tlearn: 1.5527994\ttotal: 618ms\tremaining: 39.4ms\n",
      "940:\tlearn: 1.5527994\ttotal: 618ms\tremaining: 38.8ms\n",
      "941:\tlearn: 1.5527994\ttotal: 619ms\tremaining: 38.1ms\n",
      "942:\tlearn: 1.5527993\ttotal: 619ms\tremaining: 37.4ms\n",
      "943:\tlearn: 1.5527993\ttotal: 620ms\tremaining: 36.8ms\n",
      "944:\tlearn: 1.5527993\ttotal: 620ms\tremaining: 36.1ms\n",
      "945:\tlearn: 1.5527993\ttotal: 621ms\tremaining: 35.4ms\n",
      "946:\tlearn: 1.5527992\ttotal: 621ms\tremaining: 34.8ms\n",
      "947:\tlearn: 1.5527992\ttotal: 622ms\tremaining: 34.1ms\n",
      "948:\tlearn: 1.5527992\ttotal: 622ms\tremaining: 33.4ms\n",
      "949:\tlearn: 1.5527992\ttotal: 623ms\tremaining: 32.8ms\n",
      "950:\tlearn: 1.5527991\ttotal: 623ms\tremaining: 32.1ms\n",
      "951:\tlearn: 1.5527991\ttotal: 623ms\tremaining: 31.4ms\n",
      "952:\tlearn: 1.5527991\ttotal: 624ms\tremaining: 30.8ms\n",
      "953:\tlearn: 1.5527991\ttotal: 624ms\tremaining: 30.1ms\n",
      "954:\tlearn: 1.5527991\ttotal: 625ms\tremaining: 29.4ms\n",
      "955:\tlearn: 1.5527991\ttotal: 625ms\tremaining: 28.8ms\n",
      "956:\tlearn: 1.5527991\ttotal: 626ms\tremaining: 28.1ms\n",
      "957:\tlearn: 1.5527990\ttotal: 626ms\tremaining: 27.5ms\n",
      "958:\tlearn: 1.5527990\ttotal: 627ms\tremaining: 26.8ms\n",
      "959:\tlearn: 1.5527990\ttotal: 627ms\tremaining: 26.1ms\n",
      "960:\tlearn: 1.5527990\ttotal: 628ms\tremaining: 25.5ms\n",
      "961:\tlearn: 1.5527989\ttotal: 628ms\tremaining: 24.8ms\n",
      "962:\tlearn: 1.5527989\ttotal: 629ms\tremaining: 24.2ms\n",
      "963:\tlearn: 1.5527989\ttotal: 629ms\tremaining: 23.5ms\n",
      "964:\tlearn: 1.5527989\ttotal: 630ms\tremaining: 22.8ms\n",
      "965:\tlearn: 1.5527989\ttotal: 630ms\tremaining: 22.2ms\n",
      "966:\tlearn: 1.5527988\ttotal: 631ms\tremaining: 21.5ms\n",
      "967:\tlearn: 1.5527987\ttotal: 631ms\tremaining: 20.9ms\n",
      "968:\tlearn: 1.5527987\ttotal: 631ms\tremaining: 20.2ms\n",
      "969:\tlearn: 1.5527986\ttotal: 632ms\tremaining: 19.5ms\n",
      "970:\tlearn: 1.5527986\ttotal: 632ms\tremaining: 18.9ms\n",
      "971:\tlearn: 1.5527986\ttotal: 633ms\tremaining: 18.2ms\n",
      "972:\tlearn: 1.5527986\ttotal: 633ms\tremaining: 17.6ms\n",
      "973:\tlearn: 1.5527986\ttotal: 634ms\tremaining: 16.9ms\n",
      "974:\tlearn: 1.5527986\ttotal: 634ms\tremaining: 16.3ms\n",
      "975:\tlearn: 1.5527986\ttotal: 635ms\tremaining: 15.6ms\n",
      "976:\tlearn: 1.5527986\ttotal: 635ms\tremaining: 15ms\n",
      "977:\tlearn: 1.5527986\ttotal: 636ms\tremaining: 14.3ms\n",
      "978:\tlearn: 1.5527986\ttotal: 636ms\tremaining: 13.6ms\n",
      "979:\tlearn: 1.5527985\ttotal: 637ms\tremaining: 13ms\n",
      "980:\tlearn: 1.5527985\ttotal: 637ms\tremaining: 12.3ms\n",
      "981:\tlearn: 1.5527985\ttotal: 637ms\tremaining: 11.7ms\n",
      "982:\tlearn: 1.5527985\ttotal: 638ms\tremaining: 11ms\n",
      "983:\tlearn: 1.5527984\ttotal: 638ms\tremaining: 10.4ms\n",
      "984:\tlearn: 1.5527984\ttotal: 639ms\tremaining: 9.73ms\n",
      "985:\tlearn: 1.5527984\ttotal: 639ms\tremaining: 9.08ms\n",
      "986:\tlearn: 1.5527984\ttotal: 640ms\tremaining: 8.43ms\n",
      "987:\tlearn: 1.5527983\ttotal: 640ms\tremaining: 7.78ms\n",
      "988:\tlearn: 1.5527983\ttotal: 641ms\tremaining: 7.13ms\n",
      "989:\tlearn: 1.5527983\ttotal: 641ms\tremaining: 6.48ms\n",
      "990:\tlearn: 1.5527982\ttotal: 642ms\tremaining: 5.83ms\n",
      "991:\tlearn: 1.5527982\ttotal: 642ms\tremaining: 5.18ms\n",
      "992:\tlearn: 1.5527982\ttotal: 643ms\tremaining: 4.53ms\n",
      "993:\tlearn: 1.5527982\ttotal: 643ms\tremaining: 3.88ms\n",
      "994:\tlearn: 1.5527982\ttotal: 644ms\tremaining: 3.23ms\n",
      "995:\tlearn: 1.5527982\ttotal: 644ms\tremaining: 2.59ms\n",
      "996:\tlearn: 1.5527982\ttotal: 645ms\tremaining: 1.94ms\n",
      "997:\tlearn: 1.5527982\ttotal: 645ms\tremaining: 1.29ms\n",
      "998:\tlearn: 1.5527982\ttotal: 646ms\tremaining: 646us\n",
      "999:\tlearn: 1.5527982\ttotal: 647ms\tremaining: 0us\n"
     ]
    }
   ],
   "source": [
    "from catboost import CatBoostRegressor\n",
    "cat_model=CatBoostRegressor().fit(x_train,y_train.iloc[:,1])"
   ]
  },
  {
   "cell_type": "code",
   "execution_count": 120,
   "metadata": {},
   "outputs": [
    {
     "data": {
      "text/plain": [
       "4.375762841217363"
      ]
     },
     "execution_count": 120,
     "metadata": {},
     "output_type": "execute_result"
    }
   ],
   "source": [
    "np.sqrt(mean_squared_error(y_test.iloc[:,1],cat_model.predict(x_test)))+np.sqrt(mean_squared_error(y_test.iloc[:,0],cat_model.predict(x_test)))"
   ]
  },
  {
   "cell_type": "code",
   "execution_count": 121,
   "metadata": {},
   "outputs": [],
   "source": [
    "catb_params={\n",
    "    \"iterations\":[200,500,100,2000],\n",
    "    \"learning_rate\":[0.01,0.03,0.05,0.1],\n",
    "    \"depth\":[3,4,5,6,7,8]\n",
    "}\n",
    "catb_model=CatBoostRegressor()\n",
    "cat_cv_model=GridSearchCV(estimator=catb_model,param_grid=catb_params,cv=10,verbose=2,n_jobs=-1)"
   ]
  },
  {
   "cell_type": "code",
   "execution_count": 122,
   "metadata": {
    "collapsed": true,
    "jupyter": {
     "outputs_hidden": true
    }
   },
   "outputs": [
    {
     "name": "stdout",
     "output_type": "stream",
     "text": [
      "Fitting 10 folds for each of 96 candidates, totalling 960 fits\n"
     ]
    },
    {
     "name": "stderr",
     "output_type": "stream",
     "text": [
      "[Parallel(n_jobs=-1)]: Using backend LokyBackend with 8 concurrent workers.\n",
      "[Parallel(n_jobs=-1)]: Done  25 tasks      | elapsed:    5.2s\n",
      "[Parallel(n_jobs=-1)]: Done 146 tasks      | elapsed:   46.2s\n",
      "[Parallel(n_jobs=-1)]: Done 349 tasks      | elapsed:  2.2min\n",
      "[Parallel(n_jobs=-1)]: Done 632 tasks      | elapsed:  4.8min\n",
      "[Parallel(n_jobs=-1)]: Done 960 out of 960 | elapsed:  8.6min finished\n"
     ]
    },
    {
     "name": "stdout",
     "output_type": "stream",
     "text": [
      "0:\tlearn: 9.1931665\ttotal: 740us\tremaining: 369ms\n",
      "1:\tlearn: 8.9540263\ttotal: 1.38ms\tremaining: 343ms\n",
      "2:\tlearn: 8.7217551\ttotal: 1.95ms\tremaining: 322ms\n",
      "3:\tlearn: 8.4990710\ttotal: 2.53ms\tremaining: 314ms\n",
      "4:\tlearn: 8.3029559\ttotal: 3.02ms\tremaining: 300ms\n",
      "5:\tlearn: 8.1139824\ttotal: 3.47ms\tremaining: 286ms\n",
      "6:\tlearn: 7.9082504\ttotal: 4.08ms\tremaining: 288ms\n",
      "7:\tlearn: 7.7118825\ttotal: 4.62ms\tremaining: 284ms\n",
      "8:\tlearn: 7.5194586\ttotal: 5.2ms\tremaining: 284ms\n",
      "9:\tlearn: 7.3375571\ttotal: 5.82ms\tremaining: 285ms\n",
      "10:\tlearn: 7.1700147\ttotal: 6.39ms\tremaining: 284ms\n",
      "11:\tlearn: 7.0165192\ttotal: 6.98ms\tremaining: 284ms\n",
      "12:\tlearn: 6.8621780\ttotal: 7.61ms\tremaining: 285ms\n",
      "13:\tlearn: 6.7007377\ttotal: 8.21ms\tremaining: 285ms\n",
      "14:\tlearn: 6.5449462\ttotal: 8.77ms\tremaining: 284ms\n",
      "15:\tlearn: 6.3910344\ttotal: 9.39ms\tremaining: 284ms\n",
      "16:\tlearn: 6.2424681\ttotal: 10ms\tremaining: 285ms\n",
      "17:\tlearn: 6.0948069\ttotal: 10.7ms\tremaining: 286ms\n",
      "18:\tlearn: 5.9659034\ttotal: 11.3ms\tremaining: 287ms\n",
      "19:\tlearn: 5.8354464\ttotal: 11.9ms\tremaining: 287ms\n",
      "20:\tlearn: 5.7158500\ttotal: 12.5ms\tremaining: 286ms\n",
      "21:\tlearn: 5.6031731\ttotal: 13.1ms\tremaining: 284ms\n",
      "22:\tlearn: 5.4762353\ttotal: 13.7ms\tremaining: 284ms\n",
      "23:\tlearn: 5.3778607\ttotal: 14.2ms\tremaining: 281ms\n",
      "24:\tlearn: 5.2613562\ttotal: 14.7ms\tremaining: 280ms\n",
      "25:\tlearn: 5.1705439\ttotal: 15.2ms\tremaining: 276ms\n",
      "26:\tlearn: 5.0714431\ttotal: 15.7ms\tremaining: 275ms\n",
      "27:\tlearn: 4.9664457\ttotal: 16.3ms\tremaining: 275ms\n",
      "28:\tlearn: 4.8710447\ttotal: 16.9ms\tremaining: 275ms\n",
      "29:\tlearn: 4.7739288\ttotal: 17.6ms\tremaining: 275ms\n",
      "30:\tlearn: 4.6769373\ttotal: 18.2ms\tremaining: 276ms\n",
      "31:\tlearn: 4.6019303\ttotal: 18.8ms\tremaining: 276ms\n",
      "32:\tlearn: 4.5228248\ttotal: 19.5ms\tremaining: 276ms\n",
      "33:\tlearn: 4.4354086\ttotal: 20.1ms\tremaining: 275ms\n",
      "34:\tlearn: 4.3515650\ttotal: 20.6ms\tremaining: 274ms\n",
      "35:\tlearn: 4.2760150\ttotal: 21.2ms\tremaining: 273ms\n",
      "36:\tlearn: 4.2044659\ttotal: 21.8ms\tremaining: 273ms\n",
      "37:\tlearn: 4.1313402\ttotal: 22.3ms\tremaining: 271ms\n",
      "38:\tlearn: 4.0654539\ttotal: 22.8ms\tremaining: 270ms\n",
      "39:\tlearn: 3.9966526\ttotal: 23.4ms\tremaining: 269ms\n",
      "40:\tlearn: 3.9289287\ttotal: 23.9ms\tremaining: 268ms\n",
      "41:\tlearn: 3.8655577\ttotal: 24.5ms\tremaining: 268ms\n",
      "42:\tlearn: 3.8004484\ttotal: 25.1ms\tremaining: 267ms\n",
      "43:\tlearn: 3.7419736\ttotal: 25.6ms\tremaining: 265ms\n",
      "44:\tlearn: 3.6876830\ttotal: 26.2ms\tremaining: 265ms\n",
      "45:\tlearn: 3.6393155\ttotal: 26.7ms\tremaining: 263ms\n",
      "46:\tlearn: 3.5931496\ttotal: 27.3ms\tremaining: 263ms\n",
      "47:\tlearn: 3.5476181\ttotal: 27.8ms\tremaining: 262ms\n",
      "48:\tlearn: 3.4977287\ttotal: 28.4ms\tremaining: 262ms\n",
      "49:\tlearn: 3.4527756\ttotal: 29ms\tremaining: 261ms\n",
      "50:\tlearn: 3.4088634\ttotal: 29.5ms\tremaining: 260ms\n",
      "51:\tlearn: 3.3596382\ttotal: 30.1ms\tremaining: 259ms\n",
      "52:\tlearn: 3.3212064\ttotal: 30.6ms\tremaining: 258ms\n",
      "53:\tlearn: 3.2772139\ttotal: 31.2ms\tremaining: 258ms\n",
      "54:\tlearn: 3.2389762\ttotal: 31.8ms\tremaining: 257ms\n",
      "55:\tlearn: 3.2000145\ttotal: 32.3ms\tremaining: 256ms\n",
      "56:\tlearn: 3.1649972\ttotal: 32.9ms\tremaining: 256ms\n",
      "57:\tlearn: 3.1240255\ttotal: 33.5ms\tremaining: 255ms\n",
      "58:\tlearn: 3.0961946\ttotal: 34.1ms\tremaining: 255ms\n",
      "59:\tlearn: 3.0633242\ttotal: 34.7ms\tremaining: 254ms\n",
      "60:\tlearn: 3.0312058\ttotal: 35.3ms\tremaining: 254ms\n",
      "61:\tlearn: 3.0018595\ttotal: 35.8ms\tremaining: 253ms\n",
      "62:\tlearn: 2.9741038\ttotal: 36.4ms\tremaining: 253ms\n",
      "63:\tlearn: 2.9503273\ttotal: 37ms\tremaining: 252ms\n",
      "64:\tlearn: 2.9170798\ttotal: 37.5ms\tremaining: 251ms\n",
      "65:\tlearn: 2.8917754\ttotal: 38ms\tremaining: 250ms\n",
      "66:\tlearn: 2.8647719\ttotal: 38.5ms\tremaining: 249ms\n",
      "67:\tlearn: 2.8415425\ttotal: 39.1ms\tremaining: 248ms\n",
      "68:\tlearn: 2.8166576\ttotal: 39.6ms\tremaining: 247ms\n",
      "69:\tlearn: 2.7876769\ttotal: 40.2ms\tremaining: 247ms\n",
      "70:\tlearn: 2.7668411\ttotal: 40.8ms\tremaining: 246ms\n",
      "71:\tlearn: 2.7489395\ttotal: 41.3ms\tremaining: 245ms\n",
      "72:\tlearn: 2.7324952\ttotal: 41.8ms\tremaining: 245ms\n",
      "73:\tlearn: 2.7092217\ttotal: 42.3ms\tremaining: 244ms\n",
      "74:\tlearn: 2.6867882\ttotal: 42.9ms\tremaining: 243ms\n",
      "75:\tlearn: 2.6691535\ttotal: 43.5ms\tremaining: 242ms\n",
      "76:\tlearn: 2.6527980\ttotal: 44.1ms\tremaining: 242ms\n",
      "77:\tlearn: 2.6353767\ttotal: 44.7ms\tremaining: 242ms\n",
      "78:\tlearn: 2.6181022\ttotal: 45.2ms\tremaining: 241ms\n",
      "79:\tlearn: 2.6025995\ttotal: 45.7ms\tremaining: 240ms\n",
      "80:\tlearn: 2.5842966\ttotal: 46.3ms\tremaining: 239ms\n",
      "81:\tlearn: 2.5639272\ttotal: 46.8ms\tremaining: 239ms\n",
      "82:\tlearn: 2.5486791\ttotal: 47.4ms\tremaining: 238ms\n",
      "83:\tlearn: 2.5380522\ttotal: 48ms\tremaining: 238ms\n",
      "84:\tlearn: 2.5232797\ttotal: 48.6ms\tremaining: 237ms\n",
      "85:\tlearn: 2.5107669\ttotal: 49.1ms\tremaining: 237ms\n",
      "86:\tlearn: 2.4883282\ttotal: 49.7ms\tremaining: 236ms\n",
      "87:\tlearn: 2.4788758\ttotal: 50.3ms\tremaining: 235ms\n",
      "88:\tlearn: 2.4691837\ttotal: 50.8ms\tremaining: 235ms\n",
      "89:\tlearn: 2.4545898\ttotal: 51.4ms\tremaining: 234ms\n",
      "90:\tlearn: 2.4439546\ttotal: 52ms\tremaining: 233ms\n",
      "91:\tlearn: 2.4294432\ttotal: 52.5ms\tremaining: 233ms\n",
      "92:\tlearn: 2.4197008\ttotal: 53ms\tremaining: 232ms\n",
      "93:\tlearn: 2.4105091\ttotal: 53.6ms\tremaining: 231ms\n",
      "94:\tlearn: 2.3976595\ttotal: 54.1ms\tremaining: 231ms\n",
      "95:\tlearn: 2.3882124\ttotal: 54.7ms\tremaining: 230ms\n",
      "96:\tlearn: 2.3785451\ttotal: 55.2ms\tremaining: 229ms\n",
      "97:\tlearn: 2.3693747\ttotal: 55.7ms\tremaining: 229ms\n",
      "98:\tlearn: 2.3539243\ttotal: 56.3ms\tremaining: 228ms\n",
      "99:\tlearn: 2.3456202\ttotal: 56.8ms\tremaining: 227ms\n",
      "100:\tlearn: 2.3368407\ttotal: 57.3ms\tremaining: 227ms\n",
      "101:\tlearn: 2.3307540\ttotal: 57.9ms\tremaining: 226ms\n",
      "102:\tlearn: 2.3131144\ttotal: 58.4ms\tremaining: 225ms\n",
      "103:\tlearn: 2.3052816\ttotal: 58.9ms\tremaining: 224ms\n",
      "104:\tlearn: 2.2934529\ttotal: 59.5ms\tremaining: 224ms\n",
      "105:\tlearn: 2.2820031\ttotal: 60ms\tremaining: 223ms\n",
      "106:\tlearn: 2.2749861\ttotal: 60.5ms\tremaining: 222ms\n",
      "107:\tlearn: 2.2630492\ttotal: 61ms\tremaining: 222ms\n",
      "108:\tlearn: 2.2568206\ttotal: 61.6ms\tremaining: 221ms\n",
      "109:\tlearn: 2.2412106\ttotal: 62.1ms\tremaining: 220ms\n",
      "110:\tlearn: 2.2305807\ttotal: 62.6ms\tremaining: 220ms\n",
      "111:\tlearn: 2.2242951\ttotal: 63.2ms\tremaining: 219ms\n",
      "112:\tlearn: 2.2147942\ttotal: 63.8ms\tremaining: 219ms\n",
      "113:\tlearn: 2.2000448\ttotal: 64.4ms\tremaining: 218ms\n",
      "114:\tlearn: 2.1870875\ttotal: 64.9ms\tremaining: 217ms\n",
      "115:\tlearn: 2.1730303\ttotal: 65.5ms\tremaining: 217ms\n",
      "116:\tlearn: 2.1597293\ttotal: 66.1ms\tremaining: 216ms\n",
      "117:\tlearn: 2.1509896\ttotal: 66.7ms\tremaining: 216ms\n",
      "118:\tlearn: 2.1413017\ttotal: 67.2ms\tremaining: 215ms\n",
      "119:\tlearn: 2.1331498\ttotal: 67.7ms\tremaining: 214ms\n",
      "120:\tlearn: 2.1222225\ttotal: 68.2ms\tremaining: 214ms\n",
      "121:\tlearn: 2.1151511\ttotal: 68.7ms\tremaining: 213ms\n",
      "122:\tlearn: 2.1102102\ttotal: 69.3ms\tremaining: 212ms\n",
      "123:\tlearn: 2.1046985\ttotal: 69.8ms\tremaining: 212ms\n",
      "124:\tlearn: 2.0925252\ttotal: 70.3ms\tremaining: 211ms\n",
      "125:\tlearn: 2.0838771\ttotal: 70.8ms\tremaining: 210ms\n",
      "126:\tlearn: 2.0728775\ttotal: 71.3ms\tremaining: 209ms\n",
      "127:\tlearn: 2.0624855\ttotal: 71.8ms\tremaining: 209ms\n",
      "128:\tlearn: 2.0540926\ttotal: 72.4ms\tremaining: 208ms\n",
      "129:\tlearn: 2.0470090\ttotal: 72.9ms\tremaining: 207ms\n",
      "130:\tlearn: 2.0394978\ttotal: 73.4ms\tremaining: 207ms\n",
      "131:\tlearn: 2.0323841\ttotal: 73.9ms\tremaining: 206ms\n",
      "132:\tlearn: 2.0214156\ttotal: 74.5ms\tremaining: 206ms\n",
      "133:\tlearn: 2.0165712\ttotal: 75ms\tremaining: 205ms\n",
      "134:\tlearn: 2.0079316\ttotal: 75.5ms\tremaining: 204ms\n",
      "135:\tlearn: 2.0009340\ttotal: 76ms\tremaining: 203ms\n",
      "136:\tlearn: 1.9964595\ttotal: 76.4ms\tremaining: 203ms\n",
      "137:\tlearn: 1.9912955\ttotal: 77ms\tremaining: 202ms\n",
      "138:\tlearn: 1.9819773\ttotal: 77.4ms\tremaining: 201ms\n",
      "139:\tlearn: 1.9793257\ttotal: 77.9ms\tremaining: 200ms\n",
      "140:\tlearn: 1.9721367\ttotal: 78.4ms\tremaining: 200ms\n",
      "141:\tlearn: 1.9679402\ttotal: 79ms\tremaining: 199ms\n",
      "142:\tlearn: 1.9651323\ttotal: 79.4ms\tremaining: 198ms\n",
      "143:\tlearn: 1.9608756\ttotal: 80ms\tremaining: 198ms\n",
      "144:\tlearn: 1.9564234\ttotal: 80.5ms\tremaining: 197ms\n",
      "145:\tlearn: 1.9525764\ttotal: 81ms\tremaining: 196ms\n",
      "146:\tlearn: 1.9495142\ttotal: 81.7ms\tremaining: 196ms\n",
      "147:\tlearn: 1.9409464\ttotal: 82.3ms\tremaining: 196ms\n",
      "148:\tlearn: 1.9328345\ttotal: 82.8ms\tremaining: 195ms\n",
      "149:\tlearn: 1.9243625\ttotal: 83.4ms\tremaining: 195ms\n",
      "150:\tlearn: 1.9166088\ttotal: 83.9ms\tremaining: 194ms\n",
      "151:\tlearn: 1.9133829\ttotal: 84.4ms\tremaining: 193ms\n",
      "152:\tlearn: 1.9059998\ttotal: 84.9ms\tremaining: 193ms\n",
      "153:\tlearn: 1.9002365\ttotal: 85.4ms\tremaining: 192ms\n",
      "154:\tlearn: 1.8947612\ttotal: 85.9ms\tremaining: 191ms\n",
      "155:\tlearn: 1.8893986\ttotal: 86.4ms\tremaining: 191ms\n",
      "156:\tlearn: 1.8842887\ttotal: 86.9ms\tremaining: 190ms\n",
      "157:\tlearn: 1.8775342\ttotal: 87.5ms\tremaining: 189ms\n",
      "158:\tlearn: 1.8751884\ttotal: 88ms\tremaining: 189ms\n",
      "159:\tlearn: 1.8725990\ttotal: 88.5ms\tremaining: 188ms\n",
      "160:\tlearn: 1.8678064\ttotal: 89.2ms\tremaining: 188ms\n",
      "161:\tlearn: 1.8648501\ttotal: 89.7ms\tremaining: 187ms\n",
      "162:\tlearn: 1.8579645\ttotal: 90.3ms\tremaining: 187ms\n",
      "163:\tlearn: 1.8517981\ttotal: 90.8ms\tremaining: 186ms\n",
      "164:\tlearn: 1.8484140\ttotal: 91.4ms\tremaining: 185ms\n",
      "165:\tlearn: 1.8436406\ttotal: 91.8ms\tremaining: 185ms\n",
      "166:\tlearn: 1.8398575\ttotal: 92.4ms\tremaining: 184ms\n",
      "167:\tlearn: 1.8340523\ttotal: 92.9ms\tremaining: 184ms\n",
      "168:\tlearn: 1.8280779\ttotal: 93.4ms\tremaining: 183ms\n",
      "169:\tlearn: 1.8256322\ttotal: 94ms\tremaining: 182ms\n",
      "170:\tlearn: 1.8236469\ttotal: 94.5ms\tremaining: 182ms\n",
      "171:\tlearn: 1.8212778\ttotal: 95.1ms\tremaining: 181ms\n",
      "172:\tlearn: 1.8158846\ttotal: 95.6ms\tremaining: 181ms\n",
      "173:\tlearn: 1.8123627\ttotal: 96.2ms\tremaining: 180ms\n",
      "174:\tlearn: 1.8092359\ttotal: 96.8ms\tremaining: 180ms\n",
      "175:\tlearn: 1.8043454\ttotal: 97.3ms\tremaining: 179ms\n",
      "176:\tlearn: 1.8018748\ttotal: 97.9ms\tremaining: 179ms\n",
      "177:\tlearn: 1.7982008\ttotal: 98.6ms\tremaining: 178ms\n",
      "178:\tlearn: 1.7933448\ttotal: 99.1ms\tremaining: 178ms\n",
      "179:\tlearn: 1.7883680\ttotal: 99.7ms\tremaining: 177ms\n",
      "180:\tlearn: 1.7836589\ttotal: 100ms\tremaining: 177ms\n",
      "181:\tlearn: 1.7797826\ttotal: 101ms\tremaining: 176ms\n",
      "182:\tlearn: 1.7762435\ttotal: 101ms\tremaining: 175ms\n",
      "183:\tlearn: 1.7747146\ttotal: 102ms\tremaining: 175ms\n",
      "184:\tlearn: 1.7698976\ttotal: 102ms\tremaining: 174ms\n",
      "185:\tlearn: 1.7666494\ttotal: 103ms\tremaining: 174ms\n",
      "186:\tlearn: 1.7635717\ttotal: 103ms\tremaining: 173ms\n",
      "187:\tlearn: 1.7601690\ttotal: 104ms\tremaining: 172ms\n",
      "188:\tlearn: 1.7577807\ttotal: 104ms\tremaining: 172ms\n",
      "189:\tlearn: 1.7544237\ttotal: 105ms\tremaining: 171ms\n",
      "190:\tlearn: 1.7510395\ttotal: 105ms\tremaining: 170ms\n",
      "191:\tlearn: 1.7475026\ttotal: 106ms\tremaining: 170ms\n",
      "192:\tlearn: 1.7445402\ttotal: 107ms\tremaining: 169ms\n",
      "193:\tlearn: 1.7404460\ttotal: 107ms\tremaining: 169ms\n",
      "194:\tlearn: 1.7380879\ttotal: 108ms\tremaining: 168ms\n",
      "195:\tlearn: 1.7365696\ttotal: 108ms\tremaining: 168ms\n",
      "196:\tlearn: 1.7339220\ttotal: 109ms\tremaining: 167ms\n",
      "197:\tlearn: 1.7302363\ttotal: 109ms\tremaining: 167ms\n",
      "198:\tlearn: 1.7281234\ttotal: 110ms\tremaining: 166ms\n",
      "199:\tlearn: 1.7250359\ttotal: 110ms\tremaining: 166ms\n",
      "200:\tlearn: 1.7222037\ttotal: 111ms\tremaining: 165ms\n",
      "201:\tlearn: 1.7191027\ttotal: 111ms\tremaining: 164ms\n",
      "202:\tlearn: 1.7165014\ttotal: 112ms\tremaining: 164ms\n",
      "203:\tlearn: 1.7147998\ttotal: 112ms\tremaining: 163ms\n",
      "204:\tlearn: 1.7129163\ttotal: 113ms\tremaining: 163ms\n",
      "205:\tlearn: 1.7110916\ttotal: 114ms\tremaining: 162ms\n",
      "206:\tlearn: 1.7089485\ttotal: 114ms\tremaining: 161ms\n",
      "207:\tlearn: 1.7057200\ttotal: 115ms\tremaining: 161ms\n",
      "208:\tlearn: 1.7028045\ttotal: 115ms\tremaining: 160ms\n",
      "209:\tlearn: 1.7001445\ttotal: 116ms\tremaining: 160ms\n",
      "210:\tlearn: 1.6976329\ttotal: 116ms\tremaining: 159ms\n",
      "211:\tlearn: 1.6953339\ttotal: 117ms\tremaining: 159ms\n",
      "212:\tlearn: 1.6934228\ttotal: 117ms\tremaining: 158ms\n",
      "213:\tlearn: 1.6919290\ttotal: 118ms\tremaining: 157ms\n",
      "214:\tlearn: 1.6901531\ttotal: 118ms\tremaining: 157ms\n",
      "215:\tlearn: 1.6875219\ttotal: 119ms\tremaining: 156ms\n",
      "216:\tlearn: 1.6859415\ttotal: 119ms\tremaining: 156ms\n",
      "217:\tlearn: 1.6839539\ttotal: 120ms\tremaining: 155ms\n",
      "218:\tlearn: 1.6815765\ttotal: 120ms\tremaining: 154ms\n",
      "219:\tlearn: 1.6796436\ttotal: 121ms\tremaining: 154ms\n",
      "220:\tlearn: 1.6779665\ttotal: 121ms\tremaining: 153ms\n",
      "221:\tlearn: 1.6766254\ttotal: 122ms\tremaining: 153ms\n",
      "222:\tlearn: 1.6755026\ttotal: 122ms\tremaining: 152ms\n",
      "223:\tlearn: 1.6739007\ttotal: 123ms\tremaining: 151ms\n",
      "224:\tlearn: 1.6722773\ttotal: 124ms\tremaining: 151ms\n",
      "225:\tlearn: 1.6713724\ttotal: 124ms\tremaining: 150ms\n",
      "226:\tlearn: 1.6697583\ttotal: 125ms\tremaining: 150ms\n",
      "227:\tlearn: 1.6688773\ttotal: 125ms\tremaining: 149ms\n",
      "228:\tlearn: 1.6666438\ttotal: 126ms\tremaining: 149ms\n",
      "229:\tlearn: 1.6644594\ttotal: 126ms\tremaining: 148ms\n",
      "230:\tlearn: 1.6630844\ttotal: 127ms\tremaining: 148ms\n",
      "231:\tlearn: 1.6619534\ttotal: 127ms\tremaining: 147ms\n",
      "232:\tlearn: 1.6602434\ttotal: 128ms\tremaining: 146ms\n",
      "233:\tlearn: 1.6588112\ttotal: 128ms\tremaining: 146ms\n",
      "234:\tlearn: 1.6577758\ttotal: 129ms\tremaining: 146ms\n",
      "235:\tlearn: 1.6566415\ttotal: 130ms\tremaining: 145ms\n",
      "236:\tlearn: 1.6558354\ttotal: 130ms\tremaining: 145ms\n",
      "237:\tlearn: 1.6546664\ttotal: 131ms\tremaining: 144ms\n",
      "238:\tlearn: 1.6535561\ttotal: 132ms\tremaining: 144ms\n",
      "239:\tlearn: 1.6518620\ttotal: 132ms\tremaining: 143ms\n",
      "240:\tlearn: 1.6505383\ttotal: 133ms\tremaining: 143ms\n",
      "241:\tlearn: 1.6496087\ttotal: 133ms\tremaining: 142ms\n",
      "242:\tlearn: 1.6474238\ttotal: 134ms\tremaining: 141ms\n",
      "243:\tlearn: 1.6453585\ttotal: 134ms\tremaining: 141ms\n",
      "244:\tlearn: 1.6445214\ttotal: 135ms\tremaining: 140ms\n",
      "245:\tlearn: 1.6432443\ttotal: 135ms\tremaining: 140ms\n",
      "246:\tlearn: 1.6423653\ttotal: 136ms\tremaining: 139ms\n",
      "247:\tlearn: 1.6404441\ttotal: 136ms\tremaining: 139ms\n",
      "248:\tlearn: 1.6396694\ttotal: 137ms\tremaining: 138ms\n",
      "249:\tlearn: 1.6387129\ttotal: 138ms\tremaining: 138ms\n",
      "250:\tlearn: 1.6372338\ttotal: 138ms\tremaining: 137ms\n",
      "251:\tlearn: 1.6359896\ttotal: 139ms\tremaining: 137ms\n",
      "252:\tlearn: 1.6346025\ttotal: 139ms\tremaining: 136ms\n",
      "253:\tlearn: 1.6339069\ttotal: 140ms\tremaining: 135ms\n",
      "254:\tlearn: 1.6328132\ttotal: 140ms\tremaining: 135ms\n",
      "255:\tlearn: 1.6315774\ttotal: 141ms\tremaining: 135ms\n",
      "256:\tlearn: 1.6306504\ttotal: 142ms\tremaining: 134ms\n",
      "257:\tlearn: 1.6296266\ttotal: 143ms\tremaining: 134ms\n",
      "258:\tlearn: 1.6285862\ttotal: 143ms\tremaining: 133ms\n",
      "259:\tlearn: 1.6276160\ttotal: 144ms\tremaining: 133ms\n",
      "260:\tlearn: 1.6268321\ttotal: 144ms\tremaining: 132ms\n",
      "261:\tlearn: 1.6257365\ttotal: 145ms\tremaining: 132ms\n",
      "262:\tlearn: 1.6252786\ttotal: 145ms\tremaining: 131ms\n",
      "263:\tlearn: 1.6247188\ttotal: 146ms\tremaining: 131ms\n",
      "264:\tlearn: 1.6234975\ttotal: 147ms\tremaining: 130ms\n",
      "265:\tlearn: 1.6227518\ttotal: 147ms\tremaining: 130ms\n",
      "266:\tlearn: 1.6213211\ttotal: 148ms\tremaining: 129ms\n",
      "267:\tlearn: 1.6206861\ttotal: 148ms\tremaining: 128ms\n",
      "268:\tlearn: 1.6200823\ttotal: 149ms\tremaining: 128ms\n",
      "269:\tlearn: 1.6194256\ttotal: 149ms\tremaining: 127ms\n",
      "270:\tlearn: 1.6184986\ttotal: 150ms\tremaining: 127ms\n",
      "271:\tlearn: 1.6178511\ttotal: 151ms\tremaining: 126ms\n",
      "272:\tlearn: 1.6174215\ttotal: 151ms\tremaining: 126ms\n",
      "273:\tlearn: 1.6166471\ttotal: 152ms\tremaining: 125ms\n",
      "274:\tlearn: 1.6160958\ttotal: 152ms\tremaining: 124ms\n",
      "275:\tlearn: 1.6153693\ttotal: 153ms\tremaining: 124ms\n",
      "276:\tlearn: 1.6141628\ttotal: 153ms\tremaining: 123ms\n",
      "277:\tlearn: 1.6129841\ttotal: 154ms\tremaining: 123ms\n",
      "278:\tlearn: 1.6122804\ttotal: 154ms\tremaining: 122ms\n",
      "279:\tlearn: 1.6116232\ttotal: 155ms\tremaining: 122ms\n",
      "280:\tlearn: 1.6109422\ttotal: 156ms\tremaining: 121ms\n",
      "281:\tlearn: 1.6104034\ttotal: 156ms\tremaining: 121ms\n",
      "282:\tlearn: 1.6097349\ttotal: 157ms\tremaining: 120ms\n",
      "283:\tlearn: 1.6092582\ttotal: 157ms\tremaining: 120ms\n",
      "284:\tlearn: 1.6086468\ttotal: 158ms\tremaining: 119ms\n",
      "285:\tlearn: 1.6078246\ttotal: 158ms\tremaining: 119ms\n",
      "286:\tlearn: 1.6074951\ttotal: 159ms\tremaining: 118ms\n",
      "287:\tlearn: 1.6069465\ttotal: 160ms\tremaining: 117ms\n",
      "288:\tlearn: 1.6061066\ttotal: 160ms\tremaining: 117ms\n",
      "289:\tlearn: 1.6055198\ttotal: 161ms\tremaining: 116ms\n",
      "290:\tlearn: 1.6050776\ttotal: 161ms\tremaining: 116ms\n",
      "291:\tlearn: 1.6045299\ttotal: 162ms\tremaining: 115ms\n",
      "292:\tlearn: 1.6035625\ttotal: 163ms\tremaining: 115ms\n",
      "293:\tlearn: 1.6029848\ttotal: 163ms\tremaining: 114ms\n",
      "294:\tlearn: 1.6025854\ttotal: 164ms\tremaining: 114ms\n",
      "295:\tlearn: 1.6019022\ttotal: 164ms\tremaining: 113ms\n",
      "296:\tlearn: 1.6013656\ttotal: 165ms\tremaining: 113ms\n",
      "297:\tlearn: 1.6004946\ttotal: 165ms\tremaining: 112ms\n",
      "298:\tlearn: 1.5998568\ttotal: 166ms\tremaining: 112ms\n",
      "299:\tlearn: 1.5994555\ttotal: 167ms\tremaining: 111ms\n",
      "300:\tlearn: 1.5990884\ttotal: 167ms\tremaining: 111ms\n",
      "301:\tlearn: 1.5986770\ttotal: 168ms\tremaining: 110ms\n",
      "302:\tlearn: 1.5983295\ttotal: 169ms\tremaining: 110ms\n",
      "303:\tlearn: 1.5979291\ttotal: 169ms\tremaining: 109ms\n",
      "304:\tlearn: 1.5975560\ttotal: 170ms\tremaining: 109ms\n",
      "305:\tlearn: 1.5971021\ttotal: 171ms\tremaining: 108ms\n",
      "306:\tlearn: 1.5967178\ttotal: 171ms\tremaining: 108ms\n",
      "307:\tlearn: 1.5964064\ttotal: 172ms\tremaining: 107ms\n",
      "308:\tlearn: 1.5959520\ttotal: 173ms\tremaining: 107ms\n",
      "309:\tlearn: 1.5955976\ttotal: 173ms\tremaining: 106ms\n",
      "310:\tlearn: 1.5951392\ttotal: 174ms\tremaining: 106ms\n",
      "311:\tlearn: 1.5947250\ttotal: 175ms\tremaining: 105ms\n",
      "312:\tlearn: 1.5943811\ttotal: 177ms\tremaining: 106ms\n",
      "313:\tlearn: 1.5940453\ttotal: 178ms\tremaining: 105ms\n",
      "314:\tlearn: 1.5937265\ttotal: 179ms\tremaining: 105ms\n",
      "315:\tlearn: 1.5933660\ttotal: 180ms\tremaining: 105ms\n",
      "316:\tlearn: 1.5926355\ttotal: 181ms\tremaining: 104ms\n",
      "317:\tlearn: 1.5923438\ttotal: 181ms\tremaining: 104ms\n",
      "318:\tlearn: 1.5920520\ttotal: 182ms\tremaining: 103ms\n",
      "319:\tlearn: 1.5917570\ttotal: 183ms\tremaining: 103ms\n",
      "320:\tlearn: 1.5913091\ttotal: 183ms\tremaining: 102ms\n",
      "321:\tlearn: 1.5908864\ttotal: 184ms\tremaining: 102ms\n",
      "322:\tlearn: 1.5905920\ttotal: 185ms\tremaining: 101ms\n",
      "323:\tlearn: 1.5903122\ttotal: 185ms\tremaining: 101ms\n",
      "324:\tlearn: 1.5900449\ttotal: 186ms\tremaining: 100ms\n",
      "325:\tlearn: 1.5897690\ttotal: 186ms\tremaining: 99.5ms\n",
      "326:\tlearn: 1.5895252\ttotal: 188ms\tremaining: 99.2ms\n",
      "327:\tlearn: 1.5892635\ttotal: 188ms\tremaining: 98.7ms\n",
      "328:\tlearn: 1.5889057\ttotal: 189ms\tremaining: 98.1ms\n",
      "329:\tlearn: 1.5886296\ttotal: 189ms\tremaining: 97.5ms\n",
      "330:\tlearn: 1.5883871\ttotal: 190ms\tremaining: 96.9ms\n",
      "331:\tlearn: 1.5881467\ttotal: 190ms\tremaining: 96.4ms\n",
      "332:\tlearn: 1.5878891\ttotal: 191ms\tremaining: 95.8ms\n",
      "333:\tlearn: 1.5873666\ttotal: 192ms\tremaining: 95.5ms\n",
      "334:\tlearn: 1.5870040\ttotal: 193ms\tremaining: 95ms\n",
      "335:\tlearn: 1.5864043\ttotal: 193ms\tremaining: 94.4ms\n",
      "336:\tlearn: 1.5861866\ttotal: 194ms\tremaining: 93.9ms\n",
      "337:\tlearn: 1.5856225\ttotal: 195ms\tremaining: 93.3ms\n",
      "338:\tlearn: 1.5853857\ttotal: 195ms\tremaining: 92.8ms\n",
      "339:\tlearn: 1.5850938\ttotal: 196ms\tremaining: 92.2ms\n",
      "340:\tlearn: 1.5848556\ttotal: 197ms\tremaining: 91.7ms\n",
      "341:\tlearn: 1.5843985\ttotal: 197ms\tremaining: 91.2ms\n",
      "342:\tlearn: 1.5841209\ttotal: 198ms\tremaining: 90.6ms\n",
      "343:\tlearn: 1.5836172\ttotal: 199ms\tremaining: 90.1ms\n",
      "344:\tlearn: 1.5833078\ttotal: 199ms\tremaining: 89.6ms\n",
      "345:\tlearn: 1.5831093\ttotal: 200ms\tremaining: 89.1ms\n",
      "346:\tlearn: 1.5829006\ttotal: 201ms\tremaining: 88.5ms\n",
      "347:\tlearn: 1.5827180\ttotal: 201ms\tremaining: 87.9ms\n",
      "348:\tlearn: 1.5825128\ttotal: 202ms\tremaining: 87.4ms\n",
      "349:\tlearn: 1.5820194\ttotal: 203ms\tremaining: 86.8ms\n",
      "350:\tlearn: 1.5815768\ttotal: 203ms\tremaining: 86.2ms\n",
      "351:\tlearn: 1.5813025\ttotal: 204ms\tremaining: 85.7ms\n",
      "352:\tlearn: 1.5808851\ttotal: 204ms\tremaining: 85.1ms\n",
      "353:\tlearn: 1.5807023\ttotal: 205ms\tremaining: 84.5ms\n",
      "354:\tlearn: 1.5804693\ttotal: 206ms\tremaining: 83.9ms\n",
      "355:\tlearn: 1.5803443\ttotal: 206ms\tremaining: 83.3ms\n",
      "356:\tlearn: 1.5800748\ttotal: 207ms\tremaining: 82.8ms\n",
      "357:\tlearn: 1.5796464\ttotal: 207ms\tremaining: 82.2ms\n",
      "358:\tlearn: 1.5794735\ttotal: 208ms\tremaining: 81.6ms\n",
      "359:\tlearn: 1.5793136\ttotal: 208ms\tremaining: 81ms\n",
      "360:\tlearn: 1.5791885\ttotal: 209ms\tremaining: 80.4ms\n",
      "361:\tlearn: 1.5789622\ttotal: 210ms\tremaining: 79.9ms\n",
      "362:\tlearn: 1.5788008\ttotal: 210ms\tremaining: 79.3ms\n",
      "363:\tlearn: 1.5784019\ttotal: 211ms\tremaining: 78.7ms\n",
      "364:\tlearn: 1.5780248\ttotal: 211ms\tremaining: 78.1ms\n",
      "365:\tlearn: 1.5778131\ttotal: 212ms\tremaining: 77.5ms\n",
      "366:\tlearn: 1.5776637\ttotal: 212ms\tremaining: 77ms\n",
      "367:\tlearn: 1.5774864\ttotal: 213ms\tremaining: 76.4ms\n",
      "368:\tlearn: 1.5771302\ttotal: 213ms\tremaining: 75.8ms\n",
      "369:\tlearn: 1.5769356\ttotal: 214ms\tremaining: 75.1ms\n",
      "370:\tlearn: 1.5767784\ttotal: 214ms\tremaining: 74.5ms\n",
      "371:\tlearn: 1.5766371\ttotal: 215ms\tremaining: 73.9ms\n",
      "372:\tlearn: 1.5765443\ttotal: 215ms\tremaining: 73.3ms\n",
      "373:\tlearn: 1.5762199\ttotal: 216ms\tremaining: 72.8ms\n",
      "374:\tlearn: 1.5760293\ttotal: 217ms\tremaining: 72.2ms\n",
      "375:\tlearn: 1.5757091\ttotal: 217ms\tremaining: 71.6ms\n",
      "376:\tlearn: 1.5755297\ttotal: 218ms\tremaining: 71ms\n",
      "377:\tlearn: 1.5753905\ttotal: 218ms\tremaining: 70.4ms\n",
      "378:\tlearn: 1.5752349\ttotal: 219ms\tremaining: 69.9ms\n",
      "379:\tlearn: 1.5750691\ttotal: 219ms\tremaining: 69.3ms\n",
      "380:\tlearn: 1.5749672\ttotal: 220ms\tremaining: 68.7ms\n",
      "381:\tlearn: 1.5747876\ttotal: 221ms\tremaining: 68.1ms\n",
      "382:\tlearn: 1.5746669\ttotal: 221ms\tremaining: 67.5ms\n",
      "383:\tlearn: 1.5743733\ttotal: 222ms\tremaining: 66.9ms\n",
      "384:\tlearn: 1.5742301\ttotal: 222ms\tremaining: 66.4ms\n",
      "385:\tlearn: 1.5740802\ttotal: 223ms\tremaining: 65.8ms\n",
      "386:\tlearn: 1.5739917\ttotal: 223ms\tremaining: 65.2ms\n",
      "387:\tlearn: 1.5737209\ttotal: 224ms\tremaining: 64.6ms\n",
      "388:\tlearn: 1.5735995\ttotal: 224ms\tremaining: 64ms\n",
      "389:\tlearn: 1.5734818\ttotal: 225ms\tremaining: 63.5ms\n",
      "390:\tlearn: 1.5733768\ttotal: 226ms\tremaining: 62.9ms\n",
      "391:\tlearn: 1.5731117\ttotal: 226ms\tremaining: 62.4ms\n",
      "392:\tlearn: 1.5729742\ttotal: 227ms\tremaining: 61.8ms\n",
      "393:\tlearn: 1.5727242\ttotal: 228ms\tremaining: 61.2ms\n",
      "394:\tlearn: 1.5726128\ttotal: 228ms\tremaining: 60.6ms\n",
      "395:\tlearn: 1.5724808\ttotal: 229ms\tremaining: 60ms\n",
      "396:\tlearn: 1.5722492\ttotal: 229ms\tremaining: 59.5ms\n",
      "397:\tlearn: 1.5721434\ttotal: 230ms\tremaining: 58.9ms\n",
      "398:\tlearn: 1.5719252\ttotal: 231ms\tremaining: 58.4ms\n",
      "399:\tlearn: 1.5718351\ttotal: 231ms\tremaining: 57.8ms\n",
      "400:\tlearn: 1.5717368\ttotal: 232ms\tremaining: 57.2ms\n",
      "401:\tlearn: 1.5716101\ttotal: 232ms\tremaining: 56.7ms\n",
      "402:\tlearn: 1.5714458\ttotal: 233ms\tremaining: 56.1ms\n",
      "403:\tlearn: 1.5713667\ttotal: 234ms\tremaining: 55.5ms\n",
      "404:\tlearn: 1.5712713\ttotal: 234ms\tremaining: 55ms\n",
      "405:\tlearn: 1.5710590\ttotal: 235ms\tremaining: 54.4ms\n",
      "406:\tlearn: 1.5708582\ttotal: 235ms\tremaining: 53.8ms\n",
      "407:\tlearn: 1.5707417\ttotal: 236ms\tremaining: 53.2ms\n",
      "408:\tlearn: 1.5706311\ttotal: 236ms\tremaining: 52.6ms\n",
      "409:\tlearn: 1.5705255\ttotal: 237ms\tremaining: 52ms\n",
      "410:\tlearn: 1.5704171\ttotal: 238ms\tremaining: 51.5ms\n",
      "411:\tlearn: 1.5702277\ttotal: 238ms\tremaining: 50.9ms\n",
      "412:\tlearn: 1.5701602\ttotal: 239ms\tremaining: 50.3ms\n",
      "413:\tlearn: 1.5700601\ttotal: 239ms\tremaining: 49.7ms\n",
      "414:\tlearn: 1.5698819\ttotal: 240ms\tremaining: 49.1ms\n",
      "415:\tlearn: 1.5697372\ttotal: 240ms\tremaining: 48.6ms\n",
      "416:\tlearn: 1.5696587\ttotal: 241ms\tremaining: 48ms\n",
      "417:\tlearn: 1.5695403\ttotal: 242ms\tremaining: 47.4ms\n",
      "418:\tlearn: 1.5694429\ttotal: 242ms\tremaining: 46.8ms\n",
      "419:\tlearn: 1.5693150\ttotal: 243ms\tremaining: 46.3ms\n",
      "420:\tlearn: 1.5691523\ttotal: 244ms\tremaining: 45.7ms\n",
      "421:\tlearn: 1.5690923\ttotal: 244ms\tremaining: 45.1ms\n",
      "422:\tlearn: 1.5690015\ttotal: 245ms\tremaining: 44.6ms\n",
      "423:\tlearn: 1.5689074\ttotal: 245ms\tremaining: 44ms\n",
      "424:\tlearn: 1.5688413\ttotal: 246ms\tremaining: 43.4ms\n",
      "425:\tlearn: 1.5687539\ttotal: 247ms\tremaining: 42.8ms\n",
      "426:\tlearn: 1.5686713\ttotal: 247ms\tremaining: 42.3ms\n",
      "427:\tlearn: 1.5685675\ttotal: 248ms\tremaining: 41.7ms\n",
      "428:\tlearn: 1.5684931\ttotal: 248ms\tremaining: 41.1ms\n",
      "429:\tlearn: 1.5684379\ttotal: 249ms\tremaining: 40.5ms\n",
      "430:\tlearn: 1.5682784\ttotal: 250ms\tremaining: 39.9ms\n",
      "431:\tlearn: 1.5681277\ttotal: 250ms\tremaining: 39.4ms\n",
      "432:\tlearn: 1.5679852\ttotal: 251ms\tremaining: 38.8ms\n",
      "433:\tlearn: 1.5679026\ttotal: 251ms\tremaining: 38.2ms\n",
      "434:\tlearn: 1.5678057\ttotal: 252ms\tremaining: 37.6ms\n",
      "435:\tlearn: 1.5677275\ttotal: 253ms\tremaining: 37.1ms\n",
      "436:\tlearn: 1.5675937\ttotal: 253ms\tremaining: 36.5ms\n",
      "437:\tlearn: 1.5675268\ttotal: 254ms\tremaining: 35.9ms\n",
      "438:\tlearn: 1.5674351\ttotal: 254ms\tremaining: 35.3ms\n",
      "439:\tlearn: 1.5673636\ttotal: 255ms\tremaining: 34.8ms\n",
      "440:\tlearn: 1.5672963\ttotal: 256ms\tremaining: 34.2ms\n",
      "441:\tlearn: 1.5672328\ttotal: 256ms\tremaining: 33.6ms\n",
      "442:\tlearn: 1.5671130\ttotal: 257ms\tremaining: 33.1ms\n",
      "443:\tlearn: 1.5670398\ttotal: 258ms\tremaining: 32.5ms\n",
      "444:\tlearn: 1.5669818\ttotal: 258ms\tremaining: 31.9ms\n",
      "445:\tlearn: 1.5668578\ttotal: 259ms\tremaining: 31.4ms\n",
      "446:\tlearn: 1.5667792\ttotal: 260ms\tremaining: 30.8ms\n",
      "447:\tlearn: 1.5667267\ttotal: 260ms\tremaining: 30.2ms\n",
      "448:\tlearn: 1.5666586\ttotal: 261ms\tremaining: 29.6ms\n",
      "449:\tlearn: 1.5665954\ttotal: 262ms\tremaining: 29.1ms\n",
      "450:\tlearn: 1.5664777\ttotal: 262ms\tremaining: 28.5ms\n",
      "451:\tlearn: 1.5664132\ttotal: 263ms\tremaining: 27.9ms\n",
      "452:\tlearn: 1.5662947\ttotal: 264ms\tremaining: 27.3ms\n",
      "453:\tlearn: 1.5662217\ttotal: 264ms\tremaining: 26.8ms\n",
      "454:\tlearn: 1.5661113\ttotal: 265ms\tremaining: 26.2ms\n",
      "455:\tlearn: 1.5660580\ttotal: 266ms\tremaining: 25.6ms\n",
      "456:\tlearn: 1.5659663\ttotal: 266ms\tremaining: 25.1ms\n",
      "457:\tlearn: 1.5659182\ttotal: 267ms\tremaining: 24.5ms\n",
      "458:\tlearn: 1.5658687\ttotal: 268ms\tremaining: 23.9ms\n",
      "459:\tlearn: 1.5657643\ttotal: 268ms\tremaining: 23.3ms\n",
      "460:\tlearn: 1.5656950\ttotal: 269ms\tremaining: 22.8ms\n",
      "461:\tlearn: 1.5656522\ttotal: 270ms\tremaining: 22.2ms\n",
      "462:\tlearn: 1.5655999\ttotal: 270ms\tremaining: 21.6ms\n",
      "463:\tlearn: 1.5655173\ttotal: 271ms\tremaining: 21ms\n",
      "464:\tlearn: 1.5654497\ttotal: 271ms\tremaining: 20.4ms\n",
      "465:\tlearn: 1.5654083\ttotal: 272ms\tremaining: 19.9ms\n",
      "466:\tlearn: 1.5653687\ttotal: 273ms\tremaining: 19.3ms\n",
      "467:\tlearn: 1.5653136\ttotal: 273ms\tremaining: 18.7ms\n",
      "468:\tlearn: 1.5652758\ttotal: 274ms\tremaining: 18.1ms\n",
      "469:\tlearn: 1.5652140\ttotal: 275ms\tremaining: 17.5ms\n",
      "470:\tlearn: 1.5651780\ttotal: 275ms\tremaining: 17ms\n",
      "471:\tlearn: 1.5651184\ttotal: 276ms\tremaining: 16.4ms\n",
      "472:\tlearn: 1.5650552\ttotal: 277ms\tremaining: 15.8ms\n",
      "473:\tlearn: 1.5650085\ttotal: 277ms\tremaining: 15.2ms\n",
      "474:\tlearn: 1.5649507\ttotal: 278ms\tremaining: 14.6ms\n",
      "475:\tlearn: 1.5648960\ttotal: 279ms\tremaining: 14ms\n",
      "476:\tlearn: 1.5648390\ttotal: 279ms\tremaining: 13.5ms\n",
      "477:\tlearn: 1.5647956\ttotal: 280ms\tremaining: 12.9ms\n",
      "478:\tlearn: 1.5647363\ttotal: 280ms\tremaining: 12.3ms\n",
      "479:\tlearn: 1.5647040\ttotal: 281ms\tremaining: 11.7ms\n",
      "480:\tlearn: 1.5646536\ttotal: 282ms\tremaining: 11.1ms\n",
      "481:\tlearn: 1.5646194\ttotal: 282ms\tremaining: 10.5ms\n",
      "482:\tlearn: 1.5645379\ttotal: 283ms\tremaining: 9.96ms\n",
      "483:\tlearn: 1.5645055\ttotal: 284ms\tremaining: 9.38ms\n",
      "484:\tlearn: 1.5644745\ttotal: 284ms\tremaining: 8.8ms\n",
      "485:\tlearn: 1.5644447\ttotal: 285ms\tremaining: 8.21ms\n",
      "486:\tlearn: 1.5644194\ttotal: 286ms\tremaining: 7.62ms\n",
      "487:\tlearn: 1.5643896\ttotal: 286ms\tremaining: 7.04ms\n",
      "488:\tlearn: 1.5643395\ttotal: 287ms\tremaining: 6.45ms\n",
      "489:\tlearn: 1.5642919\ttotal: 288ms\tremaining: 5.88ms\n",
      "490:\tlearn: 1.5642589\ttotal: 289ms\tremaining: 5.29ms\n",
      "491:\tlearn: 1.5642317\ttotal: 290ms\tremaining: 4.71ms\n",
      "492:\tlearn: 1.5641863\ttotal: 291ms\tremaining: 4.13ms\n",
      "493:\tlearn: 1.5641216\ttotal: 292ms\tremaining: 3.54ms\n",
      "494:\tlearn: 1.5640386\ttotal: 293ms\tremaining: 2.96ms\n",
      "495:\tlearn: 1.5640072\ttotal: 293ms\tremaining: 2.37ms\n",
      "496:\tlearn: 1.5639578\ttotal: 295ms\tremaining: 1.78ms\n",
      "497:\tlearn: 1.5639304\ttotal: 296ms\tremaining: 1.19ms\n",
      "498:\tlearn: 1.5638718\ttotal: 296ms\tremaining: 593us\n",
      "499:\tlearn: 1.5638162\ttotal: 297ms\tremaining: 0us\n"
     ]
    },
    {
     "data": {
      "text/plain": [
       "GridSearchCV(cv=10,\n",
       "             estimator=<catboost.core.CatBoostRegressor object at 0x000002372AD1BDC0>,\n",
       "             n_jobs=-1,\n",
       "             param_grid={'depth': [3, 4, 5, 6, 7, 8],\n",
       "                         'iterations': [200, 500, 100, 2000],\n",
       "                         'learning_rate': [0.01, 0.03, 0.05, 0.1]},\n",
       "             verbose=2)"
      ]
     },
     "execution_count": 122,
     "metadata": {},
     "output_type": "execute_result"
    }
   ],
   "source": [
    "cat_cv_model.fit(x_train,y_train.iloc[:,1])"
   ]
  },
  {
   "cell_type": "code",
   "execution_count": 123,
   "metadata": {},
   "outputs": [
    {
     "data": {
      "text/plain": [
       "4.360599559914307"
      ]
     },
     "execution_count": 123,
     "metadata": {},
     "output_type": "execute_result"
    }
   ],
   "source": [
    "np.sqrt(mean_squared_error(y_test.iloc[:,1],cat_cv_model.predict(x_test)))+np.sqrt(mean_squared_error(y_test.iloc[:,0],cat_cv_model.predict(x_test)))"
   ]
  },
  {
   "cell_type": "markdown",
   "metadata": {},
   "source": [
    "#### DecisionTreeRegressor modeli"
   ]
  },
  {
   "cell_type": "code",
   "execution_count": 124,
   "metadata": {},
   "outputs": [],
   "source": [
    "from sklearn.tree import DecisionTreeRegressor\n",
    "cart_model=DecisionTreeRegressor().fit(x_train,y_train)"
   ]
  },
  {
   "cell_type": "code",
   "execution_count": 126,
   "metadata": {},
   "outputs": [
    {
     "data": {
      "text/plain": [
       "1.2581107961985207"
      ]
     },
     "execution_count": 126,
     "metadata": {},
     "output_type": "execute_result"
    }
   ],
   "source": [
    "np.sqrt(mean_squared_error(y_test,cart_model.predict(x_test)))"
   ]
  },
  {
   "cell_type": "code",
   "execution_count": 128,
   "metadata": {},
   "outputs": [],
   "source": [
    "cart_params={\n",
    "    \"min_samples_split\":range(2,100),\"max_leaf_nodes\":range(2,15)\n",
    "}\n",
    "cart_cv_model=GridSearchCV(cart_model,cart_params,cv=10).fit(x_train,y_train)"
   ]
  },
  {
   "cell_type": "code",
   "execution_count": 129,
   "metadata": {},
   "outputs": [
    {
     "data": {
      "text/plain": [
       "2.097269034912892"
      ]
     },
     "execution_count": 129,
     "metadata": {},
     "output_type": "execute_result"
    }
   ],
   "source": [
    "np.sqrt(mean_squared_error(y_test,cart_cv_model.predict(x_test)))"
   ]
  },
  {
   "cell_type": "code",
   "execution_count": 153,
   "metadata": {},
   "outputs": [
    {
     "data": {
      "text/plain": [
       "1.2581107961985205"
      ]
     },
     "execution_count": 153,
     "metadata": {},
     "output_type": "execute_result"
    }
   ],
   "source": [
    "cart_cv_model2=DecisionTreeRegressor(max_leaf_nodes=50,min_samples_split=3,max_features=3).fit(x_train,y_train)\n",
    "np.sqrt(mean_squared_error(y_test,cart_cv_model2.predict(x_test)))"
   ]
  },
  {
   "cell_type": "markdown",
   "metadata": {},
   "source": [
    "### Yapay sinir ağları modeli"
   ]
  },
  {
   "cell_type": "code",
   "execution_count": 160,
   "metadata": {},
   "outputs": [
    {
     "name": "stderr",
     "output_type": "stream",
     "text": [
      "C:\\Users\\omerm\\anaconda3\\envs\\PythonProjeleri\\lib\\site-packages\\sklearn\\neural_network\\_multilayer_perceptron.py:582: ConvergenceWarning: Stochastic Optimizer: Maximum iterations (200) reached and the optimization hasn't converged yet.\n",
      "  warnings.warn(\n"
     ]
    }
   ],
   "source": [
    "from sklearn.neural_network import MLPRegressor\n",
    "from sklearn.preprocessing import StandardScaler\n",
    "scaler=StandardScaler()\n",
    "x_train_scaled=scaler.fit_transform(x_train)\n",
    "x_test_scaled=scaler.fit_transform(x_test)\n",
    "mlp_model=MLPRegressor().fit(x_train_scaled,y_train)"
   ]
  },
  {
   "cell_type": "code",
   "execution_count": 162,
   "metadata": {},
   "outputs": [
    {
     "data": {
      "text/plain": [
       "5.419561911558503"
      ]
     },
     "execution_count": 162,
     "metadata": {},
     "output_type": "execute_result"
    }
   ],
   "source": [
    "np.sqrt(mean_squared_error(y_test,mlp_model.predict(x_test_scaled)))"
   ]
  },
  {
   "cell_type": "code",
   "execution_count": 163,
   "metadata": {
    "collapsed": true,
    "jupyter": {
     "outputs_hidden": true
    }
   },
   "outputs": [
    {
     "name": "stderr",
     "output_type": "stream",
     "text": [
      "C:\\Users\\omerm\\anaconda3\\envs\\PythonProjeleri\\lib\\site-packages\\sklearn\\neural_network\\_multilayer_perceptron.py:582: ConvergenceWarning: Stochastic Optimizer: Maximum iterations (200) reached and the optimization hasn't converged yet.\n",
      "  warnings.warn(\n",
      "C:\\Users\\omerm\\anaconda3\\envs\\PythonProjeleri\\lib\\site-packages\\sklearn\\neural_network\\_multilayer_perceptron.py:582: ConvergenceWarning: Stochastic Optimizer: Maximum iterations (200) reached and the optimization hasn't converged yet.\n",
      "  warnings.warn(\n",
      "C:\\Users\\omerm\\anaconda3\\envs\\PythonProjeleri\\lib\\site-packages\\sklearn\\neural_network\\_multilayer_perceptron.py:582: ConvergenceWarning: Stochastic Optimizer: Maximum iterations (200) reached and the optimization hasn't converged yet.\n",
      "  warnings.warn(\n",
      "C:\\Users\\omerm\\anaconda3\\envs\\PythonProjeleri\\lib\\site-packages\\sklearn\\neural_network\\_multilayer_perceptron.py:582: ConvergenceWarning: Stochastic Optimizer: Maximum iterations (200) reached and the optimization hasn't converged yet.\n",
      "  warnings.warn(\n",
      "C:\\Users\\omerm\\anaconda3\\envs\\PythonProjeleri\\lib\\site-packages\\sklearn\\neural_network\\_multilayer_perceptron.py:582: ConvergenceWarning: Stochastic Optimizer: Maximum iterations (200) reached and the optimization hasn't converged yet.\n",
      "  warnings.warn(\n",
      "C:\\Users\\omerm\\anaconda3\\envs\\PythonProjeleri\\lib\\site-packages\\sklearn\\neural_network\\_multilayer_perceptron.py:582: ConvergenceWarning: Stochastic Optimizer: Maximum iterations (200) reached and the optimization hasn't converged yet.\n",
      "  warnings.warn(\n",
      "C:\\Users\\omerm\\anaconda3\\envs\\PythonProjeleri\\lib\\site-packages\\sklearn\\neural_network\\_multilayer_perceptron.py:582: ConvergenceWarning: Stochastic Optimizer: Maximum iterations (200) reached and the optimization hasn't converged yet.\n",
      "  warnings.warn(\n",
      "C:\\Users\\omerm\\anaconda3\\envs\\PythonProjeleri\\lib\\site-packages\\sklearn\\neural_network\\_multilayer_perceptron.py:582: ConvergenceWarning: Stochastic Optimizer: Maximum iterations (200) reached and the optimization hasn't converged yet.\n",
      "  warnings.warn(\n",
      "C:\\Users\\omerm\\anaconda3\\envs\\PythonProjeleri\\lib\\site-packages\\sklearn\\neural_network\\_multilayer_perceptron.py:582: ConvergenceWarning: Stochastic Optimizer: Maximum iterations (200) reached and the optimization hasn't converged yet.\n",
      "  warnings.warn(\n",
      "C:\\Users\\omerm\\anaconda3\\envs\\PythonProjeleri\\lib\\site-packages\\sklearn\\neural_network\\_multilayer_perceptron.py:582: ConvergenceWarning: Stochastic Optimizer: Maximum iterations (200) reached and the optimization hasn't converged yet.\n",
      "  warnings.warn(\n",
      "C:\\Users\\omerm\\anaconda3\\envs\\PythonProjeleri\\lib\\site-packages\\sklearn\\neural_network\\_multilayer_perceptron.py:582: ConvergenceWarning: Stochastic Optimizer: Maximum iterations (200) reached and the optimization hasn't converged yet.\n",
      "  warnings.warn(\n",
      "C:\\Users\\omerm\\anaconda3\\envs\\PythonProjeleri\\lib\\site-packages\\sklearn\\neural_network\\_multilayer_perceptron.py:582: ConvergenceWarning: Stochastic Optimizer: Maximum iterations (200) reached and the optimization hasn't converged yet.\n",
      "  warnings.warn(\n",
      "C:\\Users\\omerm\\anaconda3\\envs\\PythonProjeleri\\lib\\site-packages\\sklearn\\neural_network\\_multilayer_perceptron.py:582: ConvergenceWarning: Stochastic Optimizer: Maximum iterations (200) reached and the optimization hasn't converged yet.\n",
      "  warnings.warn(\n",
      "C:\\Users\\omerm\\anaconda3\\envs\\PythonProjeleri\\lib\\site-packages\\sklearn\\neural_network\\_multilayer_perceptron.py:582: ConvergenceWarning: Stochastic Optimizer: Maximum iterations (200) reached and the optimization hasn't converged yet.\n",
      "  warnings.warn(\n",
      "C:\\Users\\omerm\\anaconda3\\envs\\PythonProjeleri\\lib\\site-packages\\sklearn\\neural_network\\_multilayer_perceptron.py:582: ConvergenceWarning: Stochastic Optimizer: Maximum iterations (200) reached and the optimization hasn't converged yet.\n",
      "  warnings.warn(\n",
      "C:\\Users\\omerm\\anaconda3\\envs\\PythonProjeleri\\lib\\site-packages\\sklearn\\neural_network\\_multilayer_perceptron.py:582: ConvergenceWarning: Stochastic Optimizer: Maximum iterations (200) reached and the optimization hasn't converged yet.\n",
      "  warnings.warn(\n",
      "C:\\Users\\omerm\\anaconda3\\envs\\PythonProjeleri\\lib\\site-packages\\sklearn\\neural_network\\_multilayer_perceptron.py:582: ConvergenceWarning: Stochastic Optimizer: Maximum iterations (200) reached and the optimization hasn't converged yet.\n",
      "  warnings.warn(\n",
      "C:\\Users\\omerm\\anaconda3\\envs\\PythonProjeleri\\lib\\site-packages\\sklearn\\neural_network\\_multilayer_perceptron.py:582: ConvergenceWarning: Stochastic Optimizer: Maximum iterations (200) reached and the optimization hasn't converged yet.\n",
      "  warnings.warn(\n",
      "C:\\Users\\omerm\\anaconda3\\envs\\PythonProjeleri\\lib\\site-packages\\sklearn\\neural_network\\_multilayer_perceptron.py:582: ConvergenceWarning: Stochastic Optimizer: Maximum iterations (200) reached and the optimization hasn't converged yet.\n",
      "  warnings.warn(\n",
      "C:\\Users\\omerm\\anaconda3\\envs\\PythonProjeleri\\lib\\site-packages\\sklearn\\neural_network\\_multilayer_perceptron.py:582: ConvergenceWarning: Stochastic Optimizer: Maximum iterations (200) reached and the optimization hasn't converged yet.\n",
      "  warnings.warn(\n",
      "C:\\Users\\omerm\\anaconda3\\envs\\PythonProjeleri\\lib\\site-packages\\sklearn\\neural_network\\_multilayer_perceptron.py:582: ConvergenceWarning: Stochastic Optimizer: Maximum iterations (200) reached and the optimization hasn't converged yet.\n",
      "  warnings.warn(\n",
      "C:\\Users\\omerm\\anaconda3\\envs\\PythonProjeleri\\lib\\site-packages\\sklearn\\neural_network\\_multilayer_perceptron.py:582: ConvergenceWarning: Stochastic Optimizer: Maximum iterations (200) reached and the optimization hasn't converged yet.\n",
      "  warnings.warn(\n",
      "C:\\Users\\omerm\\anaconda3\\envs\\PythonProjeleri\\lib\\site-packages\\sklearn\\neural_network\\_multilayer_perceptron.py:582: ConvergenceWarning: Stochastic Optimizer: Maximum iterations (200) reached and the optimization hasn't converged yet.\n",
      "  warnings.warn(\n",
      "C:\\Users\\omerm\\anaconda3\\envs\\PythonProjeleri\\lib\\site-packages\\sklearn\\neural_network\\_multilayer_perceptron.py:582: ConvergenceWarning: Stochastic Optimizer: Maximum iterations (200) reached and the optimization hasn't converged yet.\n",
      "  warnings.warn(\n",
      "C:\\Users\\omerm\\anaconda3\\envs\\PythonProjeleri\\lib\\site-packages\\sklearn\\neural_network\\_multilayer_perceptron.py:582: ConvergenceWarning: Stochastic Optimizer: Maximum iterations (200) reached and the optimization hasn't converged yet.\n",
      "  warnings.warn(\n",
      "C:\\Users\\omerm\\anaconda3\\envs\\PythonProjeleri\\lib\\site-packages\\sklearn\\neural_network\\_multilayer_perceptron.py:582: ConvergenceWarning: Stochastic Optimizer: Maximum iterations (200) reached and the optimization hasn't converged yet.\n",
      "  warnings.warn(\n",
      "C:\\Users\\omerm\\anaconda3\\envs\\PythonProjeleri\\lib\\site-packages\\sklearn\\neural_network\\_multilayer_perceptron.py:582: ConvergenceWarning: Stochastic Optimizer: Maximum iterations (200) reached and the optimization hasn't converged yet.\n",
      "  warnings.warn(\n",
      "C:\\Users\\omerm\\anaconda3\\envs\\PythonProjeleri\\lib\\site-packages\\sklearn\\neural_network\\_multilayer_perceptron.py:582: ConvergenceWarning: Stochastic Optimizer: Maximum iterations (200) reached and the optimization hasn't converged yet.\n",
      "  warnings.warn(\n",
      "C:\\Users\\omerm\\anaconda3\\envs\\PythonProjeleri\\lib\\site-packages\\sklearn\\neural_network\\_multilayer_perceptron.py:582: ConvergenceWarning: Stochastic Optimizer: Maximum iterations (200) reached and the optimization hasn't converged yet.\n",
      "  warnings.warn(\n",
      "C:\\Users\\omerm\\anaconda3\\envs\\PythonProjeleri\\lib\\site-packages\\sklearn\\neural_network\\_multilayer_perceptron.py:582: ConvergenceWarning: Stochastic Optimizer: Maximum iterations (200) reached and the optimization hasn't converged yet.\n",
      "  warnings.warn(\n",
      "C:\\Users\\omerm\\anaconda3\\envs\\PythonProjeleri\\lib\\site-packages\\sklearn\\neural_network\\_multilayer_perceptron.py:582: ConvergenceWarning: Stochastic Optimizer: Maximum iterations (200) reached and the optimization hasn't converged yet.\n",
      "  warnings.warn(\n",
      "C:\\Users\\omerm\\anaconda3\\envs\\PythonProjeleri\\lib\\site-packages\\sklearn\\neural_network\\_multilayer_perceptron.py:582: ConvergenceWarning: Stochastic Optimizer: Maximum iterations (200) reached and the optimization hasn't converged yet.\n",
      "  warnings.warn(\n",
      "C:\\Users\\omerm\\anaconda3\\envs\\PythonProjeleri\\lib\\site-packages\\sklearn\\neural_network\\_multilayer_perceptron.py:582: ConvergenceWarning: Stochastic Optimizer: Maximum iterations (200) reached and the optimization hasn't converged yet.\n",
      "  warnings.warn(\n",
      "C:\\Users\\omerm\\anaconda3\\envs\\PythonProjeleri\\lib\\site-packages\\sklearn\\neural_network\\_multilayer_perceptron.py:582: ConvergenceWarning: Stochastic Optimizer: Maximum iterations (200) reached and the optimization hasn't converged yet.\n",
      "  warnings.warn(\n",
      "C:\\Users\\omerm\\anaconda3\\envs\\PythonProjeleri\\lib\\site-packages\\sklearn\\neural_network\\_multilayer_perceptron.py:582: ConvergenceWarning: Stochastic Optimizer: Maximum iterations (200) reached and the optimization hasn't converged yet.\n",
      "  warnings.warn(\n",
      "C:\\Users\\omerm\\anaconda3\\envs\\PythonProjeleri\\lib\\site-packages\\sklearn\\neural_network\\_multilayer_perceptron.py:582: ConvergenceWarning: Stochastic Optimizer: Maximum iterations (200) reached and the optimization hasn't converged yet.\n",
      "  warnings.warn(\n",
      "C:\\Users\\omerm\\anaconda3\\envs\\PythonProjeleri\\lib\\site-packages\\sklearn\\neural_network\\_multilayer_perceptron.py:582: ConvergenceWarning: Stochastic Optimizer: Maximum iterations (200) reached and the optimization hasn't converged yet.\n",
      "  warnings.warn(\n",
      "C:\\Users\\omerm\\anaconda3\\envs\\PythonProjeleri\\lib\\site-packages\\sklearn\\neural_network\\_multilayer_perceptron.py:582: ConvergenceWarning: Stochastic Optimizer: Maximum iterations (200) reached and the optimization hasn't converged yet.\n",
      "  warnings.warn(\n",
      "C:\\Users\\omerm\\anaconda3\\envs\\PythonProjeleri\\lib\\site-packages\\sklearn\\neural_network\\_multilayer_perceptron.py:582: ConvergenceWarning: Stochastic Optimizer: Maximum iterations (200) reached and the optimization hasn't converged yet.\n",
      "  warnings.warn(\n",
      "C:\\Users\\omerm\\anaconda3\\envs\\PythonProjeleri\\lib\\site-packages\\sklearn\\neural_network\\_multilayer_perceptron.py:582: ConvergenceWarning: Stochastic Optimizer: Maximum iterations (200) reached and the optimization hasn't converged yet.\n",
      "  warnings.warn(\n",
      "C:\\Users\\omerm\\anaconda3\\envs\\PythonProjeleri\\lib\\site-packages\\sklearn\\neural_network\\_multilayer_perceptron.py:582: ConvergenceWarning: Stochastic Optimizer: Maximum iterations (200) reached and the optimization hasn't converged yet.\n",
      "  warnings.warn(\n",
      "C:\\Users\\omerm\\anaconda3\\envs\\PythonProjeleri\\lib\\site-packages\\sklearn\\neural_network\\_multilayer_perceptron.py:582: ConvergenceWarning: Stochastic Optimizer: Maximum iterations (200) reached and the optimization hasn't converged yet.\n",
      "  warnings.warn(\n",
      "C:\\Users\\omerm\\anaconda3\\envs\\PythonProjeleri\\lib\\site-packages\\sklearn\\neural_network\\_multilayer_perceptron.py:582: ConvergenceWarning: Stochastic Optimizer: Maximum iterations (200) reached and the optimization hasn't converged yet.\n",
      "  warnings.warn(\n",
      "C:\\Users\\omerm\\anaconda3\\envs\\PythonProjeleri\\lib\\site-packages\\sklearn\\neural_network\\_multilayer_perceptron.py:582: ConvergenceWarning: Stochastic Optimizer: Maximum iterations (200) reached and the optimization hasn't converged yet.\n",
      "  warnings.warn(\n",
      "C:\\Users\\omerm\\anaconda3\\envs\\PythonProjeleri\\lib\\site-packages\\sklearn\\neural_network\\_multilayer_perceptron.py:582: ConvergenceWarning: Stochastic Optimizer: Maximum iterations (200) reached and the optimization hasn't converged yet.\n",
      "  warnings.warn(\n",
      "C:\\Users\\omerm\\anaconda3\\envs\\PythonProjeleri\\lib\\site-packages\\sklearn\\neural_network\\_multilayer_perceptron.py:582: ConvergenceWarning: Stochastic Optimizer: Maximum iterations (200) reached and the optimization hasn't converged yet.\n",
      "  warnings.warn(\n",
      "C:\\Users\\omerm\\anaconda3\\envs\\PythonProjeleri\\lib\\site-packages\\sklearn\\neural_network\\_multilayer_perceptron.py:582: ConvergenceWarning: Stochastic Optimizer: Maximum iterations (200) reached and the optimization hasn't converged yet.\n",
      "  warnings.warn(\n",
      "C:\\Users\\omerm\\anaconda3\\envs\\PythonProjeleri\\lib\\site-packages\\sklearn\\neural_network\\_multilayer_perceptron.py:582: ConvergenceWarning: Stochastic Optimizer: Maximum iterations (200) reached and the optimization hasn't converged yet.\n",
      "  warnings.warn(\n",
      "C:\\Users\\omerm\\anaconda3\\envs\\PythonProjeleri\\lib\\site-packages\\sklearn\\neural_network\\_multilayer_perceptron.py:582: ConvergenceWarning: Stochastic Optimizer: Maximum iterations (200) reached and the optimization hasn't converged yet.\n",
      "  warnings.warn(\n",
      "C:\\Users\\omerm\\anaconda3\\envs\\PythonProjeleri\\lib\\site-packages\\sklearn\\neural_network\\_multilayer_perceptron.py:582: ConvergenceWarning: Stochastic Optimizer: Maximum iterations (200) reached and the optimization hasn't converged yet.\n",
      "  warnings.warn(\n",
      "C:\\Users\\omerm\\anaconda3\\envs\\PythonProjeleri\\lib\\site-packages\\sklearn\\neural_network\\_multilayer_perceptron.py:582: ConvergenceWarning: Stochastic Optimizer: Maximum iterations (200) reached and the optimization hasn't converged yet.\n",
      "  warnings.warn(\n",
      "C:\\Users\\omerm\\anaconda3\\envs\\PythonProjeleri\\lib\\site-packages\\sklearn\\neural_network\\_multilayer_perceptron.py:582: ConvergenceWarning: Stochastic Optimizer: Maximum iterations (200) reached and the optimization hasn't converged yet.\n",
      "  warnings.warn(\n",
      "C:\\Users\\omerm\\anaconda3\\envs\\PythonProjeleri\\lib\\site-packages\\sklearn\\neural_network\\_multilayer_perceptron.py:582: ConvergenceWarning: Stochastic Optimizer: Maximum iterations (200) reached and the optimization hasn't converged yet.\n",
      "  warnings.warn(\n",
      "C:\\Users\\omerm\\anaconda3\\envs\\PythonProjeleri\\lib\\site-packages\\sklearn\\neural_network\\_multilayer_perceptron.py:582: ConvergenceWarning: Stochastic Optimizer: Maximum iterations (200) reached and the optimization hasn't converged yet.\n",
      "  warnings.warn(\n",
      "C:\\Users\\omerm\\anaconda3\\envs\\PythonProjeleri\\lib\\site-packages\\sklearn\\neural_network\\_multilayer_perceptron.py:582: ConvergenceWarning: Stochastic Optimizer: Maximum iterations (200) reached and the optimization hasn't converged yet.\n",
      "  warnings.warn(\n",
      "C:\\Users\\omerm\\anaconda3\\envs\\PythonProjeleri\\lib\\site-packages\\sklearn\\neural_network\\_multilayer_perceptron.py:582: ConvergenceWarning: Stochastic Optimizer: Maximum iterations (200) reached and the optimization hasn't converged yet.\n",
      "  warnings.warn(\n",
      "C:\\Users\\omerm\\anaconda3\\envs\\PythonProjeleri\\lib\\site-packages\\sklearn\\neural_network\\_multilayer_perceptron.py:582: ConvergenceWarning: Stochastic Optimizer: Maximum iterations (200) reached and the optimization hasn't converged yet.\n",
      "  warnings.warn(\n",
      "C:\\Users\\omerm\\anaconda3\\envs\\PythonProjeleri\\lib\\site-packages\\sklearn\\neural_network\\_multilayer_perceptron.py:582: ConvergenceWarning: Stochastic Optimizer: Maximum iterations (200) reached and the optimization hasn't converged yet.\n",
      "  warnings.warn(\n",
      "C:\\Users\\omerm\\anaconda3\\envs\\PythonProjeleri\\lib\\site-packages\\sklearn\\neural_network\\_multilayer_perceptron.py:582: ConvergenceWarning: Stochastic Optimizer: Maximum iterations (200) reached and the optimization hasn't converged yet.\n",
      "  warnings.warn(\n",
      "C:\\Users\\omerm\\anaconda3\\envs\\PythonProjeleri\\lib\\site-packages\\sklearn\\neural_network\\_multilayer_perceptron.py:582: ConvergenceWarning: Stochastic Optimizer: Maximum iterations (200) reached and the optimization hasn't converged yet.\n",
      "  warnings.warn(\n",
      "C:\\Users\\omerm\\anaconda3\\envs\\PythonProjeleri\\lib\\site-packages\\sklearn\\neural_network\\_multilayer_perceptron.py:582: ConvergenceWarning: Stochastic Optimizer: Maximum iterations (200) reached and the optimization hasn't converged yet.\n",
      "  warnings.warn(\n",
      "C:\\Users\\omerm\\anaconda3\\envs\\PythonProjeleri\\lib\\site-packages\\sklearn\\neural_network\\_multilayer_perceptron.py:582: ConvergenceWarning: Stochastic Optimizer: Maximum iterations (200) reached and the optimization hasn't converged yet.\n",
      "  warnings.warn(\n",
      "C:\\Users\\omerm\\anaconda3\\envs\\PythonProjeleri\\lib\\site-packages\\sklearn\\neural_network\\_multilayer_perceptron.py:582: ConvergenceWarning: Stochastic Optimizer: Maximum iterations (200) reached and the optimization hasn't converged yet.\n",
      "  warnings.warn(\n",
      "C:\\Users\\omerm\\anaconda3\\envs\\PythonProjeleri\\lib\\site-packages\\sklearn\\neural_network\\_multilayer_perceptron.py:582: ConvergenceWarning: Stochastic Optimizer: Maximum iterations (200) reached and the optimization hasn't converged yet.\n",
      "  warnings.warn(\n",
      "C:\\Users\\omerm\\anaconda3\\envs\\PythonProjeleri\\lib\\site-packages\\sklearn\\neural_network\\_multilayer_perceptron.py:582: ConvergenceWarning: Stochastic Optimizer: Maximum iterations (200) reached and the optimization hasn't converged yet.\n",
      "  warnings.warn(\n",
      "C:\\Users\\omerm\\anaconda3\\envs\\PythonProjeleri\\lib\\site-packages\\sklearn\\neural_network\\_multilayer_perceptron.py:582: ConvergenceWarning: Stochastic Optimizer: Maximum iterations (200) reached and the optimization hasn't converged yet.\n",
      "  warnings.warn(\n",
      "C:\\Users\\omerm\\anaconda3\\envs\\PythonProjeleri\\lib\\site-packages\\sklearn\\neural_network\\_multilayer_perceptron.py:582: ConvergenceWarning: Stochastic Optimizer: Maximum iterations (200) reached and the optimization hasn't converged yet.\n",
      "  warnings.warn(\n",
      "C:\\Users\\omerm\\anaconda3\\envs\\PythonProjeleri\\lib\\site-packages\\sklearn\\neural_network\\_multilayer_perceptron.py:582: ConvergenceWarning: Stochastic Optimizer: Maximum iterations (200) reached and the optimization hasn't converged yet.\n",
      "  warnings.warn(\n",
      "C:\\Users\\omerm\\anaconda3\\envs\\PythonProjeleri\\lib\\site-packages\\sklearn\\neural_network\\_multilayer_perceptron.py:582: ConvergenceWarning: Stochastic Optimizer: Maximum iterations (200) reached and the optimization hasn't converged yet.\n",
      "  warnings.warn(\n",
      "C:\\Users\\omerm\\anaconda3\\envs\\PythonProjeleri\\lib\\site-packages\\sklearn\\neural_network\\_multilayer_perceptron.py:582: ConvergenceWarning: Stochastic Optimizer: Maximum iterations (200) reached and the optimization hasn't converged yet.\n",
      "  warnings.warn(\n",
      "C:\\Users\\omerm\\anaconda3\\envs\\PythonProjeleri\\lib\\site-packages\\sklearn\\neural_network\\_multilayer_perceptron.py:582: ConvergenceWarning: Stochastic Optimizer: Maximum iterations (200) reached and the optimization hasn't converged yet.\n",
      "  warnings.warn(\n",
      "C:\\Users\\omerm\\anaconda3\\envs\\PythonProjeleri\\lib\\site-packages\\sklearn\\neural_network\\_multilayer_perceptron.py:582: ConvergenceWarning: Stochastic Optimizer: Maximum iterations (200) reached and the optimization hasn't converged yet.\n",
      "  warnings.warn(\n",
      "C:\\Users\\omerm\\anaconda3\\envs\\PythonProjeleri\\lib\\site-packages\\sklearn\\neural_network\\_multilayer_perceptron.py:582: ConvergenceWarning: Stochastic Optimizer: Maximum iterations (200) reached and the optimization hasn't converged yet.\n",
      "  warnings.warn(\n",
      "C:\\Users\\omerm\\anaconda3\\envs\\PythonProjeleri\\lib\\site-packages\\sklearn\\neural_network\\_multilayer_perceptron.py:582: ConvergenceWarning: Stochastic Optimizer: Maximum iterations (200) reached and the optimization hasn't converged yet.\n",
      "  warnings.warn(\n",
      "C:\\Users\\omerm\\anaconda3\\envs\\PythonProjeleri\\lib\\site-packages\\sklearn\\neural_network\\_multilayer_perceptron.py:582: ConvergenceWarning: Stochastic Optimizer: Maximum iterations (200) reached and the optimization hasn't converged yet.\n",
      "  warnings.warn(\n",
      "C:\\Users\\omerm\\anaconda3\\envs\\PythonProjeleri\\lib\\site-packages\\sklearn\\neural_network\\_multilayer_perceptron.py:582: ConvergenceWarning: Stochastic Optimizer: Maximum iterations (200) reached and the optimization hasn't converged yet.\n",
      "  warnings.warn(\n",
      "C:\\Users\\omerm\\anaconda3\\envs\\PythonProjeleri\\lib\\site-packages\\sklearn\\neural_network\\_multilayer_perceptron.py:582: ConvergenceWarning: Stochastic Optimizer: Maximum iterations (200) reached and the optimization hasn't converged yet.\n",
      "  warnings.warn(\n",
      "C:\\Users\\omerm\\anaconda3\\envs\\PythonProjeleri\\lib\\site-packages\\sklearn\\neural_network\\_multilayer_perceptron.py:582: ConvergenceWarning: Stochastic Optimizer: Maximum iterations (200) reached and the optimization hasn't converged yet.\n",
      "  warnings.warn(\n",
      "C:\\Users\\omerm\\anaconda3\\envs\\PythonProjeleri\\lib\\site-packages\\sklearn\\neural_network\\_multilayer_perceptron.py:582: ConvergenceWarning: Stochastic Optimizer: Maximum iterations (200) reached and the optimization hasn't converged yet.\n",
      "  warnings.warn(\n",
      "C:\\Users\\omerm\\anaconda3\\envs\\PythonProjeleri\\lib\\site-packages\\sklearn\\neural_network\\_multilayer_perceptron.py:582: ConvergenceWarning: Stochastic Optimizer: Maximum iterations (200) reached and the optimization hasn't converged yet.\n",
      "  warnings.warn(\n",
      "C:\\Users\\omerm\\anaconda3\\envs\\PythonProjeleri\\lib\\site-packages\\sklearn\\neural_network\\_multilayer_perceptron.py:582: ConvergenceWarning: Stochastic Optimizer: Maximum iterations (200) reached and the optimization hasn't converged yet.\n",
      "  warnings.warn(\n",
      "C:\\Users\\omerm\\anaconda3\\envs\\PythonProjeleri\\lib\\site-packages\\sklearn\\neural_network\\_multilayer_perceptron.py:582: ConvergenceWarning: Stochastic Optimizer: Maximum iterations (200) reached and the optimization hasn't converged yet.\n",
      "  warnings.warn(\n",
      "C:\\Users\\omerm\\anaconda3\\envs\\PythonProjeleri\\lib\\site-packages\\sklearn\\neural_network\\_multilayer_perceptron.py:582: ConvergenceWarning: Stochastic Optimizer: Maximum iterations (200) reached and the optimization hasn't converged yet.\n",
      "  warnings.warn(\n",
      "C:\\Users\\omerm\\anaconda3\\envs\\PythonProjeleri\\lib\\site-packages\\sklearn\\neural_network\\_multilayer_perceptron.py:582: ConvergenceWarning: Stochastic Optimizer: Maximum iterations (200) reached and the optimization hasn't converged yet.\n",
      "  warnings.warn(\n",
      "C:\\Users\\omerm\\anaconda3\\envs\\PythonProjeleri\\lib\\site-packages\\sklearn\\neural_network\\_multilayer_perceptron.py:582: ConvergenceWarning: Stochastic Optimizer: Maximum iterations (200) reached and the optimization hasn't converged yet.\n",
      "  warnings.warn(\n",
      "C:\\Users\\omerm\\anaconda3\\envs\\PythonProjeleri\\lib\\site-packages\\sklearn\\neural_network\\_multilayer_perceptron.py:582: ConvergenceWarning: Stochastic Optimizer: Maximum iterations (200) reached and the optimization hasn't converged yet.\n",
      "  warnings.warn(\n",
      "C:\\Users\\omerm\\anaconda3\\envs\\PythonProjeleri\\lib\\site-packages\\sklearn\\neural_network\\_multilayer_perceptron.py:582: ConvergenceWarning: Stochastic Optimizer: Maximum iterations (200) reached and the optimization hasn't converged yet.\n",
      "  warnings.warn(\n",
      "C:\\Users\\omerm\\anaconda3\\envs\\PythonProjeleri\\lib\\site-packages\\sklearn\\neural_network\\_multilayer_perceptron.py:582: ConvergenceWarning: Stochastic Optimizer: Maximum iterations (200) reached and the optimization hasn't converged yet.\n",
      "  warnings.warn(\n",
      "C:\\Users\\omerm\\anaconda3\\envs\\PythonProjeleri\\lib\\site-packages\\sklearn\\neural_network\\_multilayer_perceptron.py:582: ConvergenceWarning: Stochastic Optimizer: Maximum iterations (200) reached and the optimization hasn't converged yet.\n",
      "  warnings.warn(\n",
      "C:\\Users\\omerm\\anaconda3\\envs\\PythonProjeleri\\lib\\site-packages\\sklearn\\neural_network\\_multilayer_perceptron.py:582: ConvergenceWarning: Stochastic Optimizer: Maximum iterations (200) reached and the optimization hasn't converged yet.\n",
      "  warnings.warn(\n",
      "C:\\Users\\omerm\\anaconda3\\envs\\PythonProjeleri\\lib\\site-packages\\sklearn\\neural_network\\_multilayer_perceptron.py:582: ConvergenceWarning: Stochastic Optimizer: Maximum iterations (200) reached and the optimization hasn't converged yet.\n",
      "  warnings.warn(\n",
      "C:\\Users\\omerm\\anaconda3\\envs\\PythonProjeleri\\lib\\site-packages\\sklearn\\neural_network\\_multilayer_perceptron.py:582: ConvergenceWarning: Stochastic Optimizer: Maximum iterations (200) reached and the optimization hasn't converged yet.\n",
      "  warnings.warn(\n",
      "C:\\Users\\omerm\\anaconda3\\envs\\PythonProjeleri\\lib\\site-packages\\sklearn\\neural_network\\_multilayer_perceptron.py:582: ConvergenceWarning: Stochastic Optimizer: Maximum iterations (200) reached and the optimization hasn't converged yet.\n",
      "  warnings.warn(\n",
      "C:\\Users\\omerm\\anaconda3\\envs\\PythonProjeleri\\lib\\site-packages\\sklearn\\neural_network\\_multilayer_perceptron.py:582: ConvergenceWarning: Stochastic Optimizer: Maximum iterations (200) reached and the optimization hasn't converged yet.\n",
      "  warnings.warn(\n",
      "C:\\Users\\omerm\\anaconda3\\envs\\PythonProjeleri\\lib\\site-packages\\sklearn\\neural_network\\_multilayer_perceptron.py:582: ConvergenceWarning: Stochastic Optimizer: Maximum iterations (200) reached and the optimization hasn't converged yet.\n",
      "  warnings.warn(\n",
      "C:\\Users\\omerm\\anaconda3\\envs\\PythonProjeleri\\lib\\site-packages\\sklearn\\neural_network\\_multilayer_perceptron.py:582: ConvergenceWarning: Stochastic Optimizer: Maximum iterations (200) reached and the optimization hasn't converged yet.\n",
      "  warnings.warn(\n",
      "C:\\Users\\omerm\\anaconda3\\envs\\PythonProjeleri\\lib\\site-packages\\sklearn\\neural_network\\_multilayer_perceptron.py:582: ConvergenceWarning: Stochastic Optimizer: Maximum iterations (200) reached and the optimization hasn't converged yet.\n",
      "  warnings.warn(\n",
      "C:\\Users\\omerm\\anaconda3\\envs\\PythonProjeleri\\lib\\site-packages\\sklearn\\neural_network\\_multilayer_perceptron.py:582: ConvergenceWarning: Stochastic Optimizer: Maximum iterations (200) reached and the optimization hasn't converged yet.\n",
      "  warnings.warn(\n",
      "C:\\Users\\omerm\\anaconda3\\envs\\PythonProjeleri\\lib\\site-packages\\sklearn\\neural_network\\_multilayer_perceptron.py:582: ConvergenceWarning: Stochastic Optimizer: Maximum iterations (200) reached and the optimization hasn't converged yet.\n",
      "  warnings.warn(\n",
      "C:\\Users\\omerm\\anaconda3\\envs\\PythonProjeleri\\lib\\site-packages\\sklearn\\neural_network\\_multilayer_perceptron.py:582: ConvergenceWarning: Stochastic Optimizer: Maximum iterations (200) reached and the optimization hasn't converged yet.\n",
      "  warnings.warn(\n",
      "C:\\Users\\omerm\\anaconda3\\envs\\PythonProjeleri\\lib\\site-packages\\sklearn\\neural_network\\_multilayer_perceptron.py:582: ConvergenceWarning: Stochastic Optimizer: Maximum iterations (200) reached and the optimization hasn't converged yet.\n",
      "  warnings.warn(\n",
      "C:\\Users\\omerm\\anaconda3\\envs\\PythonProjeleri\\lib\\site-packages\\sklearn\\neural_network\\_multilayer_perceptron.py:582: ConvergenceWarning: Stochastic Optimizer: Maximum iterations (200) reached and the optimization hasn't converged yet.\n",
      "  warnings.warn(\n",
      "C:\\Users\\omerm\\anaconda3\\envs\\PythonProjeleri\\lib\\site-packages\\sklearn\\neural_network\\_multilayer_perceptron.py:582: ConvergenceWarning: Stochastic Optimizer: Maximum iterations (200) reached and the optimization hasn't converged yet.\n",
      "  warnings.warn(\n",
      "C:\\Users\\omerm\\anaconda3\\envs\\PythonProjeleri\\lib\\site-packages\\sklearn\\neural_network\\_multilayer_perceptron.py:582: ConvergenceWarning: Stochastic Optimizer: Maximum iterations (200) reached and the optimization hasn't converged yet.\n",
      "  warnings.warn(\n",
      "C:\\Users\\omerm\\anaconda3\\envs\\PythonProjeleri\\lib\\site-packages\\sklearn\\neural_network\\_multilayer_perceptron.py:582: ConvergenceWarning: Stochastic Optimizer: Maximum iterations (200) reached and the optimization hasn't converged yet.\n",
      "  warnings.warn(\n",
      "C:\\Users\\omerm\\anaconda3\\envs\\PythonProjeleri\\lib\\site-packages\\sklearn\\neural_network\\_multilayer_perceptron.py:582: ConvergenceWarning: Stochastic Optimizer: Maximum iterations (200) reached and the optimization hasn't converged yet.\n",
      "  warnings.warn(\n",
      "C:\\Users\\omerm\\anaconda3\\envs\\PythonProjeleri\\lib\\site-packages\\sklearn\\neural_network\\_multilayer_perceptron.py:582: ConvergenceWarning: Stochastic Optimizer: Maximum iterations (200) reached and the optimization hasn't converged yet.\n",
      "  warnings.warn(\n",
      "C:\\Users\\omerm\\anaconda3\\envs\\PythonProjeleri\\lib\\site-packages\\sklearn\\neural_network\\_multilayer_perceptron.py:582: ConvergenceWarning: Stochastic Optimizer: Maximum iterations (200) reached and the optimization hasn't converged yet.\n",
      "  warnings.warn(\n",
      "C:\\Users\\omerm\\anaconda3\\envs\\PythonProjeleri\\lib\\site-packages\\sklearn\\neural_network\\_multilayer_perceptron.py:582: ConvergenceWarning: Stochastic Optimizer: Maximum iterations (200) reached and the optimization hasn't converged yet.\n",
      "  warnings.warn(\n",
      "C:\\Users\\omerm\\anaconda3\\envs\\PythonProjeleri\\lib\\site-packages\\sklearn\\neural_network\\_multilayer_perceptron.py:582: ConvergenceWarning: Stochastic Optimizer: Maximum iterations (200) reached and the optimization hasn't converged yet.\n",
      "  warnings.warn(\n",
      "C:\\Users\\omerm\\anaconda3\\envs\\PythonProjeleri\\lib\\site-packages\\sklearn\\neural_network\\_multilayer_perceptron.py:582: ConvergenceWarning: Stochastic Optimizer: Maximum iterations (200) reached and the optimization hasn't converged yet.\n",
      "  warnings.warn(\n",
      "C:\\Users\\omerm\\anaconda3\\envs\\PythonProjeleri\\lib\\site-packages\\sklearn\\neural_network\\_multilayer_perceptron.py:582: ConvergenceWarning: Stochastic Optimizer: Maximum iterations (200) reached and the optimization hasn't converged yet.\n",
      "  warnings.warn(\n",
      "C:\\Users\\omerm\\anaconda3\\envs\\PythonProjeleri\\lib\\site-packages\\sklearn\\neural_network\\_multilayer_perceptron.py:582: ConvergenceWarning: Stochastic Optimizer: Maximum iterations (200) reached and the optimization hasn't converged yet.\n",
      "  warnings.warn(\n",
      "C:\\Users\\omerm\\anaconda3\\envs\\PythonProjeleri\\lib\\site-packages\\sklearn\\neural_network\\_multilayer_perceptron.py:582: ConvergenceWarning: Stochastic Optimizer: Maximum iterations (200) reached and the optimization hasn't converged yet.\n",
      "  warnings.warn(\n",
      "C:\\Users\\omerm\\anaconda3\\envs\\PythonProjeleri\\lib\\site-packages\\sklearn\\neural_network\\_multilayer_perceptron.py:582: ConvergenceWarning: Stochastic Optimizer: Maximum iterations (200) reached and the optimization hasn't converged yet.\n",
      "  warnings.warn(\n",
      "C:\\Users\\omerm\\anaconda3\\envs\\PythonProjeleri\\lib\\site-packages\\sklearn\\neural_network\\_multilayer_perceptron.py:582: ConvergenceWarning: Stochastic Optimizer: Maximum iterations (200) reached and the optimization hasn't converged yet.\n",
      "  warnings.warn(\n",
      "C:\\Users\\omerm\\anaconda3\\envs\\PythonProjeleri\\lib\\site-packages\\sklearn\\neural_network\\_multilayer_perceptron.py:582: ConvergenceWarning: Stochastic Optimizer: Maximum iterations (200) reached and the optimization hasn't converged yet.\n",
      "  warnings.warn(\n",
      "C:\\Users\\omerm\\anaconda3\\envs\\PythonProjeleri\\lib\\site-packages\\sklearn\\neural_network\\_multilayer_perceptron.py:582: ConvergenceWarning: Stochastic Optimizer: Maximum iterations (200) reached and the optimization hasn't converged yet.\n",
      "  warnings.warn(\n",
      "C:\\Users\\omerm\\anaconda3\\envs\\PythonProjeleri\\lib\\site-packages\\sklearn\\neural_network\\_multilayer_perceptron.py:582: ConvergenceWarning: Stochastic Optimizer: Maximum iterations (200) reached and the optimization hasn't converged yet.\n",
      "  warnings.warn(\n",
      "C:\\Users\\omerm\\anaconda3\\envs\\PythonProjeleri\\lib\\site-packages\\sklearn\\neural_network\\_multilayer_perceptron.py:582: ConvergenceWarning: Stochastic Optimizer: Maximum iterations (200) reached and the optimization hasn't converged yet.\n",
      "  warnings.warn(\n",
      "C:\\Users\\omerm\\anaconda3\\envs\\PythonProjeleri\\lib\\site-packages\\sklearn\\neural_network\\_multilayer_perceptron.py:582: ConvergenceWarning: Stochastic Optimizer: Maximum iterations (200) reached and the optimization hasn't converged yet.\n",
      "  warnings.warn(\n",
      "C:\\Users\\omerm\\anaconda3\\envs\\PythonProjeleri\\lib\\site-packages\\sklearn\\neural_network\\_multilayer_perceptron.py:582: ConvergenceWarning: Stochastic Optimizer: Maximum iterations (200) reached and the optimization hasn't converged yet.\n",
      "  warnings.warn(\n",
      "C:\\Users\\omerm\\anaconda3\\envs\\PythonProjeleri\\lib\\site-packages\\sklearn\\neural_network\\_multilayer_perceptron.py:582: ConvergenceWarning: Stochastic Optimizer: Maximum iterations (200) reached and the optimization hasn't converged yet.\n",
      "  warnings.warn(\n",
      "C:\\Users\\omerm\\anaconda3\\envs\\PythonProjeleri\\lib\\site-packages\\sklearn\\neural_network\\_multilayer_perceptron.py:582: ConvergenceWarning: Stochastic Optimizer: Maximum iterations (200) reached and the optimization hasn't converged yet.\n",
      "  warnings.warn(\n",
      "C:\\Users\\omerm\\anaconda3\\envs\\PythonProjeleri\\lib\\site-packages\\sklearn\\neural_network\\_multilayer_perceptron.py:582: ConvergenceWarning: Stochastic Optimizer: Maximum iterations (200) reached and the optimization hasn't converged yet.\n",
      "  warnings.warn(\n",
      "C:\\Users\\omerm\\anaconda3\\envs\\PythonProjeleri\\lib\\site-packages\\sklearn\\neural_network\\_multilayer_perceptron.py:582: ConvergenceWarning: Stochastic Optimizer: Maximum iterations (200) reached and the optimization hasn't converged yet.\n",
      "  warnings.warn(\n",
      "C:\\Users\\omerm\\anaconda3\\envs\\PythonProjeleri\\lib\\site-packages\\sklearn\\neural_network\\_multilayer_perceptron.py:582: ConvergenceWarning: Stochastic Optimizer: Maximum iterations (200) reached and the optimization hasn't converged yet.\n",
      "  warnings.warn(\n",
      "C:\\Users\\omerm\\anaconda3\\envs\\PythonProjeleri\\lib\\site-packages\\sklearn\\neural_network\\_multilayer_perceptron.py:582: ConvergenceWarning: Stochastic Optimizer: Maximum iterations (200) reached and the optimization hasn't converged yet.\n",
      "  warnings.warn(\n",
      "C:\\Users\\omerm\\anaconda3\\envs\\PythonProjeleri\\lib\\site-packages\\sklearn\\neural_network\\_multilayer_perceptron.py:582: ConvergenceWarning: Stochastic Optimizer: Maximum iterations (200) reached and the optimization hasn't converged yet.\n",
      "  warnings.warn(\n",
      "C:\\Users\\omerm\\anaconda3\\envs\\PythonProjeleri\\lib\\site-packages\\sklearn\\neural_network\\_multilayer_perceptron.py:582: ConvergenceWarning: Stochastic Optimizer: Maximum iterations (200) reached and the optimization hasn't converged yet.\n",
      "  warnings.warn(\n",
      "C:\\Users\\omerm\\anaconda3\\envs\\PythonProjeleri\\lib\\site-packages\\sklearn\\neural_network\\_multilayer_perceptron.py:582: ConvergenceWarning: Stochastic Optimizer: Maximum iterations (200) reached and the optimization hasn't converged yet.\n",
      "  warnings.warn(\n",
      "C:\\Users\\omerm\\anaconda3\\envs\\PythonProjeleri\\lib\\site-packages\\sklearn\\neural_network\\_multilayer_perceptron.py:582: ConvergenceWarning: Stochastic Optimizer: Maximum iterations (200) reached and the optimization hasn't converged yet.\n",
      "  warnings.warn(\n",
      "C:\\Users\\omerm\\anaconda3\\envs\\PythonProjeleri\\lib\\site-packages\\sklearn\\neural_network\\_multilayer_perceptron.py:582: ConvergenceWarning: Stochastic Optimizer: Maximum iterations (200) reached and the optimization hasn't converged yet.\n",
      "  warnings.warn(\n",
      "C:\\Users\\omerm\\anaconda3\\envs\\PythonProjeleri\\lib\\site-packages\\sklearn\\neural_network\\_multilayer_perceptron.py:582: ConvergenceWarning: Stochastic Optimizer: Maximum iterations (200) reached and the optimization hasn't converged yet.\n",
      "  warnings.warn(\n",
      "C:\\Users\\omerm\\anaconda3\\envs\\PythonProjeleri\\lib\\site-packages\\sklearn\\neural_network\\_multilayer_perceptron.py:582: ConvergenceWarning: Stochastic Optimizer: Maximum iterations (200) reached and the optimization hasn't converged yet.\n",
      "  warnings.warn(\n",
      "C:\\Users\\omerm\\anaconda3\\envs\\PythonProjeleri\\lib\\site-packages\\sklearn\\neural_network\\_multilayer_perceptron.py:582: ConvergenceWarning: Stochastic Optimizer: Maximum iterations (200) reached and the optimization hasn't converged yet.\n",
      "  warnings.warn(\n",
      "C:\\Users\\omerm\\anaconda3\\envs\\PythonProjeleri\\lib\\site-packages\\sklearn\\neural_network\\_multilayer_perceptron.py:582: ConvergenceWarning: Stochastic Optimizer: Maximum iterations (200) reached and the optimization hasn't converged yet.\n",
      "  warnings.warn(\n",
      "C:\\Users\\omerm\\anaconda3\\envs\\PythonProjeleri\\lib\\site-packages\\sklearn\\neural_network\\_multilayer_perceptron.py:582: ConvergenceWarning: Stochastic Optimizer: Maximum iterations (200) reached and the optimization hasn't converged yet.\n",
      "  warnings.warn(\n",
      "C:\\Users\\omerm\\anaconda3\\envs\\PythonProjeleri\\lib\\site-packages\\sklearn\\neural_network\\_multilayer_perceptron.py:582: ConvergenceWarning: Stochastic Optimizer: Maximum iterations (200) reached and the optimization hasn't converged yet.\n",
      "  warnings.warn(\n",
      "C:\\Users\\omerm\\anaconda3\\envs\\PythonProjeleri\\lib\\site-packages\\sklearn\\neural_network\\_multilayer_perceptron.py:582: ConvergenceWarning: Stochastic Optimizer: Maximum iterations (200) reached and the optimization hasn't converged yet.\n",
      "  warnings.warn(\n",
      "C:\\Users\\omerm\\anaconda3\\envs\\PythonProjeleri\\lib\\site-packages\\sklearn\\neural_network\\_multilayer_perceptron.py:582: ConvergenceWarning: Stochastic Optimizer: Maximum iterations (200) reached and the optimization hasn't converged yet.\n",
      "  warnings.warn(\n",
      "C:\\Users\\omerm\\anaconda3\\envs\\PythonProjeleri\\lib\\site-packages\\sklearn\\neural_network\\_multilayer_perceptron.py:582: ConvergenceWarning: Stochastic Optimizer: Maximum iterations (200) reached and the optimization hasn't converged yet.\n",
      "  warnings.warn(\n",
      "C:\\Users\\omerm\\anaconda3\\envs\\PythonProjeleri\\lib\\site-packages\\sklearn\\neural_network\\_multilayer_perceptron.py:582: ConvergenceWarning: Stochastic Optimizer: Maximum iterations (200) reached and the optimization hasn't converged yet.\n",
      "  warnings.warn(\n",
      "C:\\Users\\omerm\\anaconda3\\envs\\PythonProjeleri\\lib\\site-packages\\sklearn\\neural_network\\_multilayer_perceptron.py:582: ConvergenceWarning: Stochastic Optimizer: Maximum iterations (200) reached and the optimization hasn't converged yet.\n",
      "  warnings.warn(\n",
      "C:\\Users\\omerm\\anaconda3\\envs\\PythonProjeleri\\lib\\site-packages\\sklearn\\neural_network\\_multilayer_perceptron.py:582: ConvergenceWarning: Stochastic Optimizer: Maximum iterations (200) reached and the optimization hasn't converged yet.\n",
      "  warnings.warn(\n",
      "C:\\Users\\omerm\\anaconda3\\envs\\PythonProjeleri\\lib\\site-packages\\sklearn\\neural_network\\_multilayer_perceptron.py:582: ConvergenceWarning: Stochastic Optimizer: Maximum iterations (200) reached and the optimization hasn't converged yet.\n",
      "  warnings.warn(\n",
      "C:\\Users\\omerm\\anaconda3\\envs\\PythonProjeleri\\lib\\site-packages\\sklearn\\neural_network\\_multilayer_perceptron.py:582: ConvergenceWarning: Stochastic Optimizer: Maximum iterations (200) reached and the optimization hasn't converged yet.\n",
      "  warnings.warn(\n",
      "C:\\Users\\omerm\\anaconda3\\envs\\PythonProjeleri\\lib\\site-packages\\sklearn\\neural_network\\_multilayer_perceptron.py:582: ConvergenceWarning: Stochastic Optimizer: Maximum iterations (200) reached and the optimization hasn't converged yet.\n",
      "  warnings.warn(\n",
      "C:\\Users\\omerm\\anaconda3\\envs\\PythonProjeleri\\lib\\site-packages\\sklearn\\neural_network\\_multilayer_perceptron.py:582: ConvergenceWarning: Stochastic Optimizer: Maximum iterations (200) reached and the optimization hasn't converged yet.\n",
      "  warnings.warn(\n",
      "C:\\Users\\omerm\\anaconda3\\envs\\PythonProjeleri\\lib\\site-packages\\sklearn\\neural_network\\_multilayer_perceptron.py:582: ConvergenceWarning: Stochastic Optimizer: Maximum iterations (200) reached and the optimization hasn't converged yet.\n",
      "  warnings.warn(\n",
      "C:\\Users\\omerm\\anaconda3\\envs\\PythonProjeleri\\lib\\site-packages\\sklearn\\neural_network\\_multilayer_perceptron.py:582: ConvergenceWarning: Stochastic Optimizer: Maximum iterations (200) reached and the optimization hasn't converged yet.\n",
      "  warnings.warn(\n",
      "C:\\Users\\omerm\\anaconda3\\envs\\PythonProjeleri\\lib\\site-packages\\sklearn\\neural_network\\_multilayer_perceptron.py:582: ConvergenceWarning: Stochastic Optimizer: Maximum iterations (200) reached and the optimization hasn't converged yet.\n",
      "  warnings.warn(\n",
      "C:\\Users\\omerm\\anaconda3\\envs\\PythonProjeleri\\lib\\site-packages\\sklearn\\neural_network\\_multilayer_perceptron.py:582: ConvergenceWarning: Stochastic Optimizer: Maximum iterations (200) reached and the optimization hasn't converged yet.\n",
      "  warnings.warn(\n",
      "C:\\Users\\omerm\\anaconda3\\envs\\PythonProjeleri\\lib\\site-packages\\sklearn\\neural_network\\_multilayer_perceptron.py:582: ConvergenceWarning: Stochastic Optimizer: Maximum iterations (200) reached and the optimization hasn't converged yet.\n",
      "  warnings.warn(\n",
      "C:\\Users\\omerm\\anaconda3\\envs\\PythonProjeleri\\lib\\site-packages\\sklearn\\neural_network\\_multilayer_perceptron.py:582: ConvergenceWarning: Stochastic Optimizer: Maximum iterations (200) reached and the optimization hasn't converged yet.\n",
      "  warnings.warn(\n",
      "C:\\Users\\omerm\\anaconda3\\envs\\PythonProjeleri\\lib\\site-packages\\sklearn\\neural_network\\_multilayer_perceptron.py:582: ConvergenceWarning: Stochastic Optimizer: Maximum iterations (200) reached and the optimization hasn't converged yet.\n",
      "  warnings.warn(\n",
      "C:\\Users\\omerm\\anaconda3\\envs\\PythonProjeleri\\lib\\site-packages\\sklearn\\neural_network\\_multilayer_perceptron.py:582: ConvergenceWarning: Stochastic Optimizer: Maximum iterations (200) reached and the optimization hasn't converged yet.\n",
      "  warnings.warn(\n",
      "C:\\Users\\omerm\\anaconda3\\envs\\PythonProjeleri\\lib\\site-packages\\sklearn\\neural_network\\_multilayer_perceptron.py:582: ConvergenceWarning: Stochastic Optimizer: Maximum iterations (200) reached and the optimization hasn't converged yet.\n",
      "  warnings.warn(\n",
      "C:\\Users\\omerm\\anaconda3\\envs\\PythonProjeleri\\lib\\site-packages\\sklearn\\neural_network\\_multilayer_perceptron.py:582: ConvergenceWarning: Stochastic Optimizer: Maximum iterations (200) reached and the optimization hasn't converged yet.\n",
      "  warnings.warn(\n",
      "C:\\Users\\omerm\\anaconda3\\envs\\PythonProjeleri\\lib\\site-packages\\sklearn\\neural_network\\_multilayer_perceptron.py:582: ConvergenceWarning: Stochastic Optimizer: Maximum iterations (200) reached and the optimization hasn't converged yet.\n",
      "  warnings.warn(\n",
      "C:\\Users\\omerm\\anaconda3\\envs\\PythonProjeleri\\lib\\site-packages\\sklearn\\neural_network\\_multilayer_perceptron.py:582: ConvergenceWarning: Stochastic Optimizer: Maximum iterations (200) reached and the optimization hasn't converged yet.\n",
      "  warnings.warn(\n",
      "C:\\Users\\omerm\\anaconda3\\envs\\PythonProjeleri\\lib\\site-packages\\sklearn\\neural_network\\_multilayer_perceptron.py:582: ConvergenceWarning: Stochastic Optimizer: Maximum iterations (200) reached and the optimization hasn't converged yet.\n",
      "  warnings.warn(\n",
      "C:\\Users\\omerm\\anaconda3\\envs\\PythonProjeleri\\lib\\site-packages\\sklearn\\neural_network\\_multilayer_perceptron.py:582: ConvergenceWarning: Stochastic Optimizer: Maximum iterations (200) reached and the optimization hasn't converged yet.\n",
      "  warnings.warn(\n",
      "C:\\Users\\omerm\\anaconda3\\envs\\PythonProjeleri\\lib\\site-packages\\sklearn\\neural_network\\_multilayer_perceptron.py:582: ConvergenceWarning: Stochastic Optimizer: Maximum iterations (200) reached and the optimization hasn't converged yet.\n",
      "  warnings.warn(\n",
      "C:\\Users\\omerm\\anaconda3\\envs\\PythonProjeleri\\lib\\site-packages\\sklearn\\neural_network\\_multilayer_perceptron.py:582: ConvergenceWarning: Stochastic Optimizer: Maximum iterations (200) reached and the optimization hasn't converged yet.\n",
      "  warnings.warn(\n",
      "C:\\Users\\omerm\\anaconda3\\envs\\PythonProjeleri\\lib\\site-packages\\sklearn\\neural_network\\_multilayer_perceptron.py:582: ConvergenceWarning: Stochastic Optimizer: Maximum iterations (200) reached and the optimization hasn't converged yet.\n",
      "  warnings.warn(\n",
      "C:\\Users\\omerm\\anaconda3\\envs\\PythonProjeleri\\lib\\site-packages\\sklearn\\neural_network\\_multilayer_perceptron.py:582: ConvergenceWarning: Stochastic Optimizer: Maximum iterations (200) reached and the optimization hasn't converged yet.\n",
      "  warnings.warn(\n",
      "C:\\Users\\omerm\\anaconda3\\envs\\PythonProjeleri\\lib\\site-packages\\sklearn\\neural_network\\_multilayer_perceptron.py:582: ConvergenceWarning: Stochastic Optimizer: Maximum iterations (200) reached and the optimization hasn't converged yet.\n",
      "  warnings.warn(\n",
      "C:\\Users\\omerm\\anaconda3\\envs\\PythonProjeleri\\lib\\site-packages\\sklearn\\neural_network\\_multilayer_perceptron.py:582: ConvergenceWarning: Stochastic Optimizer: Maximum iterations (200) reached and the optimization hasn't converged yet.\n",
      "  warnings.warn(\n",
      "C:\\Users\\omerm\\anaconda3\\envs\\PythonProjeleri\\lib\\site-packages\\sklearn\\neural_network\\_multilayer_perceptron.py:582: ConvergenceWarning: Stochastic Optimizer: Maximum iterations (200) reached and the optimization hasn't converged yet.\n",
      "  warnings.warn(\n",
      "C:\\Users\\omerm\\anaconda3\\envs\\PythonProjeleri\\lib\\site-packages\\sklearn\\neural_network\\_multilayer_perceptron.py:582: ConvergenceWarning: Stochastic Optimizer: Maximum iterations (200) reached and the optimization hasn't converged yet.\n",
      "  warnings.warn(\n",
      "C:\\Users\\omerm\\anaconda3\\envs\\PythonProjeleri\\lib\\site-packages\\sklearn\\neural_network\\_multilayer_perceptron.py:582: ConvergenceWarning: Stochastic Optimizer: Maximum iterations (200) reached and the optimization hasn't converged yet.\n",
      "  warnings.warn(\n",
      "C:\\Users\\omerm\\anaconda3\\envs\\PythonProjeleri\\lib\\site-packages\\sklearn\\neural_network\\_multilayer_perceptron.py:582: ConvergenceWarning: Stochastic Optimizer: Maximum iterations (200) reached and the optimization hasn't converged yet.\n",
      "  warnings.warn(\n",
      "C:\\Users\\omerm\\anaconda3\\envs\\PythonProjeleri\\lib\\site-packages\\sklearn\\neural_network\\_multilayer_perceptron.py:582: ConvergenceWarning: Stochastic Optimizer: Maximum iterations (200) reached and the optimization hasn't converged yet.\n",
      "  warnings.warn(\n",
      "C:\\Users\\omerm\\anaconda3\\envs\\PythonProjeleri\\lib\\site-packages\\sklearn\\neural_network\\_multilayer_perceptron.py:582: ConvergenceWarning: Stochastic Optimizer: Maximum iterations (200) reached and the optimization hasn't converged yet.\n",
      "  warnings.warn(\n",
      "C:\\Users\\omerm\\anaconda3\\envs\\PythonProjeleri\\lib\\site-packages\\sklearn\\neural_network\\_multilayer_perceptron.py:582: ConvergenceWarning: Stochastic Optimizer: Maximum iterations (200) reached and the optimization hasn't converged yet.\n",
      "  warnings.warn(\n",
      "C:\\Users\\omerm\\anaconda3\\envs\\PythonProjeleri\\lib\\site-packages\\sklearn\\neural_network\\_multilayer_perceptron.py:582: ConvergenceWarning: Stochastic Optimizer: Maximum iterations (200) reached and the optimization hasn't converged yet.\n",
      "  warnings.warn(\n",
      "C:\\Users\\omerm\\anaconda3\\envs\\PythonProjeleri\\lib\\site-packages\\sklearn\\neural_network\\_multilayer_perceptron.py:582: ConvergenceWarning: Stochastic Optimizer: Maximum iterations (200) reached and the optimization hasn't converged yet.\n",
      "  warnings.warn(\n",
      "C:\\Users\\omerm\\anaconda3\\envs\\PythonProjeleri\\lib\\site-packages\\sklearn\\neural_network\\_multilayer_perceptron.py:582: ConvergenceWarning: Stochastic Optimizer: Maximum iterations (200) reached and the optimization hasn't converged yet.\n",
      "  warnings.warn(\n",
      "C:\\Users\\omerm\\anaconda3\\envs\\PythonProjeleri\\lib\\site-packages\\sklearn\\neural_network\\_multilayer_perceptron.py:582: ConvergenceWarning: Stochastic Optimizer: Maximum iterations (200) reached and the optimization hasn't converged yet.\n",
      "  warnings.warn(\n",
      "C:\\Users\\omerm\\anaconda3\\envs\\PythonProjeleri\\lib\\site-packages\\sklearn\\neural_network\\_multilayer_perceptron.py:582: ConvergenceWarning: Stochastic Optimizer: Maximum iterations (200) reached and the optimization hasn't converged yet.\n",
      "  warnings.warn(\n",
      "C:\\Users\\omerm\\anaconda3\\envs\\PythonProjeleri\\lib\\site-packages\\sklearn\\neural_network\\_multilayer_perceptron.py:582: ConvergenceWarning: Stochastic Optimizer: Maximum iterations (200) reached and the optimization hasn't converged yet.\n",
      "  warnings.warn(\n",
      "C:\\Users\\omerm\\anaconda3\\envs\\PythonProjeleri\\lib\\site-packages\\sklearn\\neural_network\\_multilayer_perceptron.py:582: ConvergenceWarning: Stochastic Optimizer: Maximum iterations (200) reached and the optimization hasn't converged yet.\n",
      "  warnings.warn(\n",
      "C:\\Users\\omerm\\anaconda3\\envs\\PythonProjeleri\\lib\\site-packages\\sklearn\\neural_network\\_multilayer_perceptron.py:582: ConvergenceWarning: Stochastic Optimizer: Maximum iterations (200) reached and the optimization hasn't converged yet.\n",
      "  warnings.warn(\n",
      "C:\\Users\\omerm\\anaconda3\\envs\\PythonProjeleri\\lib\\site-packages\\sklearn\\neural_network\\_multilayer_perceptron.py:582: ConvergenceWarning: Stochastic Optimizer: Maximum iterations (200) reached and the optimization hasn't converged yet.\n",
      "  warnings.warn(\n",
      "C:\\Users\\omerm\\anaconda3\\envs\\PythonProjeleri\\lib\\site-packages\\sklearn\\neural_network\\_multilayer_perceptron.py:582: ConvergenceWarning: Stochastic Optimizer: Maximum iterations (200) reached and the optimization hasn't converged yet.\n",
      "  warnings.warn(\n",
      "C:\\Users\\omerm\\anaconda3\\envs\\PythonProjeleri\\lib\\site-packages\\sklearn\\neural_network\\_multilayer_perceptron.py:582: ConvergenceWarning: Stochastic Optimizer: Maximum iterations (200) reached and the optimization hasn't converged yet.\n",
      "  warnings.warn(\n",
      "C:\\Users\\omerm\\anaconda3\\envs\\PythonProjeleri\\lib\\site-packages\\sklearn\\neural_network\\_multilayer_perceptron.py:582: ConvergenceWarning: Stochastic Optimizer: Maximum iterations (200) reached and the optimization hasn't converged yet.\n",
      "  warnings.warn(\n",
      "C:\\Users\\omerm\\anaconda3\\envs\\PythonProjeleri\\lib\\site-packages\\sklearn\\neural_network\\_multilayer_perceptron.py:582: ConvergenceWarning: Stochastic Optimizer: Maximum iterations (200) reached and the optimization hasn't converged yet.\n",
      "  warnings.warn(\n",
      "C:\\Users\\omerm\\anaconda3\\envs\\PythonProjeleri\\lib\\site-packages\\sklearn\\neural_network\\_multilayer_perceptron.py:582: ConvergenceWarning: Stochastic Optimizer: Maximum iterations (200) reached and the optimization hasn't converged yet.\n",
      "  warnings.warn(\n",
      "C:\\Users\\omerm\\anaconda3\\envs\\PythonProjeleri\\lib\\site-packages\\sklearn\\neural_network\\_multilayer_perceptron.py:582: ConvergenceWarning: Stochastic Optimizer: Maximum iterations (200) reached and the optimization hasn't converged yet.\n",
      "  warnings.warn(\n",
      "C:\\Users\\omerm\\anaconda3\\envs\\PythonProjeleri\\lib\\site-packages\\sklearn\\neural_network\\_multilayer_perceptron.py:582: ConvergenceWarning: Stochastic Optimizer: Maximum iterations (200) reached and the optimization hasn't converged yet.\n",
      "  warnings.warn(\n",
      "C:\\Users\\omerm\\anaconda3\\envs\\PythonProjeleri\\lib\\site-packages\\sklearn\\neural_network\\_multilayer_perceptron.py:582: ConvergenceWarning: Stochastic Optimizer: Maximum iterations (200) reached and the optimization hasn't converged yet.\n",
      "  warnings.warn(\n",
      "C:\\Users\\omerm\\anaconda3\\envs\\PythonProjeleri\\lib\\site-packages\\sklearn\\neural_network\\_multilayer_perceptron.py:582: ConvergenceWarning: Stochastic Optimizer: Maximum iterations (200) reached and the optimization hasn't converged yet.\n",
      "  warnings.warn(\n",
      "C:\\Users\\omerm\\anaconda3\\envs\\PythonProjeleri\\lib\\site-packages\\sklearn\\neural_network\\_multilayer_perceptron.py:582: ConvergenceWarning: Stochastic Optimizer: Maximum iterations (200) reached and the optimization hasn't converged yet.\n",
      "  warnings.warn(\n",
      "C:\\Users\\omerm\\anaconda3\\envs\\PythonProjeleri\\lib\\site-packages\\sklearn\\neural_network\\_multilayer_perceptron.py:582: ConvergenceWarning: Stochastic Optimizer: Maximum iterations (200) reached and the optimization hasn't converged yet.\n",
      "  warnings.warn(\n",
      "C:\\Users\\omerm\\anaconda3\\envs\\PythonProjeleri\\lib\\site-packages\\sklearn\\neural_network\\_multilayer_perceptron.py:582: ConvergenceWarning: Stochastic Optimizer: Maximum iterations (200) reached and the optimization hasn't converged yet.\n",
      "  warnings.warn(\n",
      "C:\\Users\\omerm\\anaconda3\\envs\\PythonProjeleri\\lib\\site-packages\\sklearn\\neural_network\\_multilayer_perceptron.py:582: ConvergenceWarning: Stochastic Optimizer: Maximum iterations (200) reached and the optimization hasn't converged yet.\n",
      "  warnings.warn(\n",
      "C:\\Users\\omerm\\anaconda3\\envs\\PythonProjeleri\\lib\\site-packages\\sklearn\\neural_network\\_multilayer_perceptron.py:582: ConvergenceWarning: Stochastic Optimizer: Maximum iterations (200) reached and the optimization hasn't converged yet.\n",
      "  warnings.warn(\n",
      "C:\\Users\\omerm\\anaconda3\\envs\\PythonProjeleri\\lib\\site-packages\\sklearn\\neural_network\\_multilayer_perceptron.py:582: ConvergenceWarning: Stochastic Optimizer: Maximum iterations (200) reached and the optimization hasn't converged yet.\n",
      "  warnings.warn(\n",
      "C:\\Users\\omerm\\anaconda3\\envs\\PythonProjeleri\\lib\\site-packages\\sklearn\\neural_network\\_multilayer_perceptron.py:582: ConvergenceWarning: Stochastic Optimizer: Maximum iterations (200) reached and the optimization hasn't converged yet.\n",
      "  warnings.warn(\n",
      "C:\\Users\\omerm\\anaconda3\\envs\\PythonProjeleri\\lib\\site-packages\\sklearn\\neural_network\\_multilayer_perceptron.py:582: ConvergenceWarning: Stochastic Optimizer: Maximum iterations (200) reached and the optimization hasn't converged yet.\n",
      "  warnings.warn(\n",
      "C:\\Users\\omerm\\anaconda3\\envs\\PythonProjeleri\\lib\\site-packages\\sklearn\\neural_network\\_multilayer_perceptron.py:582: ConvergenceWarning: Stochastic Optimizer: Maximum iterations (200) reached and the optimization hasn't converged yet.\n",
      "  warnings.warn(\n",
      "C:\\Users\\omerm\\anaconda3\\envs\\PythonProjeleri\\lib\\site-packages\\sklearn\\neural_network\\_multilayer_perceptron.py:582: ConvergenceWarning: Stochastic Optimizer: Maximum iterations (200) reached and the optimization hasn't converged yet.\n",
      "  warnings.warn(\n",
      "C:\\Users\\omerm\\anaconda3\\envs\\PythonProjeleri\\lib\\site-packages\\sklearn\\neural_network\\_multilayer_perceptron.py:582: ConvergenceWarning: Stochastic Optimizer: Maximum iterations (200) reached and the optimization hasn't converged yet.\n",
      "  warnings.warn(\n",
      "C:\\Users\\omerm\\anaconda3\\envs\\PythonProjeleri\\lib\\site-packages\\sklearn\\neural_network\\_multilayer_perceptron.py:582: ConvergenceWarning: Stochastic Optimizer: Maximum iterations (200) reached and the optimization hasn't converged yet.\n",
      "  warnings.warn(\n",
      "C:\\Users\\omerm\\anaconda3\\envs\\PythonProjeleri\\lib\\site-packages\\sklearn\\neural_network\\_multilayer_perceptron.py:582: ConvergenceWarning: Stochastic Optimizer: Maximum iterations (200) reached and the optimization hasn't converged yet.\n",
      "  warnings.warn(\n",
      "C:\\Users\\omerm\\anaconda3\\envs\\PythonProjeleri\\lib\\site-packages\\sklearn\\neural_network\\_multilayer_perceptron.py:582: ConvergenceWarning: Stochastic Optimizer: Maximum iterations (200) reached and the optimization hasn't converged yet.\n",
      "  warnings.warn(\n",
      "C:\\Users\\omerm\\anaconda3\\envs\\PythonProjeleri\\lib\\site-packages\\sklearn\\neural_network\\_multilayer_perceptron.py:582: ConvergenceWarning: Stochastic Optimizer: Maximum iterations (200) reached and the optimization hasn't converged yet.\n",
      "  warnings.warn(\n",
      "C:\\Users\\omerm\\anaconda3\\envs\\PythonProjeleri\\lib\\site-packages\\sklearn\\neural_network\\_multilayer_perceptron.py:582: ConvergenceWarning: Stochastic Optimizer: Maximum iterations (200) reached and the optimization hasn't converged yet.\n",
      "  warnings.warn(\n",
      "C:\\Users\\omerm\\anaconda3\\envs\\PythonProjeleri\\lib\\site-packages\\sklearn\\neural_network\\_multilayer_perceptron.py:582: ConvergenceWarning: Stochastic Optimizer: Maximum iterations (200) reached and the optimization hasn't converged yet.\n",
      "  warnings.warn(\n",
      "C:\\Users\\omerm\\anaconda3\\envs\\PythonProjeleri\\lib\\site-packages\\sklearn\\neural_network\\_multilayer_perceptron.py:582: ConvergenceWarning: Stochastic Optimizer: Maximum iterations (200) reached and the optimization hasn't converged yet.\n",
      "  warnings.warn(\n",
      "C:\\Users\\omerm\\anaconda3\\envs\\PythonProjeleri\\lib\\site-packages\\sklearn\\neural_network\\_multilayer_perceptron.py:582: ConvergenceWarning: Stochastic Optimizer: Maximum iterations (200) reached and the optimization hasn't converged yet.\n",
      "  warnings.warn(\n",
      "C:\\Users\\omerm\\anaconda3\\envs\\PythonProjeleri\\lib\\site-packages\\sklearn\\neural_network\\_multilayer_perceptron.py:582: ConvergenceWarning: Stochastic Optimizer: Maximum iterations (200) reached and the optimization hasn't converged yet.\n",
      "  warnings.warn(\n",
      "C:\\Users\\omerm\\anaconda3\\envs\\PythonProjeleri\\lib\\site-packages\\sklearn\\neural_network\\_multilayer_perceptron.py:582: ConvergenceWarning: Stochastic Optimizer: Maximum iterations (200) reached and the optimization hasn't converged yet.\n",
      "  warnings.warn(\n",
      "C:\\Users\\omerm\\anaconda3\\envs\\PythonProjeleri\\lib\\site-packages\\sklearn\\neural_network\\_multilayer_perceptron.py:582: ConvergenceWarning: Stochastic Optimizer: Maximum iterations (200) reached and the optimization hasn't converged yet.\n",
      "  warnings.warn(\n",
      "C:\\Users\\omerm\\anaconda3\\envs\\PythonProjeleri\\lib\\site-packages\\sklearn\\neural_network\\_multilayer_perceptron.py:582: ConvergenceWarning: Stochastic Optimizer: Maximum iterations (200) reached and the optimization hasn't converged yet.\n",
      "  warnings.warn(\n",
      "C:\\Users\\omerm\\anaconda3\\envs\\PythonProjeleri\\lib\\site-packages\\sklearn\\neural_network\\_multilayer_perceptron.py:582: ConvergenceWarning: Stochastic Optimizer: Maximum iterations (200) reached and the optimization hasn't converged yet.\n",
      "  warnings.warn(\n",
      "C:\\Users\\omerm\\anaconda3\\envs\\PythonProjeleri\\lib\\site-packages\\sklearn\\neural_network\\_multilayer_perceptron.py:582: ConvergenceWarning: Stochastic Optimizer: Maximum iterations (200) reached and the optimization hasn't converged yet.\n",
      "  warnings.warn(\n",
      "C:\\Users\\omerm\\anaconda3\\envs\\PythonProjeleri\\lib\\site-packages\\sklearn\\neural_network\\_multilayer_perceptron.py:582: ConvergenceWarning: Stochastic Optimizer: Maximum iterations (200) reached and the optimization hasn't converged yet.\n",
      "  warnings.warn(\n",
      "C:\\Users\\omerm\\anaconda3\\envs\\PythonProjeleri\\lib\\site-packages\\sklearn\\neural_network\\_multilayer_perceptron.py:582: ConvergenceWarning: Stochastic Optimizer: Maximum iterations (200) reached and the optimization hasn't converged yet.\n",
      "  warnings.warn(\n",
      "C:\\Users\\omerm\\anaconda3\\envs\\PythonProjeleri\\lib\\site-packages\\sklearn\\neural_network\\_multilayer_perceptron.py:582: ConvergenceWarning: Stochastic Optimizer: Maximum iterations (200) reached and the optimization hasn't converged yet.\n",
      "  warnings.warn(\n",
      "C:\\Users\\omerm\\anaconda3\\envs\\PythonProjeleri\\lib\\site-packages\\sklearn\\neural_network\\_multilayer_perceptron.py:582: ConvergenceWarning: Stochastic Optimizer: Maximum iterations (200) reached and the optimization hasn't converged yet.\n",
      "  warnings.warn(\n",
      "C:\\Users\\omerm\\anaconda3\\envs\\PythonProjeleri\\lib\\site-packages\\sklearn\\neural_network\\_multilayer_perceptron.py:582: ConvergenceWarning: Stochastic Optimizer: Maximum iterations (200) reached and the optimization hasn't converged yet.\n",
      "  warnings.warn(\n",
      "C:\\Users\\omerm\\anaconda3\\envs\\PythonProjeleri\\lib\\site-packages\\sklearn\\neural_network\\_multilayer_perceptron.py:582: ConvergenceWarning: Stochastic Optimizer: Maximum iterations (200) reached and the optimization hasn't converged yet.\n",
      "  warnings.warn(\n",
      "C:\\Users\\omerm\\anaconda3\\envs\\PythonProjeleri\\lib\\site-packages\\sklearn\\neural_network\\_multilayer_perceptron.py:582: ConvergenceWarning: Stochastic Optimizer: Maximum iterations (200) reached and the optimization hasn't converged yet.\n",
      "  warnings.warn(\n",
      "C:\\Users\\omerm\\anaconda3\\envs\\PythonProjeleri\\lib\\site-packages\\sklearn\\neural_network\\_multilayer_perceptron.py:582: ConvergenceWarning: Stochastic Optimizer: Maximum iterations (200) reached and the optimization hasn't converged yet.\n",
      "  warnings.warn(\n",
      "C:\\Users\\omerm\\anaconda3\\envs\\PythonProjeleri\\lib\\site-packages\\sklearn\\neural_network\\_multilayer_perceptron.py:582: ConvergenceWarning: Stochastic Optimizer: Maximum iterations (200) reached and the optimization hasn't converged yet.\n",
      "  warnings.warn(\n",
      "C:\\Users\\omerm\\anaconda3\\envs\\PythonProjeleri\\lib\\site-packages\\sklearn\\neural_network\\_multilayer_perceptron.py:582: ConvergenceWarning: Stochastic Optimizer: Maximum iterations (200) reached and the optimization hasn't converged yet.\n",
      "  warnings.warn(\n",
      "C:\\Users\\omerm\\anaconda3\\envs\\PythonProjeleri\\lib\\site-packages\\sklearn\\neural_network\\_multilayer_perceptron.py:582: ConvergenceWarning: Stochastic Optimizer: Maximum iterations (200) reached and the optimization hasn't converged yet.\n",
      "  warnings.warn(\n",
      "C:\\Users\\omerm\\anaconda3\\envs\\PythonProjeleri\\lib\\site-packages\\sklearn\\neural_network\\_multilayer_perceptron.py:582: ConvergenceWarning: Stochastic Optimizer: Maximum iterations (200) reached and the optimization hasn't converged yet.\n",
      "  warnings.warn(\n",
      "C:\\Users\\omerm\\anaconda3\\envs\\PythonProjeleri\\lib\\site-packages\\sklearn\\neural_network\\_multilayer_perceptron.py:582: ConvergenceWarning: Stochastic Optimizer: Maximum iterations (200) reached and the optimization hasn't converged yet.\n",
      "  warnings.warn(\n",
      "C:\\Users\\omerm\\anaconda3\\envs\\PythonProjeleri\\lib\\site-packages\\sklearn\\neural_network\\_multilayer_perceptron.py:582: ConvergenceWarning: Stochastic Optimizer: Maximum iterations (200) reached and the optimization hasn't converged yet.\n",
      "  warnings.warn(\n",
      "C:\\Users\\omerm\\anaconda3\\envs\\PythonProjeleri\\lib\\site-packages\\sklearn\\neural_network\\_multilayer_perceptron.py:582: ConvergenceWarning: Stochastic Optimizer: Maximum iterations (200) reached and the optimization hasn't converged yet.\n",
      "  warnings.warn(\n",
      "C:\\Users\\omerm\\anaconda3\\envs\\PythonProjeleri\\lib\\site-packages\\sklearn\\neural_network\\_multilayer_perceptron.py:582: ConvergenceWarning: Stochastic Optimizer: Maximum iterations (200) reached and the optimization hasn't converged yet.\n",
      "  warnings.warn(\n",
      "C:\\Users\\omerm\\anaconda3\\envs\\PythonProjeleri\\lib\\site-packages\\sklearn\\neural_network\\_multilayer_perceptron.py:582: ConvergenceWarning: Stochastic Optimizer: Maximum iterations (200) reached and the optimization hasn't converged yet.\n",
      "  warnings.warn(\n",
      "C:\\Users\\omerm\\anaconda3\\envs\\PythonProjeleri\\lib\\site-packages\\sklearn\\neural_network\\_multilayer_perceptron.py:582: ConvergenceWarning: Stochastic Optimizer: Maximum iterations (200) reached and the optimization hasn't converged yet.\n",
      "  warnings.warn(\n",
      "C:\\Users\\omerm\\anaconda3\\envs\\PythonProjeleri\\lib\\site-packages\\sklearn\\neural_network\\_multilayer_perceptron.py:582: ConvergenceWarning: Stochastic Optimizer: Maximum iterations (200) reached and the optimization hasn't converged yet.\n",
      "  warnings.warn(\n",
      "C:\\Users\\omerm\\anaconda3\\envs\\PythonProjeleri\\lib\\site-packages\\sklearn\\neural_network\\_multilayer_perceptron.py:582: ConvergenceWarning: Stochastic Optimizer: Maximum iterations (200) reached and the optimization hasn't converged yet.\n",
      "  warnings.warn(\n",
      "C:\\Users\\omerm\\anaconda3\\envs\\PythonProjeleri\\lib\\site-packages\\sklearn\\neural_network\\_multilayer_perceptron.py:582: ConvergenceWarning: Stochastic Optimizer: Maximum iterations (200) reached and the optimization hasn't converged yet.\n",
      "  warnings.warn(\n",
      "C:\\Users\\omerm\\anaconda3\\envs\\PythonProjeleri\\lib\\site-packages\\sklearn\\neural_network\\_multilayer_perceptron.py:582: ConvergenceWarning: Stochastic Optimizer: Maximum iterations (200) reached and the optimization hasn't converged yet.\n",
      "  warnings.warn(\n"
     ]
    }
   ],
   "source": [
    "mlp_params={\"alpha\":[0.1,0.01,0.02,0.005],\"hidden_layer_sizes\":[(20,20),(100,50,150),(300,200,150)],\n",
    "            \"activation\":[\"relu\",\"logistic\"],\"tol\":[0.0001]}\n",
    "mlp_cv_model=GridSearchCV(mlp_model,param_grid=mlp_params,cv=10).fit(x_train_scaled,y_train)"
   ]
  },
  {
   "cell_type": "code",
   "execution_count": 164,
   "metadata": {},
   "outputs": [
    {
     "data": {
      "text/plain": [
       "1.9146967878542798"
      ]
     },
     "execution_count": 164,
     "metadata": {},
     "output_type": "execute_result"
    }
   ],
   "source": [
    "np.sqrt(mean_squared_error(y_test,mlp_cv_model.predict(x_test_scaled)))"
   ]
  },
  {
   "cell_type": "code",
   "execution_count": null,
   "metadata": {},
   "outputs": [],
   "source": []
  }
 ],
 "metadata": {
  "kernelspec": {
   "display_name": "Python 3",
   "language": "python",
   "name": "python3"
  },
  "language_info": {
   "codemirror_mode": {
    "name": "ipython",
    "version": 3
   },
   "file_extension": ".py",
   "mimetype": "text/x-python",
   "name": "python",
   "nbconvert_exporter": "python",
   "pygments_lexer": "ipython3",
   "version": "3.8.5"
  }
 },
 "nbformat": 4,
 "nbformat_minor": 4
}
